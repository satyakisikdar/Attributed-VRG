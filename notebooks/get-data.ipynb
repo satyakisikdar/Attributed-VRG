{
 "cells": [
  {
   "cell_type": "code",
   "execution_count": null,
   "metadata": {},
   "outputs": [],
   "source": [
    "import google.auth\n",
    "import pandas as pd\n",
    "import networkx as nx\n",
    "import os\n",
    "import numpy as np"
   ]
  },
  {
   "cell_type": "code",
   "execution_count": null,
   "metadata": {},
   "outputs": [],
   "source": [
    "def authenticate_to_gcp(project='research-prototypes', path_to_creds='~/creds/ssikdar-creds.json'):\n",
    "    if path_to_creds:\n",
    "        os.environ['GOOGLE_APP_CREDENTIALS'] = path_to_creds\n",
    "    os.environ['GOOGLE_CLOUD_PROJECT'] = project\n",
    "    creds, project_id = google.auth.default()\n",
    "    return creds, project_id"
   ]
  },
  {
   "cell_type": "code",
   "execution_count": null,
   "metadata": {
    "scrolled": true
   },
   "outputs": [],
   "source": [
    "creds, proj = authenticate_to_gcp()"
   ]
  },
  {
   "cell_type": "markdown",
   "metadata": {},
   "source": [
    "Dataset details before clean\n",
    "\n",
    "| Name         | Users | Links |\n",
    "|--------------|-------|-------|\n",
    "| Grenoble, FR | 44k   | 350k  |\n",
    "| Waterloo, CA | 47k   | 650k  |\n",
    "| Uppsala, SE  | 65k   | 1.6M  |\n",
    "| Vancouver, CA| 500k  |  14M  |\n",
    "\n"
   ]
  },
  {
   "cell_type": "code",
   "execution_count": null,
   "metadata": {},
   "outputs": [],
   "source": [
    "dataset = 'grenoble'; loc = 'FR'\n",
    "dataset = 'waterloo'; loc = 'CA'\n",
    "dataset = 'uppsala'; loc = 'SE'"
   ]
  },
  {
   "cell_type": "code",
   "execution_count": null,
   "metadata": {},
   "outputs": [],
   "source": [
    "query = f'SELECT * FROM `research-prototypes.attributed_user_graphs.{dataset}_{loc}_user_attributes_20200720`'\n",
    "print(query)\n",
    "user_attr_df = pd.read_gbq(query=query, credentials=creds, project_id=proj)"
   ]
  },
  {
   "cell_type": "code",
   "execution_count": null,
   "metadata": {},
   "outputs": [],
   "source": [
    "user_attr_df.head()"
   ]
  },
  {
   "cell_type": "code",
   "execution_count": null,
   "metadata": {},
   "outputs": [],
   "source": [
    "user_attr_df.gender.value_counts().plot(kind='barh');"
   ]
  },
  {
   "cell_type": "code",
   "execution_count": null,
   "metadata": {},
   "outputs": [],
   "source": [
    "cleaned_user_attr_df = user_attr_df[user_attr_df.gender!='UNKNOWN']  # drop the UNKNOWN gender\n",
    "cleaned_user_attr_df = cleaned_user_attr_df[cleaned_user_attr_df.isPhoneVerified==True]  # only verified phones"
   ]
  },
  {
   "cell_type": "code",
   "execution_count": null,
   "metadata": {},
   "outputs": [],
   "source": [
    "cleaned_user_attr_df.gender.value_counts().plot(kind='barh');"
   ]
  },
  {
   "cell_type": "code",
   "execution_count": null,
   "metadata": {},
   "outputs": [],
   "source": [
    "cleaned_user_attr_df.deviceType.value_counts().plot(kind='barh');"
   ]
  },
  {
   "cell_type": "code",
   "execution_count": null,
   "metadata": {},
   "outputs": [],
   "source": [
    "cleaned_user_attr_df.isEmailVerified.value_counts().plot(kind='barh');"
   ]
  },
  {
   "cell_type": "code",
   "execution_count": null,
   "metadata": {},
   "outputs": [],
   "source": [
    "l1 = user_attr_df.shape[0]\n",
    "l2 = cleaned_user_attr_df.shape[0]\n",
    "print(l1, l2, l2 / l1)"
   ]
  },
  {
   "cell_type": "markdown",
   "metadata": {},
   "source": [
    "Dataset details after dropping unknown gender and only verified phones\n",
    "\n",
    "| Name         | Users | Directed Links | LCC nodes | LCC Links |\n",
    "|--------------|-------|-------|--------------------|-----------|\n",
    "| Grenoble, FR | 33.8k (77%) | 304k | 17k   | 191k\n",
    "| Waterloo, CA | 36k (75%)   |   | 23k | 188k \n",
    "| Uppsala, SE  | 53k (80%)   |   | 44k | 593k\n",
    "| Vancouver, CA|   |   |\n",
    "\n"
   ]
  },
  {
   "cell_type": "code",
   "execution_count": null,
   "metadata": {},
   "outputs": [],
   "source": [
    "cleaned_user_attr_df.to_csv(f'./cleaned-data/{dataset}_users_cleaned_all.csv', index=False)"
   ]
  },
  {
   "cell_type": "markdown",
   "metadata": {},
   "source": [
    " -------"
   ]
  },
  {
   "cell_type": "code",
   "execution_count": null,
   "metadata": {},
   "outputs": [],
   "source": [
    "# read the edgelist\n",
    "query = f'SELECT * FROM `research-prototypes.attributed_user_graphs.{dataset}_{loc}_edgelist_20200720`'\n",
    "print(query)\n",
    "edges_df = pd.read_gbq(query=query, credentials=creds, project_id=proj)"
   ]
  },
  {
   "cell_type": "code",
   "execution_count": null,
   "metadata": {},
   "outputs": [],
   "source": [
    "display(edges_df.head())\n",
    "display(edges_df.shape)"
   ]
  },
  {
   "cell_type": "code",
   "execution_count": null,
   "metadata": {},
   "outputs": [],
   "source": [
    "edges_df.drop_duplicates(inplace=True)  # drop parallel edges"
   ]
  },
  {
   "cell_type": "code",
   "execution_count": null,
   "metadata": {},
   "outputs": [],
   "source": [
    "edges_df.shape"
   ]
  },
  {
   "cell_type": "code",
   "execution_count": null,
   "metadata": {},
   "outputs": [],
   "source": [
    "whole_g = nx.from_pandas_edgelist(edges_df, source='src', target='dst', \n",
    "                                  create_using=nx.Graph)"
   ]
  },
  {
   "cell_type": "code",
   "execution_count": null,
   "metadata": {},
   "outputs": [],
   "source": [
    "print(nx.info(whole_g), '\\n', nx.number_connected_components(whole_g), 'components')"
   ]
  },
  {
   "cell_type": "code",
   "execution_count": null,
   "metadata": {},
   "outputs": [],
   "source": [
    "whole_g.remove_edges_from(nx.selfloop_edges(whole_g))  # drop selfloops"
   ]
  },
  {
   "cell_type": "code",
   "execution_count": null,
   "metadata": {},
   "outputs": [],
   "source": [
    "print(nx.info(whole_g))"
   ]
  },
  {
   "cell_type": "code",
   "execution_count": null,
   "metadata": {},
   "outputs": [],
   "source": [
    "cleaned_user_attr_df = cleaned_user_attr_df[cleaned_user_attr_df.ghost_user_id.isin(whole_g.nodes)]"
   ]
  },
  {
   "cell_type": "code",
   "execution_count": null,
   "metadata": {},
   "outputs": [],
   "source": [
    "nodes_wo_attrs = set(whole_g.nodes) - set(cleaned_user_attr_df.ghost_user_id.values)"
   ]
  },
  {
   "cell_type": "code",
   "execution_count": null,
   "metadata": {},
   "outputs": [],
   "source": [
    "print(f'{len(nodes_wo_attrs)} nodes dont have user attrs')"
   ]
  },
  {
   "cell_type": "code",
   "execution_count": null,
   "metadata": {},
   "outputs": [],
   "source": [
    "filtered_g = nx.Graph(whole_g)\n",
    "filtered_g.remove_nodes_from(nodes_wo_attrs)"
   ]
  },
  {
   "cell_type": "code",
   "execution_count": null,
   "metadata": {},
   "outputs": [],
   "source": [
    "lcc = max(nx.connected_components(filtered_g), key=len)\n",
    "g_lcc = filtered_g.subgraph(lcc).copy()"
   ]
  },
  {
   "cell_type": "code",
   "execution_count": null,
   "metadata": {},
   "outputs": [],
   "source": [
    "print(nx.info(filtered_g))\n",
    "print(nx.info(g_lcc))"
   ]
  },
  {
   "cell_type": "code",
   "execution_count": null,
   "metadata": {},
   "outputs": [],
   "source": [
    "lcc_node_attrs_df = user_attr_df[user_attr_df.ghost_user_id.isin(set(g_lcc.nodes))]"
   ]
  },
  {
   "cell_type": "code",
   "execution_count": null,
   "metadata": {},
   "outputs": [],
   "source": [
    "g_lcc.order(), lcc_node_attrs_df.shape"
   ]
  },
  {
   "cell_type": "code",
   "execution_count": null,
   "metadata": {},
   "outputs": [],
   "source": [
    "lcc_node_attrs_df.gender.value_counts()"
   ]
  },
  {
   "cell_type": "code",
   "execution_count": null,
   "metadata": {},
   "outputs": [],
   "source": [
    "print(nx.info(g_lcc))"
   ]
  },
  {
   "cell_type": "code",
   "execution_count": null,
   "metadata": {},
   "outputs": [],
   "source": [
    "nx.write_edgelist(g_lcc, f'./cleaned-data/{dataset}_lcc.g', data=False)"
   ]
  },
  {
   "cell_type": "code",
   "execution_count": null,
   "metadata": {},
   "outputs": [],
   "source": [
    "lcc_node_attrs_df.to_csv(f'./cleaned-data/{dataset}_lcc_node_attrs.csv', index=False)"
   ]
  },
  {
   "cell_type": "code",
   "execution_count": null,
   "metadata": {},
   "outputs": [],
   "source": [
    "# add attributes to the graph -- get the attribute values as dictionaries\n",
    "d = lcc_node_attrs_df.to_dict()"
   ]
  },
  {
   "cell_type": "code",
   "execution_count": null,
   "metadata": {},
   "outputs": [],
   "source": [
    "list(g_lcc.nodes(data=True))[: 5]"
   ]
  },
  {
   "cell_type": "code",
   "execution_count": null,
   "metadata": {},
   "outputs": [],
   "source": [
    "attrs = 'gender', 'age_bucket', 'deviceType', \n",
    "node_attr_dicts = {attr: {} for attr in attrs}\n",
    "for row in lcc_node_attrs_df.itertuples():\n",
    "    node_attr_dicts['gender'][row.ghost_user_id] = row.gender\n",
    "    node_attr_dicts['age_bucket'][row.ghost_user_id] = row.age_bucket\n",
    "    node_attr_dicts['deviceType'][row.ghost_user_id] = row.deviceType"
   ]
  },
  {
   "cell_type": "code",
   "execution_count": null,
   "metadata": {},
   "outputs": [],
   "source": [
    "len(node_attr_dicts['gender'])"
   ]
  },
  {
   "cell_type": "code",
   "execution_count": null,
   "metadata": {},
   "outputs": [],
   "source": [
    "nx.set_node_attributes(g_lcc, name='gender', values=node_attr_dicts['gender'])\n",
    "nx.set_node_attributes(g_lcc, name='deviceType', values=node_attr_dicts['deviceType'])\n",
    "nx.set_node_attributes(g_lcc, name='age_bucket', values=node_attr_dicts['age_bucket'])"
   ]
  },
  {
   "cell_type": "code",
   "execution_count": null,
   "metadata": {},
   "outputs": [],
   "source": [
    "list(g_lcc.nodes(data=True))[: 5]"
   ]
  },
  {
   "cell_type": "code",
   "execution_count": null,
   "metadata": {},
   "outputs": [],
   "source": [
    "nx.write_gpickle(g_lcc, f'./cleaned-data/{dataset}_lcc_attr.gpickle')"
   ]
  },
  {
   "cell_type": "code",
   "execution_count": null,
   "metadata": {},
   "outputs": [],
   "source": [
    "g_lcc_unpickled = nx.read_gpickle(f'./cleaned-data/{dataset}_lcc_attr.gpickle')"
   ]
  },
  {
   "cell_type": "code",
   "execution_count": null,
   "metadata": {},
   "outputs": [],
   "source": [
    "list(g_lcc.nodes(data=True))[: 4]"
   ]
  },
  {
   "cell_type": "code",
   "execution_count": null,
   "metadata": {},
   "outputs": [],
   "source": [
    "g_lcc_unpickled.order(), g_lcc_unpickled.size()"
   ]
  },
  {
   "cell_type": "code",
   "execution_count": null,
   "metadata": {},
   "outputs": [],
   "source": []
  }
 ],
 "metadata": {
  "environment": {
   "name": "tf-gpu.1-15.m50",
   "type": "gcloud",
   "uri": "gcr.io/deeplearning-platform-release/tf-gpu.1-15:m50"
  },
  "kernelspec": {
   "display_name": "Python 3",
   "language": "python",
   "name": "python3"
  },
  "language_info": {
   "codemirror_mode": {
    "name": "ipython",
    "version": 3
   },
   "file_extension": ".py",
   "mimetype": "text/x-python",
   "name": "python",
   "nbconvert_exporter": "python",
   "pygments_lexer": "ipython3",
   "version": "3.7.6"
  }
 },
 "nbformat": 4,
 "nbformat_minor": 4
}
