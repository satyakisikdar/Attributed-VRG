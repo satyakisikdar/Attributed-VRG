{
 "cells": [
  {
   "cell_type": "code",
   "execution_count": null,
   "metadata": {},
   "outputs": [],
   "source": [
    "%load_ext autoreload"
   ]
  },
  {
   "cell_type": "code",
   "execution_count": null,
   "metadata": {},
   "outputs": [],
   "source": [
    "%autoreload 2"
   ]
  },
  {
   "cell_type": "code",
   "execution_count": 15,
   "metadata": {},
   "outputs": [],
   "source": [
    "import networkx as nx\n",
    "import numpy as np\n",
    "import sys; sys.path.append('../')\n",
    "from anytree import RenderTree\n",
    "from anytree.cachedsearch import find\n",
    "import logging\n",
    "import pickle\n",
    "import glob\n",
    "import pandas as pd\n",
    "import matplotlib.pyplot as plt\n",
    "import seaborn as sns\n",
    "import re\n",
    "from pathlib import Path"
   ]
  },
  {
   "cell_type": "code",
   "execution_count": 2,
   "metadata": {},
   "outputs": [],
   "source": [
    "from VRG.src.Tree import TreeNode, create_tree, dasgupta_cost\n",
    "from VRG.runner import get_clustering"
   ]
  },
  {
   "cell_type": "code",
   "execution_count": 3,
   "metadata": {},
   "outputs": [],
   "source": [
    "%matplotlib inline"
   ]
  },
  {
   "cell_type": "code",
   "execution_count": 4,
   "metadata": {},
   "outputs": [],
   "source": [
    "def load_pickle(fname):\n",
    "    return pickle.load(open(fname, 'rb'))"
   ]
  },
  {
   "cell_type": "code",
   "execution_count": 21,
   "metadata": {},
   "outputs": [],
   "source": [
    "def get_graph(gname: str = 'sample'):\n",
    "    attr_name = ''\n",
    "    if gname == 'sample':\n",
    "        g = nx.Graph()\n",
    "        g.add_nodes_from(range(5), color='blue')\n",
    "        g.add_nodes_from(range(5, 9), color='red')\n",
    "\n",
    "        g.add_edges_from([(0, 1), (0, 3), (0, 4),\n",
    "                          (1, 2), (1, 4), (1, 5),\n",
    "                          (2, 3), (2, 4), (2, 8),\n",
    "                          (3, 4),\n",
    "                          (5, 6), (5, 7), (5, 8),\n",
    "                          (6, 7), (6, 8),\n",
    "                          (7, 8)])  # properly labeled\n",
    "        g.name = 'sample'\n",
    "        attr_name = 'color'\n",
    "    elif gname == 'karate':\n",
    "        g = nx.karate_club_graph()\n",
    "        attr_name = 'club'\n",
    "        g.name = 'karate'\n",
    "    elif gname == 'BA':\n",
    "        g = nx.barabasi_albert_graph(10, 2, seed=42)\n",
    "        # g = nx.MultiGraph(g)\n",
    "        g = nx.Graph()\n",
    "    elif gname.endswith('.gpickle'):\n",
    "        g = nx.read_gpickle(gname)\n",
    "        g.name = Path(gname).stem\n",
    "    else:\n",
    "        if gname in ('waterloo', 'grenoble', 'uppsala'):\n",
    "            g = nx.read_gpickle(f'../snap_data/cleaned/{gname}_lcc_attr.gpickle')\n",
    "        elif gname in ('polblogs', 'polbooks', 'football', 'bipartite-10-10', 'cora', 'citeseer', 'pubmed'):\n",
    "            g = nx.read_gml(f'../VRG/input/{gname}.gml')\n",
    "            attr_name = 'value'\n",
    "        else:\n",
    "            path = f'../VRG/input/{gname}.g'\n",
    "            g = nx.read_edgelist(path, nodetype=int, create_using=nx.Graph())\n",
    "\n",
    "        g.remove_edges_from(nx.selfloop_edges(g))\n",
    "        if not nx.is_connected(g):\n",
    "            nodes_lcc = max(nx.connected_components(g), key=len)\n",
    "            g = g.subgraph(nodes_lcc).copy()\n",
    "        name = g.name\n",
    "        g = nx.convert_node_labels_to_integers(g, label_attribute='orig_label')\n",
    "        g.name = name\n",
    "\n",
    "    dl = -1 # graph_dl(g)\n",
    "    end_time = 0\n",
    "    logging.error(f'Graph: {gname}, n = {g.order():_d}, m = {g.size():_d}, dl = {dl:_g} bits read in {round(end_time, 3):_g}s.')\n",
    "\n",
    "    return g, attr_name"
   ]
  },
  {
   "cell_type": "code",
   "execution_count": 27,
   "metadata": {},
   "outputs": [
    {
     "name": "stderr",
     "output_type": "stream",
     "text": [
      "Graph: karate, n = 34, m = 78, dl = -1 bits read in 0s.\n",
      "Graph: football, n = 115, m = 613, dl = -1 bits read in 0s.\n",
      "Graph: polbooks, n = 105, m = 441, dl = -1 bits read in 0s.\n",
      "Graph: polblogs, n = 1_222, m = 16_714, dl = -1 bits read in 0s.\n",
      "Graph: citeseer, n = 2_110, m = 3_668, dl = -1 bits read in 0s.\n",
      "Graph: cora, n = 2_485, m = 5_069, dl = -1 bits read in 0s.\n",
      "Graph: pubmed, n = 19_717, m = 44_324, dl = -1 bits read in 0s.\n"
     ]
    }
   ],
   "source": [
    "# double check all pickles\n",
    "names = ['karate', 'football', 'polbooks', 'polblogs', 'citeseer', 'cora', 'pubmed']\n",
    "clusterings = ['cond', 'spectral', 'leiden', 'louvain', 'infomap', 'labelprop', 'consensus']\n",
    "\n",
    "for name in names:\n",
    "    g, attr_name = get_graph(name)\n",
    "    for fname in glob.glob(f'/data/ssikdar/attributed-vrg/dumps/trees/{name}/*'):\n",
    "        path = Path(fname)\n",
    "        pattern = r'(\\w+)\\_(\\w+)'\n",
    "        m = re.match(pattern, path.stem)\n",
    "        clustering, _ = m.groups()\n",
    "        obj = load_pickle(fname)\n",
    "        root = create_tree(obj) if isinstance(obj, list) else obj\n",
    "        if len(root.leaves) != g.order():\n",
    "            print(f'{name} {g.order()} error {clustering} {len(root.leaves)}')"
   ]
  },
  {
   "cell_type": "code",
   "execution_count": null,
   "metadata": {},
   "outputs": [],
   "source": []
  },
  {
   "cell_type": "code",
   "execution_count": null,
   "metadata": {},
   "outputs": [],
   "source": []
  },
  {
   "cell_type": "code",
   "execution_count": null,
   "metadata": {
    "scrolled": true
   },
   "outputs": [],
   "source": [
    "clustering_algs = 'leiden', 'louvain', 'cond', 'spectral', 'infomap', 'labelprop', 'random'\n",
    "for clustering in clustering_algs:\n",
    "    clustering = get_clustering(g, outdir=f'../VRG/dumps/trees/{g.name}/', \n",
    "                                clustering=clustering, use_pickle=True)"
   ]
  },
  {
   "cell_type": "markdown",
   "metadata": {},
   "source": [
    "## Compute the dasgupta cost of the trees"
   ]
  },
  {
   "cell_type": "code",
   "execution_count": null,
   "metadata": {},
   "outputs": [],
   "source": [
    "glob.glob('../VRG/dumps/trees/karate/*.pkl')"
   ]
  },
  {
   "cell_type": "code",
   "execution_count": null,
   "metadata": {},
   "outputs": [],
   "source": [
    "def get_dasgupta_df():\n",
    "    df_path = './dasgupta.csv'\n",
    "    if os.path.exists(df_path):\n",
    "        df = pd.read_df(df_path)\n",
    "    else:\n",
    "        names = 'karate', 'football', 'polbooks', 'eucore', 'flights', 'polblogs'\n",
    "        rows = []\n",
    "        for name in names:\n",
    "            g = read_graph(name)\n",
    "            for pickle_file in glob.glob(f'../VRG/dumps/trees/{g.name}/*.pkl'):\n",
    "                clustering = pickle_file.split('/')[-1].split('_')[0]\n",
    "                print(clustering, end=' ', flush=True)\n",
    "                pkl = load_pickle(pickle_file)\n",
    "                if isinstance(pkl, list):\n",
    "                    root = create_tree(pkl)\n",
    "                else:\n",
    "                    root = pkl\n",
    "                cost = dasgupta_cost(g=g, root=root)\n",
    "                row = {'name': name, 'clustering': clustering, 'cost': cost}\n",
    "                rows.append(row)\n",
    "        df = pd.DataFrame(rows)\n",
    "        df.to_csv('./dasgupta.csv', index=False)\n",
    "    return df"
   ]
  },
  {
   "cell_type": "code",
   "execution_count": null,
   "metadata": {},
   "outputs": [],
   "source": [
    "df = pd.read_csv('./dasgupta.csv')"
   ]
  },
  {
   "cell_type": "code",
   "execution_count": null,
   "metadata": {},
   "outputs": [],
   "source": [
    "plt.rcParams['figure.figsize'] = (15, 10)"
   ]
  },
  {
   "cell_type": "code",
   "execution_count": null,
   "metadata": {},
   "outputs": [],
   "source": [
    "ax = plt.gca();\n",
    "ax.set_yscale('log');\n",
    "sns.barplot(x='name', y='cost', hue='clustering', data=df);\n",
    "ax.set_ylabel('Dasgupta Cost');"
   ]
  },
  {
   "cell_type": "markdown",
   "metadata": {},
   "source": [
    "## Plot dendrograms for the 3-comm graphs"
   ]
  },
  {
   "cell_type": "code",
   "execution_count": null,
   "metadata": {},
   "outputs": [],
   "source": [
    "frac = (np.linspace(0, 1, 21, endpoint=True) * 100).astype(int)"
   ]
  },
  {
   "cell_type": "code",
   "execution_count": null,
   "metadata": {},
   "outputs": [],
   "source": [
    "frac"
   ]
  },
  {
   "cell_type": "code",
   "execution_count": null,
   "metadata": {},
   "outputs": [],
   "source": [
    "nx.read_gexf()"
   ]
  },
  {
   "cell_type": "code",
   "execution_count": null,
   "metadata": {},
   "outputs": [],
   "source": []
  },
  {
   "cell_type": "code",
   "execution_count": null,
   "metadata": {},
   "outputs": [],
   "source": [
    "pkl = load_pickle('/data/ssikdar/attributed-vrg/dumps/trees/\n",
    "root = create_tree(pkl) if isinstance(pkl, list) else pkl\n",
    "root"
   ]
  },
  {
   "cell_type": "code",
   "execution_count": null,
   "metadata": {},
   "outputs": [],
   "source": [
    "for pre, _, node in RenderTree(root):\n",
    "    print(\"%s%s\" % (pre, node.name))"
   ]
  },
  {
   "cell_type": "code",
   "execution_count": null,
   "metadata": {},
   "outputs": [],
   "source": [
    "trees = [load_pickle('/data/ssikdar/attributed-vrg/dumps/trees/3-comm-0-attrs/')]"
   ]
  }
 ],
 "metadata": {
  "kernelspec": {
   "display_name": "VRG",
   "language": "python",
   "name": "vrg"
  },
  "language_info": {
   "codemirror_mode": {
    "name": "ipython",
    "version": 3
   },
   "file_extension": ".py",
   "mimetype": "text/x-python",
   "name": "python",
   "nbconvert_exporter": "python",
   "pygments_lexer": "ipython3",
   "version": "3.7.7"
  }
 },
 "nbformat": 4,
 "nbformat_minor": 4
}
