{
 "cells": [
  {
   "cell_type": "code",
   "execution_count": 18,
   "metadata": {},
   "outputs": [],
   "source": [
    "import networkx as nx\n",
    "import pickle\n",
    "import matplotlib.pyplot as plt\n",
    "import seaborn as sns\n",
    "import pandas as pd"
   ]
  },
  {
   "cell_type": "code",
   "execution_count": 2,
   "metadata": {},
   "outputs": [],
   "source": [
    "from graph_stats import GraphStats\n",
    "from graph_comparison import GraphPairCompare"
   ]
  },
  {
   "cell_type": "code",
   "execution_count": 3,
   "metadata": {},
   "outputs": [],
   "source": [
    "orig_g = nx.read_edgelist('./dumps/graphs/grenoble/grenoble.g'); orig_g.name = 'grenoble'\n",
    "orig_gs = GraphStats(orig_g, model='orig', dataset='grenoble', iteration=-1, trial=-1)"
   ]
  },
  {
   "cell_type": "code",
   "execution_count": 14,
   "metadata": {},
   "outputs": [],
   "source": [
    "# read pickles\n",
    "chung_lu = pickle.load(open('./dumps/graphs/grenoble/CL.pkl.gz', 'rb'))[1]\n",
    "cnrg = pickle.load(open('./dumps/graphs/grenoble/CNRG.pkl.gz', 'rb'))[1]\n",
    "sbm = pickle.load(open('./dumps/graphs/grenoble/SBM.pkl.gz', 'rb'))[1]\n",
    "vrg = pickle.load(open('./dumps/graphs/grenoble/vrg.pkl', 'rb'))[0]"
   ]
  },
  {
   "cell_type": "code",
   "execution_count": 16,
   "metadata": {},
   "outputs": [],
   "source": [
    "cl_gs = GraphStats(chung_lu, model='CL', dataset='grenoble')\n",
    "cnrg_gs = GraphStats(cnrg, model='CNRG', dataset='grenoble')\n",
    "sbm_gs = GraphStats(sbm, model='SBM', dataset='grenoble')\n",
    "vrg_gs = GraphStats(vrg, model='VRG', dataset='grenoble')"
   ]
  },
  {
   "cell_type": "code",
   "execution_count": 17,
   "metadata": {},
   "outputs": [
    {
     "name": "stdout",
     "output_type": "stream",
     "text": [
      "CL D_JS: 0.0388 PR_JS: 0.2068\n",
      "CNRG D_JS: 0.0907 PR_JS: 0.0749\n",
      "SBM D_JS: 0.3101 PR_JS: 0.1908\n",
      "VRG D_JS: 0.0373 PR_JS: 0.027\n"
     ]
    }
   ],
   "source": [
    "for gs in (cl_gs, cnrg_gs, sbm_gs, vrg_gs):\n",
    "    gpc = GraphPairCompare(gstats1=orig_gs, gstats2=gs)\n",
    "    print(f'{gs.model} D_JS: {round(gpc.degree_js(), 4)} PR_JS: {round(gpc.pagerank_js(), 4)}')"
   ]
  },
  {
   "cell_type": "code",
   "execution_count": 19,
   "metadata": {},
   "outputs": [],
   "source": [
    "rows = {'model': ['Chung Lu', 'CNRG', 'SBM', 'VRG'], \n",
    "        'degree_js': [0.0388, 0.0907, 0.3101, 0.0373],\n",
    "        'pagerank_js': [0.2068, 0.0749, 0.1908, 0.027]}\n",
    "df = pd.DataFrame(rows)"
   ]
  },
  {
   "cell_type": "code",
   "execution_count": 20,
   "metadata": {},
   "outputs": [
    {
     "data": {
      "text/html": [
       "<div>\n",
       "<style scoped>\n",
       "    .dataframe tbody tr th:only-of-type {\n",
       "        vertical-align: middle;\n",
       "    }\n",
       "\n",
       "    .dataframe tbody tr th {\n",
       "        vertical-align: top;\n",
       "    }\n",
       "\n",
       "    .dataframe thead th {\n",
       "        text-align: right;\n",
       "    }\n",
       "</style>\n",
       "<table border=\"1\" class=\"dataframe\">\n",
       "  <thead>\n",
       "    <tr style=\"text-align: right;\">\n",
       "      <th></th>\n",
       "      <th>model</th>\n",
       "      <th>degree_js</th>\n",
       "      <th>pagerank_js</th>\n",
       "    </tr>\n",
       "  </thead>\n",
       "  <tbody>\n",
       "    <tr>\n",
       "      <th>0</th>\n",
       "      <td>Chung Lu</td>\n",
       "      <td>0.0388</td>\n",
       "      <td>0.2068</td>\n",
       "    </tr>\n",
       "    <tr>\n",
       "      <th>1</th>\n",
       "      <td>CNRG</td>\n",
       "      <td>0.0907</td>\n",
       "      <td>0.0749</td>\n",
       "    </tr>\n",
       "    <tr>\n",
       "      <th>2</th>\n",
       "      <td>SBM</td>\n",
       "      <td>0.3101</td>\n",
       "      <td>0.1908</td>\n",
       "    </tr>\n",
       "    <tr>\n",
       "      <th>3</th>\n",
       "      <td>VRG</td>\n",
       "      <td>0.0373</td>\n",
       "      <td>0.0270</td>\n",
       "    </tr>\n",
       "  </tbody>\n",
       "</table>\n",
       "</div>"
      ],
      "text/plain": [
       "      model  degree_js  pagerank_js\n",
       "0  Chung Lu     0.0388       0.2068\n",
       "1      CNRG     0.0907       0.0749\n",
       "2       SBM     0.3101       0.1908\n",
       "3       VRG     0.0373       0.0270"
      ]
     },
     "execution_count": 20,
     "metadata": {},
     "output_type": "execute_result"
    }
   ],
   "source": [
    "df"
   ]
  },
  {
   "cell_type": "code",
   "execution_count": 23,
   "metadata": {},
   "outputs": [
    {
     "data": {
      "image/png": "[encoded data removed]",
      "text/plain": [
       "<Figure size 432x288 with 1 Axes>"
      ]
     },
     "metadata": {},
     "output_type": "display_data"
    }
   ],
   "source": [
    "sns.barplot(x='model', y='pagerank_js', data=df);"
   ]
  },
  {
   "cell_type": "code",
   "execution_count": null,
   "metadata": {},
   "outputs": [],
   "source": []
  }
 ],
 "metadata": {
  "environment": {
   "name": "tf-gpu.1-15.m50",
   "type": "gcloud",
   "uri": "gcr.io/deeplearning-platform-release/tf-gpu.1-15:m50"
  },
  "kernelspec": {
   "display_name": "Python 3",
   "language": "python",
   "name": "python3"
  },
  "language_info": {
   "codemirror_mode": {
    "name": "ipython",
    "version": 3
   },
   "file_extension": ".py",
   "mimetype": "text/x-python",
   "name": "python",
   "nbconvert_exporter": "python",
   "pygments_lexer": "ipython3",
   "version": "3.7.7"
  }
 },
 "nbformat": 4,
 "nbformat_minor": 4
}
