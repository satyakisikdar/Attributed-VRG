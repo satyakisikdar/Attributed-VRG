{
 "cells": [
  {
   "cell_type": "markdown",
   "metadata": {},
   "source": [
    "## Assortativity"
   ]
  },
  {
   "cell_type": "code",
   "execution_count": 14,
   "metadata": {},
   "outputs": [],
   "source": [
    "import random\n",
    "import graph_tool.all as gt\n",
    "import networkx as nx\n",
    "import igraph as ig\n",
    "import numpy as np\n",
    "import glob\n",
    "import re\n",
    "from pathlib import Path\n",
    "import pandas as pd\n",
    "import matplotlib.pyplot as plt\n",
    "from matplotlib import gridspec\n",
    "import seaborn as sns; sns.set_style('white')\n",
    "import sys; sys.path.append('../')\n",
    "from time import time\n",
    "import logging\n",
    "import pyintergraph as pig\n",
    "import community as cmt"
   ]
  },
  {
   "cell_type": "code",
   "execution_count": 2,
   "metadata": {},
   "outputs": [
    {
     "name": "stdout",
     "output_type": "stream",
     "text": [
      "sys path:  ['/home/jupyter-ssikdar/Attributed-VRG/notebooks', '/home/jupyter-ssikdar/miniconda3/envs/VRG/lib/python37.zip', '/home/jupyter-ssikdar/miniconda3/envs/VRG/lib/python3.7', '/home/jupyter-ssikdar/miniconda3/envs/VRG/lib/python3.7/lib-dynload', '', '/home/jupyter-ssikdar/miniconda3/envs/VRG/lib/python3.7/site-packages', '/home/jupyter-ssikdar/miniconda3/envs/VRG/lib/python3.7/site-packages/IPython/extensions', '/home/jupyter-ssikdar/.ipython', '../', './../', './../../']\n"
     ]
    }
   ],
   "source": [
    "from VRG.src.utils import load_pickle, nx_to_igraph\n",
    "from VRG.src.graph_stats import GraphStats\n",
    "from VRG.src.graph_comparison import GraphPairCompare\n",
    "from VRG.runner import get_clustering"
   ]
  },
  {
   "cell_type": "code",
   "execution_count": 3,
   "metadata": {},
   "outputs": [],
   "source": [
    "%matplotlib inline"
   ]
  },
  {
   "cell_type": "code",
   "execution_count": 4,
   "metadata": {},
   "outputs": [],
   "source": [
    "plt.rcParams['figure.figsize'] = (15, 10)\n",
    "plt.rcParams['font.size'] = 50\n",
    "plt.rcParams['axes.labelsize'] = 20\n",
    "plt.rcParams['axes.titlesize'] = 20"
   ]
  },
  {
   "cell_type": "code",
   "execution_count": 5,
   "metadata": {},
   "outputs": [],
   "source": [
    "def get_graph(gname: str = 'sample'):\n",
    "    start_time = time()\n",
    "    attr_name = ''\n",
    "    if gname == 'sample':\n",
    "        g = nx.Graph()\n",
    "        g.add_nodes_from(range(5), color='blue')\n",
    "        g.add_nodes_from(range(5, 9), color='red')\n",
    "\n",
    "        g.add_edges_from([(0, 1), (0, 3), (0, 4),\n",
    "                          (1, 2), (1, 4), (1, 5),\n",
    "                          (2, 3), (2, 4), (2, 8),\n",
    "                          (3, 4),\n",
    "                          (5, 6), (5, 7), (5, 8),\n",
    "                          (6, 7), (6, 8),\n",
    "                          (7, 8)])  # properly labeled\n",
    "        g.name = 'sample'\n",
    "        attr_name = 'color'\n",
    "    elif gname == 'karate':\n",
    "        g = nx.karate_club_graph()\n",
    "        attr_name = 'club'\n",
    "        g.name = 'karate'\n",
    "    elif gname == 'BA':\n",
    "        g = nx.barabasi_albert_graph(10, 2, seed=42)\n",
    "        # g = nx.MultiGraph(g)\n",
    "        g = nx.Graph()\n",
    "    elif gname.endswith('.gpickle'):\n",
    "        g = nx.read_gpickle(gname)\n",
    "        g.name = Path(gname).stem\n",
    "    else:\n",
    "        if gname in ('waterloo', 'grenoble', 'uppsala'):\n",
    "            g = nx.read_gpickle(f'../snap_data/cleaned/{gname}_lcc_attr.gpickle')\n",
    "        elif gname in ('polblogs', 'polbooks', 'football', 'bipartite-10-10'):\n",
    "            g = nx.read_gml(f'../VRG/input/{gname}.gml')\n",
    "            attr_name = 'value'\n",
    "        else:\n",
    "            path = f'../VRG/input/{gname}.g'\n",
    "            g = nx.read_edgelist(path, nodetype=int, create_using=nx.Graph())\n",
    "\n",
    "        g.remove_edges_from(nx.selfloop_edges(g))\n",
    "        if not nx.is_connected(g):\n",
    "            nodes_lcc = max(nx.connected_components(g), key=len)\n",
    "            g = g.subgraph(nodes_lcc).copy()\n",
    "        name = g.name\n",
    "        g = nx.convert_node_labels_to_integers(g, label_attribute='orig_label')\n",
    "        g.name = name\n",
    "\n",
    "    end_time = round(time() - start_time, 2)\n",
    "    logging.error(f'Graph: {gname}, n = {g.order():_d}, m = {g.size():_d}, bits read in {round(end_time, 3):_g}s.')\n",
    "\n",
    "    return g, attr_name"
   ]
  },
  {
   "cell_type": "code",
   "execution_count": 15,
   "metadata": {},
   "outputs": [],
   "source": [
    "def numeric_ac(M):\n",
    "    # M is a numpy matrix or array\n",
    "    # numeric assortativity coefficient, pearsonr\n",
    "    if M.sum() != 1.0:  # make the entries sum to 1\n",
    "        M = M / float(M.sum())\n",
    "    nx, ny = M.shape  # nx=ny\n",
    "    x = np.arange(nx)\n",
    "    y = np.arange(ny)\n",
    "    a = M.sum(axis=0)\n",
    "    b = M.sum(axis=1)\n",
    "    vara = (a * x ** 2).sum() - ((a * x).sum()) ** 2\n",
    "    varb = (b * x ** 2).sum() - ((b * x).sum()) ** 2\n",
    "    xy = np.outer(x, y)\n",
    "    ab = np.outer(a, b)\n",
    "    return (xy * (M - ab)).sum() / np.sqrt(vara * varb)"
   ]
  },
  {
   "cell_type": "code",
   "execution_count": 6,
   "metadata": {},
   "outputs": [],
   "source": [
    "def plot_graph(g, ax=None, title='', attr_name='', mixing_dict={}):\n",
    "    plt.rcParams['figure.figsize'] = (5, 5)\n",
    "    if attr_name != '' and len(mixing_dict) == 0:\n",
    "        mixing_dict = nx.attribute_mixing_dict(g, attr_name)\n",
    "        \n",
    "    unique_values = set(mixing_dict.keys())\n",
    "    colors = sns.color_palette('pastel', n_colors=len(unique_values))\n",
    "    color_map = {val: col for val, col in zip(unique_values, colors)}\n",
    "\n",
    "    try:\n",
    "        colors = [color_map[d[attr_name]] for _, d in g.nodes(data=True)]\n",
    "    except KeyError:\n",
    "        colors = '#77dd77'\n",
    "    pos = nx.spring_layout(g)\n",
    "\n",
    "    if ax is not None:\n",
    "        ax.set_title(title, fontsize=20)\n",
    "    nx.draw_networkx_nodes(g, pos=pos, node_size=400, node_color=colors, alpha=0.95, ax=ax)\n",
    "    nx.draw_networkx_labels(g, pos=pos, ax=ax)\n",
    "    nx.draw_networkx_edges(g, pos=pos, edge_color='gray', alpha=0.7, ax=ax)\n",
    "    return"
   ]
  },
  {
   "cell_type": "code",
   "execution_count": 8,
   "metadata": {},
   "outputs": [
    {
     "name": "stderr",
     "output_type": "stream",
     "text": [
      "Graph: sample, n = 9, m = 16, bits read in 0s.\n"
     ]
    }
   ],
   "source": [
    "g, attr_name = get_graph('sample')"
   ]
  },
  {
   "cell_type": "code",
   "execution_count": 9,
   "metadata": {},
   "outputs": [
    {
     "data": {
      "image/png": "[encoded data removed]",
      "text/plain": [
       "<Figure size 360x360 with 1 Axes>"
      ]
     },
     "metadata": {},
     "output_type": "display_data"
    }
   ],
   "source": [
    "g = nx.MultiGraph(g)\n",
    "plot_graph(g, attr_name=attr_name)"
   ]
  },
  {
   "cell_type": "code",
   "execution_count": 74,
   "metadata": {},
   "outputs": [
    {
     "data": {
      "text/plain": [
       "[(0, 3), (1, 4), (2, 4), (3, 3), (4, 4), (5, 4), (6, 3), (7, 3), (8, 4)]"
      ]
     },
     "execution_count": 74,
     "metadata": {},
     "output_type": "execute_result"
    }
   ],
   "source": [
    "list(g.degree())"
   ]
  },
  {
   "cell_type": "code",
   "execution_count": 10,
   "metadata": {},
   "outputs": [],
   "source": [
    "M = nx.degree_mixing_matrix(g, normalized=False)# , x='out', y='in', nodes=nodes, weight=weight)"
   ]
  },
  {
   "cell_type": "code",
   "execution_count": 100,
   "metadata": {
    "scrolled": true
   },
   "outputs": [
    {
     "data": {
      "image/png": "[encoded data removed]",
      "text/plain": [
       "<Figure size 360x360 with 1 Axes>"
      ]
     },
     "metadata": {},
     "output_type": "display_data"
    }
   ],
   "source": [
    "g = nx.MultiGraph()\n",
    "g.add_edges_from([(0, 1), (0, 2), (0, 3), (1, 2), (1, 2), (1, 2)])\n",
    "\n",
    "nx.degree_mixing_matrix(g, normalized=False)\n",
    "nx.draw_networkx(g)"
   ]
  },
  {
   "cell_type": "code",
   "execution_count": 101,
   "metadata": {},
   "outputs": [
    {
     "data": {
      "text/plain": [
       "array([[0., 0., 0., 0., 0.],\n",
       "       [0., 0., 0., 1., 0.],\n",
       "       [0., 0., 0., 0., 0.],\n",
       "       [0., 1., 0., 0., 2.],\n",
       "       [0., 0., 0., 2., 6.]])"
      ]
     },
     "execution_count": 101,
     "metadata": {},
     "output_type": "execute_result"
    }
   ],
   "source": [
    "nx.degree_mixing_matrix(g, normalized=False)"
   ]
  },
  {
   "cell_type": "code",
   "execution_count": 102,
   "metadata": {},
   "outputs": [
    {
     "data": {
      "text/plain": [
       "[(0, 3), (1, 4), (2, 4), (3, 1)]"
      ]
     },
     "execution_count": 102,
     "metadata": {},
     "output_type": "execute_result"
    }
   ],
   "source": [
    "list(g.degree())"
   ]
  },
  {
   "cell_type": "code",
   "execution_count": 107,
   "metadata": {},
   "outputs": [
    {
     "name": "stdout",
     "output_type": "stream",
     "text": [
      "True\n"
     ]
    }
   ],
   "source": [
    "d_max = max(g.degree[n] for n in g.nodes)\n",
    "\n",
    "M = nx.degree_mixing_matrix(g, normalized=False)\n",
    "\n",
    "# add edge (b, g)\n",
    "u, v = 1, 2\n",
    "\n",
    "neighbors_u, neighbors_v = map(list, (g.neighbors(u), g.neighbors(v)))\n",
    "\n",
    "g.add_edge(u, v)\n",
    "M_correct = nx.degree_mixing_matrix(g, normalized=False)\n",
    "g.remove_edge(u, v)\n",
    "\n",
    "d_u, d_v = g.degree[u], g.degree[v]\n",
    "\n",
    "if d_u == d_max or d_v == d_max:\n",
    "    M1 = np.zeros((d_max+2, d_max+2))\n",
    "    M1[:d_max+1, :d_max+1] = M[:, :]\n",
    "else:\n",
    "    M1 = M.copy()\n",
    "# print('M1\\n', M1)\n",
    "\n",
    "M1[d_u+1, d_v+1] += 1\n",
    "M1[d_v+1, d_u+1] += 1\n",
    "\n",
    "for x in neighbors_u:\n",
    "    multiplicity = g.number_of_edges(u, x)\n",
    "    d_x = g.degree[x]\n",
    "    M1[d_u, d_x] -= multiplicity\n",
    "    M1[d_x, d_u] -= multiplicity\n",
    "    \n",
    "    if x == v: d_x += 1\n",
    "    M1[d_u+1, d_x] += multiplicity\n",
    "    M1[d_x, d_u+1] += multiplicity\n",
    "\n",
    "for x in neighbors_v:\n",
    "    if x == u: continue\n",
    "    multiplicity = g.number_of_edges(v, x)\n",
    "    d_x = g.degree[x]\n",
    "    M1[d_v, d_x] -= multiplicity\n",
    "    M1[d_x, d_v] -= multiplicity\n",
    "    \n",
    "     # d_x += 1\n",
    "    M1[d_v+1, d_x] += multiplicity\n",
    "    M1[d_x, d_v+1] += multiplicity\n",
    "\n",
    "print(np.all(np.equal(M1, M_correct)))\n"
   ]
  },
  {
   "cell_type": "code",
   "execution_count": 66,
   "metadata": {},
   "outputs": [
    {
     "data": {
      "text/plain": [
       "(1, 4, 6, 3)"
      ]
     },
     "execution_count": 66,
     "metadata": {},
     "output_type": "execute_result"
    }
   ],
   "source": [
    "u, d_u, v, d_v"
   ]
  },
  {
   "cell_type": "code",
   "execution_count": 97,
   "metadata": {},
   "outputs": [
    {
     "data": {
      "text/plain": [
       "array([[0., 0., 0., 0., 0., 0.],\n",
       "       [0., 0., 0., 0., 0., 0.],\n",
       "       [0., 0., 0., 1., 0., 1.],\n",
       "       [0., 0., 1., 0., 1., 1.],\n",
       "       [0., 0., 0., 1., 4., 1.],\n",
       "       [0., 0., 1., 1., 1., 0.]])"
      ]
     },
     "execution_count": 97,
     "metadata": {},
     "output_type": "execute_result"
    }
   ],
   "source": [
    "M1"
   ]
  },
  {
   "cell_type": "code",
   "execution_count": 98,
   "metadata": {},
   "outputs": [
    {
     "data": {
      "text/plain": [
       "array([[0., 0., 0., 0., 0., 0.],\n",
       "       [0., 0., 0., 0., 0., 0.],\n",
       "       [0., 0., 0., 1., 0., 1.],\n",
       "       [0., 0., 1., 0., 1., 1.],\n",
       "       [0., 0., 0., 1., 0., 3.],\n",
       "       [0., 0., 1., 1., 3., 0.]])"
      ]
     },
     "execution_count": 98,
     "metadata": {},
     "output_type": "execute_result"
    }
   ],
   "source": [
    "M_correct"
   ]
  },
  {
   "cell_type": "code",
   "execution_count": null,
   "metadata": {},
   "outputs": [],
   "source": [
    "nx.degree_mixing_matrix(h, normalized=False)"
   ]
  },
  {
   "cell_type": "code",
   "execution_count": 19,
   "metadata": {},
   "outputs": [
    {
     "data": {
      "text/plain": [
       "array([[ 0.,  0.,  0.,  0.,  0.,  0.],\n",
       "       [ 0.,  0.,  0.,  0.,  0.,  0.],\n",
       "       [ 0.,  0.,  0.,  0.,  0.,  0.],\n",
       "       [ 0.,  0.,  0.,  2.,  6.,  1.],\n",
       "       [ 0.,  0.,  0.,  6., 10.,  4.],\n",
       "       [ 0.,  0.,  0.,  1.,  4.,  0.]])"
      ]
     },
     "execution_count": 19,
     "metadata": {},
     "output_type": "execute_result"
    }
   ],
   "source": [
    "M_correct"
   ]
  },
  {
   "cell_type": "code",
   "execution_count": null,
   "metadata": {},
   "outputs": [],
   "source": [
    "h.degree()"
   ]
  },
  {
   "cell_type": "code",
   "execution_count": null,
   "metadata": {},
   "outputs": [],
   "source": [
    "nx.degree_mixing_dict(h, normalized=False)"
   ]
  },
  {
   "cell_type": "code",
   "execution_count": null,
   "metadata": {},
   "outputs": [],
   "source": [
    "M1 = nx.degree_mixing_matrix(h, normalized=False)\n",
    "M1"
   ]
  },
  {
   "cell_type": "code",
   "execution_count": null,
   "metadata": {},
   "outputs": [],
   "source": [
    "M"
   ]
  },
  {
   "cell_type": "code",
   "execution_count": null,
   "metadata": {},
   "outputs": [],
   "source": [
    "numeric_ac(M1)"
   ]
  },
  {
   "cell_type": "code",
   "execution_count": null,
   "metadata": {},
   "outputs": [],
   "source": []
  },
  {
   "cell_type": "code",
   "execution_count": null,
   "metadata": {},
   "outputs": [],
   "source": [
    "nx.degree_assortativity_coefficient(g)"
   ]
  },
  {
   "cell_type": "markdown",
   "metadata": {},
   "source": [
    "# Calculate Homophily and Compatibility Matrix"
   ]
  },
  {
   "cell_type": "code",
   "execution_count": null,
   "metadata": {},
   "outputs": [],
   "source": [
    "def get_compatibility_matrix(g, attr_name):\n",
    "    values = set(nx.get_node_attributes(g, attr_name).values())\n",
    "    mapping = {val: i for i, val in enumerate(values)}\n",
    "    print(mapping)\n",
    "    C = nx.attribute_mixing_matrix(g, attribute=attr_name, mapping=mapping, normalized=False)\n",
    "    np.fill_diagonal(C, C.diagonal() / 2)\n",
    "\n",
    "    D = np.diag(np.diag(C))\n",
    "    e = np.ones(shape=(len(mapping), 1))\n",
    "    \n",
    "    h = float((e.T @ D @ e) / (e.T @ C @ e))\n",
    "\n",
    "    Y = np.zeros(shape=(g.order(), len(mapping)))\n",
    "    for n, d in g.nodes(data=True):\n",
    "        attr = d[attr_name]\n",
    "        Y[n, mapping[attr]] = 1\n",
    "    A = nx.adjacency_matrix(g)\n",
    "    E = np.ones(shape=(A.shape[0], len(mapping)))\n",
    "    \n",
    "    H = (Y.T @ A @ Y) / (Y.T @ A @ E)\n",
    "    \n",
    "    return_d = dict(homophily_ratio=h, compatibility_mat=H, attr_name=attr_name, mapping=mapping)\n",
    "    return return_d"
   ]
  },
  {
   "cell_type": "code",
   "execution_count": null,
   "metadata": {
    "scrolled": true
   },
   "outputs": [],
   "source": [
    "get_compatibility_matrix(g, attr_name)"
   ]
  },
  {
   "cell_type": "code",
   "execution_count": null,
   "metadata": {},
   "outputs": [],
   "source": [
    "g, attr_name = get_graph('football')\n",
    "attr_name"
   ]
  },
  {
   "cell_type": "code",
   "execution_count": null,
   "metadata": {},
   "outputs": [],
   "source": [
    "ret = get_compatibility_matrix(g, attr_name)"
   ]
  },
  {
   "cell_type": "code",
   "execution_count": null,
   "metadata": {
    "scrolled": true
   },
   "outputs": [],
   "source": [
    "ret"
   ]
  },
  {
   "cell_type": "code",
   "execution_count": null,
   "metadata": {},
   "outputs": [],
   "source": [
    "plt.rcParams['figure.figsize'] = (10, 8)\n",
    "sns.heatmap(ret['compatibility_mat'], annot=True, fmt='.2f');"
   ]
  },
  {
   "cell_type": "code",
   "execution_count": null,
   "metadata": {},
   "outputs": [],
   "source": [
    "g, attr_name = get_graph('polblogs')"
   ]
  },
  {
   "cell_type": "code",
   "execution_count": null,
   "metadata": {},
   "outputs": [],
   "source": [
    "ret = get_compatibility_matrix(g, attr_name)\n",
    "ret"
   ]
  },
  {
   "cell_type": "code",
   "execution_count": null,
   "metadata": {},
   "outputs": [],
   "source": [
    "plt.rcParams['figure.figsize'] = (10, 8)\n",
    "sns.heatmap(ret['compatibility_mat'], annot=True, fmt='.2f');"
   ]
  },
  {
   "cell_type": "code",
   "execution_count": null,
   "metadata": {},
   "outputs": [],
   "source": []
  },
  {
   "cell_type": "markdown",
   "metadata": {},
   "source": [
    "## NMI to compare the graph clustering and attribute clustering"
   ]
  },
  {
   "cell_type": "code",
   "execution_count": null,
   "metadata": {},
   "outputs": [],
   "source": []
  },
  {
   "cell_type": "code",
   "execution_count": null,
   "metadata": {},
   "outputs": [],
   "source": []
  },
  {
   "cell_type": "markdown",
   "metadata": {},
   "source": [
    "# Citeseer"
   ]
  },
  {
   "cell_type": "code",
   "execution_count": null,
   "metadata": {},
   "outputs": [],
   "source": [
    "citeseer_g = nx.read_edgelist('../VRG/input/citeseer/citeseer.cites', create_using=nx.Graph)\n",
    "citeseer_g.remove_edges_from(nx.selfloop_edges(citeseer_g))"
   ]
  },
  {
   "cell_type": "code",
   "execution_count": null,
   "metadata": {},
   "outputs": [],
   "source": [
    "print(nx.info(citeseer_g))"
   ]
  },
  {
   "cell_type": "code",
   "execution_count": null,
   "metadata": {},
   "outputs": [],
   "source": [
    "# read node attrs\n",
    "with open('../VRG/input/citeseer/citeseer.content') as fp:\n",
    "    attr = {}\n",
    "    for line in fp.readlines():\n",
    "        node, *_, cls = line.split()\n",
    "        attr[node] = cls\n",
    "nx.set_node_attributes(citeseer_g, name='value', values=attr)"
   ]
  },
  {
   "cell_type": "code",
   "execution_count": null,
   "metadata": {},
   "outputs": [],
   "source": [
    "list(citeseer_g.nodes(data=True))[: 5]"
   ]
  },
  {
   "cell_type": "code",
   "execution_count": null,
   "metadata": {},
   "outputs": [],
   "source": []
  },
  {
   "cell_type": "code",
   "execution_count": null,
   "metadata": {},
   "outputs": [],
   "source": [
    "nx.write_gml(h, '../VRG/input/citeseer.gml')"
   ]
  },
  {
   "cell_type": "code",
   "execution_count": null,
   "metadata": {},
   "outputs": [],
   "source": [
    "h = nx.read_gml('../VRG/input/citeseer.gml')\n",
    "h = nx.convert_node_labels_to_integers(h, first_label=0)"
   ]
  },
  {
   "cell_type": "code",
   "execution_count": null,
   "metadata": {},
   "outputs": [],
   "source": [
    "h.nodes(data=True)"
   ]
  },
  {
   "cell_type": "code",
   "execution_count": null,
   "metadata": {},
   "outputs": [],
   "source": [
    "ret = get_compatibility_matrix(h, 'value')"
   ]
  },
  {
   "cell_type": "code",
   "execution_count": null,
   "metadata": {},
   "outputs": [],
   "source": [
    "ret"
   ]
  },
  {
   "cell_type": "code",
   "execution_count": null,
   "metadata": {},
   "outputs": [],
   "source": [
    "plt.rcParams['figure.figsize'] = (10, 8)\n",
    "sns.heatmap(ret['compatibility_mat'], annot=True, fmt='.2f', xticklabels=ret['mapping'].keys(),\n",
    "            yticklabels=ret['mapping'].keys());"
   ]
  },
  {
   "cell_type": "markdown",
   "metadata": {},
   "source": [
    "### Pubmed"
   ]
  },
  {
   "cell_type": "code",
   "execution_count": null,
   "metadata": {},
   "outputs": [],
   "source": [
    "! head ../VRG/input/pubmed/Pubmed-Diabetes/data/Pubmed-Diabetes.DIRECTED.cites.tab"
   ]
  },
  {
   "cell_type": "code",
   "execution_count": null,
   "metadata": {},
   "outputs": [],
   "source": [
    "! head ../VRG/input/pubmed/Pubmed-Diabetes/data/Pubmed-Diabetes.NODE.paper.tab"
   ]
  },
  {
   "cell_type": "code",
   "execution_count": null,
   "metadata": {},
   "outputs": [],
   "source": [
    "! cat ../VRG/input/pubmed/Pubmed-Diabetes/README"
   ]
  },
  {
   "cell_type": "code",
   "execution_count": null,
   "metadata": {},
   "outputs": [],
   "source": [
    "with open('../VRG/input/pubmed/Pubmed-Diabetes/data/Pubmed-Diabetes.DIRECTED.cites.tab') as fp:\n",
    "    nx_g = nx.Graph()\n",
    "    for line in fp.readlines()[2: ]:\n",
    "        line = line.replace('|', '')\n",
    "        _, paper1, paper2 = map(lambda x: int(x.replace('paper:', '')), line.split())\n",
    "        nx_g.add_edge(paper1, paper2)"
   ]
  },
  {
   "cell_type": "code",
   "execution_count": null,
   "metadata": {},
   "outputs": [],
   "source": [
    "print(nx.info(nx_g))"
   ]
  },
  {
   "cell_type": "code",
   "execution_count": null,
   "metadata": {},
   "outputs": [],
   "source": [
    "paper_cat = {}\n",
    "with open('../VRG/input/pubmed/Pubmed-Diabetes/data/Pubmed-Diabetes.NODE.paper.tab') as fp:\n",
    "    for line in fp.readlines()[2: ]:\n",
    "        things = line.split('\\t')\n",
    "        paper_id, label = things[: 2]\n",
    "        paper_cat[int(paper_id)] = int(label.replace('label=', ''))"
   ]
  },
  {
   "cell_type": "code",
   "execution_count": null,
   "metadata": {},
   "outputs": [],
   "source": [
    "paper_cat"
   ]
  },
  {
   "cell_type": "code",
   "execution_count": null,
   "metadata": {},
   "outputs": [],
   "source": [
    "len(paper_cat), nx_g.order()"
   ]
  },
  {
   "cell_type": "code",
   "execution_count": null,
   "metadata": {},
   "outputs": [],
   "source": [
    "nx.set_node_attributes(nx_g, name='value', values=paper_cat)"
   ]
  },
  {
   "cell_type": "code",
   "execution_count": null,
   "metadata": {},
   "outputs": [],
   "source": [
    "nx.write_gml(nx_g, '../VRG/input/pubmed.gml')"
   ]
  },
  {
   "cell_type": "code",
   "execution_count": null,
   "metadata": {},
   "outputs": [],
   "source": [
    "g = nx.convert_node_labels_to_integers(nx_g)"
   ]
  },
  {
   "cell_type": "code",
   "execution_count": null,
   "metadata": {},
   "outputs": [],
   "source": [
    "ret = get_compatibility_matrix(g, attr_name='value')"
   ]
  },
  {
   "cell_type": "code",
   "execution_count": null,
   "metadata": {},
   "outputs": [],
   "source": [
    "ret"
   ]
  },
  {
   "cell_type": "code",
   "execution_count": null,
   "metadata": {},
   "outputs": [],
   "source": [
    "plt.rcParams['figure.figsize'] = (10, 8)\n",
    "sns.heatmap(ret['compatibility_mat'], annot=True, fmt='.2f');"
   ]
  },
  {
   "cell_type": "code",
   "execution_count": null,
   "metadata": {},
   "outputs": [],
   "source": []
  },
  {
   "cell_type": "markdown",
   "metadata": {},
   "source": [
    "# LFR graphs"
   ]
  },
  {
   "cell_type": "code",
   "execution_count": null,
   "metadata": {},
   "outputs": [],
   "source": [
    "sizes = [150, 100, 50]\n",
    "\n",
    "probs = [[0.15, 0.005, 0.002], \n",
    "         [0.005, 0.20, 0.003], \n",
    "         [0.002, 0.003, 0.25]]\n",
    "\n",
    "orig_g = nx.stochastic_block_model(sizes, probs, seed=10)\n",
    "orig_block = nx.get_node_attributes(orig_g, 'block')"
   ]
  },
  {
   "cell_type": "code",
   "execution_count": null,
   "metadata": {},
   "outputs": [],
   "source": [
    "plot_graph(orig_g, attr_name='block')"
   ]
  },
  {
   "cell_type": "code",
   "execution_count": null,
   "metadata": {},
   "outputs": [],
   "source": [
    "nx.attribute_assortativity_coefficient(orig_g, 'block')"
   ]
  },
  {
   "cell_type": "code",
   "execution_count": null,
   "metadata": {},
   "outputs": [],
   "source": [
    "block = nx.get_node_attributes(orig_g, 'block')"
   ]
  },
  {
   "cell_type": "code",
   "execution_count": null,
   "metadata": {},
   "outputs": [],
   "source": [
    "set(block.values())"
   ]
  },
  {
   "cell_type": "code",
   "execution_count": null,
   "metadata": {},
   "outputs": [],
   "source": [
    "cmt.modularity(partition=block, graph=orig_g)"
   ]
  },
  {
   "cell_type": "markdown",
   "metadata": {},
   "source": [
    "## edge shuffler"
   ]
  },
  {
   "cell_type": "code",
   "execution_count": null,
   "metadata": {},
   "outputs": [],
   "source": [
    "def shuffle_edges(g, frac):\n",
    "    \"\"\"\n",
    "    pick two edges (u, v) and (x, y) \n",
    "    remove edges (u, v) and (x, y)\n",
    "    add edges (u, x) and (v, y)\n",
    "    if \n",
    "    \"\"\"\n",
    "    num_swaps = int(frac * g.size())\n",
    "    max_tries = 1000\n",
    "    tries = 0\n",
    "    swaps = 0\n",
    "    edges = list(g.edges())\n",
    "    new_graph = nx.Graph(g)\n",
    "    \n",
    "    while (swaps < num_swaps) and (tries < max_tries):\n",
    "        tries += 1\n",
    "        (u, v), (x, y) = random.choices(edges, k=2)\n",
    "        new_graph.remove_edges_from([(u, v), (x, y)])\n",
    "        \n",
    "        if not new_graph.has_edge(u, x):\n",
    "            new_graph.add_edge(u, x)\n",
    "            swaps += 1\n",
    "        if not new_graph.has_edge(v, y):\n",
    "            new_graph.add_edge(v, y)\n",
    "            swaps += 1\n",
    "        \n",
    "        if not nx.is_connected(new_graph):\n",
    "            new_graph.remove_edges_from([(u, x), (v, y)])\n",
    "            new_graph.add_edges_from([(u, v), (x, y)])\n",
    "            swap -= 2\n",
    "    return new_graph"
   ]
  },
  {
   "cell_type": "code",
   "execution_count": null,
   "metadata": {},
   "outputs": [],
   "source": [
    "def shuffle_attrs(g, frac):\n",
    "    \"\"\"\n",
    "    pick an edge, if they have different attributes, swap em\n",
    "    \"\"\"\n",
    "    num_swaps = int(frac * g.order())\n",
    "    block = nx.get_node_attributes(g, 'block')\n",
    "    max_tries = 10000\n",
    "    tries = 0\n",
    "    swaps = 0\n",
    "    edges = list(g.edges())\n",
    "    new_graph = nx.Graph(g)\n",
    "    \n",
    "    while (swaps < num_swaps) and (tries < max_tries):\n",
    "        tries += 1\n",
    "        u, v = random.choice(edges)\n",
    "\n",
    "        if block[u] != block[v]:\n",
    "            block[u], block[v] = block[v], block[u]\n",
    "            swaps += 1\n",
    "    print(f'Swaps made: {swaps}')\n",
    "    nx.set_node_attributes(new_graph, name='block', values=block)\n",
    "    return new_graph"
   ]
  },
  {
   "cell_type": "code",
   "execution_count": null,
   "metadata": {},
   "outputs": [],
   "source": [
    "g_ = shuffle_attrs(orig_g, frac=0.2)"
   ]
  },
  {
   "cell_type": "code",
   "execution_count": null,
   "metadata": {},
   "outputs": [],
   "source": [
    "g__ = shuffle_edges(orig_g, frac=0.2)"
   ]
  },
  {
   "cell_type": "code",
   "execution_count": null,
   "metadata": {},
   "outputs": [],
   "source": [
    "plot_graph(g_, attr_name='block')\n",
    "print(nx.attribute_assortativity_coefficient(g_, 'block'))"
   ]
  },
  {
   "cell_type": "code",
   "execution_count": null,
   "metadata": {},
   "outputs": [],
   "source": [
    "plot_graph(g__, attr_name='block')\n",
    "print(nx.attribute_assortativity_coefficient(g__, 'block'))"
   ]
  },
  {
   "cell_type": "code",
   "execution_count": null,
   "metadata": {},
   "outputs": [],
   "source": [
    "X = np.linspace(0, 1, 11, endpoint=True)"
   ]
  },
  {
   "cell_type": "code",
   "execution_count": null,
   "metadata": {},
   "outputs": [],
   "source": [
    "graphs = [shuffle_edges(orig_g, frac=f) for f in X]"
   ]
  },
  {
   "cell_type": "code",
   "execution_count": null,
   "metadata": {},
   "outputs": [],
   "source": [
    "graphs2 = [shuffle_attrs(orig_g, frac=f) for f in X]"
   ]
  },
  {
   "cell_type": "code",
   "execution_count": null,
   "metadata": {},
   "outputs": [],
   "source": [
    "plot_graph(graphs[8], attr_name='block')"
   ]
  },
  {
   "cell_type": "code",
   "execution_count": null,
   "metadata": {},
   "outputs": [],
   "source": [
    "plot_graph(graphs2[-1], attr_name='block')"
   ]
  },
  {
   "cell_type": "code",
   "execution_count": null,
   "metadata": {},
   "outputs": [],
   "source": [
    "rows = []\n",
    "\n",
    "for frac, g in zip(X, graphs):\n",
    "    part = cmt.best_partition(g)\n",
    "    block = nx.get_node_attributes(g, 'block')\n",
    "\n",
    "    row = dict(g=g, frac=frac, modularity=cmt.modularity(part, g), \n",
    "               attr_modularity=cmt.modularity(block, g), deg_ast=nx.degree_assortativity_coefficient(g),\n",
    "               attr_ast=nx.attribute_assortativity_coefficient(g, 'block'))\n",
    "\n",
    "    rows.append(row)\n",
    "\n",
    "df = pd.DataFrame(rows)"
   ]
  },
  {
   "cell_type": "code",
   "execution_count": null,
   "metadata": {},
   "outputs": [],
   "source": [
    "rows2 = []\n",
    "\n",
    "for frac, g in zip(X, graphs2):\n",
    "    part = cmt.best_partition(g)\n",
    "    block = nx.get_node_attributes(g, 'block')\n",
    "\n",
    "    row = dict(g=g, frac=frac, modularity=cmt.modularity(part, g), \n",
    "               attr_modularity=cmt.modularity(block, g), deg_ast=nx.degree_assortativity_coefficient(g),\n",
    "               attr_ast=nx.attribute_assortativity_coefficient(g, 'block'))\n",
    "\n",
    "    rows2.append(row)\n",
    "\n",
    "df2 = pd.DataFrame(rows2)"
   ]
  },
  {
   "cell_type": "code",
   "execution_count": null,
   "metadata": {},
   "outputs": [],
   "source": [
    "plt.rcParams['figure.figsize'] = (15, 8)"
   ]
  },
  {
   "cell_type": "code",
   "execution_count": null,
   "metadata": {},
   "outputs": [],
   "source": [
    "fig, (ax1, ax2) = plt.subplots(nrows=1, ncols=2, sharex=True, sharey=True)\n",
    "\n",
    "sns.lineplot(x='frac', y='deg_ast', marker='o', data=df, label='Degree', alpha=0.8, ax=ax1);\n",
    "sns.lineplot(x='frac', y='attr_ast', marker='o', data=df, label='Attribute', alpha=0.8, ax=ax1);\n",
    "ax1.set_ylabel('Assortativity');\n",
    "ax1.set_xlabel('Frac of edge rewirings');\n",
    "ax1.set_title('Shuffling edges keeping attributes constant');\n",
    "\n",
    "sns.lineplot(x='frac', y='deg_ast', marker='o', data=df2, label='Degree', alpha=0.9, ax=ax2);\n",
    "sns.lineplot(x='frac', y='attr_ast', marker='o', data=df2, label='Attribute', alpha=0.9, ax=ax2);\n",
    "ax2.set_ylabel('Assortativity');\n",
    "ax2.set_xlabel('Frac of node membership switches');\n",
    "ax2.set_title('Shuffling attributes keeping edges constant');"
   ]
  },
  {
   "cell_type": "code",
   "execution_count": null,
   "metadata": {},
   "outputs": [],
   "source": [
    "ax = plt.gca()\n",
    "# sns.lineplot(x='frac', y='modularity', marker='o', data=df2, label='Q', alpha=0.9);\n",
    "# sns.lineplot(x='frac', y='attr_modularity', marker='o', data=df2, label='Q_attr', alpha=0.9);\n",
    "sns.lineplot(x='frac', y='deg_ast', marker='o', data=df2, label='Degree', alpha=0.9);\n",
    "sns.lineplot(x='frac', y='attr_ast', marker='o', data=df2, label='Attribute', alpha=0.9);\n",
    "ax.set_ylabel('Assortativity');\n",
    "ax.set_xlabel('Frac of node membership switches');\n",
    "ax.set_title('Shuffling attributes keeping edges constant');"
   ]
  },
  {
   "cell_type": "code",
   "execution_count": null,
   "metadata": {},
   "outputs": [],
   "source": [
    "for frac, g in zip(X, graphs):\n",
    "    filename = f'../VRG/input/shuffled/edges/toy-comm-{int(frac*100)}.gexf'\n",
    "    print(filename)\n",
    "    nx.write_gexf(g, filename)"
   ]
  },
  {
   "cell_type": "code",
   "execution_count": null,
   "metadata": {},
   "outputs": [],
   "source": [
    "for frac, g in zip(X, graphs2):\n",
    "    filename = f'../VRG/input/shuffled/attrs/toy-comm-{int(frac*100)}.gexf'\n",
    "    print(filename)\n",
    "    nx.write_gexf(g, filename)"
   ]
  },
  {
   "cell_type": "markdown",
   "metadata": {},
   "source": [
    "## "
   ]
  },
  {
   "cell_type": "code",
   "execution_count": null,
   "metadata": {},
   "outputs": [],
   "source": [
    "nx.write_gexf?"
   ]
  },
  {
   "cell_type": "markdown",
   "metadata": {},
   "source": [
    "# Read the shuffled grammars and graphs"
   ]
  },
  {
   "cell_type": "code",
   "execution_count": null,
   "metadata": {},
   "outputs": [],
   "source": []
  }
 ],
 "metadata": {
  "kernelspec": {
   "display_name": "VRG",
   "language": "python",
   "name": "vrg"
  },
  "language_info": {
   "codemirror_mode": {
    "name": "ipython",
    "version": 3
   },
   "file_extension": ".py",
   "mimetype": "text/x-python",
   "name": "python",
   "nbconvert_exporter": "python",
   "pygments_lexer": "ipython3",
   "version": "3.7.7"
  },
  "toc-showmarkdowntxt": false
 },
 "nbformat": 4,
 "nbformat_minor": 4
}
