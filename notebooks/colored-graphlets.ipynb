{
 "cells": [
  {
   "cell_type": "markdown",
   "metadata": {},
   "source": [
    "## Colored graphlets\n",
    "https://www3.nd.edu/~cone/colored_graphlets/"
   ]
  },
  {
   "cell_type": "code",
   "execution_count": null,
   "metadata": {},
   "outputs": [],
   "source": [
    "import networkx as nx\n",
    "import matplotlib.pyplot as plt\n",
    "import seaborn as sns"
   ]
  },
  {
   "cell_type": "code",
   "execution_count": null,
   "outputs": [],
   "source": [
    "def write_leda(g):\n",
    "    directed = -1 if g.is_directed() else -2\n",
    "    header_lines = ['EXAMPLE.GRAPH', 'str', 'int', directed]\n",
    "\n",
    "    node_lines = [g.order()]\n",
    "    for n in g.nodes():\n",
    "        node_lines.append('|{v' + str(n) + '}|')\n",
    "\n",
    "    edge_lines = [g.size()]\n",
    "    for u, v in g.edges():\n",
    "        edge_lines.append(f'{u} {v} 0 |{{}}|')\n",
    "\n",
    "    return '\\n'.join(map(str, header_lines + node_lines + edge_lines))"
   ],
   "metadata": {
    "collapsed": false,
    "pycharm": {
     "name": "#%%\n"
    }
   }
  },
  {
   "cell_type": "code",
   "execution_count": null,
   "outputs": [],
   "source": [
    "g = nx.Graph()\n",
    "g.add_nodes_from(range(1, 6))\n",
    "# g.add_nodes_from([1, 2, 5], color=1)\n",
    "# g.add_nodes_from([3, 4], color=2)\n",
    "g.add_edges_from([(1, 2), (1, 4), (1, 5), (2, 3), (2, 5), (3, 4), (3, 5), (4, 5)])\n",
    "colors = {1: 1, 2: 1, 3: 2, 4: 2, 5: 1}\n",
    "nx.set_node_attributes(g, name='color', values=colors)"
   ],
   "metadata": {
    "collapsed": false,
    "pycharm": {
     "name": "#%%\n"
    }
   }
  },
  {
   "cell_type": "code",
   "execution_count": null,
   "outputs": [],
   "source": [
    "print(write_leda(g), file=open('sample.leda', 'w'))"
   ],
   "metadata": {
    "collapsed": false,
    "pycharm": {
     "name": "#%%\n"
    }
   }
  },
  {
   "cell_type": "code",
   "execution_count": null,
   "outputs": [],
   "source": [
    "for u, color in nx.get_node_attributes(g, 'color').items():\n",
    "    print(f'v{u} {color}', file=open('colors.txt', 'a'))"
   ],
   "metadata": {
    "collapsed": false,
    "pycharm": {
     "name": "#%%\n"
    }
   }
  }
 ],
 "metadata": {
  "kernelspec": {
   "display_name": "VRG",
   "language": "python",
   "name": "vrg"
  },
  "language_info": {
   "codemirror_mode": {
    "name": "ipython",
    "version": 3
   },
   "file_extension": ".py",
   "mimetype": "text/x-python",
   "name": "python",
   "nbconvert_exporter": "python",
   "pygments_lexer": "ipython3",
   "version": "3.7.7"
  }
 },
 "nbformat": 4,
 "nbformat_minor": 4
}