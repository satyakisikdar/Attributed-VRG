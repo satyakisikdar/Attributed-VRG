{
 "cells": [
  {
   "cell_type": "markdown",
   "metadata": {},
   "source": [
    "## Bipartite grammars"
   ]
  },
  {
   "cell_type": "code",
   "execution_count": 16,
   "metadata": {},
   "outputs": [],
   "source": [
    "import networkx as nx\n",
    "import igraph as ig\n",
    "import leidenalg as la\n",
    "import numpy as np\n",
    "import graph_tool.all as gt\n",
    "import glob\n",
    "import re\n",
    "from pathlib import Path\n",
    "import pandas as pd\n",
    "import matplotlib.pyplot as plt\n",
    "from matplotlib import gridspec\n",
    "import seaborn as sns; sns.set_style('white')\n",
    "import sys; sys.path.append('../')\n",
    "from time import time\n",
    "import logging\n",
    "from anytree import LevelOrderIter\n",
    "from statistics import mean\n",
    "import os\n",
    "import pickle\n",
    "import random\n",
    "from collections import Counter\n",
    "import pyintergraph as pig"
   ]
  },
  {
   "cell_type": "code",
   "execution_count": 2,
   "metadata": {},
   "outputs": [
    {
     "name": "stdout",
     "output_type": "stream",
     "text": [
      "sys path:  ['/home/jupyter-ssikdar/Attributed-VRG/notebooks', '/home/jupyter-ssikdar/miniconda3/envs/VRG/lib/python37.zip', '/home/jupyter-ssikdar/miniconda3/envs/VRG/lib/python3.7', '/home/jupyter-ssikdar/miniconda3/envs/VRG/lib/python3.7/lib-dynload', '', '/home/jupyter-ssikdar/miniconda3/envs/VRG/lib/python3.7/site-packages', '/home/jupyter-ssikdar/miniconda3/envs/VRG/lib/python3.7/site-packages/IPython/extensions', '/home/jupyter-ssikdar/.ipython', '../', './../', './../../']\n"
     ]
    }
   ],
   "source": [
    "from VRG.src.utils import nx_to_igraph, check_file_exists\n",
    "from VRG.src.graph_stats import GraphStats\n",
    "from VRG.src.graph_comparison import GraphPairCompare\n",
    "from VRG.runner import get_clustering\n",
    "from VRG.src.Tree import create_tree, dasgupta_cost\n",
    "from VRG.src.MDL import graph_dl as graph_mdl"
   ]
  },
  {
   "cell_type": "code",
   "execution_count": 3,
   "metadata": {},
   "outputs": [],
   "source": [
    "plt.rcParams['figure.figsize'] = (15, 10)\n",
    "plt.rcParams['font.size'] = 50\n",
    "plt.rcParams['axes.labelsize'] = 20\n",
    "plt.rcParams['axes.titlesize'] = 20"
   ]
  },
  {
   "cell_type": "code",
   "execution_count": 4,
   "metadata": {},
   "outputs": [],
   "source": [
    "def load_pickle(fname):\n",
    "#     logging.error(f'Reading {fname!r}')\n",
    "    return pickle.load(open(fname, 'rb'))"
   ]
  },
  {
   "cell_type": "code",
   "execution_count": 9,
   "metadata": {},
   "outputs": [],
   "source": [
    "def dump_pickle(obj, fname):\n",
    "#     logging.error(f'Reading {fname!r}')\n",
    "    return pickle.dump(obj, open(fname, 'wb'))"
   ]
  },
  {
   "cell_type": "code",
   "execution_count": 13,
   "metadata": {},
   "outputs": [],
   "source": [
    "def get_graph(gname: str = 'sample'):\n",
    "    start_time = time()\n",
    "    attr_name = ''\n",
    "    if gname == 'sample':\n",
    "        g = nx.Graph()\n",
    "        g.add_nodes_from(range(5), color='blue')\n",
    "        g.add_nodes_from(range(5, 9), color='red')\n",
    "\n",
    "        g.add_edges_from([(0, 1), (0, 3), (0, 4),\n",
    "                          (1, 2), (1, 4), (1, 5),\n",
    "                          (2, 3), (2, 4), (2, 8),\n",
    "                          (3, 4),\n",
    "                          (5, 6), (5, 7), (5, 8),\n",
    "                          (6, 7), (6, 8),\n",
    "                          (7, 8)])  # properly labeled\n",
    "        g.name = 'sample'\n",
    "        attr_name = 'color'\n",
    "    elif gname == 'karate':\n",
    "        g = nx.karate_club_graph()\n",
    "        attr_name = 'club'\n",
    "        g.name = 'karate'\n",
    "    elif gname == 'BA':\n",
    "        g = nx.barabasi_albert_graph(10, 2, seed=42)\n",
    "        # g = nx.MultiGraph(g)\n",
    "        g = nx.Graph()\n",
    "    elif gname.endswith('.gpickle'):\n",
    "        g = nx.read_gpickle(gname)\n",
    "        g.name = Path(gname).stem\n",
    "    else:\n",
    "        if gname in ('waterloo', 'grenoble', 'uppsala'):\n",
    "            g = nx.read_gpickle(f'../snap_data/cleaned/{gname}_lcc_attr.gpickle')\n",
    "        elif gname in ('polblogs', 'polbooks', 'football', 'bipartite-10-10', 'us-flights',\n",
    "                       'cora', 'citeseer', 'pubmed'):\n",
    "            g = nx.read_gml(f'../VRG/input/{gname}.gml')\n",
    "            attr_name = 'value'\n",
    "        else:\n",
    "            path = f'../VRG/input/{gname}.g'\n",
    "            g = nx.read_edgelist(path, nodetype=int, create_using=nx.Graph())\n",
    "\n",
    "        g.remove_edges_from(nx.selfloop_edges(g))\n",
    "        if not nx.is_connected(g):\n",
    "            nodes_lcc = max(nx.connected_components(g), key=len)\n",
    "            g = g.subgraph(nodes_lcc).copy()\n",
    "        name = g.name\n",
    "        g = nx.convert_node_labels_to_integers(g, label_attribute='orig_label')\n",
    "        g.name = name\n",
    "\n",
    "    end_time = round(time() - start_time, 2)\n",
    "    logging.error(f'Graph: {gname}, n = {g.order():_d}, m = {g.size():_d}, read in {round(end_time, 3):_g}s.')\n",
    "\n",
    "    return g, attr_name"
   ]
  },
  {
   "cell_type": "code",
   "execution_count": 6,
   "metadata": {},
   "outputs": [
    {
     "name": "stderr",
     "output_type": "stream",
     "text": [
      "Graph: polbooks, n = 105, m = 441, read in 0.11s.\n"
     ]
    }
   ],
   "source": [
    "g, attr_name = get_graph('polbooks')"
   ]
  },
  {
   "cell_type": "code",
   "execution_count": 7,
   "metadata": {},
   "outputs": [],
   "source": [
    "def chung_lu(input_graph):\n",
    "    gen_graph = nx.Graph()\n",
    "    gen_graph.add_nodes_from(input_graph.nodes(data=True))\n",
    "    \n",
    "    stub_list = []\n",
    "    for n, d in input_graph.degree():\n",
    "        stub_list.extend([n] * d)\n",
    "    random.shuffle(stub_list)\n",
    "    \n",
    "    for i, u in enumerate(stub_list[: -1]):\n",
    "        v = stub_list[i + 1]\n",
    "        gen_graph.add_edge(u, v)\n",
    "\n",
    "    largest_cc = max(nx.connected_components(gen_graph), key=len)\n",
    "    return gen_graph"
   ]
  },
  {
   "cell_type": "code",
   "execution_count": 15,
   "metadata": {},
   "outputs": [
    {
     "name": "stderr",
     "output_type": "stream",
     "text": [
      "Graph: karate, n = 34, m = 78, read in 0s.\n",
      "Graph: football, n = 115, m = 613, read in 0.07s.\n",
      "Graph: polbooks, n = 105, m = 441, read in 0.04s.\n",
      "Graph: us-flights, n = 535, m = 2_772, read in 0.26s.\n",
      "Graph: cora, n = 2_485, m = 5_069, read in 0.71s.\n",
      "Graph: citeseer, n = 2_110, m = 3_668, read in 0.42s.\n",
      "Graph: polblogs, n = 1_222, m = 16_714, read in 1.47s.\n",
      "Graph: pubmed, n = 19_717, m = 44_324, read in 4.99s.\n"
     ]
    }
   ],
   "source": [
    "names = ['karate', 'football', 'polbooks', 'us-flights', \n",
    "         'cora', 'citeseer','polblogs', 'pubmed']\n",
    "num_graphs = 10\n",
    "\n",
    "for name in names:\n",
    "    input_graph, attr_name = get_graph(name)\n",
    "    graphs = [chung_lu(input_graph) for _ in range(num_graphs)]\n",
    "    dump_pickle(graphs, \n",
    "                f'/data/ssikdar/attributed-vrg/dumps/graphs/{name}/Chung-Lu_{num_graphs}.pkl')"
   ]
  },
  {
   "cell_type": "code",
   "execution_count": 12,
   "metadata": {},
   "outputs": [
    {
     "data": {
      "text/plain": [
       "'/home/jupyter-ssikdar/Attributed-VRG/notebooks'"
      ]
     },
     "execution_count": 12,
     "metadata": {},
     "output_type": "execute_result"
    }
   ],
   "source": [
    "pwd"
   ]
  },
  {
   "cell_type": "code",
   "execution_count": 26,
   "metadata": {},
   "outputs": [],
   "source": [
    "def sbm(nx_g):\n",
    "    gt_g = pig.nx2gt(nx_g)\n",
    "    gt_gen = dc_sbm(gt_g)\n",
    "    nx_g = nx.Graph(pig.gt2nx(gt_gen))\n",
    "    return nx_g"
   ]
  },
  {
   "cell_type": "code",
   "execution_count": 20,
   "metadata": {},
   "outputs": [],
   "source": [
    "def dc_sbm(gt_g):\n",
    "    assert isinstance(gt_g, gt.Graph)\n",
    "    g = gt.GraphView(gt_g, vfilt=gt.label_largest_component(gt_g))\n",
    "    g = gt.Graph(g, prune=True)\n",
    "    g.set_directed(False)\n",
    "\n",
    "    state = gt.minimize_blockmodel_dl(g)\n",
    "\n",
    "    u = gt.generate_sbm(state.b.a, gt.adjacency(state.get_bg(), state.get_ers()).T,\n",
    "                        g.degree_property_map(\"total\").a,\n",
    "                        g.degree_property_map(\"total\").a, directed=False)\n",
    "    return u"
   ]
  },
  {
   "cell_type": "code",
   "execution_count": 21,
   "metadata": {},
   "outputs": [
    {
     "name": "stderr",
     "output_type": "stream",
     "text": [
      "Graph: football, n = 115, m = 613, read in 0.09s.\n"
     ]
    }
   ],
   "source": [
    "g, _ = get_graph('football')"
   ]
  },
  {
   "cell_type": "code",
   "execution_count": 27,
   "metadata": {},
   "outputs": [],
   "source": [
    "sbm_g = sbm(g)"
   ]
  },
  {
   "cell_type": "code",
   "execution_count": 29,
   "metadata": {},
   "outputs": [
    {
     "name": "stdout",
     "output_type": "stream",
     "text": [
      "Name: \n",
      "Type: Graph\n",
      "Number of nodes: 115\n",
      "Number of edges: 482\n",
      "Average degree:   8.3826\n"
     ]
    }
   ],
   "source": [
    "print(nx.info(sbm_g))"
   ]
  },
  {
   "cell_type": "code",
   "execution_count": 30,
   "metadata": {},
   "outputs": [
    {
     "name": "stderr",
     "output_type": "stream",
     "text": [
      "Graph: karate, n = 34, m = 78, read in 0s.\n",
      "Graph: football, n = 115, m = 613, read in 0.05s.\n",
      "Graph: polbooks, n = 105, m = 441, read in 0.05s.\n",
      "Graph: us-flights, n = 535, m = 2_772, read in 0.32s.\n",
      "Graph: cora, n = 2_485, m = 5_069, read in 0.61s.\n",
      "Graph: citeseer, n = 2_110, m = 3_668, read in 0.39s.\n",
      "Graph: polblogs, n = 1_222, m = 16_714, read in 1.29s.\n",
      "Graph: pubmed, n = 19_717, m = 44_324, read in 4.59s.\n"
     ]
    }
   ],
   "source": [
    "names = ['karate', 'football', 'polbooks', 'us-flights', \n",
    "         'cora', 'citeseer','polblogs', 'pubmed']\n",
    "num_graphs = 10\n",
    "\n",
    "for name in names:\n",
    "    input_graph, attr_name = get_graph(name)\n",
    "    graphs = [sbm(input_graph) for _ in range(num_graphs)]\n",
    "    dump_pickle(graphs, \n",
    "                f'/data/ssikdar/attributed-vrg/dumps/graphs/{name}/SBM_{num_graphs}.pkl')"
   ]
  },
  {
   "cell_type": "code",
   "execution_count": null,
   "metadata": {},
   "outputs": [],
   "source": []
  },
  {
   "cell_type": "code",
   "execution_count": null,
   "metadata": {},
   "outputs": [],
   "source": []
  },
  {
   "cell_type": "code",
   "execution_count": null,
   "metadata": {},
   "outputs": [],
   "source": []
  },
  {
   "cell_type": "code",
   "execution_count": null,
   "metadata": {},
   "outputs": [],
   "source": [
    "orig_g, attr_name = get_graph('pubmed')\n",
    "deg_ctr = Counter(d for n, d in orig_g.degree())\n",
    "X, Y = zip(*deg_ctr.items())\n",
    "\n",
    "cl_g = chung_lu(g)\n",
    "deg_ctr = Counter(d for n, d in cl_g.degree())\n",
    "X_cl, Y_cl = zip(*deg_ctr.items())"
   ]
  },
  {
   "cell_type": "code",
   "execution_count": null,
   "metadata": {},
   "outputs": [],
   "source": [
    "ax = plt.gca()\n",
    "# sns.scatterplot(x=X, y=Y, ax=ax, color='blue', alpha=0.4, label='Original');\n",
    "sns.scatterplot(x=X_cl, y=Y_cl, ax=ax, color='red', alpha=0.4, label='Chung-Lu');"
   ]
  },
  {
   "cell_type": "code",
   "execution_count": null,
   "metadata": {},
   "outputs": [],
   "source": [
    "nx.degree_assortativity_coefficient(orig_g), nx.degree_assortativity_coefficient(cl_g)"
   ]
  },
  {
   "cell_type": "code",
   "execution_count": null,
   "metadata": {},
   "outputs": [],
   "source": [
    "nx.attribute_assortativity_coefficient(orig_g, attr_name), nx.attribute_assortativity_coefficient(cl_g, attr_name)"
   ]
  },
  {
   "cell_type": "markdown",
   "metadata": {},
   "source": [
    "## Graph Tool SBM stuff"
   ]
  },
  {
   "cell_type": "code",
   "execution_count": null,
   "metadata": {},
   "outputs": [],
   "source": [
    "g = gt.collection.data[\"football\"]\n",
    "print(g)"
   ]
  },
  {
   "cell_type": "code",
   "execution_count": null,
   "metadata": {},
   "outputs": [],
   "source": [
    "state = gt.minimize_blockmodel_dl(g)"
   ]
  },
  {
   "cell_type": "code",
   "execution_count": null,
   "metadata": {},
   "outputs": [],
   "source": [
    "state.draw(pos=g.vp.pos);"
   ]
  },
  {
   "cell_type": "code",
   "execution_count": null,
   "metadata": {},
   "outputs": [],
   "source": [
    "e = state.get_matrix().todense()\n",
    "plt.matshow(e);"
   ]
  },
  {
   "cell_type": "code",
   "execution_count": null,
   "metadata": {},
   "outputs": [],
   "source": [
    "plt.rcParams['figure.figsize'] = (10, 8)\n",
    "sns.heatmap(e, annot=True, fmt='.3g');"
   ]
  },
  {
   "cell_type": "code",
   "execution_count": null,
   "metadata": {},
   "outputs": [],
   "source": [
    "h_state = gt.minimize_nested_blockmodel_dl(g)"
   ]
  },
  {
   "cell_type": "code",
   "execution_count": null,
   "metadata": {},
   "outputs": [],
   "source": [
    "h_state.draw();"
   ]
  },
  {
   "cell_type": "code",
   "execution_count": null,
   "metadata": {},
   "outputs": [],
   "source": [
    "h_state.print_summary()"
   ]
  },
  {
   "cell_type": "code",
   "execution_count": null,
   "metadata": {},
   "outputs": [],
   "source": [
    "h_state.entropy()"
   ]
  },
  {
   "cell_type": "code",
   "execution_count": null,
   "metadata": {},
   "outputs": [],
   "source": [
    "h_state_ndc = gt.minimize_nested_blockmodel_dl(g, deg_corr=False)\n",
    "h_state_dc = gt.minimize_nested_blockmodel_dl(g, deg_corr=True)\n",
    "\n",
    "print(h_state_ndc.entropy(), h_state_dc.entropy())"
   ]
  },
  {
   "cell_type": "markdown",
   "metadata": {},
   "source": [
    "## Graphtool shuffling"
   ]
  },
  {
   "cell_type": "code",
   "execution_count": null,
   "metadata": {},
   "outputs": [],
   "source": []
  },
  {
   "cell_type": "code",
   "execution_count": null,
   "metadata": {},
   "outputs": [],
   "source": [
    "input_g.num_edges()"
   ]
  },
  {
   "cell_type": "code",
   "execution_count": null,
   "metadata": {},
   "outputs": [],
   "source": [
    "n_iters"
   ]
  },
  {
   "cell_type": "code",
   "execution_count": null,
   "metadata": {},
   "outputs": [],
   "source": [
    "name = 'football'\n",
    "input_g = gt.collection.data[name]\n",
    "\n",
    "models = {'Erdos-Renyi': 'erdos', 'CL': 'configuration', 'CL-deg': 'constrained-configuration', \n",
    "          'CL-attr': 'constrained-configuration'}\n",
    "shuffled_graphs = {model: [] for model in models}\n",
    "n_iters = np.linspace(0, input_g.num_edges(), 10, endpoint=True, dtype=int)\n",
    "\n",
    "rows = []\n",
    "orig_deg_ast = gt.scalar_assortativity(input_g, 'total')[0]\n",
    "orig_attr_ast = gt.scalar_assortativity(input_g, input_g.vp.value)[0]\n",
    "\n",
    "for model, m in models.items():\n",
    "    for n_iter in n_iters:\n",
    "        new_g = input_g.copy()\n",
    "        \n",
    "        if model == 'CL-attr':\n",
    "            gt.random_rewire(g=new_g, model=m, n_iter=n_iter, edge_sweep=False,\n",
    "                            block_membership=new_g.vp.value)\n",
    "        else:\n",
    "            gt.random_rewire(g=new_g, model=m, n_iter=n_iter, edge_sweep=False)\n",
    "        gen_deg_ast = gt.scalar_assortativity(new_g, 'total')[0]\n",
    "        gen_attr_ast = gt.scalar_assortativity(new_g, new_g.vp.value)[0]\n",
    "        \n",
    "        shuffled_graphs[model].append(new_g)\n",
    "        rows.append(dict(name=name, model=model, frac=round(n_iter/input_g.num_edges(), 2),\n",
    "                         orig_graph=input_g, gen_graph=new_g,\n",
    "                         orig_deg_ast=orig_deg_ast, orig_attr_ast=orig_attr_ast,\n",
    "                         gen_deg_ast=gen_deg_ast, gen_attr_ast=gen_attr_ast))\n",
    "        \n",
    "df = pd.DataFrame(rows)"
   ]
  },
  {
   "cell_type": "code",
   "execution_count": null,
   "metadata": {},
   "outputs": [],
   "source": [
    "df.head()"
   ]
  },
  {
   "cell_type": "code",
   "execution_count": null,
   "metadata": {},
   "outputs": [],
   "source": [
    "plt.rcParams['figure.figsize'] = (12, 6)\n",
    "\n",
    "fig, (ax1, ax2) = plt.subplots(nrows=1, ncols=2, sharey=True, sharex=True)\n",
    "\n",
    "ax1.axhline(df.orig_deg_ast.mean(), c='k');\n",
    "sns.lineplot(x='frac', y='gen_deg_ast', hue='model', marker='o', alpha=0.6, data=df, ax=ax1);\n",
    "ax1.set_ylabel('Assortativity')\n",
    "ax1.set_title('Degree');\n",
    "ax1.legend(loc='best');\n",
    "\n",
    "ax2.axhline(df.orig_attr_ast.mean(), c='k');\n",
    "sns.lineplot(x='frac', y='gen_attr_ast', hue='model', marker='o', alpha=0.6, data=df, ax=ax2);\n",
    "ax2.set_ylabel('Attribute Assortativity')\n",
    "ax2.set_title('Attribute');\n",
    "\n",
    "plt.tight_layout();\n",
    "ax2.legend().set_visible(False);"
   ]
  },
  {
   "cell_type": "code",
   "execution_count": null,
   "metadata": {},
   "outputs": [],
   "source": [
    "print(gt.collection.data.keys())"
   ]
  },
  {
   "cell_type": "code",
   "execution_count": null,
   "metadata": {},
   "outputs": [],
   "source": [
    "g = gt.collection.ns['pgp-strong-2009']\n",
    "print(g)"
   ]
  },
  {
   "cell_type": "code",
   "execution_count": null,
   "metadata": {},
   "outputs": [],
   "source": [
    "# name = 'malaria_genes/HVR_9'\n",
    "name = 'openflights'\n",
    "g = gt.collection.ns[name]\n",
    "print(g)\n",
    "print(list(g.vp.keys()))\n",
    "print(list(g.ep.keys()))"
   ]
  },
  {
   "cell_type": "code",
   "execution_count": null,
   "metadata": {},
   "outputs": [],
   "source": [
    "rows = []\n",
    "\n",
    "for i in g.vertices():\n",
    "    rows.append(dict(name=g.vp.name[i], city=g.vp.city[i], country=g.vp.country[i]))"
   ]
  },
  {
   "cell_type": "code",
   "execution_count": null,
   "metadata": {},
   "outputs": [],
   "source": [
    "df = pd.DataFrame(rows)"
   ]
  },
  {
   "cell_type": "code",
   "execution_count": null,
   "metadata": {},
   "outputs": [],
   "source": [
    "df.head()"
   ]
  },
  {
   "cell_type": "code",
   "execution_count": null,
   "metadata": {},
   "outputs": [],
   "source": [
    "df.country.value_counts()"
   ]
  },
  {
   "cell_type": "code",
   "execution_count": null,
   "metadata": {},
   "outputs": [],
   "source": [
    "df[df.country=='United States'].shape"
   ]
  },
  {
   "cell_type": "code",
   "execution_count": null,
   "metadata": {},
   "outputs": [],
   "source": [
    "g.vertex_index"
   ]
  },
  {
   "cell_type": "code",
   "execution_count": null,
   "metadata": {},
   "outputs": [],
   "source": []
  },
  {
   "cell_type": "code",
   "execution_count": null,
   "metadata": {},
   "outputs": [],
   "source": [
    "g.vertex_index[1]"
   ]
  },
  {
   "cell_type": "code",
   "execution_count": null,
   "metadata": {},
   "outputs": [],
   "source": []
  },
  {
   "cell_type": "code",
   "execution_count": null,
   "metadata": {},
   "outputs": [],
   "source": [
    "g_fil = gt.GraphView(g, vfilt=lambda v: g.vp.country[g.vertex_index[v]] == 'United States')"
   ]
  },
  {
   "cell_type": "code",
   "execution_count": null,
   "metadata": {},
   "outputs": [],
   "source": [
    "g_fil.set_directed(False)"
   ]
  },
  {
   "cell_type": "code",
   "execution_count": null,
   "metadata": {},
   "outputs": [],
   "source": [
    "gt.remove_parallel_edges(g_fil)"
   ]
  },
  {
   "cell_type": "code",
   "execution_count": null,
   "metadata": {},
   "outputs": [],
   "source": [
    "g_fil"
   ]
  },
  {
   "cell_type": "code",
   "execution_count": null,
   "metadata": {},
   "outputs": [],
   "source": [
    "state = gt.minimize_blockmodel_dl(g_fil)"
   ]
  },
  {
   "cell_type": "code",
   "execution_count": null,
   "metadata": {},
   "outputs": [],
   "source": [
    "g_fil"
   ]
  },
  {
   "cell_type": "code",
   "execution_count": null,
   "metadata": {},
   "outputs": [],
   "source": [
    "g_fil.save('/data/ssikdar/attributed-vrg/us-airports.graphml')"
   ]
  },
  {
   "cell_type": "code",
   "execution_count": null,
   "metadata": {},
   "outputs": [],
   "source": [
    "! head /data/ssikdar/attributed-vrg/flights/nodes.csv"
   ]
  },
  {
   "cell_type": "code",
   "execution_count": null,
   "metadata": {},
   "outputs": [],
   "source": [
    "nodes_df = pd.read_csv('/data/ssikdar/attributed-vrg/flights/nodes.csv')\n",
    "edges_df = pd.read_csv('/data/ssikdar/attributed-vrg/flights/edges.csv')"
   ]
  },
  {
   "cell_type": "code",
   "execution_count": null,
   "metadata": {},
   "outputs": [],
   "source": [
    "nodes_df.head()"
   ]
  },
  {
   "cell_type": "code",
   "execution_count": null,
   "metadata": {},
   "outputs": [],
   "source": [
    "nodes_df.columns"
   ]
  },
  {
   "cell_type": "code",
   "execution_count": null,
   "metadata": {},
   "outputs": [],
   "source": [
    "usa_nodes_df = nodes_df[nodes_df.country=='United States']"
   ]
  },
  {
   "cell_type": "code",
   "execution_count": null,
   "metadata": {},
   "outputs": [],
   "source": [
    "nodes_df.head()"
   ]
  },
  {
   "cell_type": "code",
   "execution_count": null,
   "metadata": {},
   "outputs": [],
   "source": [
    "usa_nodes_df.head()"
   ]
  },
  {
   "cell_type": "code",
   "execution_count": null,
   "metadata": {},
   "outputs": [],
   "source": [
    "usa_edges_df = edges_df[(edges_df.source.isin(usa_nodes_df.index)) & (edges_df.target.isin(usa_nodes_df.index))]"
   ]
  },
  {
   "cell_type": "code",
   "execution_count": null,
   "metadata": {},
   "outputs": [],
   "source": [
    "usa_edges_df.head()"
   ]
  },
  {
   "cell_type": "code",
   "execution_count": null,
   "metadata": {},
   "outputs": [],
   "source": [
    "usa_edges_df.shape"
   ]
  },
  {
   "cell_type": "code",
   "execution_count": null,
   "metadata": {},
   "outputs": [],
   "source": [
    "flights_g = nx.Graph()\n",
    "\n",
    "for row in usa_nodes_df.itertuples():\n",
    "    flights_g.add_node(row.index, name=row.name, city=row.city)"
   ]
  },
  {
   "cell_type": "code",
   "execution_count": null,
   "metadata": {},
   "outputs": [],
   "source": [
    "flights_g.order()"
   ]
  },
  {
   "cell_type": "code",
   "execution_count": null,
   "metadata": {},
   "outputs": [],
   "source": [
    "for row in usa_edges_df.itertuples():\n",
    "    flights_g.add_edge(row.source, row.target)"
   ]
  },
  {
   "cell_type": "code",
   "execution_count": null,
   "metadata": {},
   "outputs": [],
   "source": [
    "print(nx.info(flights_g))"
   ]
  },
  {
   "cell_type": "code",
   "execution_count": null,
   "metadata": {},
   "outputs": [],
   "source": [
    "flights_g.remove_edges_from(nx.selfloop_edges(flights_g))"
   ]
  },
  {
   "cell_type": "code",
   "execution_count": null,
   "metadata": {},
   "outputs": [],
   "source": [
    "flights_g.size()"
   ]
  },
  {
   "cell_type": "code",
   "execution_count": null,
   "metadata": {},
   "outputs": [],
   "source": [
    "list(flights_g.nodes(data=True))[: 5]"
   ]
  },
  {
   "cell_type": "code",
   "execution_count": null,
   "metadata": {},
   "outputs": [],
   "source": [
    "from geopy.geocoders import Nominatim"
   ]
  },
  {
   "cell_type": "code",
   "execution_count": null,
   "metadata": {},
   "outputs": [],
   "source": [
    "geolocator = Nominatim(user_agent='blah')\n",
    "location = geolocator.geocode(\"Barter Island\", addressdetails=True)"
   ]
  },
  {
   "cell_type": "code",
   "execution_count": null,
   "metadata": {},
   "outputs": [],
   "source": [
    "location.raw['address']['state']"
   ]
  },
  {
   "cell_type": "code",
   "execution_count": null,
   "metadata": {},
   "outputs": [],
   "source": [
    "us_state_abbrev = {\n",
    "    'Alabama': 'AL',\n",
    "    'Alaska': 'AK',\n",
    "    'American Samoa': 'AS',\n",
    "    'Arizona': 'AZ',\n",
    "    'Arkansas': 'AR',\n",
    "    'California': 'CA',\n",
    "    'Colorado': 'CO',\n",
    "    'Connecticut': 'CT',\n",
    "    'Delaware': 'DE',\n",
    "    'District of Columbia': 'DC',\n",
    "    'Florida': 'FL',\n",
    "    'Georgia': 'GA',\n",
    "    'Guam': 'GU',\n",
    "    'Hawaii': 'HI',\n",
    "    'Idaho': 'ID',\n",
    "    'Illinois': 'IL',\n",
    "    'Indiana': 'IN',\n",
    "    'Iowa': 'IA',\n",
    "    'Kansas': 'KS',\n",
    "    'Kentucky': 'KY',\n",
    "    'Louisiana': 'LA',\n",
    "    'Maine': 'ME',\n",
    "    'Maryland': 'MD',\n",
    "    'Massachusetts': 'MA',\n",
    "    'Michigan': 'MI',\n",
    "    'Minnesota': 'MN',\n",
    "    'Mississippi': 'MS',\n",
    "    'Missouri': 'MO',\n",
    "    'Montana': 'MT',\n",
    "    'Nebraska': 'NE',\n",
    "    'Nevada': 'NV',\n",
    "    'New Hampshire': 'NH',\n",
    "    'New Jersey': 'NJ',\n",
    "    'New Mexico': 'NM',\n",
    "    'New York': 'NY',\n",
    "    'North Carolina': 'NC',\n",
    "    'North Dakota': 'ND',\n",
    "    'Northern Mariana Islands':'MP',\n",
    "    'Ohio': 'OH',\n",
    "    'Oklahoma': 'OK',\n",
    "    'Oregon': 'OR',\n",
    "    'Pennsylvania': 'PA',\n",
    "    'Puerto Rico': 'PR',\n",
    "    'Rhode Island': 'RI',\n",
    "    'South Carolina': 'SC',\n",
    "    'South Dakota': 'SD',\n",
    "    'Tennessee': 'TN',\n",
    "    'Texas': 'TX',\n",
    "    'Utah': 'UT',\n",
    "    'Vermont': 'VT',\n",
    "    'Virgin Islands': 'VI',\n",
    "    'Virginia': 'VA',\n",
    "    'Washington': 'WA',\n",
    "    'West Virginia': 'WV',\n",
    "    'Wisconsin': 'WI',\n",
    "    'Wyoming': 'WY'\n",
    "}\n"
   ]
  },
  {
   "cell_type": "code",
   "execution_count": null,
   "metadata": {},
   "outputs": [],
   "source": [
    "def get_state_abv(row):\n",
    "    location = geolocator.geocode(f'{row.city}, {row.country}', addressdetails=True)\n",
    "    if location is None or location.raw is None:\n",
    "        return ''\n",
    "    state = location.raw['address'].get('state', '')\n",
    "    return us_state_abbrev.get(state, '')"
   ]
  },
  {
   "cell_type": "code",
   "execution_count": null,
   "metadata": {},
   "outputs": [],
   "source": [
    "usa_nodes_df['state'] = usa_nodes_df.apply(lambda row: get_state_abv(row), axis=1)"
   ]
  },
  {
   "cell_type": "code",
   "execution_count": null,
   "metadata": {},
   "outputs": [],
   "source": [
    "usa_nodes_df = usa_nodes_df[usa_nodes_df.state!='']"
   ]
  },
  {
   "cell_type": "code",
   "execution_count": null,
   "metadata": {},
   "outputs": [],
   "source": [
    "usa_nodes_df"
   ]
  },
  {
   "cell_type": "code",
   "execution_count": null,
   "metadata": {},
   "outputs": [],
   "source": [
    "usa_nodes_df_copy = usa_nodes_df.copy()"
   ]
  },
  {
   "cell_type": "code",
   "execution_count": null,
   "metadata": {},
   "outputs": [],
   "source": [
    "usa_nodes_df.to_csv('/data/ssikdar/attributed-vrg/flights/us_nodes.csv', index=False)"
   ]
  },
  {
   "cell_type": "code",
   "execution_count": null,
   "metadata": {},
   "outputs": [],
   "source": [
    "usa_edges_df = edges_df[(edges_df.source.isin(usa_nodes_df.index)) & (edges_df.target.isin(usa_nodes_df.index))]"
   ]
  },
  {
   "cell_type": "code",
   "execution_count": null,
   "metadata": {},
   "outputs": [],
   "source": [
    "usa_edges_df.shape"
   ]
  },
  {
   "cell_type": "code",
   "execution_count": null,
   "metadata": {},
   "outputs": [],
   "source": [
    "regions_dict = {\n",
    "    'New England': ['CT', 'ME', 'MA', 'NH', 'RI', 'VT'], \n",
    "    'Mideast': ['DE', 'DC', 'MD', 'NJ', 'NY', 'PA'],  \n",
    "    'Great Lakes': ['IL', 'IN', 'MI', 'OH', 'WI'],  \n",
    "    'Plains': ['IA', 'KS', 'MN', 'MO', 'NE', 'ND', 'SD'], \n",
    "    'Southeast': ['AL', 'AR', 'FL', 'GA', 'KY', 'LA', 'MS', 'NC', 'SC', 'TN', 'VA', 'WV'], \n",
    "    'Southwest': ['AZ', 'NM', 'OK', 'TX'],  \n",
    "    'Rocky Mountain': ['CO', 'ID', 'MT', 'UT', 'WY'], \n",
    "    'Far West': ['AK', 'CA', 'HI', 'NV', 'OR', 'WA']  \n",
    "}"
   ]
  },
  {
   "cell_type": "code",
   "execution_count": null,
   "metadata": {},
   "outputs": [],
   "source": [
    "state2regions = {state: reg for reg, states in regions_dict.items() for state in states}"
   ]
  },
  {
   "cell_type": "code",
   "execution_count": null,
   "metadata": {},
   "outputs": [],
   "source": [
    "len(state2regions)"
   ]
  },
  {
   "cell_type": "code",
   "execution_count": null,
   "metadata": {},
   "outputs": [],
   "source": [
    "usa_nodes_df['region'] = usa_nodes_df.state.apply(lambda x: state2regions[x])"
   ]
  },
  {
   "cell_type": "code",
   "execution_count": null,
   "metadata": {},
   "outputs": [],
   "source": [
    "usa_nodes_df"
   ]
  },
  {
   "cell_type": "markdown",
   "metadata": {},
   "source": [
    "## SBM"
   ]
  },
  {
   "cell_type": "code",
   "execution_count": null,
   "metadata": {},
   "outputs": [],
   "source": [
    "def dc_sbm(gt_g):\n",
    "    assert isinstance(gt_g, gt.Graph)\n",
    "    g = gt.GraphView(gt_g, vfilt=gt.label_largest_component(gt_g))\n",
    "    g = gt.Graph(g, prune=True)\n",
    "    g.set_directed(False)\n",
    "    \n",
    "    state = gt.minimize_blockmodel_dl(g)\n",
    "    \n",
    "    u = gt.generate_sbm(state.b.a, gt.adjacency(state.get_bg(), state.get_ers()).T,\n",
    "                        g.degree_property_map(\"total\").a,\n",
    "                        g.degree_property_map(\"total\").a, directed=False)\n",
    "    return u"
   ]
  },
  {
   "cell_type": "code",
   "execution_count": null,
   "metadata": {},
   "outputs": [],
   "source": [
    "g = gt.collection.data[\"football\"]\n",
    "sbm_g = dc_sbm(g)\n",
    "\n",
    "# gt.graph_draw(g, g.vp.pos)\n",
    "# gt.graph_draw(u, u.own_property(g.vp.pos))"
   ]
  },
  {
   "cell_type": "code",
   "execution_count": null,
   "metadata": {},
   "outputs": [],
   "source": [
    "gt.graph_draw(g, g.vp.pos);"
   ]
  },
  {
   "cell_type": "code",
   "execution_count": null,
   "metadata": {},
   "outputs": [],
   "source": [
    "gt.graph_draw(sbm_g, sbm_g.own_property(g.vp.pos));"
   ]
  },
  {
   "cell_type": "code",
   "execution_count": null,
   "metadata": {},
   "outputs": [],
   "source": [
    "g, sbm"
   ]
  },
  {
   "cell_type": "code",
   "execution_count": null,
   "metadata": {},
   "outputs": [],
   "source": [
    "u"
   ]
  },
  {
   "cell_type": "code",
   "execution_count": null,
   "metadata": {},
   "outputs": [],
   "source": []
  }
 ],
 "metadata": {
  "kernelspec": {
   "display_name": "VRG",
   "language": "python",
   "name": "vrg"
  },
  "language_info": {
   "codemirror_mode": {
    "name": "ipython",
    "version": 3
   },
   "file_extension": ".py",
   "mimetype": "text/x-python",
   "name": "python",
   "nbconvert_exporter": "python",
   "pygments_lexer": "ipython3",
   "version": "3.7.7"
  }
 },
 "nbformat": 4,
 "nbformat_minor": 4
}
