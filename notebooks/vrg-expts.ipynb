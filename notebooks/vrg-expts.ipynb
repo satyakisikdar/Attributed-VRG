{
 "cells": [
  {
   "cell_type": "code",
   "execution_count": null,
   "metadata": {},
   "outputs": [],
   "source": [
    "%load_ext autoreload"
   ]
  },
  {
   "cell_type": "code",
   "execution_count": null,
   "metadata": {},
   "outputs": [],
   "source": [
    "%autoreload 2"
   ]
  },
  {
   "cell_type": "code",
   "execution_count": null,
   "metadata": {},
   "outputs": [],
   "source": [
    "import networkx as nx\n",
    "import pandas as pd\n",
    "import logging\n",
    "import seaborn as sns\n",
    "import matplotlib.pyplot as plt\n",
    "import sys\n",
    "from collections import Counter"
   ]
  },
  {
   "cell_type": "code",
   "execution_count": null,
   "metadata": {},
   "outputs": [],
   "source": [
    "plt.rcParams['figure.figsize'] = (14, 8)"
   ]
  },
  {
   "cell_type": "code",
   "execution_count": null,
   "metadata": {},
   "outputs": [],
   "source": [
    "sys.path.append('./..')"
   ]
  },
  {
   "cell_type": "code",
   "execution_count": null,
   "metadata": {},
   "outputs": [],
   "source": [
    "logging.basicConfig(level=logging.ERROR, format=\"%(message)s\")"
   ]
  },
  {
   "cell_type": "code",
   "execution_count": null,
   "metadata": {},
   "outputs": [],
   "source": [
    "from VRG.runner import get_grammars\n",
    "from VRG.src.utils import load_pickle, dump_pickle"
   ]
  },
  {
   "cell_type": "code",
   "execution_count": null,
   "metadata": {},
   "outputs": [],
   "source": [
    "def get_rule_df(dataset, vrg):\n",
    "    cols = 'id', 'size', 'freq', 'n', 'm', 'graph', 'is_connected'\n",
    "    rows = []\n",
    "    for rule in vrg.rule_list:\n",
    "        row = {'dataset': dataset, 'id': rule.id, 'size': rule.lhs_nt.size, 'freq': rule.frequency, 'n': rule.graph.order(), 'm': rule.graph.size(), \n",
    "               'is_connected': nx.is_connected(rule.graph), 'graph': rule.graph}\n",
    "        rows.append(row)\n",
    "    return pd.DataFrame(rows)"
   ]
  },
  {
   "cell_type": "code",
   "execution_count": null,
   "metadata": {},
   "outputs": [],
   "source": [
    "datasets = 'grenoble', 'waterloo', 'uppsala'\n",
    "dfs = []\n",
    "\n",
    "for dataset in datasets:\n",
    "    vrg = load_pickle(f'../VRG/dumps/grammars/{dataset}/VRG_leiden_6_0.pkl')\n",
    "    print(vrg)\n",
    "    df = get_rule_df(dataset=dataset, vrg=vrg)\n",
    "    dfs.append(df)\n",
    "\n",
    "rule_df = pd.concat(dfs, ignore_index=True)"
   ]
  },
  {
   "cell_type": "code",
   "execution_count": null,
   "metadata": {},
   "outputs": [],
   "source": []
  },
  {
   "cell_type": "code",
   "execution_count": null,
   "metadata": {},
   "outputs": [],
   "source": [
    "rule_df"
   ]
  },
  {
   "cell_type": "code",
   "execution_count": null,
   "metadata": {},
   "outputs": [],
   "source": []
  },
  {
   "cell_type": "code",
   "execution_count": null,
   "metadata": {},
   "outputs": [],
   "source": [
    "ax = plt.gca()\n",
    "for name, group_df in rule_df.groupby('dataset'):\n",
    "    sns.distplot(a=group_df['size'], hist=False, label=name)\n",
    "# rule_df['size'].plot(kind='hist', bins=100);\n",
    "ax.set_ylim((-0.001, 0.02))\n",
    "ax.set_xscale('log')\n",
    "\n",
    "plt.legend(loc='best')\n",
    "plt.title('VRG RHS size distribution')\n",
    "plt.ylabel('Frequency');\n",
    "plt.xlabel('Size of RHS (log)');"
   ]
  },
  {
   "cell_type": "code",
   "execution_count": null,
   "metadata": {},
   "outputs": [],
   "source": [
    "rule_df.n.value_counts().plot(kind='barh');\n",
    "plt.ylabel('n');\n",
    "plt.xlabel('freq');"
   ]
  },
  {
   "cell_type": "code",
   "execution_count": null,
   "metadata": {},
   "outputs": [],
   "source": [
    "rule_df['size'].value_counts()#.plot(kind='hist');\n",
    "# plt.ylabel('n');\n",
    "# plt.xlabel('size');"
   ]
  },
  {
   "cell_type": "code",
   "execution_count": null,
   "metadata": {},
   "outputs": [],
   "source": []
  },
  {
   "cell_type": "code",
   "execution_count": null,
   "metadata": {},
   "outputs": [],
   "source": []
  },
  {
   "cell_type": "code",
   "execution_count": null,
   "metadata": {},
   "outputs": [],
   "source": [
    "rule_df['size'].value_counts()#.plot(kind='hist');\n",
    "# plt.ylabel('n');\n",
    "# plt.xlabel('size');"
   ]
  },
  {
   "cell_type": "code",
   "execution_count": null,
   "metadata": {},
   "outputs": [],
   "source": []
  },
  {
   "cell_type": "code",
   "execution_count": null,
   "metadata": {},
   "outputs": [],
   "source": []
  },
  {
   "cell_type": "code",
   "execution_count": null,
   "metadata": {},
   "outputs": [],
   "source": [
    "rule_df.m.value_counts()#.plot(kind='hist');"
   ]
  },
  {
   "cell_type": "code",
   "execution_count": null,
   "metadata": {},
   "outputs": [],
   "source": [
    "rule = vrg.rule_list[-2]\n",
    "rule.draw()"
   ]
  },
  {
   "cell_type": "code",
   "execution_count": null,
   "metadata": {},
   "outputs": [],
   "source": [
    "rule = vrg.unique_rule_list[-3]\n",
    "Counter(map(lambda d: d['gender'], nx.get_node_attributes(rule.graph, name='attr_dict').values()))"
   ]
  },
  {
   "cell_type": "code",
   "execution_count": null,
   "metadata": {},
   "outputs": [],
   "source": [
    "def get_gender_counts(row):\n",
    "    graph = row.graph\n",
    "    ctr = Counter(map(lambda d: d['gender'], nx.get_node_attributes(rule.graph, name='attr_dict').values()))\n",
    "    "
   ]
  },
  {
   "cell_type": "code",
   "execution_count": null,
   "metadata": {},
   "outputs": [],
   "source": [
    "rule_df.graph.apply(lambda g: list(nx.get_node_attributes(g, name='attr_dict').values())[0]).head(1).values"
   ]
  },
  {
   "cell_type": "code",
   "execution_count": null,
   "metadata": {},
   "outputs": [],
   "source": [
    "rule_df['male_count'] = rule_df['graph'].apply(lambda g: Counter(map(lambda d: d['gender'], \n",
    "                                                                     list(nx.get_node_attributes(g, name='attr_dict').values()))))"
   ]
  },
  {
   "cell_type": "code",
   "execution_count": null,
   "metadata": {},
   "outputs": [],
   "source": [
    "rule_df.head(1)['graph'].apply(lambda g: )"
   ]
  },
  {
   "cell_type": "code",
   "execution_count": null,
   "metadata": {},
   "outputs": [],
   "source": [
    "def extract_gender(g, gender):\n",
    "    attr_dict = nx.get_node_attributes(g, 'attr_dict')\n",
    "    if len(attr_dict) == 0:\n",
    "        return 0\n",
    "    else:\n",
    "        print(attr_dict.values())\n",
    "        if 'gender' in attr_dict.values():\n",
    "            ctr = Counter(map(lambda d: d['gender'], attr_dict.values()))\n",
    "            if gender in ctr:\n",
    "                return ctr[gender]\n",
    "            else:\n",
    "                return 0\n",
    "        else:\n",
    "            return 0"
   ]
  },
  {
   "cell_type": "code",
   "execution_count": null,
   "metadata": {},
   "outputs": [],
   "source": [
    "rule_df['male_count'] = -1\n",
    "rule_df['female_count'] = -1"
   ]
  },
  {
   "cell_type": "code",
   "execution_count": null,
   "metadata": {
    "scrolled": true
   },
   "outputs": [],
   "source": [
    "for i, row in enumerate(rule_df.itertuples()):\n",
    "    rule_df.at[i, 'male_count'] = extract_gender(row.graph, 'male')\n",
    "    rule_df.at[i, 'female_count'] = extract_gender(row.graph, 'female')"
   ]
  },
  {
   "cell_type": "code",
   "execution_count": null,
   "metadata": {},
   "outputs": [],
   "source": [
    "rule_df.head(6)"
   ]
  },
  {
   "cell_type": "code",
   "execution_count": null,
   "metadata": {},
   "outputs": [],
   "source": [
    "extract_gender(rule.graph, 'male')"
   ]
  },
  {
   "cell_type": "code",
   "execution_count": null,
   "metadata": {},
   "outputs": [],
   "source": []
  },
  {
   "cell_type": "raw",
   "metadata": {},
   "source": []
  },
  {
   "cell_type": "code",
   "execution_count": null,
   "metadata": {},
   "outputs": [],
   "source": []
  }
 ],
 "metadata": {
  "environment": {
   "name": "tf-gpu.1-15.m50",
   "type": "gcloud",
   "uri": "gcr.io/deeplearning-platform-release/tf-gpu.1-15:m50"
  },
  "kernelspec": {
   "display_name": "Python 3",
   "language": "python",
   "name": "python3"
  },
  "language_info": {
   "codemirror_mode": {
    "name": "ipython",
    "version": 3
   },
   "file_extension": ".py",
   "mimetype": "text/x-python",
   "name": "python",
   "nbconvert_exporter": "python",
   "pygments_lexer": "ipython3",
   "version": "3.7.8"
  }
 },
 "nbformat": 4,
 "nbformat_minor": 4
}
