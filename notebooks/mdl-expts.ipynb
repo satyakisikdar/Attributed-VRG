{
 "cells": [
  {
   "cell_type": "markdown",
   "metadata": {},
   "source": [
    "# MDL computations\n",
    "\n",
    "Double check MDL computations"
   ]
  },
  {
   "cell_type": "code",
   "execution_count": 1,
   "metadata": {},
   "outputs": [],
   "source": [
    "import networkx as nx\n",
    "import igraph as ig\n",
    "import numpy as np\n",
    "import glob\n",
    "import math\n",
    "import re\n",
    "from pathlib import Path\n",
    "import pandas as pd\n",
    "import matplotlib.pyplot as plt\n",
    "from matplotlib import gridspec\n",
    "import seaborn as sns; sns.set_style('white')\n",
    "import sys; sys.path.append('../')\n",
    "from time import time\n",
    "import logging\n",
    "from anytree import LevelOrderIter, RenderTree\n",
    "from statistics import mean\n",
    "import os\n",
    "from collections import Counter\n",
    "import pprint"
   ]
  },
  {
   "cell_type": "code",
   "execution_count": 2,
   "metadata": {},
   "outputs": [
    {
     "name": "stdout",
     "output_type": "stream",
     "text": [
      "sys path:  ['/Users/satyaki/PycharmProjects/Attributed-VRG/notebooks', '/Users/satyaki/miniconda3/envs/VRG/lib/python37.zip', '/Users/satyaki/miniconda3/envs/VRG/lib/python3.7', '/Users/satyaki/miniconda3/envs/VRG/lib/python3.7/lib-dynload', '', '/Users/satyaki/miniconda3/envs/VRG/lib/python3.7/site-packages', '/Users/satyaki/miniconda3/envs/VRG/lib/python3.7/site-packages/IPython/extensions', '/Users/satyaki/.ipython', '../', './../', './../../']\n"
     ]
    }
   ],
   "source": [
    "from VRG.src.utils import load_pickle, nx_to_igraph, check_file_exists\n",
    "from VRG.src.graph_stats import GraphStats\n",
    "from VRG.src.graph_comparison import GraphPairCompare\n",
    "from VRG.runner import get_clustering\n",
    "from VRG.src.Tree import create_tree, dasgupta_cost\n",
    "from VRG.src.MDL import graph_dl as graph_mdl, find_lu\n",
    "from VRG.src.partitions import approx_min_conductance_partitioning, spectral_kmeans"
   ]
  },
  {
   "cell_type": "code",
   "execution_count": 52,
   "metadata": {},
   "outputs": [],
   "source": [
    "def get_graph(gname: str = 'sample'):\n",
    "    start_time = time()\n",
    "    attr_name = ''\n",
    "    if gname == 'sample':\n",
    "        g = nx.Graph()\n",
    "        g.add_nodes_from(range(5), color='blue')\n",
    "        g.add_nodes_from(range(5, 9), color='red')\n",
    "\n",
    "        g.add_edges_from([(0, 1), (0, 3), (0, 4),\n",
    "                          (1, 2), (1, 4), (1, 5),\n",
    "                          (2, 3), (2, 4), (2, 8),\n",
    "                          (3, 4),\n",
    "                          (5, 6), (5, 7), (5, 8),\n",
    "                          (6, 7), (6, 8),\n",
    "                          (7, 8)])  # properly labeled\n",
    "        g.name = 'sample'\n",
    "        attr_name = 'color'\n",
    "    elif gname == 'karate':\n",
    "        g = nx.karate_club_graph()\n",
    "        attr_name = 'club'\n",
    "        g.name = 'karate'\n",
    "    elif gname == 'BA':\n",
    "        g = nx.barabasi_albert_graph(10, 2, seed=42)\n",
    "    elif gname.endswith('.gpickle'):\n",
    "        g = nx.read_gpickle(gname)\n",
    "        g.name = Path(gname).stem\n",
    "    else:\n",
    "        if gname in ('waterloo', 'grenoble', 'uppsala'):\n",
    "            g = nx.read_gpickle(f'../snap_data/cleaned/{gname}_lcc_attr.gpickle')\n",
    "        elif gname in ('polblogs', 'polbooks', 'football', 'bipartite-10-10'):\n",
    "            g = nx.read_gml(f'../VRG/input/{gname}.gml')\n",
    "            attr_name = 'value'\n",
    "        else:\n",
    "            path = f'../VRG/input/{gname}.g'\n",
    "            g = nx.read_edgelist(path, nodetype=int, create_using=nx.Graph())\n",
    "\n",
    "        g.remove_edges_from(nx.selfloop_edges(g))\n",
    "        if not nx.is_connected(g):\n",
    "            nodes_lcc = max(nx.connected_components(g), key=len)\n",
    "            g = g.subgraph(nodes_lcc).copy()\n",
    "        name = g.name\n",
    "        g = nx.convert_node_labels_to_integers(g, label_attribute='orig_label')\n",
    "        g.name = name\n",
    "\n",
    "    end_time = round(time() - start_time, 2)\n",
    "    logging.error(f'Graph: {gname}, n = {g.order():_d}, m = {g.size():_d}, read in {round(end_time, 3):_g}s.')\n",
    "\n",
    "    return g, attr_name"
   ]
  },
  {
   "cell_type": "code",
   "execution_count": 53,
   "metadata": {},
   "outputs": [
    {
     "name": "stderr",
     "output_type": "stream",
     "text": [
      "Graph: football, n = 115, m = 613, read in 0.06s.\n"
     ]
    }
   ],
   "source": [
    "g, attr_name = get_graph('football')"
   ]
  },
  {
   "cell_type": "code",
   "execution_count": 55,
   "metadata": {},
   "outputs": [
    {
     "name": "stdout",
     "output_type": "stream",
     "text": [
      "graph: 'karate', mu: 3, type: 'all_tnodes' clustering: 'cond' rules: 27(33) mdl: 1_167.49 bits\n"
     ]
    }
   ],
   "source": [
    "vrg = load_pickle('../VRG/dumps/grammars/karate/VRG-all-tnodes_cond_3_0.pkl')\n",
    "print(vrg)"
   ]
  },
  {
   "cell_type": "code",
   "execution_count": null,
   "metadata": {},
   "outputs": [],
   "source": [
    "vrg."
   ]
  },
  {
   "cell_type": "code",
   "execution_count": 60,
   "metadata": {},
   "outputs": [
    {
     "name": "stdout",
     "output_type": "stream",
     "text": [
      "(1) 5 → (n = 2, m = 1) [(10, {'attr_dict': {'club': 'Mr. Hi'}, 'b_deg': 2}), (5, {'attr_dict': {'club': 'Mr. Hi'}, 'b_deg': 3})]\n"
     ]
    }
   ],
   "source": [
    "rule = vrg.rule_list[0]\n",
    "print(rule, rule.graph.nodes(data=True))"
   ]
  },
  {
   "cell_type": "code",
   "execution_count": 61,
   "metadata": {},
   "outputs": [
    {
     "data": {
      "text/plain": [
       "30.169925001442312"
      ]
     },
     "execution_count": 61,
     "metadata": {},
     "output_type": "execute_result"
    }
   ],
   "source": [
    "rule.cost"
   ]
  },
  {
   "cell_type": "code",
   "execution_count": 56,
   "metadata": {},
   "outputs": [
    {
     "name": "stdout",
     "output_type": "stream",
     "text": [
      "graph: 'karate', mu: 3, type: 'A-VRG' clustering: 'cond' rules: 22(33) mdl: 1_019.22 bits\n"
     ]
    }
   ],
   "source": [
    "avrg = load_pickle('../VRG/dumps/grammars/karate/AVRG-all-tnodes_cond_3_0.pkl')\n",
    "print(avrg)"
   ]
  },
  {
   "cell_type": "code",
   "execution_count": 59,
   "metadata": {},
   "outputs": [
    {
     "name": "stdout",
     "output_type": "stream",
     "text": [
      "(1) 8 → (n = 2, m = 1) [(3, {'attr_dict': {'club': 'Mr. Hi'}, 'b_deg': 5}), (7, {'attr_dict': {'club': 'Mr. Hi'}, 'b_deg': 3})]\n"
     ]
    }
   ],
   "source": [
    "arule = avrg.rule_list[0]\n",
    "print(arule, arule.graph.nodes(data=True))"
   ]
  },
  {
   "cell_type": "code",
   "execution_count": 67,
   "metadata": {},
   "outputs": [
    {
     "data": {
      "text/plain": [
       "(<5 → (2, 1)>, <8 → (2, 1)>)"
      ]
     },
     "execution_count": 67,
     "metadata": {},
     "output_type": "execute_result"
    }
   ],
   "source": [
    "rule, arule"
   ]
  },
  {
   "cell_type": "code",
   "execution_count": 68,
   "metadata": {},
   "outputs": [
    {
     "data": {
      "text/plain": [
       "(30.169925001442312, 39.529325012980806)"
      ]
     },
     "execution_count": 68,
     "metadata": {},
     "output_type": "execute_result"
    }
   ],
   "source": [
    "rule.cost, arule.cost"
   ]
  },
  {
   "cell_type": "code",
   "execution_count": 62,
   "metadata": {},
   "outputs": [
    {
     "data": {
      "text/plain": [
       "39.529325012980806"
      ]
     },
     "execution_count": 62,
     "metadata": {},
     "output_type": "execute_result"
    }
   ],
   "source": [
    "arule.cost"
   ]
  },
  {
   "cell_type": "code",
   "execution_count": 34,
   "metadata": {},
   "outputs": [],
   "source": [
    "vrg.calculate_cost()"
   ]
  },
  {
   "cell_type": "code",
   "execution_count": 35,
   "metadata": {},
   "outputs": [
    {
     "data": {
      "text/plain": [
       "5857.822604228463"
      ]
     },
     "execution_count": 35,
     "metadata": {},
     "output_type": "execute_result"
    }
   ],
   "source": [
    "vrg.cost"
   ]
  },
  {
   "cell_type": "code",
   "execution_count": 37,
   "metadata": {},
   "outputs": [
    {
     "data": {
      "text/plain": [
       "<20 → (2, 1)>"
      ]
     },
     "execution_count": 37,
     "metadata": {},
     "output_type": "execute_result"
    }
   ],
   "source": [
    "vrg.rule_list[10]"
   ]
  },
  {
   "cell_type": "code",
   "execution_count": 38,
   "metadata": {},
   "outputs": [],
   "source": [
    "rhs_n, rhs_m = [], []\n",
    "for rule in vrg.rule_list:\n",
    "    rhs_n.append(rule.graph.order())\n",
    "    rhs_m.append(rule.graph.size())"
   ]
  },
  {
   "cell_type": "code",
   "execution_count": 39,
   "metadata": {},
   "outputs": [],
   "source": [
    "counter_n, counter_m = Counter(rhs_n), Counter(rhs_m)"
   ]
  },
  {
   "cell_type": "code",
   "execution_count": 41,
   "metadata": {},
   "outputs": [
    {
     "data": {
      "text/plain": [
       "(Counter({8: 2, 10: 1, 6: 3, 3: 4, 2: 8, 9: 3, 5: 1, 11: 1, 7: 2}),\n",
       " Counter({28: 2,\n",
       "          40: 1,\n",
       "          15: 3,\n",
       "          18: 5,\n",
       "          36: 2,\n",
       "          30: 1,\n",
       "          1: 1,\n",
       "          6: 1,\n",
       "          7: 1,\n",
       "          8: 1,\n",
       "          31: 1,\n",
       "          44: 1,\n",
       "          17: 1,\n",
       "          21: 1,\n",
       "          16: 1,\n",
       "          10: 1,\n",
       "          89: 1}))"
      ]
     },
     "execution_count": 41,
     "metadata": {},
     "output_type": "execute_result"
    }
   ],
   "source": [
    "counter_n, counter_m"
   ]
  },
  {
   "cell_type": "markdown",
   "metadata": {},
   "source": [
    "Tree stuff"
   ]
  },
  {
   "cell_type": "code",
   "execution_count": 9,
   "metadata": {},
   "outputs": [
    {
     "name": "stderr",
     "output_type": "stream",
     "text": [
      "Graph: eucore, n = 986, m = 16_064, dl = 1.03746e+06 bits read in 0.28s.\n"
     ]
    }
   ],
   "source": [
    "name = 'eucore'\n",
    "g, _, _ = get_graph(name)\n",
    "# lst_of_lst = approx_min_conductance_partitioning(g)\n",
    "# lst_of_lst = spectral_kmeans(g, int(math.sqrt(g.order() // 2)))\n",
    "lst_of_lst = load_pickle(f'../VRG/dumps/trees/{name}/consensus_list.pkl')\n",
    "\n",
    "root = create_tree(lst_of_lst) if isinstance(lst_of_lst, list) else lst_of_lst "
   ]
  },
  {
   "cell_type": "code",
   "execution_count": null,
   "metadata": {},
   "outputs": [],
   "source": [
    "  "
   ]
  },
  {
   "cell_type": "code",
   "execution_count": 45,
   "metadata": {},
   "outputs": [
    {
     "name": "stdout",
     "output_type": "stream",
     "text": [
      "graph: 'football', mu: 3, type: 'A-VRG' clustering: 'cond' rules: 62(114) mdl: 3_845.01 bits\n"
     ]
    }
   ],
   "source": [
    "avrg = load_pickle('../VRG/dumps/grammars/football/AVRG-all-tnodes_cond_3_0.pkl')\n",
    "print(avrg)"
   ]
  },
  {
   "cell_type": "code",
   "execution_count": 46,
   "metadata": {},
   "outputs": [
    {
     "name": "stdout",
     "output_type": "stream",
     "text": [
      "graph: 'football', mu: 3, type: 'all_tnodes' clustering: 'cond' rules: 67(114) mdl: 4_086.3 bits\n"
     ]
    }
   ],
   "source": [
    "vrg = load_pickle('../VRG/dumps/grammars/football/VRG-all-tnodes_cond_3_0.pkl')\n",
    "print(vrg)"
   ]
  },
  {
   "cell_type": "code",
   "execution_count": 49,
   "metadata": {},
   "outputs": [
    {
     "data": {
      "text/plain": [
       "NodeDataView({97: {'attr_dict': {'value': 10, 'orig_label': 'LouisianaLafayette'}, 'b_deg': 7}, 98: {'attr_dict': {'value': 3, 'orig_label': 'Texas'}, 'b_deg': 10}})"
      ]
     },
     "execution_count": 49,
     "metadata": {},
     "output_type": "execute_result"
    }
   ],
   "source": [
    "arule = avrg.rule_list[0]\n",
    "arule.graph.nodes(data=True)"
   ]
  },
  {
   "cell_type": "code",
   "execution_count": 50,
   "metadata": {},
   "outputs": [
    {
     "data": {
      "text/plain": [
       "NodeDataView({99: {'attr_dict': {'value': 6, 'orig_label': 'Marshall'}, 'b_deg': 9}, 14: {'attr_dict': {'value': 6, 'orig_label': 'WesternMichigan'}, 'b_deg': 9}})"
      ]
     },
     "execution_count": 50,
     "metadata": {},
     "output_type": "execute_result"
    }
   ],
   "source": [
    "rule = vrg.rule_list[0]\n",
    "rule.graph.nodes(data=True)"
   ]
  },
  {
   "cell_type": "code",
   "execution_count": null,
   "metadata": {},
   "outputs": [],
   "source": []
  }
 ],
 "metadata": {
  "kernelspec": {
   "display_name": "VRG",
   "language": "python",
   "name": "vrg"
  },
  "language_info": {
   "codemirror_mode": {
    "name": "ipython",
    "version": 3
   },
   "file_extension": ".py",
   "mimetype": "text/x-python",
   "name": "python",
   "nbconvert_exporter": "python",
   "pygments_lexer": "ipython3",
   "version": "3.7.8"
  }
 },
 "nbformat": 4,
 "nbformat_minor": 4
}
