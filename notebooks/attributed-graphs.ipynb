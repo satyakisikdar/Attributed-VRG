{
 "cells": [
  {
   "cell_type": "code",
   "execution_count": 1,
   "metadata": {},
   "outputs": [],
   "source": [
    "%load_ext autoreload"
   ]
  },
  {
   "cell_type": "code",
   "execution_count": 2,
   "metadata": {},
   "outputs": [],
   "source": [
    "%autoreload 2"
   ]
  },
  {
   "cell_type": "code",
   "execution_count": 25,
   "metadata": {},
   "outputs": [],
   "source": [
    "%matplotlib inline"
   ]
  },
  {
   "cell_type": "markdown",
   "metadata": {},
   "source": [
    "# Attributed graphs in NetworkX"
   ]
  },
  {
   "cell_type": "code",
   "execution_count": 3,
   "metadata": {},
   "outputs": [],
   "source": [
    "import networkx as nx\n",
    "import igraph as ig\n",
    "import numpy as np\n",
    "import glob\n",
    "import re\n",
    "from pathlib import Path\n",
    "import pandas as pd\n",
    "import matplotlib.pyplot as plt\n",
    "from matplotlib import gridspec\n",
    "import seaborn as sns; sns.set_style('white')\n",
    "import sys; sys.path.append('../')\n",
    "from time import time\n",
    "import logging"
   ]
  },
  {
   "cell_type": "code",
   "execution_count": 19,
   "metadata": {},
   "outputs": [
    {
     "name": "stdout",
     "output_type": "stream",
     "text": [
      "sys path:  ['/Users/satyaki/PycharmProjects/Attributed-VRG/notebooks', '/Users/satyaki/miniconda3/envs/VRG/lib/python37.zip', '/Users/satyaki/miniconda3/envs/VRG/lib/python3.7', '/Users/satyaki/miniconda3/envs/VRG/lib/python3.7/lib-dynload', '', '/Users/satyaki/miniconda3/envs/VRG/lib/python3.7/site-packages', '/Users/satyaki/miniconda3/envs/VRG/lib/python3.7/site-packages/IPython/extensions', '/Users/satyaki/.ipython', '../', './../', './../../', './../', './../../', './../', './../../', './..', '../', '../../', '../../../', '../', '../../', './../', './../../', './../', './../../']\n"
     ]
    }
   ],
   "source": [
    "from VRG.src.utils import load_pickle, nx_to_igraph\n",
    "from VRG.src.graph_stats import GraphStats\n",
    "from VRG.src.graph_comparison import GraphPairCompare\n",
    "from VRG.runner import get_clustering"
   ]
  },
  {
   "cell_type": "code",
   "execution_count": 10,
   "metadata": {},
   "outputs": [],
   "source": [
    "def get_graph(gname: str = 'sample') -> nx.Graph:\n",
    "    start_time = time()\n",
    "    if gname == 'sample':\n",
    "        g = nx.Graph()\n",
    "        g.add_nodes_from(range(5), color='blue')\n",
    "        g.add_nodes_from(range(5, 9), color='red')\n",
    "\n",
    "        g.add_edges_from([(0, 1), (0, 3), (0, 4),\n",
    "                          (1, 2), (1, 4), (1, 5),\n",
    "                          (2, 3), (2, 4), (2, 8),\n",
    "                          (3, 4),\n",
    "                          (5, 6), (5, 7), (5, 8),\n",
    "                          (6, 7), (6, 8),\n",
    "                          (7, 8)])  # properly labeled\n",
    "        g.name = 'sample'\n",
    "    elif gname == 'karate':\n",
    "        g = nx.karate_club_graph()\n",
    "    elif gname == 'BA':\n",
    "        g = nx.barabasi_albert_graph(10, 2, seed=42)\n",
    "        # g = nx.MultiGraph(g)\n",
    "        g = nx.Graph()\n",
    "    elif gname.endswith('.gpickle'):\n",
    "        g = nx.read_gpickle(gname)\n",
    "        g.name = Path(gname).stem\n",
    "    else:\n",
    "        if gname in ('waterloo', 'grenoble', 'uppsala'):\n",
    "            g = nx.read_gpickle(f'../snap_data/cleaned/{gname}_lcc_attr.gpickle')\n",
    "        elif gname in ('football', 'polblogs', 'polbooks') or 'bipartite' in gname:\n",
    "            g = nx.read_gml(f'../VRG/input/{gname}.gml')\n",
    "        else:\n",
    "            path = f'../VRG/input/{gname}.g'\n",
    "            g = nx.read_edgelist(path, nodetype=int, create_using=nx.Graph())\n",
    "\n",
    "        g.remove_edges_from(nx.selfloop_edges(g))\n",
    "        if not nx.is_connected(g):\n",
    "            nodes_lcc = max(nx.connected_components(g), key=len)\n",
    "            g = g.subgraph(nodes_lcc).copy()\n",
    "        name = g.name\n",
    "        g = nx.convert_node_labels_to_integers(g, label_attribute='orig_label')\n",
    "        g.name = name\n",
    "\n",
    "    end_time = round(time() - start_time, 2)\n",
    "    logging.error(f'Graph: {gname}, n = {g.order():_d}, m = {g.size():_d} read in {round(end_time, 3):_g}s.')\n",
    "\n",
    "    return g"
   ]
  },
  {
   "cell_type": "code",
   "execution_count": 5,
   "metadata": {},
   "outputs": [],
   "source": [
    "def plot_graph(g, ax=None, title='', attr_name='', mixing_dict={}):\n",
    "    if attr_name != '' and len(mixing_dict) == 0:\n",
    "        mixing_dict = nx.attribute_mixing_dict(g, attr_name)\n",
    "        \n",
    "    unique_values = set(mixing_dict.keys())\n",
    "    colors = sns.color_palette('pastel', n_colors=len(unique_values))\n",
    "    color_map = {val: col for val, col in zip(unique_values, colors)}\n",
    "\n",
    "    try:\n",
    "        colors = [color_map[d[attr_name]] for _, d in g.nodes(data=True)]\n",
    "    except KeyError:\n",
    "        colors = '#77dd77'\n",
    "    pos = nx.spring_layout(g)\n",
    "\n",
    "    if ax is not None:\n",
    "        ax.set_title(title, fontsize=20)\n",
    "    nx.draw_networkx_nodes(g, pos=pos, node_size=100, node_color=colors, alpha=0.95, ax=ax)\n",
    "    nx.draw_networkx_edges(g, pos=pos, edge_color='gray', alpha=0.7, ax=ax)\n",
    "    return"
   ]
  },
  {
   "cell_type": "code",
   "execution_count": 6,
   "metadata": {},
   "outputs": [],
   "source": [
    "def grid_plot(graphs, graph_name='', attr_name='', mixing_dict={}):\n",
    "    # todo keep the positions of the constant nodes fixed\n",
    "    rows, cols = 2, 4\n",
    "    plt.rcParams['figure.figsize'] = [30, 15]\n",
    "\n",
    "    grid = gridspec.GridSpec(rows, cols)\n",
    "    fig = plt.figure()\n",
    "    for i, box in enumerate(grid):\n",
    "        ax = fig.add_subplot(box)\n",
    "        g = graphs[i]\n",
    "        deg_as = round(nx.degree_assortativity_coefficient(g), 3)\n",
    "        attr_as = round(nx.attribute_assortativity_coefficient(g, attribute=attr_name), 3)\n",
    "        title = f'g{i + 1} {g.order(), g.size()} degree as: {deg_as} {attr_name} as: {attr_as}'\n",
    "        plot_graph(g, ax=ax, title=title, mixing_dict=mixing_dict, attr_name=attr_name)\n",
    "\n",
    "    plt.tight_layout()\n",
    "    plt.suptitle(f'{graph_name}', y=1, fontsize=25)"
   ]
  },
  {
   "cell_type": "code",
   "execution_count": 8,
   "metadata": {},
   "outputs": [],
   "source": [
    "def make_graph_df(name, fname, orig_graph, mu, clustering, attr_name):\n",
    "    deg_ast_fn = nx.degree_assortativity_coefficient\n",
    "    attr_ast_fn = nx.attribute_assortativity_coefficient\n",
    "    \n",
    "    gen_graphs = load_pickle(fname)\n",
    "    \n",
    "    cols = ['name', 'orig_n', 'orig_m', 'orig_degree_ast', 'attr_name', 'orig_attr_ast', \n",
    "            'model', 'mu', 'clustering', 'gen_n', 'gen_m', 'gen_degree_ast', 'gen_attr_ast', \n",
    "            'total_rewired_edges', 'fancy_rewired_edges',\n",
    "            'degree_js', 'pagerank_js', 'lambda_dist', 'deg_ast_diff', 'attr_ast_diff']\n",
    "    \n",
    "    row = {col: np.nan for col in cols}\n",
    "    \n",
    "    orig_deg_ast = deg_ast_fn(orig_graph)\n",
    "    orig_attr_ast = attr_ast_fn(orig_graph, attr_name)\n",
    "    orig_gstats = GraphStats(orig_graph)\n",
    "    rows = []\n",
    "    \n",
    "    for g in gen_graphs:\n",
    "        gen_gstats = GraphStats(g)\n",
    "        gpc = GraphPairCompare(orig_gstats, gen_gstats)\n",
    "        gen_deg_ast = deg_ast_fn(g)\n",
    "        gen_attr_ast = attr_ast_fn(g, attr_name)\n",
    "        total_rewired_edges = g.graph.get('total_rewirings', 0)\n",
    "        fancy_rewired_edges = g.graph.get('fancy_rewirings', 0)\n",
    "        \n",
    "        row = {'name': name, 'orig_n': orig_graph.order(), 'orig_m': orig_graph.size(), \n",
    "               'orig_degree_ast': deg_ast_fn(orig_graph), 'attr_name': attr_name, \n",
    "               'orig_attr_ast': attr_ast_fn(orig_graph, attr_name), 'model': grammar_type, \n",
    "               'clustering': clustering, 'mu': mu,\n",
    "               'gen_n': g.order(), 'gen_m': g.size(), 'gen_degree_ast': gen_deg_ast, 'gen_attr_ast': gen_attr_ast, \n",
    "               'total_rewired_edges': total_rewired_edges, 'fancy_rewired_edges': fancy_rewired_edges,\n",
    "               'degree_js': gpc.degree_js(), 'pagerank_js': gpc.pagerank_js(), 'lambda_dist': gpc.lambda_dist(), \n",
    "               'deg_ast_diff': np.abs(orig_deg_ast - gen_deg_ast), 'attr_ast_diff': np.abs(orig_attr_ast - gen_attr_ast),\n",
    "              }\n",
    "        \n",
    "        rows.append(row)\n",
    "    \n",
    "    return pd.DataFrame(rows)"
   ]
  },
  {
   "cell_type": "code",
   "execution_count": 20,
   "metadata": {},
   "outputs": [
    {
     "name": "stderr",
     "output_type": "stream",
     "text": [
      "ERROR:root:Graph: karate, n = 34, m = 78 read in 0s.\n",
      "ERROR:root:Graph: football, n = 115, m = 613 read in 0.04s.\n",
      "ERROR:root:Graph: polbooks, n = 105, m = 441 read in 0.03s.\n",
      "ERROR:root:Graph: polblogs, n = 1_222, m = 16_714 read in 1.03s.\n"
     ]
    },
    {
     "name": "stdout",
     "output_type": "stream",
     "text": [
      "CPU times: user 51.4 s, sys: 962 ms, total: 52.4 s\n",
      "Wall time: 19.4 s\n"
     ]
    }
   ],
   "source": [
    "%%time\n",
    "names = ['karate', 'football', 'polbooks', 'polblogs']\n",
    "attr_d = {'karate': 'club', 'football': 'value', 'polblogs': 'value', 'polbooks': 'value', 'bipartite-10-10': 'color'}\n",
    "dfs = []\n",
    "\n",
    "for name in names:\n",
    "    attr_name = attr_d[name]\n",
    "    orig_graph = get_graph(name)\n",
    "\n",
    "    for fname in glob.glob(f'../VRG/dumps/graphs/{name}/*.pkl'):\n",
    "        path = Path(fname)\n",
    "        pattern = r'(.*)\\_(\\w+)\\_(\\d)\\_(\\d+)'\n",
    "        m = re.match(pattern, path.stem)\n",
    "        grammar_type, clustering, mu, _ = m.groups()\n",
    "        df = make_graph_df(name=name, fname=path, orig_graph=orig_graph, mu=int(mu), clustering=clustering, attr_name=attr_name)\n",
    "        dfs.append(df)\n",
    "    \n",
    "overall_df = pd.concat(dfs, ignore_index=True)"
   ]
  },
  {
   "cell_type": "code",
   "execution_count": 21,
   "metadata": {},
   "outputs": [
    {
     "data": {
      "text/html": [
       "<div>\n",
       "<style scoped>\n",
       "    .dataframe tbody tr th:only-of-type {\n",
       "        vertical-align: middle;\n",
       "    }\n",
       "\n",
       "    .dataframe tbody tr th {\n",
       "        vertical-align: top;\n",
       "    }\n",
       "\n",
       "    .dataframe thead th {\n",
       "        text-align: right;\n",
       "    }\n",
       "</style>\n",
       "<table border=\"1\" class=\"dataframe\">\n",
       "  <thead>\n",
       "    <tr style=\"text-align: right;\">\n",
       "      <th></th>\n",
       "      <th>name</th>\n",
       "      <th>orig_n</th>\n",
       "      <th>orig_m</th>\n",
       "      <th>orig_degree_ast</th>\n",
       "      <th>attr_name</th>\n",
       "      <th>orig_attr_ast</th>\n",
       "      <th>model</th>\n",
       "      <th>clustering</th>\n",
       "      <th>mu</th>\n",
       "      <th>gen_n</th>\n",
       "      <th>gen_m</th>\n",
       "      <th>gen_degree_ast</th>\n",
       "      <th>gen_attr_ast</th>\n",
       "      <th>total_rewired_edges</th>\n",
       "      <th>fancy_rewired_edges</th>\n",
       "      <th>degree_js</th>\n",
       "      <th>pagerank_js</th>\n",
       "      <th>lambda_dist</th>\n",
       "      <th>deg_ast_diff</th>\n",
       "      <th>attr_ast_diff</th>\n",
       "    </tr>\n",
       "  </thead>\n",
       "  <tbody>\n",
       "    <tr>\n",
       "      <th>0</th>\n",
       "      <td>karate</td>\n",
       "      <td>34</td>\n",
       "      <td>78</td>\n",
       "      <td>-0.475613</td>\n",
       "      <td>club</td>\n",
       "      <td>0.717531</td>\n",
       "      <td>AVRG-mu-random</td>\n",
       "      <td>consensus</td>\n",
       "      <td>5</td>\n",
       "      <td>24</td>\n",
       "      <td>49</td>\n",
       "      <td>-0.406294</td>\n",
       "      <td>0.511111</td>\n",
       "      <td>38</td>\n",
       "      <td>26</td>\n",
       "      <td>0.443952</td>\n",
       "      <td>0.845057</td>\n",
       "      <td>0.45820</td>\n",
       "      <td>0.069319</td>\n",
       "      <td>0.206420</td>\n",
       "    </tr>\n",
       "    <tr>\n",
       "      <th>1</th>\n",
       "      <td>karate</td>\n",
       "      <td>34</td>\n",
       "      <td>78</td>\n",
       "      <td>-0.475613</td>\n",
       "      <td>club</td>\n",
       "      <td>0.717531</td>\n",
       "      <td>AVRG-mu-random</td>\n",
       "      <td>consensus</td>\n",
       "      <td>5</td>\n",
       "      <td>22</td>\n",
       "      <td>45</td>\n",
       "      <td>-0.417332</td>\n",
       "      <td>0.502262</td>\n",
       "      <td>38</td>\n",
       "      <td>26</td>\n",
       "      <td>0.450282</td>\n",
       "      <td>0.888652</td>\n",
       "      <td>0.53749</td>\n",
       "      <td>0.058281</td>\n",
       "      <td>0.215268</td>\n",
       "    </tr>\n",
       "    <tr>\n",
       "      <th>2</th>\n",
       "      <td>karate</td>\n",
       "      <td>34</td>\n",
       "      <td>78</td>\n",
       "      <td>-0.475613</td>\n",
       "      <td>club</td>\n",
       "      <td>0.717531</td>\n",
       "      <td>AVRG-mu-random</td>\n",
       "      <td>consensus</td>\n",
       "      <td>5</td>\n",
       "      <td>24</td>\n",
       "      <td>49</td>\n",
       "      <td>-0.403807</td>\n",
       "      <td>0.333333</td>\n",
       "      <td>38</td>\n",
       "      <td>26</td>\n",
       "      <td>0.463322</td>\n",
       "      <td>0.864479</td>\n",
       "      <td>0.44034</td>\n",
       "      <td>0.071806</td>\n",
       "      <td>0.384198</td>\n",
       "    </tr>\n",
       "    <tr>\n",
       "      <th>3</th>\n",
       "      <td>karate</td>\n",
       "      <td>34</td>\n",
       "      <td>78</td>\n",
       "      <td>-0.475613</td>\n",
       "      <td>club</td>\n",
       "      <td>0.717531</td>\n",
       "      <td>AVRG-mu-random</td>\n",
       "      <td>consensus</td>\n",
       "      <td>5</td>\n",
       "      <td>22</td>\n",
       "      <td>42</td>\n",
       "      <td>-0.379932</td>\n",
       "      <td>0.468660</td>\n",
       "      <td>31</td>\n",
       "      <td>24</td>\n",
       "      <td>0.514973</td>\n",
       "      <td>0.859202</td>\n",
       "      <td>0.59301</td>\n",
       "      <td>0.095681</td>\n",
       "      <td>0.248871</td>\n",
       "    </tr>\n",
       "    <tr>\n",
       "      <th>4</th>\n",
       "      <td>karate</td>\n",
       "      <td>34</td>\n",
       "      <td>78</td>\n",
       "      <td>-0.475613</td>\n",
       "      <td>club</td>\n",
       "      <td>0.717531</td>\n",
       "      <td>AVRG-mu-random</td>\n",
       "      <td>consensus</td>\n",
       "      <td>5</td>\n",
       "      <td>103</td>\n",
       "      <td>208</td>\n",
       "      <td>-0.257557</td>\n",
       "      <td>0.495262</td>\n",
       "      <td>332</td>\n",
       "      <td>166</td>\n",
       "      <td>0.203977</td>\n",
       "      <td>0.894571</td>\n",
       "      <td>0.68535</td>\n",
       "      <td>0.218057</td>\n",
       "      <td>0.222269</td>\n",
       "    </tr>\n",
       "    <tr>\n",
       "      <th>...</th>\n",
       "      <td>...</td>\n",
       "      <td>...</td>\n",
       "      <td>...</td>\n",
       "      <td>...</td>\n",
       "      <td>...</td>\n",
       "      <td>...</td>\n",
       "      <td>...</td>\n",
       "      <td>...</td>\n",
       "      <td>...</td>\n",
       "      <td>...</td>\n",
       "      <td>...</td>\n",
       "      <td>...</td>\n",
       "      <td>...</td>\n",
       "      <td>...</td>\n",
       "      <td>...</td>\n",
       "      <td>...</td>\n",
       "      <td>...</td>\n",
       "      <td>...</td>\n",
       "      <td>...</td>\n",
       "      <td>...</td>\n",
       "    </tr>\n",
       "    <tr>\n",
       "      <th>155</th>\n",
       "      <td>polblogs</td>\n",
       "      <td>1222</td>\n",
       "      <td>16714</td>\n",
       "      <td>-0.221329</td>\n",
       "      <td>value</td>\n",
       "      <td>0.811339</td>\n",
       "      <td>VRG-mu-random</td>\n",
       "      <td>consensus</td>\n",
       "      <td>5</td>\n",
       "      <td>1222</td>\n",
       "      <td>16714</td>\n",
       "      <td>-0.221329</td>\n",
       "      <td>0.811339</td>\n",
       "      <td>0</td>\n",
       "      <td>0</td>\n",
       "      <td>0.000000</td>\n",
       "      <td>0.000000</td>\n",
       "      <td>0.00000</td>\n",
       "      <td>0.000000</td>\n",
       "      <td>0.000000</td>\n",
       "    </tr>\n",
       "    <tr>\n",
       "      <th>156</th>\n",
       "      <td>polblogs</td>\n",
       "      <td>1222</td>\n",
       "      <td>16714</td>\n",
       "      <td>-0.221329</td>\n",
       "      <td>value</td>\n",
       "      <td>0.811339</td>\n",
       "      <td>VRG-mu-random</td>\n",
       "      <td>consensus</td>\n",
       "      <td>5</td>\n",
       "      <td>1222</td>\n",
       "      <td>16714</td>\n",
       "      <td>-0.221329</td>\n",
       "      <td>0.811339</td>\n",
       "      <td>0</td>\n",
       "      <td>0</td>\n",
       "      <td>0.000000</td>\n",
       "      <td>0.000000</td>\n",
       "      <td>0.00000</td>\n",
       "      <td>0.000000</td>\n",
       "      <td>0.000000</td>\n",
       "    </tr>\n",
       "    <tr>\n",
       "      <th>157</th>\n",
       "      <td>polblogs</td>\n",
       "      <td>1222</td>\n",
       "      <td>16714</td>\n",
       "      <td>-0.221329</td>\n",
       "      <td>value</td>\n",
       "      <td>0.811339</td>\n",
       "      <td>VRG-mu-random</td>\n",
       "      <td>consensus</td>\n",
       "      <td>5</td>\n",
       "      <td>1222</td>\n",
       "      <td>16714</td>\n",
       "      <td>-0.221329</td>\n",
       "      <td>0.811339</td>\n",
       "      <td>0</td>\n",
       "      <td>0</td>\n",
       "      <td>0.000000</td>\n",
       "      <td>0.000000</td>\n",
       "      <td>0.00000</td>\n",
       "      <td>0.000000</td>\n",
       "      <td>0.000000</td>\n",
       "    </tr>\n",
       "    <tr>\n",
       "      <th>158</th>\n",
       "      <td>polblogs</td>\n",
       "      <td>1222</td>\n",
       "      <td>16714</td>\n",
       "      <td>-0.221329</td>\n",
       "      <td>value</td>\n",
       "      <td>0.811339</td>\n",
       "      <td>VRG-mu-random</td>\n",
       "      <td>consensus</td>\n",
       "      <td>5</td>\n",
       "      <td>1222</td>\n",
       "      <td>16714</td>\n",
       "      <td>-0.221329</td>\n",
       "      <td>0.811339</td>\n",
       "      <td>0</td>\n",
       "      <td>0</td>\n",
       "      <td>0.000000</td>\n",
       "      <td>0.000000</td>\n",
       "      <td>0.00000</td>\n",
       "      <td>0.000000</td>\n",
       "      <td>0.000000</td>\n",
       "    </tr>\n",
       "    <tr>\n",
       "      <th>159</th>\n",
       "      <td>polblogs</td>\n",
       "      <td>1222</td>\n",
       "      <td>16714</td>\n",
       "      <td>-0.221329</td>\n",
       "      <td>value</td>\n",
       "      <td>0.811339</td>\n",
       "      <td>VRG-mu-random</td>\n",
       "      <td>consensus</td>\n",
       "      <td>5</td>\n",
       "      <td>1222</td>\n",
       "      <td>16714</td>\n",
       "      <td>-0.221329</td>\n",
       "      <td>0.811339</td>\n",
       "      <td>0</td>\n",
       "      <td>0</td>\n",
       "      <td>0.000000</td>\n",
       "      <td>0.000000</td>\n",
       "      <td>0.00000</td>\n",
       "      <td>0.000000</td>\n",
       "      <td>0.000000</td>\n",
       "    </tr>\n",
       "  </tbody>\n",
       "</table>\n",
       "<p>160 rows × 20 columns</p>\n",
       "</div>"
      ],
      "text/plain": [
       "         name  orig_n  orig_m  orig_degree_ast attr_name  orig_attr_ast  \\\n",
       "0      karate      34      78        -0.475613      club       0.717531   \n",
       "1      karate      34      78        -0.475613      club       0.717531   \n",
       "2      karate      34      78        -0.475613      club       0.717531   \n",
       "3      karate      34      78        -0.475613      club       0.717531   \n",
       "4      karate      34      78        -0.475613      club       0.717531   \n",
       "..        ...     ...     ...              ...       ...            ...   \n",
       "155  polblogs    1222   16714        -0.221329     value       0.811339   \n",
       "156  polblogs    1222   16714        -0.221329     value       0.811339   \n",
       "157  polblogs    1222   16714        -0.221329     value       0.811339   \n",
       "158  polblogs    1222   16714        -0.221329     value       0.811339   \n",
       "159  polblogs    1222   16714        -0.221329     value       0.811339   \n",
       "\n",
       "              model clustering  mu  gen_n  gen_m  gen_degree_ast  \\\n",
       "0    AVRG-mu-random  consensus   5     24     49       -0.406294   \n",
       "1    AVRG-mu-random  consensus   5     22     45       -0.417332   \n",
       "2    AVRG-mu-random  consensus   5     24     49       -0.403807   \n",
       "3    AVRG-mu-random  consensus   5     22     42       -0.379932   \n",
       "4    AVRG-mu-random  consensus   5    103    208       -0.257557   \n",
       "..              ...        ...  ..    ...    ...             ...   \n",
       "155   VRG-mu-random  consensus   5   1222  16714       -0.221329   \n",
       "156   VRG-mu-random  consensus   5   1222  16714       -0.221329   \n",
       "157   VRG-mu-random  consensus   5   1222  16714       -0.221329   \n",
       "158   VRG-mu-random  consensus   5   1222  16714       -0.221329   \n",
       "159   VRG-mu-random  consensus   5   1222  16714       -0.221329   \n",
       "\n",
       "     gen_attr_ast  total_rewired_edges  fancy_rewired_edges  degree_js  \\\n",
       "0        0.511111                   38                   26   0.443952   \n",
       "1        0.502262                   38                   26   0.450282   \n",
       "2        0.333333                   38                   26   0.463322   \n",
       "3        0.468660                   31                   24   0.514973   \n",
       "4        0.495262                  332                  166   0.203977   \n",
       "..            ...                  ...                  ...        ...   \n",
       "155      0.811339                    0                    0   0.000000   \n",
       "156      0.811339                    0                    0   0.000000   \n",
       "157      0.811339                    0                    0   0.000000   \n",
       "158      0.811339                    0                    0   0.000000   \n",
       "159      0.811339                    0                    0   0.000000   \n",
       "\n",
       "     pagerank_js  lambda_dist  deg_ast_diff  attr_ast_diff  \n",
       "0       0.845057      0.45820      0.069319       0.206420  \n",
       "1       0.888652      0.53749      0.058281       0.215268  \n",
       "2       0.864479      0.44034      0.071806       0.384198  \n",
       "3       0.859202      0.59301      0.095681       0.248871  \n",
       "4       0.894571      0.68535      0.218057       0.222269  \n",
       "..           ...          ...           ...            ...  \n",
       "155     0.000000      0.00000      0.000000       0.000000  \n",
       "156     0.000000      0.00000      0.000000       0.000000  \n",
       "157     0.000000      0.00000      0.000000       0.000000  \n",
       "158     0.000000      0.00000      0.000000       0.000000  \n",
       "159     0.000000      0.00000      0.000000       0.000000  \n",
       "\n",
       "[160 rows x 20 columns]"
      ]
     },
     "execution_count": 21,
     "metadata": {},
     "output_type": "execute_result"
    }
   ],
   "source": [
    "overall_df"
   ]
  },
  {
   "cell_type": "code",
   "execution_count": 31,
   "metadata": {},
   "outputs": [
    {
     "data": {
      "image/png": "[encoded data removed]",
      "text/plain": [
       "<Figure size 1440x432 with 3 Axes>"
      ]
     },
     "metadata": {
      "needs_background": "light"
     },
     "output_type": "display_data"
    }
   ],
   "source": [
    "plt.rcParams['figure.figsize'] = [20, 6]\n",
    "fig, (ax1, ax2, ax3) = plt.subplots(nrows=1, ncols=3)\n",
    "\n",
    "ax1.set_ylim((-0.1, 1.1))\n",
    "ax2.set_ylim((-0.1, 1.1))\n",
    "ax3.set_ylim((-0.1, 4.5))\n",
    "\n",
    "sns.boxplot(x='name', y='degree_js', hue='model', data=overall_df, ax=ax1);\n",
    "sns.boxplot(x='name', y='pagerank_js', hue='model', data=overall_df, ax=ax2);\n",
    "sns.boxplot(x='name', y='lambda_dist', hue='model', data=overall_df, ax=ax3);"
   ]
  },
  {
   "cell_type": "code",
   "execution_count": 38,
   "metadata": {},
   "outputs": [
    {
     "data": {
      "image/png": "[encoded data removed]",
      "text/plain": [
       "<Figure size 1080x432 with 2 Axes>"
      ]
     },
     "metadata": {
      "needs_background": "light"
     },
     "output_type": "display_data"
    }
   ],
   "source": [
    "plt.rcParams['figure.figsize'] = [15, 6]\n",
    "fig, (ax1, ax2) = plt.subplots(nrows=1, ncols=2)\n",
    "\n",
    "ax1.set_ylim((-0.1, 1))\n",
    "ax2.set_ylim((-0.1, 1))\n",
    "\n",
    "sns.boxplot(x='name', y='deg_ast_diff', hue='model', data=overall_df, ax=ax1);\n",
    "sns.boxplot(x='name', y='attr_ast_diff', hue='model', data=overall_df, ax=ax2);\n",
    "ax2.legend().set_visible(False);"
   ]
  },
  {
   "cell_type": "markdown",
   "metadata": {},
   "source": [
    "----"
   ]
  },
  {
   "cell_type": "code",
   "execution_count": null,
   "metadata": {},
   "outputs": [],
   "source": [
    "# name = 'karate'; attr_name = 'club'\n",
    "name = 'polbooks'; attr_name = 'value'\n",
    "orig_g = get_graph(name)\n",
    "\n",
    "mixing_dict = nx.attribute_mixing_dict(orig_g, attr_name)"
   ]
  },
  {
   "cell_type": "code",
   "execution_count": null,
   "metadata": {},
   "outputs": [],
   "source": [
    "graphs = load_pickle(f'../VRG/dumps/graphs/polbooks/A-VRG-regular_leiden_5_20.pkl')"
   ]
  },
  {
   "cell_type": "code",
   "execution_count": null,
   "metadata": {},
   "outputs": [],
   "source": [
    "graphs_to_draw = [orig_g] + graphs[: 7]"
   ]
  },
  {
   "cell_type": "code",
   "execution_count": null,
   "metadata": {},
   "outputs": [],
   "source": [
    "grid_plot(graphs_to_draw, attr_name=attr_name, mixing_dict=mixing_dict, graph_name=name)"
   ]
  },
  {
   "cell_type": "markdown",
   "metadata": {},
   "source": [
    " "
   ]
  },
  {
   "cell_type": "markdown",
   "metadata": {},
   "source": [
    "--- \n",
    "Try out football and polblogs"
   ]
  },
  {
   "cell_type": "code",
   "execution_count": null,
   "metadata": {},
   "outputs": [],
   "source": [
    "g = nx.read_pajek('../VRG/input/Epa.net')\n",
    "g = nx.Graph(g)"
   ]
  },
  {
   "cell_type": "code",
   "execution_count": null,
   "metadata": {},
   "outputs": [],
   "source": [
    "g.remove_edges_from(nx.selfloop_edges(g))\n",
    "print(nx.info(g))"
   ]
  },
  {
   "cell_type": "code",
   "execution_count": null,
   "metadata": {},
   "outputs": [],
   "source": [
    "# make a bipartite graph\n",
    "for seed in range(10):\n",
    "    g = nx.bipartite.random_graph(5, 5, 0.6, seed=seed)\n",
    "    if nx.is_connected(g):\n",
    "        print('seed', seed)\n",
    "        break"
   ]
  },
  {
   "cell_type": "code",
   "execution_count": null,
   "metadata": {},
   "outputs": [],
   "source": [
    "ig_g = ig.Graph.Random_Bipartite(5, 5, 0.6)\n",
    "ig.plot(ig_g, layout=ig_g.layout_bipartite())"
   ]
  },
  {
   "cell_type": "code",
   "execution_count": null,
   "metadata": {},
   "outputs": [],
   "source": [
    "part = ig_g.community_optimal_modularity()\n",
    "print(part)"
   ]
  },
  {
   "cell_type": "code",
   "execution_count": null,
   "metadata": {},
   "outputs": [],
   "source": [
    "ig.plot(part, layout=ig_g.layout_bipartite())"
   ]
  },
  {
   "cell_type": "code",
   "execution_count": null,
   "metadata": {},
   "outputs": [],
   "source": [
    "ig.plot(part"
   ]
  },
  {
   "cell_type": "markdown",
   "metadata": {},
   "source": [
    "### do some things with bipartite graphs"
   ]
  },
  {
   "cell_type": "code",
   "execution_count": null,
   "metadata": {},
   "outputs": [],
   "source": [
    "bip_df = overall_df[overall_df.name.str.contains('bipartite')]"
   ]
  },
  {
   "cell_type": "code",
   "execution_count": null,
   "metadata": {},
   "outputs": [],
   "source": [
    "bip_df.is_bipartite.value_counts()"
   ]
  },
  {
   "cell_type": "code",
   "execution_count": null,
   "metadata": {},
   "outputs": [],
   "source": [
    "nx.algorithms.coloring."
   ]
  },
  {
   "cell_type": "code",
   "execution_count": null,
   "metadata": {},
   "outputs": [],
   "source": []
  }
 ],
 "metadata": {
  "kernelspec": {
   "display_name": "VRG",
   "language": "python",
   "name": "vrg"
  },
  "language_info": {
   "codemirror_mode": {
    "name": "ipython",
    "version": 3
   },
   "file_extension": ".py",
   "mimetype": "text/x-python",
   "name": "python",
   "nbconvert_exporter": "python",
   "pygments_lexer": "ipython3",
   "version": "3.7.8"
  }
 },
 "nbformat": 4,
 "nbformat_minor": 4
}
