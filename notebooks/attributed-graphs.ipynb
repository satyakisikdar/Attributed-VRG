{
 "cells": [
  {
   "cell_type": "code",
   "execution_count": null,
   "outputs": [],
   "source": [
    "%load_ext autoreload"
   ],
   "metadata": {
    "collapsed": false,
    "pycharm": {
     "name": "#%%\n"
    }
   }
  },
  {
   "cell_type": "code",
   "execution_count": null,
   "outputs": [],
   "source": [
    "%autoreload 2"
   ],
   "metadata": {
    "collapsed": false,
    "pycharm": {
     "name": "#%%\n"
    }
   }
  },
  {
   "cell_type": "code",
   "execution_count": null,
   "outputs": [],
   "source": [
    "%matplotlib inline"
   ],
   "metadata": {
    "collapsed": false,
    "pycharm": {
     "name": "#%%\n"
    }
   }
  },
  {
   "cell_type": "markdown",
   "source": [
    "# Attributed graphs in NetworkX"
   ],
   "metadata": {
    "collapsed": false
   }
  },
  {
   "cell_type": "code",
   "execution_count": null,
   "outputs": [],
   "source": [
    "import networkx as nx\n",
    "import igraph as ig\n",
    "import numpy as np\n",
    "import glob\n",
    "import re\n",
    "from pathlib import Path\n",
    "import pandas as pd\n",
    "import matplotlib.pyplot as plt\n",
    "from matplotlib import gridspec\n",
    "import seaborn as sns; sns.set_style('white')\n",
    "import sys; sys.path.append('../')\n",
    "from time import time\n",
    "import logging\n",
    "from anytree import LevelOrderIter\n",
    "from statistics import mean\n",
    "import os\n",
    "import pickle"
   ],
   "metadata": {
    "collapsed": false,
    "pycharm": {
     "name": "#%%\n"
    }
   }
  },
  {
   "cell_type": "code",
   "execution_count": null,
   "outputs": [],
   "source": [
    "from VRG.src.utils import nx_to_igraph, check_file_exists\n",
    "from VRG.src.graph_stats import GraphStats\n",
    "from VRG.src.graph_comparison import GraphPairCompare\n",
    "from VRG.runner import get_clustering\n",
    "from VRG.src.Tree import create_tree, dasgupta_cost\n",
    "from VRG.src.MDL import graph_dl as graph_mdl"
   ],
   "metadata": {
    "collapsed": false,
    "pycharm": {
     "name": "#%%\n"
    }
   }
  },
  {
   "cell_type": "code",
   "execution_count": null,
   "outputs": [],
   "source": [
    "plt.rcParams['figure.figsize'] = (15, 10)\n",
    "plt.rcParams['font.size'] = 50\n",
    "plt.rcParams['axes.labelsize'] = 20\n",
    "plt.rcParams['axes.titlesize'] = 20"
   ],
   "metadata": {
    "collapsed": false,
    "pycharm": {
     "name": "#%%\n"
    }
   }
  },
  {
   "cell_type": "code",
   "execution_count": null,
   "outputs": [],
   "source": [
    "def load_pickle(fname):\n",
    "#     logging.error(f'Reading {fname!r}')\n",
    "    return pickle.load(open(fname, 'rb'))"
   ],
   "metadata": {
    "collapsed": false,
    "pycharm": {
     "name": "#%%\n"
    }
   }
  },
  {
   "cell_type": "code",
   "execution_count": null,
   "outputs": [],
   "source": [
    "def un_nest_attr_dict(g):\n",
    "    new_g = nx.Graph()\n",
    "    for n, d in g.nodes(data=True):\n",
    "        while 'attr_dict' in d:\n",
    "            d = d['attr_dict']\n",
    "        new_g.add_node(n, **d)\n",
    "    new_g.add_edges_from(g.edges())\n",
    "    return new_g"
   ],
   "metadata": {
    "collapsed": false,
    "pycharm": {
     "name": "#%%\n"
    }
   }
  },
  {
   "cell_type": "code",
   "execution_count": null,
   "outputs": [],
   "source": [
    "def get_graph(gname: str = 'sample'):\n",
    "    start_time = time()\n",
    "    attr_name = ''\n",
    "    if gname == 'sample':\n",
    "        g = nx.Graph()\n",
    "        g.add_nodes_from(range(5), color='blue')\n",
    "        g.add_nodes_from(range(5, 9), color='red')\n",
    "\n",
    "        g.add_edges_from([(0, 1), (0, 3), (0, 4),\n",
    "                          (1, 2), (1, 4), (1, 5),\n",
    "                          (2, 3), (2, 4), (2, 8),\n",
    "                          (3, 4),\n",
    "                          (5, 6), (5, 7), (5, 8),\n",
    "                          (6, 7), (6, 8),\n",
    "                          (7, 8)])  # properly labeled\n",
    "        g.name = 'sample'\n",
    "        attr_name = 'color'\n",
    "    elif gname == 'karate':\n",
    "        g = nx.karate_club_graph()\n",
    "        attr_name = 'club'\n",
    "        g.name = 'karate'\n",
    "    elif gname == 'BA':\n",
    "        g = nx.barabasi_albert_graph(10, 2, seed=42)\n",
    "        # g = nx.MultiGraph(g)\n",
    "        g = nx.Graph()\n",
    "    elif gname.endswith('.gpickle'):\n",
    "        g = nx.read_gpickle(gname)\n",
    "        g.name = Path(gname).stem\n",
    "    else:\n",
    "        if gname in ('waterloo', 'grenoble', 'uppsala'):\n",
    "            g = nx.read_gpickle(f'../snap_data/cleaned/{gname}_lcc_attr.gpickle')\n",
    "        elif gname in ('polblogs', 'polbooks', 'football', 'bipartite-10-10', 'cora', 'citeseer', 'pubmed'):\n",
    "            g = nx.read_gml(f'../VRG/input/{gname}.gml')\n",
    "            attr_name = 'value'\n",
    "        else:\n",
    "            path = f'../VRG/input/{gname}.g'\n",
    "            g = nx.read_edgelist(path, nodetype=int, create_using=nx.Graph())\n",
    "\n",
    "        g.remove_edges_from(nx.selfloop_edges(g))\n",
    "        if not nx.is_connected(g):\n",
    "            nodes_lcc = max(nx.connected_components(g), key=len)\n",
    "            g = g.subgraph(nodes_lcc).copy()\n",
    "        name = g.name\n",
    "        g = nx.convert_node_labels_to_integers(g, label_attribute='orig_label')\n",
    "        g.name = name\n",
    "\n",
    "    end_time = round(time() - start_time, 2)\n",
    "    logging.error(f'Graph: {gname}, n = {g.order():_d}, m = {g.size():_d}, read in {round(end_time, 3):_g}s.')\n",
    "\n",
    "    return g, attr_name"
   ],
   "metadata": {
    "collapsed": false,
    "pycharm": {
     "name": "#%%\n"
    }
   }
  },
  {
   "cell_type": "code",
   "execution_count": null,
   "outputs": [],
   "source": [
    "def get_clustering(g: nx.Graph, outdir: str, clustering: str, use_pickle: bool, max_size=None):\n",
    "    \"\"\"\n",
    "    wrapper method for getting dendrogram. uses an existing pickle if it can.\n",
    "    :param g: graph\n",
    "    :param outdir: output directory where picles are stored\n",
    "    :param clustering: name of clustering method\n",
    "    :param use_pickle: flag to whether or not to use the pickle\n",
    "    :return: root node of the dendrogram\n",
    "    \"\"\"\n",
    "    if g.name == 'sample':\n",
    "        list_of_list_clusters = [\n",
    "            [\n",
    "                [[0], [1]],\n",
    "                [[2], [[3], [4]]]\n",
    "            ],\n",
    "            [\n",
    "                [[5], [6]],\n",
    "                [[7], [8]]\n",
    "            ]\n",
    "        ]\n",
    "        return list_of_list_clusters\n",
    "\n",
    "    list_of_list_filename = os.path.join(outdir, f'{clustering}_list.pkl')\n",
    "\n",
    "    if not os.path.exists(f'./{outdir}'):\n",
    "        os.makedirs(f'./{outdir}')\n",
    "\n",
    "    if check_file_exists(list_of_list_filename) and use_pickle:\n",
    "        logging.error(f'Using existing pickle for {clustering!r} clustering\\n')\n",
    "        list_of_list_clusters = load_pickle(list_of_list_filename)\n",
    "\n",
    "    else:\n",
    "        tqdm.write(f'Running {clustering!r} clustering...')\n",
    "        if clustering == 'random':\n",
    "            list_of_list_clusters = partitions.get_random_partition(g)\n",
    "        elif clustering == 'consensus':\n",
    "            # delete the matlab tree and sc files\n",
    "            matlab_files_path = './src/matlab_clustering/HierarchicalConsensus/data'\n",
    "            tree_path = os.path.join(matlab_files_path, f'{g.name}_tree.mat')\n",
    "            sc_path = os.path.join(matlab_files_path, f'{g.name}_sc.vec')\n",
    "            if check_file_exists(tree_path):\n",
    "                os.remove(tree_path)\n",
    "            if check_file_exists(sc_path):\n",
    "                os.remove(sc_path)\n",
    "            list_of_list_clusters = get_consensus_root(g=g, gname=g.name)\n",
    "        elif clustering in ('leiden', 'louvain', 'infomap', 'labelprop'):\n",
    "            if max_size is None: max_size = g.order()\n",
    "            list_of_list_clusters = partitions.louvain_leiden_infomap_label_prop(g, method=clustering, max_size=max_size)\n",
    "        elif clustering == 'cond':\n",
    "            list_of_list_clusters = partitions.approx_min_conductance_partitioning(g)\n",
    "        elif clustering == 'spectral':\n",
    "            list_of_list_clusters = partitions.spectral_kmeans(g, K=int(math.sqrt(g.order() // 2)))\n",
    "        else:\n",
    "            raise NotImplementedError(f'Invalid clustering algorithm {clustering!r}')\n",
    "        dump_pickle(list_of_list_clusters, list_of_list_filename)\n",
    "\n",
    "    return list_of_list_clusters"
   ],
   "metadata": {
    "collapsed": false,
    "pycharm": {
     "name": "#%%\n"
    }
   }
  },
  {
   "cell_type": "code",
   "execution_count": null,
   "outputs": [],
   "source": [
    "def plot_graph(g, ax=None, title='', attr_name='', mixing_dict={}):\n",
    "    if attr_name != '' and len(mixing_dict) == 0:\n",
    "        mixing_dict = nx.attribute_mixing_dict(g, attr_name)\n",
    "        \n",
    "    unique_values = set(mixing_dict.keys())\n",
    "    colors = sns.color_palette('pastel', n_colors=len(unique_values))\n",
    "    color_map = {val: col for val, col in zip(unique_values, colors)}\n",
    "\n",
    "    try:\n",
    "        colors = [color_map[d[attr_name]] for _, d in g.nodes(data=True)]\n",
    "    except KeyError:\n",
    "        colors = '#77dd77'\n",
    "    pos = nx.spring_layout(g)\n",
    "\n",
    "    if ax is not None:\n",
    "        ax.set_title(title, fontsize=20)\n",
    "    nx.draw_networkx_nodes(g, pos=pos, node_size=100, node_color=colors, alpha=0.95, ax=ax)\n",
    "    nx.draw_networkx_edges(g, pos=pos, edge_color='gray', alpha=0.7, ax=ax)\n",
    "    return"
   ],
   "metadata": {
    "collapsed": false,
    "pycharm": {
     "name": "#%%\n"
    }
   }
  },
  {
   "cell_type": "code",
   "execution_count": null,
   "outputs": [],
   "source": [
    "def grid_plot(graphs, graph_name='', attr_name='', mixing_dict={}):\n",
    "    # todo keep the positions of the constant nodes fixed\n",
    "    rows, cols = 2, 4\n",
    "    plt.rcParams['figure.figsize'] = [30, 15]\n",
    "\n",
    "    grid = gridspec.GridSpec(rows, cols)\n",
    "    fig = plt.figure()\n",
    "    for i, box in enumerate(grid):\n",
    "        ax = fig.add_subplot(box)\n",
    "        g = graphs[i]\n",
    "        deg_as = round(nx.degree_assortativity_coefficient(g), 3)\n",
    "        attr_as = round(nx.attribute_assortativity_coefficient(g, attribute=attr_name), 3)\n",
    "        title = f'g{i + 1} {g.order(), g.size()} degree as: {deg_as} {attr_name} as: {attr_as}'\n",
    "        plot_graph(g, ax=ax, title=title, mixing_dict=mixing_dict, attr_name=attr_name)\n",
    "\n",
    "    plt.tight_layout()\n",
    "    plt.suptitle(f'{graph_name}', y=1, fontsize=25)"
   ],
   "metadata": {
    "collapsed": false,
    "pycharm": {
     "name": "#%%\n"
    }
   }
  },
  {
   "cell_type": "code",
   "execution_count": null,
   "outputs": [],
   "source": [
    "def get_tree_stats(g, root):\n",
    "    \"\"\"\n",
    "    Compute height of the tree, avg branching factor, dasgupta cost\n",
    "    \"\"\"\n",
    "    ht = root.height\n",
    "    avg_branch_factor = mean(len(node.children) for node in LevelOrderIter(root) if len(node.children) > 1)\n",
    "    dc = dasgupta_cost(g, root)\n",
    "    return ht, avg_branch_factor, dc"
   ],
   "metadata": {
    "collapsed": false,
    "pycharm": {
     "name": "#%%\n"
    }
   }
  },
  {
   "cell_type": "code",
   "execution_count": null,
   "outputs": [],
   "source": [
    "def get_compatibility_matrix(g: nx.Graph, attr_name: str):\n",
    "    \"\"\"\n",
    "    From Danai's heterophily paper\n",
    "    :param g:\n",
    "    :param attr_name:\n",
    "    :return:\n",
    "    \"\"\"\n",
    "    values = set(nx.get_node_attributes(g, attr_name).values())\n",
    "    mapping = {val: i for i, val in enumerate(values)}\n",
    "#     print(mapping)\n",
    "    C = nx.attribute_mixing_matrix(g, attribute=attr_name, mapping=mapping, normalized=False)\n",
    "    np.fill_diagonal(C, C.diagonal() / 2)\n",
    "\n",
    "    D = np.diag(np.diag(C))\n",
    "    e = np.ones(shape=(len(mapping), 1))\n",
    "\n",
    "    h = float((e.T @ D @ e) / (e.T @ C @ e))\n",
    "    H = np.nan\n",
    "\n",
    "#     Y = np.zeros(shape=(g.order(), len(mapping)))\n",
    "#     for n, d in g.nodes(data=True):\n",
    "#         attr = d[attr_name]\n",
    "#         Y[n, mapping[attr]] = 1\n",
    "#     A = nx.adjacency_matrix(g)\n",
    "#     E = np.ones(shape=(A.shape[0], len(mapping)))\n",
    "\n",
    "#     H = (Y.T @ A @ Y) / (Y.T @ A @ E)\n",
    "\n",
    "    return_d = dict(homophily_ratio=h, compatibility_mat=H, attr_name=attr_name, mapping=mapping)\n",
    "    return return_d"
   ],
   "metadata": {
    "collapsed": false,
    "pycharm": {
     "name": "#%%\n"
    }
   }
  },
  {
   "cell_type": "code",
   "execution_count": null,
   "outputs": [],
   "source": [
    "def make_graph_df(name, fname, orig_graph, mu, clustering, attr_name, grammar_type):\n",
    "    deg_ast_fn = nx.degree_assortativity_coefficient\n",
    "    attr_ast_fn = nx.attribute_assortativity_coefficient\n",
    "    \n",
    "    gen_graphs = load_pickle(fname)\n",
    "    \n",
    "    cols = ['name', 'orig_n', 'orig_m', 'orig_degree_ast', 'attr_name', 'orig_attr_ast', \n",
    "            'model', 'mu', 'clustering', 'gen_n', 'gen_m', 'gen_degree_ast', 'gen_attr_ast', \n",
    "            'total_rewired_edges', 'fancy_rewired_edges',\n",
    "            'degree_js', 'pagerank_js', 'lambda_dist', 'deg_ast_diff', 'attr_ast_diff']\n",
    "    \n",
    "    row = {col: np.nan for col in cols}\n",
    "    \n",
    "    orig_deg_ast = deg_ast_fn(orig_graph)\n",
    "    orig_attr_ast = attr_ast_fn(orig_graph, attr_name) if attr_name != '' else np.nan\n",
    "    orig_gstats = GraphStats(orig_graph)\n",
    "    orig_homophily_ratio = get_compatibility_matrix(orig_graph, attr_name)['homophily_ratio']\n",
    "    rows = []\n",
    "    \n",
    "    for g in gen_graphs[: 20]:\n",
    "        gen_gstats = GraphStats(g)\n",
    "        gpc = GraphPairCompare(orig_gstats, gen_gstats)\n",
    "        gen_deg_ast = deg_ast_fn(g)\n",
    "        gen_attr_ast = attr_ast_fn(g, attr_name) if attr_name != '' else np.nan\n",
    "        total_rewired_edges = g.graph.get('total_rewirings', 0)\n",
    "        fancy_rewired_edges = g.graph.get('fancy_rewirings', 0)\n",
    "        h = get_compatibility_matrix(g, attr_name)['homophily_ratio']\n",
    "        \n",
    "        row = {'name': name, 'orig_n': orig_graph.order(), 'orig_m': orig_graph.size(), \n",
    "               'orig_degree_ast': deg_ast_fn(orig_graph), 'attr_name': attr_name, \n",
    "               'orig_attr_ast': orig_attr_ast, 'model': grammar_type, \n",
    "               'clustering': clustering, 'mu': mu, 'orig_homophily_ratio': orig_homophily_ratio,\n",
    "               'gen_n': g.order(), 'gen_m': g.size(), 'gen_degree_ast': gen_deg_ast, 'gen_attr_ast': gen_attr_ast, \n",
    "               'total_rewired_edges': total_rewired_edges, 'fancy_rewired_edges': fancy_rewired_edges,\n",
    "               'degree_js': gpc.degree_js(), 'pagerank_js': gpc.pagerank_js(), 'lambda_dist': gpc.lambda_dist(), \n",
    "               'deg_ast_diff': np.abs(orig_deg_ast - gen_deg_ast), 'attr_ast_diff': np.abs(orig_attr_ast - gen_attr_ast),\n",
    "               'gen_homophily_ratio': h\n",
    "              }\n",
    "        \n",
    "        rows.append(row)\n",
    "    \n",
    "    return pd.DataFrame(rows)"
   ],
   "metadata": {
    "collapsed": false,
    "pycharm": {
     "name": "#%%\n"
    }
   }
  },
  {
   "cell_type": "code",
   "execution_count": null,
   "outputs": [],
   "source": [
    "def make_grammar_df(names=None, graphs=None):\n",
    "    if names is None:\n",
    "        names = ['karate', 'football', 'polbooks', 'polblogs', 'cora', 'citeseer', 'pubmed'][: -1]\n",
    "\n",
    "#     frac = np.linspace(0, 1, 21, endpoint=True) * 100\n",
    "#     names = [f'3-comm-{int(f)}' for f in frac]\n",
    "#     shuffle = 'edges'\n",
    "    rows = []\n",
    "\n",
    "#     root_dict = {f'{name}-{shuffle}': {} for name in names}\n",
    "    root_dict = {f'{name}': {} for name in names}\n",
    "    dl_dict = {}\n",
    "    \n",
    "    for name in names:\n",
    "#         orig_graph, attr_name = nx.read_gexf(f'../VRG/input/shuffled/{shuffle}/{name}.gexf'), 'block'\n",
    "#         name = f'{name}-{shuffle}'\n",
    "        orig_graph, attr_name = get_graph(name)\n",
    "        dl_dict[name] = graph_mdl(orig_graph)\n",
    "        if attr_name != '':\n",
    "            dl_dict[name] = graph_mdl(orig_graph, attributed=True)\n",
    "    print(dl_dict)\n",
    "    \n",
    "    for name in names:\n",
    "        orig_graph, attr_name = get_graph(name)        \n",
    "#         orig_graph, attr_name = nx.read_gexf(f'../VRG/input/shuffled/{shuffle}/{name}.gexf'), 'block'\n",
    "#         name = f'{name}-{shuffle}'\n",
    "        print('\\n\\n', name, attr_name)\n",
    "        for fname in glob.glob(f'/data/ssikdar/attributed-vrg/dumps/grammars/{name}/*.pkl'):\n",
    "            path = Path(fname)\n",
    "            pattern = r'(.*)\\_(\\w+)\\_(\\d+)\\_(\\d+)'\n",
    "            m = re.match(pattern, path.stem)\n",
    "            grammar_type, clustering, mu, _ = m.groups()\n",
    "            \n",
    "            print(grammar_type, clustering, mu, end='\\t', flush=True)\n",
    "            \n",
    "            if clustering in root_dict[name]:\n",
    "                ht, avg_branch_factor, dc = root_dict[name][clustering]\n",
    "            else:\n",
    "                root = load_pickle(f'/data/ssikdar/attributed-vrg/dumps/trees/{name}/{clustering}_list.pkl')\n",
    "                if isinstance(root, list): root = create_tree(root)\n",
    "                ht, avg_branch_factor, dc = get_tree_stats(g=orig_graph, root=root)\n",
    "                root_dict[name][clustering] = ht, avg_branch_factor, dc\n",
    "\n",
    "            vrg = load_pickle(fname)\n",
    "#             if grammar_type.startswith('AVRG'): name = f'{name}-attr'\n",
    "            graph_dl = dl_dict[name]\n",
    "            \n",
    "            row = dict(name=name, orig_n=orig_graph.order(), orig_m=orig_graph.size(), attr_name=attr_name, \n",
    "                      model=grammar_type, mu=int(mu), clustering=clustering, cost=dc, branch_factor=avg_branch_factor,\n",
    "                      height=ht, graph_dl=graph_dl, num_rules=vrg.num_rules, unique_rules=len(vrg.unique_rule_list),\n",
    "                      grammar_dl=vrg.cost)\n",
    "            name = name.replace('-attr', '')\n",
    "            rows.append(row)\n",
    "\n",
    "    return pd.DataFrame(rows)"
   ],
   "metadata": {
    "collapsed": false,
    "pycharm": {
     "name": "#%%\n"
    }
   }
  },
  {
   "cell_type": "code",
   "execution_count": null,
   "outputs": [],
   "source": [],
   "metadata": {
    "collapsed": false,
    "pycharm": {
     "name": "#%%\n"
    }
   }
  },
  {
   "cell_type": "code",
   "execution_count": null,
   "outputs": [],
   "source": [
    "%%time\n",
    "grammar_df = make_grammar_df()"
   ],
   "metadata": {
    "collapsed": false,
    "pycharm": {
     "name": "#%%\n"
    }
   }
  },
  {
   "cell_type": "code",
   "execution_count": null,
   "outputs": [],
   "source": [
    "grammar_df.to_csv('./grammar_df.csv')"
   ],
   "metadata": {
    "collapsed": false,
    "pycharm": {
     "name": "#%%\n"
    }
   }
  },
  {
   "cell_type": "code",
   "execution_count": null,
   "outputs": [],
   "source": [
    "grammar_df = pd.read_csv('./grammar_df.csv')"
   ],
   "metadata": {
    "collapsed": false,
    "pycharm": {
     "name": "#%%\n"
    }
   }
  },
  {
   "cell_type": "code",
   "execution_count": null,
   "outputs": [],
   "source": [
    "grammar_df.head()"
   ],
   "metadata": {
    "collapsed": false,
    "pycharm": {
     "name": "#%%\n"
    }
   }
  },
  {
   "cell_type": "code",
   "execution_count": null,
   "outputs": [],
   "source": [
    "grammar_df.describe()"
   ],
   "metadata": {
    "collapsed": false,
    "pycharm": {
     "name": "#%%\n"
    }
   }
  },
  {
   "cell_type": "code",
   "execution_count": null,
   "outputs": [],
   "source": [
    "ax = plt.gca()\n",
    "ax.set_yscale('log')\n",
    "sns.barplot(x='name', y='grammar_dl', hue='model', data=grammar_df, ax=ax);"
   ],
   "metadata": {
    "collapsed": false,
    "pycharm": {
     "name": "#%%\n"
    }
   }
  },
  {
   "cell_type": "code",
   "execution_count": null,
   "outputs": [],
   "source": [
    "grammar_df['compression'] = grammar_df['graph_dl'] / grammar_df['grammar_dl']"
   ],
   "metadata": {
    "collapsed": false,
    "pycharm": {
     "name": "#%%\n"
    }
   }
  },
  {
   "cell_type": "code",
   "execution_count": null,
   "outputs": [],
   "source": [
    "grammar_df.model.unique()"
   ],
   "metadata": {
    "collapsed": false,
    "pycharm": {
     "name": "#%%\n"
    }
   }
  },
  {
   "cell_type": "code",
   "execution_count": null,
   "outputs": [],
   "source": [
    "plt.rcParams['figure.figsize'] = (15, 10)\n",
    "plt.rcParams['font.size'] = 50\n",
    "plt.rcParams['axes.labelsize'] = 20\n",
    "plt.rcParams['axes.titlesize'] = 20"
   ],
   "metadata": {
    "collapsed": false,
    "pycharm": {
     "name": "#%%\n"
    }
   }
  },
  {
   "cell_type": "code",
   "execution_count": null,
   "outputs": [],
   "source": [
    "ax = plt.gca()\n",
    "ax.set_yscale('log')\n",
    "ax.axhline(1, c='r')\n",
    "sns.barplot(x='model', y='compression', hue='clustering', data=grammar_df);\n",
    "ax.set_ylabel('Compression Ratio');"
   ],
   "metadata": {
    "collapsed": false,
    "pycharm": {
     "name": "#%%\n"
    }
   }
  },
  {
   "cell_type": "code",
   "execution_count": null,
   "outputs": [],
   "source": [
    "sns.barplot(x='name', y='compression', hue='clustering', data=grammar_df);"
   ],
   "metadata": {
    "collapsed": false,
    "pycharm": {
     "name": "#%%\n"
    }
   }
  },
  {
   "cell_type": "code",
   "execution_count": null,
   "outputs": [],
   "source": [
    "ax = plt.gca()\n",
    "ax.set_yscale('log')\n",
    "# ax.axhline(1, c='r')\n",
    "sns.barplot(x='name', y='grammar_dl', hue='model', data=grammar_df);\n",
    "# ax.set_ylabel('Compression Ratio');"
   ],
   "metadata": {
    "collapsed": false,
    "pycharm": {
     "name": "#%%\n"
    }
   }
  },
  {
   "cell_type": "code",
   "execution_count": null,
   "outputs": [],
   "source": [
    "ax = plt.gca()\n",
    "ax.set_yscale('log')\n",
    "# ax.axhline(1, c='r')\n",
    "sns.barplot(x='name', y='compression', hue='clustering', data=grammar_df);\n",
    "# ax.set_ylabel('Compression Ratio');"
   ],
   "metadata": {
    "collapsed": false,
    "pycharm": {
     "name": "#%%\n"
    }
   }
  },
  {
   "cell_type": "code",
   "execution_count": null,
   "outputs": [],
   "source": [
    "ax = plt.gca()\n",
    "ax.set_yscale('log')\n",
    "# ax.axhline(1, c='r')\n",
    "sns.barplot(x='name', y='unique_rules', hue='mu', data=grammar_df[~grammar_df.model.str.contains('all-tnodes')]);\n",
    "# ax.set_ylabel('Compression Ratio');"
   ],
   "metadata": {
    "collapsed": false,
    "pycharm": {
     "name": "#%%\n"
    }
   }
  },
  {
   "cell_type": "code",
   "execution_count": null,
   "outputs": [],
   "source": [
    "ax = plt.gca()\n",
    "ax.set_yscale('log')\n",
    "sns.barplot(x='name', y='grammar_dl', hue='model', data=grammar_df);"
   ],
   "metadata": {
    "collapsed": false,
    "pycharm": {
     "name": "#%%\n"
    }
   }
  },
  {
   "cell_type": "code",
   "execution_count": null,
   "outputs": [],
   "source": [],
   "metadata": {
    "collapsed": false,
    "pycharm": {
     "name": "#%%\n"
    }
   }
  },
  {
   "cell_type": "code",
   "execution_count": null,
   "outputs": [],
   "source": [
    "ax = plt.gca()\n",
    "ax.set_yscale('log')\n",
    "ax.set_xscale('log')\n",
    "sns.scatterplot(x='cost', y='compression', hue='clustering', data=grammar_df,\n",
    "                s=100, alpha=0.6);\n",
    "ax.set_xlabel('Log (Dasgupta Cost)');\n",
    "ax.set_ylabel('Log (Compression Ratio)');"
   ],
   "metadata": {
    "collapsed": false,
    "pycharm": {
     "name": "#%%\n"
    }
   }
  },
  {
   "cell_type": "code",
   "execution_count": null,
   "outputs": [],
   "source": [
    "ax = plt.gca()\n",
    "ax.set_yscale('log')\n",
    "ax.set_xscale('log')\n",
    "sns.scatterplot(x='cost', y='compression', hue='mu', style='name', data=grammar_df,\n",
    "               s=100, alpha=0.6);\n",
    "ax.set_xlabel('Log (Dasgupta Cost)');\n",
    "ax.set_ylabel('Log (Compression Ratio)');"
   ],
   "metadata": {
    "collapsed": false,
    "pycharm": {
     "name": "#%%\n"
    }
   }
  },
  {
   "cell_type": "code",
   "execution_count": null,
   "outputs": [],
   "source": [
    "grammar_df['log_compression'] = grammar_df['compression'].apply(np.log10)"
   ],
   "metadata": {
    "collapsed": false,
    "pycharm": {
     "name": "#%%\n"
    }
   }
  },
  {
   "cell_type": "code",
   "execution_count": null,
   "outputs": [],
   "source": [
    "sns.catplot(x='mu', y='num_rules', hue='clustering', col='name', kind='bar', data=grammar_df, col_wrap=3);"
   ],
   "metadata": {
    "collapsed": false,
    "pycharm": {
     "name": "#%%\n"
    }
   }
  },
  {
   "cell_type": "code",
   "execution_count": null,
   "outputs": [],
   "source": [],
   "metadata": {
    "collapsed": false,
    "pycharm": {
     "name": "#%%\n"
    }
   }
  },
  {
   "cell_type": "code",
   "execution_count": null,
   "outputs": [],
   "source": [],
   "metadata": {
    "collapsed": false,
    "pycharm": {
     "name": "#%%\n"
    }
   }
  },
  {
   "cell_type": "code",
   "execution_count": null,
   "outputs": [],
   "source": [],
   "metadata": {
    "collapsed": false,
    "pycharm": {
     "name": "#%%\n"
    }
   }
  },
  {
   "cell_type": "code",
   "execution_count": null,
   "outputs": [],
   "source": [],
   "metadata": {
    "collapsed": false,
    "pycharm": {
     "name": "#%%\n"
    }
   }
  },
  {
   "cell_type": "code",
   "execution_count": null,
   "outputs": [],
   "source": [],
   "metadata": {
    "collapsed": false,
    "pycharm": {
     "name": "#%%\n"
    }
   }
  },
  {
   "cell_type": "markdown",
   "source": [
    "## Do stuff with the final graphs"
   ],
   "metadata": {
    "collapsed": false
   }
  },
  {
   "cell_type": "code",
   "execution_count": null,
   "outputs": [],
   "source": [
    "names = ['karate', 'football', 'polbooks', 'polblogs', 'cora', 'citeseer', 'pubmed'][: -1]\n",
    "\n",
    "dfs = []\n",
    "# frac = np.linspace(0, 1, 21, endpoint=True) * 100\n",
    "# names = [f'3-comm-{int(f)}' for f in frac]\n",
    "# shuffle = 'edges'\n",
    "\n",
    "\n",
    "for name in sorted(names):\n",
    "    orig_graph, attr_name = get_graph(name)\n",
    "#     orig_graph, attr_name = nx.read_gexf(f'../VRG/input/shuffled/{shuffle}/{name}.gexf', node_type=int), 'block'\n",
    "#     name = f'{name}-{shuffle}'\n",
    "    print(name)\n",
    "    for fname in glob.glob(f'/data/ssikdar/attributed-vrg/dumps/graphs/{name}/*'):\n",
    "        path = Path(fname)\n",
    "        print(path.stem, end='\\t', flush=True)\n",
    "        pattern = r'(.*)\\_(\\w+)\\_(\\d+)\\_(\\d+)'\n",
    "        m = re.match(pattern, path.stem)\n",
    "        grammar_type, clustering, mu, _ = m.groups()\n",
    "        df = make_graph_df(name, fname, orig_graph, mu, clustering, attr_name, grammar_type)\n",
    "        dfs.append(df)\n",
    "graph_df = pd.concat(dfs, ignore_index=True)"
   ],
   "metadata": {
    "collapsed": false,
    "pycharm": {
     "name": "#%%\n"
    }
   }
  },
  {
   "cell_type": "code",
   "execution_count": null,
   "outputs": [],
   "source": [
    "graph_df.to_csv('./graph_df.csv')"
   ],
   "metadata": {
    "collapsed": false,
    "pycharm": {
     "name": "#%%\n"
    }
   }
  },
  {
   "cell_type": "code",
   "execution_count": null,
   "outputs": [],
   "source": [
    "plt.rcParams['figure.figsize'] = (15, 5)\n",
    "fig, (ax1, ax2, ax3) = plt.subplots(nrows=1, ncols=3, sharey=True)\n",
    "sns.barplot(x='name', y='degree_js', hue='model', data=graph_df, ax=ax1);\n",
    "sns.barplot(x='name', y='pagerank_js', hue='model', data=graph_df, ax=ax2);\n",
    "sns.barplot(x='name', y='lambda_dist', hue='model', data=graph_df, ax=ax3);\n",
    "ax1.set_ylim((0, 0.75));\n",
    "ax2.set_ylim((0, 0.75));"
   ],
   "metadata": {
    "collapsed": false,
    "pycharm": {
     "name": "#%%\n"
    }
   }
  },
  {
   "cell_type": "code",
   "execution_count": null,
   "outputs": [],
   "source": [
    "graph_df.columns"
   ],
   "metadata": {
    "collapsed": false,
    "pycharm": {
     "name": "#%%\n"
    }
   }
  },
  {
   "cell_type": "code",
   "execution_count": null,
   "outputs": [],
   "source": [
    "fig, (ax1, ax2) = plt.subplots(nrows=1, ncols=2, sharey=True)\n",
    "sns.barplot(x='name', y='deg_ast_diff', hue='model', data=graph_df, ax=ax1);\n",
    "sns.barplot(x='name', y='attr_ast_diff', hue='model', data=graph_df, ax=ax2);\n",
    "ax1.set_ylim((0, 0.5));\n",
    "ax2.set_ylim((0, 0.5));"
   ],
   "metadata": {
    "collapsed": false,
    "pycharm": {
     "name": "#%%\n"
    }
   }
  },
  {
   "cell_type": "code",
   "execution_count": null,
   "outputs": [],
   "source": [],
   "metadata": {
    "collapsed": false,
    "pycharm": {
     "name": "#%%\n"
    }
   }
  },
  {
   "cell_type": "code",
   "execution_count": null,
   "outputs": [],
   "source": [],
   "metadata": {
    "collapsed": false,
    "pycharm": {
     "name": "#%%\n"
    }
   }
  },
  {
   "cell_type": "code",
   "execution_count": null,
   "outputs": [],
   "source": [],
   "metadata": {
    "collapsed": false,
    "pycharm": {
     "name": "#%%\n"
    }
   }
  },
  {
   "cell_type": "code",
   "execution_count": null,
   "outputs": [],
   "source": [],
   "metadata": {
    "collapsed": false,
    "pycharm": {
     "name": "#%%\n"
    }
   }
  },
  {
   "cell_type": "code",
   "execution_count": null,
   "outputs": [],
   "source": [],
   "metadata": {
    "collapsed": false,
    "pycharm": {
     "name": "#%%\n"
    }
   }
  },
  {
   "cell_type": "code",
   "execution_count": null,
   "outputs": [],
   "source": [
    "graph_df.to_csv('./graph_df.csv')"
   ],
   "metadata": {
    "collapsed": false,
    "pycharm": {
     "name": "#%%\n"
    }
   }
  },
  {
   "cell_type": "code",
   "execution_count": null,
   "outputs": [],
   "source": [
    "graph_df = pd.read_csv('./graph_df.csv')"
   ],
   "metadata": {
    "collapsed": false,
    "pycharm": {
     "name": "#%%\n"
    }
   }
  },
  {
   "cell_type": "code",
   "execution_count": null,
   "outputs": [],
   "source": [
    "graph_df['mu'] = graph_df['mu'].astype(int)"
   ],
   "metadata": {
    "collapsed": false,
    "pycharm": {
     "name": "#%%\n"
    }
   }
  },
  {
   "cell_type": "code",
   "execution_count": null,
   "outputs": [],
   "source": [
    "grammar_gen_df = pd.merge(grammar_df, graph_df, on=['name', 'mu', 'clustering'])"
   ],
   "metadata": {
    "collapsed": false,
    "pycharm": {
     "name": "#%%\n"
    }
   }
  },
  {
   "cell_type": "code",
   "execution_count": null,
   "outputs": [],
   "source": [
    "display(grammar_gen_df.head(), grammar_df.shape)"
   ],
   "metadata": {
    "collapsed": false,
    "pycharm": {
     "name": "#%%\n"
    }
   }
  },
  {
   "cell_type": "code",
   "execution_count": null,
   "outputs": [],
   "source": [
    "sns.scatterplot(x='lambda_dist', y='compression', hue='clustering', size='mu', data=grammar_gen_df);"
   ],
   "metadata": {
    "collapsed": false,
    "pycharm": {
     "name": "#%%\n"
    }
   }
  },
  {
   "cell_type": "markdown",
   "source": [
    "## Spectral and conductance works best"
   ],
   "metadata": {
    "collapsed": false
   }
  },
  {
   "cell_type": "code",
   "execution_count": null,
   "outputs": [],
   "source": [
    "filtered_df = grammar_gen_df[grammar_gen_df.clustering.isin(('cond', 'spectral', 'leiden'))]"
   ],
   "metadata": {
    "collapsed": false,
    "pycharm": {
     "name": "#%%\n"
    }
   }
  },
  {
   "cell_type": "code",
   "execution_count": null,
   "outputs": [],
   "source": [
    "fig, (ax1, ax2, ax3) = plt.subplots(ncols=1, nrows=3, sharex=True);\n",
    "\n",
    "sns.barplot(x='mu', y='lambda_dist', hue='clustering', data=filtered_df, ax=ax1);\n",
    "sns.barplot(x='mu', y='pagerank_js', hue='clustering', data=filtered_df, ax=ax2);\n",
    "sns.barplot(x='mu', y='compression', hue='clustering', data=filtered_df, ax=ax3);\n",
    "\n",
    "ax2.set_ylim((0, 1));\n",
    "ax2.legend().set_visible(False);\n",
    "ax3.legend().set_visible(False);"
   ],
   "metadata": {
    "collapsed": false,
    "pycharm": {
     "name": "#%%\n"
    }
   }
  },
  {
   "cell_type": "markdown",
   "source": [
    "## pick mu = 5"
   ],
   "metadata": {
    "collapsed": false
   }
  },
  {
   "cell_type": "markdown",
   "source": [
    "### Read different rewired edges"
   ],
   "metadata": {
    "collapsed": false
   }
  },
  {
   "cell_type": "code",
   "execution_count": null,
   "outputs": [],
   "source": [
    "def make_shuffled_grammar_df():\n",
    "    frac = np.linspace(0, 100, 11, endpoint=True, dtype=int)    \n",
    "    shuffle = 'edges'\n",
    "    names = [f'toy-comm-{f}' for f in frac]\n",
    "    rows = []\n",
    "    root_dict = {f'{name}': {} for name in names}\n",
    "    dl_dict = {}\n",
    "    \n",
    "    for name in names:\n",
    "        orig_graph, attr_name = nx.read_gexf(f'../VRG/input/shuffled/{shuffle}/{name}.gexf', node_type=int), 'block'\n",
    "        dl_dict[name] = graph_mdl(orig_graph)\n",
    "        if attr_name != '':\n",
    "            dl_dict[name] = graph_mdl(orig_graph, attributed=True)\n",
    "    print(dl_dict)\n",
    "    \n",
    "    for name in names:\n",
    "        orig_graph, attr_name = nx.read_gexf(f'../VRG/input/shuffled/{shuffle}/{name}.gexf', node_type=int), 'block'\n",
    "        print('\\n\\n', name, attr_name)\n",
    "        for fname in glob.glob(f'/data/ssikdar/attributed-vrg/dumps/grammars/{name}-{shuffle}/*.pkl'):\n",
    "            path = Path(fname)\n",
    "            pattern = r'(.*)\\_(\\w+)\\_(\\d+)\\_(\\d+)'\n",
    "            m = re.match(pattern, path.stem)\n",
    "            grammar_type, clustering, mu, _ = m.groups()\n",
    "            \n",
    "            print(grammar_type, clustering, mu, end='\\t', flush=True)\n",
    "            \n",
    "            if clustering in root_dict[name]:\n",
    "                ht, avg_branch_factor, dc = root_dict[name][clustering]\n",
    "            else:\n",
    "                root = load_pickle(f'/data/ssikdar/attributed-vrg/dumps/trees/{name}-{shuffle}/{clustering}_list.pkl')\n",
    "                if isinstance(root, list): root = create_tree(root)\n",
    "                ht, avg_branch_factor, dc = get_tree_stats(g=orig_graph, root=root)\n",
    "                root_dict[name][clustering] = ht, avg_branch_factor, dc\n",
    "\n",
    "            vrg = load_pickle(fname)\n",
    "#             if grammar_type.startswith('AVRG'): name = f'{name}-attr'\n",
    "            graph_dl = dl_dict[name]\n",
    "            \n",
    "            row = dict(name=name, orig_n=orig_graph.order(), orig_m=orig_graph.size(), attr_name=attr_name, \n",
    "                      model=grammar_type, mu=int(mu), clustering=clustering, cost=dc, branch_factor=avg_branch_factor,\n",
    "                      height=ht, graph_dl=graph_dl, num_rules=vrg.num_rules, unique_rules=len(vrg.unique_rule_list),\n",
    "                      grammar_dl=vrg.cost)\n",
    "            name = name.replace('-attr', '')\n",
    "            rows.append(row)\n",
    "\n",
    "    return pd.DataFrame(rows)"
   ],
   "metadata": {
    "collapsed": false,
    "pycharm": {
     "name": "#%%\n"
    }
   }
  },
  {
   "cell_type": "code",
   "execution_count": null,
   "outputs": [],
   "source": [
    "shuffled_grammar_df = make_shuffled_grammar_df()"
   ],
   "metadata": {
    "collapsed": false,
    "pycharm": {
     "name": "#%%\n"
    }
   }
  },
  {
   "cell_type": "code",
   "execution_count": null,
   "outputs": [],
   "source": [
    "shuffled_grammar_df['frac'] = shuffled_grammar_df['name'].apply(lambda x: int(x.split('-')[-1]))"
   ],
   "metadata": {
    "collapsed": false,
    "pycharm": {
     "name": "#%%\n"
    }
   }
  },
  {
   "cell_type": "code",
   "execution_count": null,
   "outputs": [],
   "source": [
    "shuffled_grammar_df.head()"
   ],
   "metadata": {
    "collapsed": false,
    "pycharm": {
     "name": "#%%\n"
    }
   }
  },
  {
   "cell_type": "code",
   "execution_count": null,
   "outputs": [],
   "source": [],
   "metadata": {
    "collapsed": false,
    "pycharm": {
     "name": "#%%\n"
    }
   }
  },
  {
   "cell_type": "code",
   "execution_count": null,
   "outputs": [],
   "source": [],
   "metadata": {
    "collapsed": false,
    "pycharm": {
     "name": "#%%\n"
    }
   }
  },
  {
   "cell_type": "code",
   "execution_count": null,
   "outputs": [],
   "source": [
    "def make_shuffled_graph_df():\n",
    "    frac = np.linspace(0, 100, 11, endpoint=True, dtype=int)    \n",
    "    shuffle = 'attrs'\n",
    "    names = [f'toy-comm-{f}' for f in frac]\n",
    "    dfs = []\n",
    "    \n",
    "#     for name in sorted(names):\n",
    "    for f, name in zip(frac, names):\n",
    "#         orig_graph, attr_name = get_graph(name)\n",
    "        orig_graph, attr_name = nx.read_gexf(f'../VRG/input/shuffled/{shuffle}/{name}.gexf', node_type=int), 'block'\n",
    "        name = f'toy-comm-attrs-{f}'\n",
    "        print(name)\n",
    "        for fname in glob.glob(f'/data/ssikdar/attributed-vrg/dumps/graphs/{name}/*'):\n",
    "            path = Path(fname)\n",
    "            print(path.stem, end='\\t', flush=True)\n",
    "            pattern = r'(.*)\\_(\\w+)\\_(\\d+)\\_(\\d+)'\n",
    "            m = re.match(pattern, path.stem)\n",
    "            grammar_type, clustering, mu, _ = m.groups()\n",
    "            df = make_graph_df(name, fname, orig_graph, mu, clustering, attr_name, grammar_type)\n",
    "            dfs.append(df)\n",
    "    return pd.concat(dfs, ignore_index=True)"
   ],
   "metadata": {
    "collapsed": false,
    "pycharm": {
     "name": "#%%\n"
    }
   }
  },
  {
   "cell_type": "code",
   "execution_count": null,
   "outputs": [],
   "source": [
    "shuffled_graph_df = make_shuffled_graph_df()"
   ],
   "metadata": {
    "collapsed": false,
    "pycharm": {
     "name": "#%%\n"
    }
   }
  },
  {
   "cell_type": "code",
   "execution_count": null,
   "outputs": [],
   "source": [
    "shuffled_graph_df['frac'] = shuffled_graph_df['name'].apply(lambda x: int(x.split('-')[-1]))"
   ],
   "metadata": {
    "collapsed": false,
    "pycharm": {
     "name": "#%%\n"
    }
   }
  },
  {
   "cell_type": "code",
   "execution_count": null,
   "outputs": [],
   "source": [
    "shuffled_graph_df.head()"
   ],
   "metadata": {
    "collapsed": false,
    "pycharm": {
     "name": "#%%\n"
    }
   }
  },
  {
   "cell_type": "code",
   "execution_count": null,
   "outputs": [],
   "source": [
    "shuffled_graph_df = shuffled_graph_df[shuffled_graph_df.model != 'AVRG']"
   ],
   "metadata": {
    "collapsed": false,
    "pycharm": {
     "name": "#%%\n"
    }
   }
  },
  {
   "cell_type": "code",
   "execution_count": null,
   "outputs": [],
   "source": [
    "plt.rcParams['figure.figsize'] = (15, 8)"
   ],
   "metadata": {
    "collapsed": false,
    "pycharm": {
     "name": "#%%\n"
    }
   }
  },
  {
   "cell_type": "code",
   "execution_count": null,
   "outputs": [],
   "source": [
    "fig, (ax1, ax2) = plt.subplots(nrows=1, ncols=2)\n",
    "\n",
    "sns.lineplot(x='frac', y='orig_degree_ast', marker='o', alpha=0.7, data=shuffled_graph_df, ax=ax1, color='k', label='original');\n",
    "sns.lineplot(x='frac', y='gen_degree_ast', marker='o', alpha=0.7, ci=90, hue='model', data=shuffled_graph_df, ax=ax1);\n",
    "ax1.set_ylabel('Degree Assortativity');\n",
    "ax1.set_xlabel('Fraction');\n",
    "ax1.set_ylim((-0.05, 0.375));\n",
    "\n",
    "sns.lineplot(x='frac', y='lambda_dist', marker='o', alpha=0.7, ci=90, hue='model', data=shuffled_graph_df, ax=ax2);\n",
    "ax2.axhline(0, c='black');\n",
    "ax2.set_ylabel('Lambda Distance');\n",
    "ax2.set_xlabel('Fraction');\n",
    "ax2.set_ylim((-0.05, 0.375));"
   ],
   "metadata": {
    "collapsed": false,
    "pycharm": {
     "name": "#%%\n"
    }
   }
  },
  {
   "cell_type": "code",
   "execution_count": null,
   "outputs": [],
   "source": [
    "plt.rcParams['figure.figsize'] = (20, 8)"
   ],
   "metadata": {
    "collapsed": false,
    "pycharm": {
     "name": "#%%\n"
    }
   }
  },
  {
   "cell_type": "code",
   "execution_count": null,
   "outputs": [],
   "source": [
    "fig, (ax1, ax2, ax3) = plt.subplots(nrows=1, ncols=3)\n",
    "\n",
    "sns.lineplot(x='frac', y='orig_degree_ast', marker='o', alpha=0.7, data=shuffled_graph_df, ax=ax1, color='k', label='original');\n",
    "sns.lineplot(x='frac', y='gen_degree_ast', marker='o', alpha=0.7, ci=90, hue='model', data=shuffled_graph_df, ax=ax1);\n",
    "ax1.set_ylabel('Degree Assortativity');\n",
    "ax1.set_xlabel('Fraction');\n",
    "ax1.set_ylim((-0.05, 0.375));\n",
    "\n",
    "sns.lineplot(x='frac', y='orig_attr_ast', marker='o', alpha=0.7, data=shuffled_graph_df, ax=ax2, color='k', label='original');\n",
    "sns.lineplot(x='frac', y='gen_attr_ast', marker='o', alpha=0.7, ci=90, hue='model', data=shuffled_graph_df, ax=ax2);\n",
    "ax2.set_ylabel('Attribute Assortativity');\n",
    "ax2.set_xlabel('Fraction');\n",
    "ax2.set_ylim((-0.05, 0.95));\n",
    "\n",
    "sns.lineplot(x='frac', y='lambda_dist', marker='o', alpha=0.7, ci=90, hue='model', data=shuffled_graph_df, ax=ax3);\n",
    "ax3.axhline(0, c='black');\n",
    "ax3.set_ylabel('Lambda Distance');\n",
    "ax3.set_xlabel('Fraction');\n",
    "ax3.set_ylim((-0.05, 0.95));"
   ],
   "metadata": {
    "collapsed": false,
    "pycharm": {
     "name": "#%%\n"
    }
   }
  },
  {
   "cell_type": "code",
   "execution_count": null,
   "outputs": [],
   "source": [
    "fig, (ax1, ax2) = plt.subplots(nrows=1, ncols=2, sharex=True)\n",
    "\n",
    "sns.lineplot(x='frac', y='orig_degree_ast', marker='o', alpha=0.7, data=shuffled_graph_df, ax=ax1, color='k', label='original');\n",
    "sns.lineplot(x='frac', y='gen_degree_ast', marker='o', alpha=0.7, ci=90, hue='model', data=shuffled_graph_df, ax=ax1);\n",
    "ax1.set_ylabel('Degree Assortativity');\n",
    "ax1.set_xlabel('Fraction');\n",
    "ax1.set_ylim((-0.05, 0.95));\n",
    "\n",
    "sns.lineplot(x='frac', y='orig_attr_ast', marker='o', alpha=0.7, data=shuffled_graph_df, ax=ax2, color='k', label='original');\n",
    "sns.lineplot(x='frac', y='gen_attr_ast', marker='o', alpha=0.7, ci=90, hue='model', data=shuffled_graph_df, ax=ax2);\n",
    "ax2.set_ylabel('Attribute Assortativity');\n",
    "ax2.set_xlabel('Fraction');\n",
    "ax2.set_ylim((-0.05, 0.95));"
   ],
   "metadata": {
    "collapsed": false,
    "pycharm": {
     "name": "#%%\n"
    }
   }
  },
  {
   "cell_type": "code",
   "execution_count": null,
   "outputs": [],
   "source": [
    "fig, (ax1, ax2) = plt.subplots(nrows=1, ncols=2)\n",
    "\n",
    "sns.lineplot(x='frac', y='orig_attr_ast', marker='o', alpha=0.7, data=shuffled_graph_df, ax=ax1, color='k', label='original');\n",
    "sns.lineplot(x='frac', y='gen_attr_ast', marker='o', alpha=0.7, ci=90, hue='model', data=shuffled_graph_df, ax=ax1);\n",
    "ax1.set_ylabel('Attribute Assortativity');\n",
    "ax1.set_xlabel('Fraction');\n",
    "\n",
    "sns.lineplot(x='frac', y='gen_homophily_ratio', marker='o', alpha=0.7, ci=90, hue='model', data=shuffled_graph_df, ax=ax2);\n",
    "sns.lineplot(x='frac', y='orig_homophily_ratio', marker='o', alpha=0.7, data=shuffled_graph_df, ax=ax2, color='k', label='original');\n",
    "\n",
    "ax1.set_ylim((0, 1));\n",
    "ax2.set_ylim((0, 1));\n",
    "ax2.set_ylabel('Homophily Ratio');\n",
    "ax2.set_xlabel('Fraction');"
   ],
   "metadata": {
    "collapsed": false,
    "pycharm": {
     "name": "#%%\n"
    }
   }
  },
  {
   "cell_type": "code",
   "execution_count": null,
   "outputs": [],
   "source": [
    "shuffled_graph_df.orig_homophily_ratio"
   ],
   "metadata": {
    "collapsed": false,
    "pycharm": {
     "name": "#%%\n"
    }
   }
  },
  {
   "cell_type": "markdown",
   "source": [
    "Cora"
   ],
   "metadata": {
    "collapsed": false
   }
  },
  {
   "cell_type": "code",
   "execution_count": null,
   "outputs": [],
   "source": [
    "! head ../VRG/input/cora/cora/cora.cites"
   ],
   "metadata": {
    "collapsed": false,
    "pycharm": {
     "name": "#%%\n"
    }
   }
  },
  {
   "cell_type": "code",
   "execution_count": null,
   "outputs": [],
   "source": [
    "! head ../VRG/input/cora/cora/cora.content"
   ],
   "metadata": {
    "collapsed": false,
    "pycharm": {
     "name": "#%%\n"
    }
   }
  },
  {
   "cell_type": "code",
   "execution_count": null,
   "outputs": [],
   "source": [
    "! head ../VRG/input/cora/cora/README"
   ],
   "metadata": {
    "collapsed": false,
    "pycharm": {
     "name": "#%%\n"
    }
   }
  },
  {
   "cell_type": "code",
   "execution_count": null,
   "outputs": [],
   "source": [
    "nx_g = nx.Graph()\n",
    "\n",
    "with open('../VRG/input/cora/cora/cora.cites') as fp:\n",
    "    for line in fp.readlines():\n",
    "        u, v = map(int, line.split())\n",
    "        nx_g.add_edge(u, v)"
   ],
   "metadata": {
    "collapsed": false,
    "pycharm": {
     "name": "#%%\n"
    }
   }
  },
  {
   "cell_type": "code",
   "execution_count": null,
   "outputs": [],
   "source": [
    "print(nx.info(nx_g))"
   ],
   "metadata": {
    "collapsed": false,
    "pycharm": {
     "name": "#%%\n"
    }
   }
  },
  {
   "cell_type": "code",
   "execution_count": null,
   "outputs": [],
   "source": [
    "values = {}\n",
    "\n",
    "with open('../VRG/input/cora/cora/cora.content') as fp:\n",
    "    for line in fp.readlines():\n",
    "        u, *_, cat = line.split()\n",
    "        values[int(u)] = cat"
   ],
   "metadata": {
    "collapsed": false,
    "pycharm": {
     "name": "#%%\n"
    }
   }
  },
  {
   "cell_type": "code",
   "execution_count": null,
   "outputs": [],
   "source": [
    "len(values)"
   ],
   "metadata": {
    "collapsed": false,
    "pycharm": {
     "name": "#%%\n"
    }
   }
  },
  {
   "cell_type": "code",
   "execution_count": null,
   "outputs": [],
   "source": [
    "nx.set_node_attributes(nx_g, name='value', values=values)"
   ],
   "metadata": {
    "collapsed": false,
    "pycharm": {
     "name": "#%%\n"
    }
   }
  },
  {
   "cell_type": "code",
   "execution_count": null,
   "outputs": [],
   "source": [
    "nx.write_gml(nx_g, '../VRG/input/cora.gml')"
   ],
   "metadata": {
    "collapsed": false,
    "pycharm": {
     "name": "#%%\n"
    }
   }
  },
  {
   "cell_type": "code",
   "execution_count": null,
   "outputs": [],
   "source": [],
   "metadata": {
    "collapsed": false,
    "pycharm": {
     "name": "#%%\n"
    }
   }
  },
  {
   "cell_type": "markdown",
   "source": [
    "## Do the same for attribute shuffled case"
   ],
   "metadata": {
    "collapsed": false
   }
  },
  {
   "cell_type": "code",
   "execution_count": null,
   "outputs": [],
   "source": [
    "def make_attr_shuffled_graph_df():\n",
    "    frac = np.linspace(0, 100, 11, endpoint=True, dtype=int)    \n",
    "    names = [f'toy-comm-{f}-attrs' for f in frac]\n",
    "    dfs = []\n",
    "\n",
    "    for f in frac:\n",
    "        orig_graph, attr_name = nx.read_gexf(f'../VRG/input/shuffled/attrs/toy-comm-{f}.gexf', node_type=int), 'block'\n",
    "        name = f'toy-comm-{f}-attrs'\n",
    "        print('\\n', name, '\\n')\n",
    "        for fname in glob.glob(f'/data/ssikdar/attributed-vrg/dumps/graphs/{name}/*'):\n",
    "            path = Path(fname)\n",
    "            print(path.stem, end='\\t', flush=True)\n",
    "            pattern = r'(.*)\\_(\\w+)\\_(\\d+)\\_(\\d+)'\n",
    "            m = re.match(pattern, path.stem)\n",
    "            grammar_type, clustering, mu, _ = m.groups()\n",
    "            df = make_graph_df(name, fname, orig_graph, mu, clustering, attr_name, grammar_type)\n",
    "            dfs.append(df)\n",
    "    return pd.concat(dfs, ignore_index=True)"
   ],
   "metadata": {
    "collapsed": false,
    "pycharm": {
     "name": "#%%\n"
    }
   }
  },
  {
   "cell_type": "code",
   "execution_count": null,
   "outputs": [],
   "source": [
    "attr_shuffled_graph_df = make_attr_shuffled_graph_df()"
   ],
   "metadata": {
    "collapsed": false,
    "pycharm": {
     "name": "#%%\n"
    }
   }
  },
  {
   "cell_type": "code",
   "execution_count": null,
   "outputs": [],
   "source": [
    "attr_shuffled_graph_df = attr_shuffled_graph_df[attr_shuffled_graph_df.model != 'AVRG']\n",
    "attr_shuffled_graph_df['frac'] = attr_shuffled_graph_df['name'].apply(lambda x: int(x.split('-')[-2]))"
   ],
   "metadata": {
    "collapsed": false,
    "pycharm": {
     "name": "#%%\n"
    }
   }
  },
  {
   "cell_type": "code",
   "execution_count": null,
   "outputs": [],
   "source": [
    "attr_shuffled_graph_df.head()"
   ],
   "metadata": {
    "collapsed": false,
    "pycharm": {
     "name": "#%%\n"
    }
   }
  },
  {
   "cell_type": "code",
   "execution_count": null,
   "outputs": [],
   "source": [
    "plt.rcParams['figure.figsize'] = (15, 8)\n",
    "fig, (ax1, ax2) = plt.subplots(nrows=1, ncols=2)\n",
    "\n",
    "sns.lineplot(x='frac', y='orig_degree_ast', marker='o', alpha=0.7, data=attr_shuffled_graph_df, ax=ax1, color='k', label='original');\n",
    "sns.lineplot(x='frac', y='gen_degree_ast', marker='o', alpha=0.7, ci=None, hue='model', data=attr_shuffled_graph_df, ax=ax1);\n",
    "ax1.set_ylabel('Degree Assortativity');\n",
    "ax1.set_xlabel('Fraction');\n",
    "ax1.set_ylim((-0.05, 1.1));\n",
    "\n",
    "sns.lineplot(x='frac', y='lambda_dist', marker='o', alpha=0.7, ci=None, hue='model', data=attr_shuffled_graph_df, ax=ax2);\n",
    "ax2.axhline(0, c='black');\n",
    "ax2.set_ylabel('Lambda Distance');\n",
    "ax2.set_xlabel('Fraction');\n",
    "ax2.set_ylim((-0.05, 1.1));\n",
    "ax2.legend().set_visible(False);"
   ],
   "metadata": {
    "collapsed": false,
    "pycharm": {
     "name": "#%%\n"
    }
   }
  },
  {
   "cell_type": "code",
   "execution_count": null,
   "outputs": [],
   "source": [
    "fig, (ax1, ax2) = plt.subplots(nrows=1, ncols=2)\n",
    "\n",
    "sns.lineplot(x='frac', y='orig_attr_ast', marker='o', alpha=0.7, data=attr_shuffled_graph_df, ax=ax1, color='k', label='original');\n",
    "sns.lineplot(x='frac', y='gen_attr_ast', marker='o', alpha=0.7, ci=None, hue='model', data=attr_shuffled_graph_df, ax=ax1);\n",
    "ax1.set_ylabel('Attribute Assortativity');\n",
    "ax1.set_xlabel('Fraction');\n",
    "ax1.set_ylim((-0.05, 0.95));\n",
    "\n",
    "sns.lineplot(x='frac', y='lambda_dist', marker='o', alpha=0.7, ci=None, hue='model', data=attr_shuffled_graph_df, ax=ax2);\n",
    "ax2.axhline(0, c='black');\n",
    "ax2.set_ylabel('Lambda Distance');\n",
    "ax2.set_xlabel('Fraction');\n",
    "ax2.set_ylim((-0.05, 0.95));\n",
    "ax2.legend().set_visible(False);"
   ],
   "metadata": {
    "collapsed": false,
    "pycharm": {
     "name": "#%%\n"
    }
   }
  },
  {
   "cell_type": "code",
   "execution_count": null,
   "outputs": [],
   "source": [
    "fig, (ax1, ax2) = plt.subplots(nrows=1, ncols=2, sharex=True)\n",
    "\n",
    "sns.lineplot(x='frac', y='orig_degree_ast', marker='o', alpha=0.7, data=attr_shuffled_graph_df, ax=ax1, color='k', label='original');\n",
    "sns.lineplot(x='frac', y='gen_degree_ast', marker='o', alpha=0.7, ci=None, hue='model', data=attr_shuffled_graph_df, ax=ax1);\n",
    "ax1.set_ylabel('Degree Assortativity');\n",
    "ax1.set_xlabel('Fraction');\n",
    "ax1.set_ylim((-0.05, 1));\n",
    "\n",
    "sns.lineplot(x='frac', y='orig_attr_ast', marker='o', alpha=0.7, data=attr_shuffled_graph_df, ax=ax2, color='k', label='original');\n",
    "sns.lineplot(x='frac', y='gen_attr_ast', marker='o', alpha=0.7, ci=None, hue='model', data=attr_shuffled_graph_df, ax=ax2);\n",
    "ax2.set_ylabel('Attribute Assortativity');\n",
    "ax2.set_xlabel('Fraction');\n",
    "ax2.set_ylim((-0.05, 1));"
   ],
   "metadata": {
    "collapsed": false,
    "pycharm": {
     "name": "#%%\n"
    }
   }
  },
  {
   "cell_type": "markdown",
   "source": [
    "## Test for bigger datasets"
   ],
   "metadata": {
    "collapsed": false
   }
  },
  {
   "cell_type": "code",
   "execution_count": null,
   "outputs": [],
   "source": [
    "name = 'pubmed'\n",
    "g, attr_name = get_graph(name)\n",
    "ret = get_compatibility_matrix(g, attr_name)"
   ],
   "metadata": {
    "collapsed": false,
    "pycharm": {
     "name": "#%%\n"
    }
   }
  },
  {
   "cell_type": "code",
   "execution_count": null,
   "outputs": [],
   "source": [
    "ret"
   ],
   "metadata": {
    "collapsed": false,
    "pycharm": {
     "name": "#%%\n"
    }
   }
  },
  {
   "cell_type": "code",
   "execution_count": null,
   "outputs": [],
   "source": [
    "plt.rcParams['figure.figsize'] = (12, 8)\n",
    "plt.rcParams['font.size'] = 20\n",
    "plt.rcParams['axes.labelsize'] = 30\n",
    "plt.rcParams['axes.titlesize'] = 20\n",
    "plt.rcParams['xtick.labelsize'] = 15\n",
    "plt.rcParams['ytick.labelsize'] = 15"
   ],
   "metadata": {
    "collapsed": false,
    "pycharm": {
     "name": "#%%\n"
    }
   }
  },
  {
   "cell_type": "code",
   "execution_count": null,
   "outputs": [],
   "source": [
    "labels = ret['mapping'].keys()\n",
    "sns.heatmap(ret['compatibility_mat'], xticklabels=labels, yticklabels=labels, annot=True, fmt='.2g'); "
   ],
   "metadata": {
    "collapsed": false,
    "pycharm": {
     "name": "#%%\n"
    }
   }
  },
  {
   "cell_type": "code",
   "execution_count": null,
   "outputs": [],
   "source": [
    "nx.degree_assortativity_coefficient(g)"
   ],
   "metadata": {
    "collapsed": false,
    "pycharm": {
     "name": "#%%\n"
    }
   }
  },
  {
   "cell_type": "code",
   "execution_count": null,
   "outputs": [],
   "source": [
    "deg_mixing_mat = nx.degree_mixing_matrix(g, normalized=False)"
   ],
   "metadata": {
    "collapsed": false,
    "pycharm": {
     "name": "#%%\n"
    }
   }
  },
  {
   "cell_type": "code",
   "execution_count": null,
   "outputs": [],
   "source": [
    "deg_mixing_mat.shape"
   ],
   "metadata": {
    "collapsed": false,
    "pycharm": {
     "name": "#%%\n"
    }
   }
  },
  {
   "cell_type": "code",
   "execution_count": null,
   "outputs": [],
   "source": [
    "binned_deg_mix_mat, bound = np.histogram2d(deg_mixing_mat, bins=10)"
   ],
   "metadata": {
    "collapsed": false,
    "pycharm": {
     "name": "#%%\n"
    }
   }
  },
  {
   "cell_type": "code",
   "execution_count": null,
   "outputs": [],
   "source": [
    "binned_deg_mix_mat"
   ],
   "metadata": {
    "collapsed": false,
    "pycharm": {
     "name": "#%%\n"
    }
   }
  },
  {
   "cell_type": "code",
   "execution_count": null,
   "outputs": [],
   "source": [
    "sns.heatmap(binned_deg_mix_mat); "
   ],
   "metadata": {
    "collapsed": false,
    "pycharm": {
     "name": "#%%\n"
    }
   }
  },
  {
   "cell_type": "code",
   "execution_count": null,
   "outputs": [],
   "source": [
    "sns.scatterplot(x='pagerank_js', y='compression', hue='clustering', size='mu', data=grammar_gen_df);"
   ],
   "metadata": {
    "collapsed": false,
    "pycharm": {
     "name": "#%%\n"
    }
   }
  },
  {
   "cell_type": "code",
   "execution_count": null,
   "outputs": [],
   "source": [
    "sns.scatterplot(x='lambda_dist', y='cost', hue='clustering', size='mu', data=grammar_gen_df);"
   ],
   "metadata": {
    "collapsed": false,
    "pycharm": {
     "name": "#%%\n"
    }
   }
  },
  {
   "cell_type": "code",
   "execution_count": null,
   "outputs": [],
   "source": [
    "sns.scatterplot(x='num_rules', y='compression', hue='clustering', size='mu', data=grammar_gen_df);"
   ],
   "metadata": {
    "collapsed": false,
    "pycharm": {
     "name": "#%%\n"
    }
   }
  },
  {
   "cell_type": "code",
   "execution_count": null,
   "outputs": [],
   "source": [],
   "metadata": {
    "collapsed": false,
    "pycharm": {
     "name": "#%%\n"
    }
   }
  },
  {
   "cell_type": "code",
   "execution_count": null,
   "outputs": [],
   "source": [],
   "metadata": {
    "collapsed": false,
    "pycharm": {
     "name": "#%%\n"
    }
   }
  },
  {
   "cell_type": "code",
   "execution_count": null,
   "outputs": [],
   "source": [
    "display(graph_df.head(), graph_df.shape)"
   ],
   "metadata": {
    "collapsed": false,
    "pycharm": {
     "name": "#%%\n"
    }
   }
  },
  {
   "cell_type": "code",
   "execution_count": null,
   "outputs": [],
   "source": [
    "import re"
   ],
   "metadata": {
    "collapsed": false,
    "pycharm": {
     "name": "#%%\n"
    }
   }
  },
  {
   "cell_type": "code",
   "execution_count": null,
   "outputs": [],
   "source": [
    "def get_frac(x):\n",
    "    return int(x.split('-')[-2])"
   ],
   "metadata": {
    "collapsed": false,
    "pycharm": {
     "name": "#%%\n"
    }
   }
  },
  {
   "cell_type": "code",
   "execution_count": null,
   "outputs": [],
   "source": [
    "graph_df['frac'] = graph_df['name'].apply(lambda x: get_frac(x))"
   ],
   "metadata": {
    "collapsed": false,
    "pycharm": {
     "name": "#%%\n"
    }
   }
  },
  {
   "cell_type": "code",
   "execution_count": null,
   "outputs": [],
   "source": [
    "graph_df['frac'].unique()"
   ],
   "metadata": {
    "collapsed": false,
    "pycharm": {
     "name": "#%%\n"
    }
   }
  },
  {
   "cell_type": "code",
   "execution_count": null,
   "outputs": [],
   "source": [
    "plt.rcParams['figure.figsize'] = [20, 6]\n",
    "fig, (ax1, ax2, ax3) = plt.subplots(nrows=1, ncols=3)\n",
    "\n",
    "ax1.set_ylim((-0.1, 1.1))\n",
    "ax2.set_ylim((-0.1, 1.1))\n",
    "ax3.set_ylim((-0.1, 4.5))\n",
    "\n",
    "sns.lineplot(x='frac', y='degree_js', hue='model', data=graph_df, ax=ax1);\n",
    "sns.lineplot(x='frac', y='pagerank_js', hue='model', data=graph_df, ax=ax2);\n",
    "sns.lineplot(x='frac', y='lambda_dist', hue='model', data=graph_df, ax=ax3);\n",
    "ax2.legend().set_visible(False);\n",
    "ax3.legend().set_visible(False);"
   ],
   "metadata": {
    "collapsed": false,
    "pycharm": {
     "name": "#%%\n"
    }
   }
  },
  {
   "cell_type": "code",
   "execution_count": null,
   "outputs": [],
   "source": [],
   "metadata": {
    "collapsed": false,
    "pycharm": {
     "name": "#%%\n"
    }
   }
  },
  {
   "cell_type": "code",
   "execution_count": null,
   "outputs": [],
   "source": [
    "plt.rcParams['figure.figsize'] = [20, 6]\n",
    "fig, (ax1, ax2, ax3) = plt.subplots(nrows=1, ncols=3)\n",
    "\n",
    "ax1.set_ylim((-0.1, 1.1))\n",
    "ax2.set_ylim((-0.1, 1.1))\n",
    "ax3.set_ylim((-0.1, 4.5))\n",
    "\n",
    "sns.boxplot(x='name', y='degree_js', hue='model', data=graph_df, ax=ax1);\n",
    "sns.boxplot(x='name', y='pagerank_js', hue='model', data=graph_df, ax=ax2);\n",
    "sns.boxplot(x='name', y='lambda_dist', hue='model', data=graph_df, ax=ax3);\n",
    "ax2.legend().set_visible(False);\n",
    "ax3.legend().set_visible(False);"
   ],
   "metadata": {
    "collapsed": false,
    "pycharm": {
     "name": "#%%\n"
    }
   }
  },
  {
   "cell_type": "code",
   "execution_count": null,
   "outputs": [],
   "source": [
    "plt.rcParams['figure.figsize'] = [15, 6]\n",
    "fig, (ax1, ax2) = plt.subplots(nrows=1, ncols=2)\n",
    "\n",
    "ax1.set_ylim((-0.1, 1))\n",
    "ax2.set_ylim((-0.1, 1))\n",
    "\n",
    "sns.lineplot(x='frac', y='deg_ast_diff', hue='model', data=graph_df, ax=ax1);\n",
    "sns.lineplot(x='frac', y='attr_ast_diff', hue='model', data=graph_df, ax=ax2);\n",
    "ax2.legend().set_visible(False);"
   ],
   "metadata": {
    "collapsed": false,
    "pycharm": {
     "name": "#%%\n"
    }
   }
  },
  {
   "cell_type": "code",
   "execution_count": null,
   "outputs": [],
   "source": [
    "plt.rcParams['figure.figsize'] = [20, 6]\n",
    "fig, (ax1, ax2, ax3) = plt.subplots(nrows=1, ncols=3)\n",
    "\n",
    "ax1.set_ylim((-0.1, 1))\n",
    "ax2.set_ylim((-0.1, 1))\n",
    "\n",
    "sns.boxplot(x='model', y='degree_js', hue='clustering', data=graph_df, ax=ax1);\n",
    "sns.boxplot(x='model', y='pagerank_js', hue='clustering', data=graph_df, ax=ax2);\n",
    "sns.boxplot(x='model', y='lambda_dist', hue='clustering', data=graph_df, ax=ax3);\n",
    "ax2.legend().set_visible(False);\n",
    "ax3.legend().set_visible(False);"
   ],
   "metadata": {
    "collapsed": false,
    "pycharm": {
     "name": "#%%\n"
    }
   }
  },
  {
   "cell_type": "code",
   "execution_count": null,
   "outputs": [],
   "source": [
    "plt.rcParams['figure.figsize'] = [15, 6]\n",
    "fig, (ax1, ax2) = plt.subplots(nrows=1, ncols=2)\n",
    "\n",
    "ax1.set_ylim((-0.1, 1))\n",
    "ax2.set_ylim((-0.1, 1))\n",
    "\n",
    "sns.boxplot(x='name', y='deg_ast_diff', hue='model', data=graph_df, ax=ax1);\n",
    "sns.boxplot(x='name', y='attr_ast_diff', hue='model', data=graph_df, ax=ax2);\n",
    "ax2.legend().set_visible(False);"
   ],
   "metadata": {
    "collapsed": false,
    "pycharm": {
     "name": "#%%\n"
    }
   }
  },
  {
   "cell_type": "code",
   "execution_count": null,
   "outputs": [],
   "source": [
    "plt.rcParams['figure.figsize'] = [15, 6]\n",
    "fig, (ax1, ax2) = plt.subplots(nrows=1, ncols=2)\n",
    "\n",
    "ax1.set_ylim((-0.1, 1))\n",
    "ax2.set_ylim((-0.1, 1))\n",
    "\n",
    "sns.boxplot(x='model', y='deg_ast_diff', hue='clustering', data=graph_df, ax=ax1);\n",
    "sns.boxplot(x='model', y='attr_ast_diff', hue='clustering', data=graph_df, ax=ax2);\n",
    "ax2.legend().set_visible(False);"
   ],
   "metadata": {
    "collapsed": false,
    "pycharm": {
     "name": "#%%\n"
    }
   }
  },
  {
   "cell_type": "markdown",
   "source": [
    "----"
   ],
   "metadata": {
    "collapsed": false
   }
  },
  {
   "cell_type": "code",
   "execution_count": null,
   "outputs": [],
   "source": [
    "# plot out the evolution of the generated graph\n",
    "gen = load_pickle('/data/ssikdar/attributed-vrg/dumps/generators/karate/AVRG-fancy_cond_5_10.pkl')"
   ],
   "metadata": {
    "collapsed": false,
    "pycharm": {
     "name": "#%%\n"
    }
   }
  },
  {
   "cell_type": "code",
   "execution_count": null,
   "outputs": [],
   "source": [],
   "metadata": {
    "collapsed": false,
    "pycharm": {
     "name": "#%%\n"
    }
   }
  },
  {
   "cell_type": "code",
   "execution_count": null,
   "outputs": [],
   "source": [
    "def filter_terminal_graph(graph):\n",
    "    terminal_nodes = [n for n, d in graph.nodes(data=True) if 'nt' not in d]\n",
    "    return graph.subgraph(terminal_nodes).copy()"
   ],
   "metadata": {
    "collapsed": false,
    "pycharm": {
     "name": "#%%\n"
    }
   }
  },
  {
   "cell_type": "code",
   "execution_count": null,
   "outputs": [],
   "source": [
    "rows = []\n",
    "cols = ['snap_id', 'name', 'model', 'clustering', 'attr_name',\n",
    "        'orig_n', 'orig_m', 'orig_deg_ast', 'orig_att_ast',\n",
    "        'mu', 'n', 'm', 't', 'term_graph',\n",
    "        'term_n', 'term_m', 'term_degree_js', 'term_pagerank_js', 'term_lambda_dist',\n",
    "        'term_deg_ast', 'term_attr_ast']\n",
    "\n",
    "names = ['karate', 'football', 'polbooks', 'polblogs', 'eucore', 'flights', 'chess']\n",
    "# frac = np.linspace(0, 1, 21, endpoint=True) * 100\n",
    "# names = [f'3-comm-{int(f)}' for f in frac]\n",
    "# shuffle = 'edges'\n",
    "\n",
    "for name in names[: 3]:\n",
    "    orig_graph, attr_name = get_graph(name)\n",
    "#     orig_graph, attr_name = nx.read_gexf(f'../VRG/input/shuffled/{shuffle}/{name}.gexf'), 'block'\n",
    "#     name = f'{name}-{shuffle}'\n",
    "    orig_deg_ast = nx.degree_assortativity_coefficient(orig_graph)\n",
    "    if attr_name != '': orig_att_ast = nx.attribute_assortativity_coefficient(orig_graph, attr_name)\n",
    "\n",
    "    orig_gstats = GraphStats(orig_graph)\n",
    "    \n",
    "    for gen_filename in glob.glob(f'/data/ssikdar/attributed-vrg/dumps/generators/{name}/*'):\n",
    "        path = Path(gen_filename)\n",
    "        gen = load_pickle(path)\n",
    "\n",
    "        print(path.stem, end='\\t', flush=True)\n",
    "        pattern = r'(.*)\\_(\\w+)\\_(\\d+)\\_(\\d+)'\n",
    "        m = re.match(pattern, path.stem)\n",
    "        grammar_type, clustering, mu, _ = m.groups()\n",
    "        \n",
    "        for snap_id, snapshot in enumerate(gen.all_gen_snapshots):\n",
    "            for t, graph in enumerate(snapshot):\n",
    "                terminal_graph = filter_terminal_graph(graph)\n",
    "                terminal_graph = un_nest_attr_dict(terminal_graph)\n",
    "                row = {col: np.nan for col in cols}\n",
    "\n",
    "                row.update(dict(snap_id=snap_id, name=gen.grammar.name, \n",
    "                           model=grammar_type, clustering=clustering, attr_name=attr_name,\n",
    "                           orig_n=orig_graph.order(), orig_m=orig_graph.size(),\n",
    "                           orig_deg_ast=orig_deg_ast, orig_att_ast=orig_att_ast,\n",
    "                           mu=gen.grammar.mu, t=t, n=graph.order(), m=graph.size(), term_graph=terminal_graph,\n",
    "                           term_n=terminal_graph.order(), term_m=terminal_graph.size()))\n",
    "                \n",
    "                if terminal_graph.size() > 0:\n",
    "                    gen_gstats = GraphStats(terminal_graph)\n",
    "\n",
    "                    gpc = GraphPairCompare(orig_gstats, gen_gstats)\n",
    "                    row.update(term_degree_js=gpc.degree_js(), term_pagerank_js=gpc.pagerank_js(), \n",
    "                               term_lambda_dist=gpc.lambda_dist(), \n",
    "                               term_deg_ast=nx.degree_assortativity_coefficient(terminal_graph),\n",
    "                               term_att_ast=nx.attribute_assortativity_coefficient(terminal_graph, attr_name))\n",
    "                rows.append(row)\n",
    "\n",
    "gen_df = pd.DataFrame(rows)"
   ],
   "metadata": {
    "collapsed": false,
    "pycharm": {
     "name": "#%%\n"
    }
   }
  },
  {
   "cell_type": "code",
   "execution_count": null,
   "outputs": [],
   "source": [
    "gen_df.to_csv('./gen_df.csv', index=False)"
   ],
   "metadata": {
    "collapsed": false,
    "pycharm": {
     "name": "#%%\n"
    }
   }
  },
  {
   "cell_type": "code",
   "execution_count": null,
   "outputs": [],
   "source": [
    "gen_df = pd.read_csv('gen_df.csv')"
   ],
   "metadata": {
    "collapsed": false,
    "pycharm": {
     "name": "#%%\n"
    }
   }
  },
  {
   "cell_type": "code",
   "execution_count": null,
   "outputs": [],
   "source": [
    "plt.rcParams['figure.figsize'] = [15, 10]\n",
    "fig, (ax1, ax2, ax3, ax4) = plt.subplots(nrows=4, ncols=1)\n",
    "\n",
    "# ax1.set_ylim((-0.1, 1))\n",
    "# ax2.set_ylim((-0.1, 1))\n",
    "# ax1.set_ylim((-0.1, 1.05))\n",
    "ax1.axhline(1, c='k')\n",
    "\n",
    "sns.lineplot(x='t', y='term_frac_m', hue='model', marker='o', data=gen_df, ax=ax1);\n",
    "sns.lineplot(x='t', y='term_lambda_dist', hue='model', marker='o', data=gen_df, ax=ax2);\n",
    "sns.lineplot(x='t', y='term_deg_ast', hue='model', marker='o', data=gen_df, ax=ax3);\n",
    "sns.lineplot(x='t', y='term_attr_ast', hue='model', marker='o', data=gen_df, ax=ax4);"
   ],
   "metadata": {
    "collapsed": false,
    "pycharm": {
     "name": "#%%\n"
    }
   }
  },
  {
   "cell_type": "code",
   "execution_count": null,
   "outputs": [],
   "source": [
    "def group_plot(df):\n",
    "    metrics = ['term_n', 'term_degree_js', 'term_pagerank_js', 'term_lambda_dist', 'term_deg_ast', 'term_att_ast'][-2: ]\n",
    "    rows = len(metrics)\n",
    "    \n",
    "    names = df.name.unique() # ['karate', 'football']\n",
    "    cols = len(names)\n",
    "\n",
    "    l_d_min = min(df[df.name==name].term_lambda_dist.min() for name in names) - 0.1\n",
    "    l_d_max = max(df[df.name==name].term_lambda_dist.max() for name in names) + 2\n",
    "    \n",
    "    plt.rcParams['figure.figsize'] = [20, 12]\n",
    "#     plt.rcParams['figure.figsize'] = [20, 12]\n",
    "    fig, axes = plt.subplots(nrows=rows, ncols=cols,)\n",
    "\n",
    "    for i in range(rows):\n",
    "        for j in range(cols):\n",
    "            ax = axes[i, j]\n",
    "            metric = metrics[i]\n",
    "            name = names[j]\n",
    "            filtered_df = df[df.name==name]\n",
    "            \n",
    "            if i == 0 and j == 0:\n",
    "                legend_style = 'brief'\n",
    "            else:\n",
    "                legend_style = ''\n",
    "            \n",
    "#             ax.set_xscale('log')\n",
    "            sns.lineplot(x='t', y=metric, ax=ax, data=filtered_df, alpha=0.85,\n",
    "                         hue='model', marker='o', ci=99, err_style='band', legend=legend_style);\n",
    "            \n",
    "            if 'js' in metric:\n",
    "                ax.set_ylim((-0.05, 1.1))\n",
    "            elif 'lambda_dist' in metric:\n",
    "                ax.set_ylim((-1, 5))\n",
    "            elif 'ast' in metric:\n",
    "                ax.set_ylim((-1.05, 1.05))\n",
    "                \n",
    "            if 'deg_ast' in metric:\n",
    "                ax.axhline(filtered_df.orig_deg_ast.mean())\n",
    "            if 'att_ast' in metric:\n",
    "                ax.axhline(filtered_df.orig_att_ast.mean())\n",
    "            if 'term_n' in metric:\n",
    "                ax.axhline(filtered_df.orig_n.mean())\n",
    "            \n",
    "            if j == 0:\n",
    "                ax.set_ylabel(metric)\n",
    "            else:\n",
    "                ax.set_ylabel('')\n",
    "                \n",
    "            if i == 0:\n",
    "                ax.set_title(name)\n",
    "            else:\n",
    "                ax.set_title('')\n",
    "                \n",
    "            if i == rows - 1:\n",
    "                ax.set_xlabel('t')\n",
    "            else:\n",
    "                ax.set_xlabel('')\n",
    "            \n",
    "#     plt.suptitle(f'{name}', y=1.01);\n",
    "    plt.tight_layout()"
   ],
   "metadata": {
    "collapsed": false,
    "pycharm": {
     "name": "#%%\n"
    }
   }
  },
  {
   "cell_type": "code",
   "execution_count": null,
   "outputs": [],
   "source": [
    "group_plot(gen_df)"
   ],
   "metadata": {
    "collapsed": false,
    "pycharm": {
     "name": "#%%\n"
    }
   }
  },
  {
   "cell_type": "code",
   "execution_count": null,
   "outputs": [],
   "source": [
    "# plot dasgupta cost v. graph quality\n",
    "# diversity of output graphs - APL v CC / PGD PCA "
   ],
   "metadata": {
    "collapsed": false,
    "pycharm": {
     "name": "#%%\n"
    }
   }
  }
 ],
 "metadata": {
  "kernelspec": {
   "display_name": "VRG",
   "language": "python",
   "name": "vrg"
  },
  "language_info": {
   "codemirror_mode": {
    "name": "ipython",
    "version": 3
   },
   "file_extension": ".py",
   "mimetype": "text/x-python",
   "name": "python",
   "nbconvert_exporter": "python",
   "pygments_lexer": "ipython3",
   "version": "3.7.7"
  }
 },
 "nbformat": 4,
 "nbformat_minor": 4
}