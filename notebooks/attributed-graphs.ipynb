{
 "cells": [
  {
   "cell_type": "code",
   "execution_count": null,
   "metadata": {},
   "outputs": [],
   "source": [
    "%load_ext autoreload"
   ]
  },
  {
   "cell_type": "code",
   "execution_count": null,
   "metadata": {},
   "outputs": [],
   "source": [
    "%autoreload 2"
   ]
  },
  {
   "cell_type": "code",
   "execution_count": null,
   "metadata": {},
   "outputs": [],
   "source": [
    "%matplotlib inline"
   ]
  },
  {
   "cell_type": "markdown",
   "metadata": {},
   "source": [
    "# Attributed graphs in NetworkX"
   ]
  },
  {
   "cell_type": "code",
   "execution_count": 1,
   "metadata": {},
   "outputs": [],
   "source": [
    "import networkx as nx\n",
    "import igraph as ig\n",
    "import numpy as np\n",
    "import glob\n",
    "import re\n",
    "from pathlib import Path\n",
    "import pandas as pd\n",
    "import matplotlib.pyplot as plt\n",
    "from matplotlib import gridspec\n",
    "import seaborn as sns; sns.set_style('white')\n",
    "import sys; sys.path.append('../')\n",
    "from time import time\n",
    "import logging\n",
    "from anytree import LevelOrderIter\n",
    "from statistics import mean\n",
    "import os\n",
    "import pickle"
   ]
  },
  {
   "cell_type": "code",
   "execution_count": 2,
   "metadata": {},
   "outputs": [
    {
     "name": "stdout",
     "output_type": "stream",
     "text": [
      "sys path:  ['/home/jupyter-ssikdar/Attributed-VRG/notebooks', '/home/jupyter-ssikdar/miniconda3/envs/VRG/lib/python37.zip', '/home/jupyter-ssikdar/miniconda3/envs/VRG/lib/python3.7', '/home/jupyter-ssikdar/miniconda3/envs/VRG/lib/python3.7/lib-dynload', '', '/home/jupyter-ssikdar/miniconda3/envs/VRG/lib/python3.7/site-packages', '/home/jupyter-ssikdar/miniconda3/envs/VRG/lib/python3.7/site-packages/IPython/extensions', '/home/jupyter-ssikdar/.ipython', '../', './../', './../../']\n"
     ]
    }
   ],
   "source": [
    "from VRG.src.utils import nx_to_igraph, check_file_exists\n",
    "from VRG.src.graph_stats import GraphStats\n",
    "from VRG.src.graph_comparison import GraphPairCompare\n",
    "from VRG.runner import get_clustering\n",
    "from VRG.src.Tree import create_tree, dasgupta_cost\n",
    "from VRG.src.MDL import graph_dl as graph_mdl"
   ]
  },
  {
   "cell_type": "code",
   "execution_count": 3,
   "metadata": {},
   "outputs": [],
   "source": [
    "plt.rcParams['figure.figsize'] = (15, 10)\n",
    "plt.rcParams['font.size'] = 50\n",
    "plt.rcParams['axes.labelsize'] = 20\n",
    "plt.rcParams['axes.titlesize'] = 20"
   ]
  },
  {
   "cell_type": "code",
   "execution_count": 4,
   "metadata": {},
   "outputs": [],
   "source": [
    "def load_pickle(fname):\n",
    "#     logging.error(f'Reading {fname!r}')\n",
    "    return pickle.load(open(fname, 'rb'))"
   ]
  },
  {
   "cell_type": "code",
   "execution_count": 5,
   "metadata": {},
   "outputs": [],
   "source": [
    "def un_nest_attr_dict(g):\n",
    "    new_g = nx.Graph()\n",
    "    for n, d in g.nodes(data=True):\n",
    "        while 'attr_dict' in d:\n",
    "            d = d['attr_dict']\n",
    "        new_g.add_node(n, **d)\n",
    "    new_g.add_edges_from(g.edges())\n",
    "    return new_g"
   ]
  },
  {
   "cell_type": "code",
   "execution_count": 19,
   "metadata": {},
   "outputs": [],
   "source": [
    "def get_graph(gname: str = 'sample'):\n",
    "    start_time = time()\n",
    "    attr_name = ''\n",
    "    if gname == 'sample':\n",
    "        g = nx.Graph()\n",
    "        g.add_nodes_from(range(5), color='blue')\n",
    "        g.add_nodes_from(range(5, 9), color='red')\n",
    "\n",
    "        g.add_edges_from([(0, 1), (0, 3), (0, 4),\n",
    "                          (1, 2), (1, 4), (1, 5),\n",
    "                          (2, 3), (2, 4), (2, 8),\n",
    "                          (3, 4),\n",
    "                          (5, 6), (5, 7), (5, 8),\n",
    "                          (6, 7), (6, 8),\n",
    "                          (7, 8)])  # properly labeled\n",
    "        g.name = 'sample'\n",
    "        attr_name = 'color'\n",
    "    elif gname == 'karate':\n",
    "        g = nx.karate_club_graph()\n",
    "        attr_name = 'club'\n",
    "        g.name = 'karate'\n",
    "    elif gname == 'BA':\n",
    "        g = nx.barabasi_albert_graph(10, 2, seed=42)\n",
    "        # g = nx.MultiGraph(g)\n",
    "        g = nx.Graph()\n",
    "    elif gname.endswith('.gpickle'):\n",
    "        g = nx.read_gpickle(gname)\n",
    "        g.name = Path(gname).stem\n",
    "    else:\n",
    "        if gname in ('waterloo', 'grenoble', 'uppsala'):\n",
    "            g = nx.read_gpickle(f'../snap_data/cleaned/{gname}_lcc_attr.gpickle')\n",
    "        elif gname in ('polblogs', 'polbooks', 'football', 'bipartite-10-10', 'us-flights',\n",
    "                       'cora', 'citeseer', 'pubmed'):\n",
    "            g = nx.read_gml(f'../VRG/input/{gname}.gml')\n",
    "            attr_name = 'value'\n",
    "        else:\n",
    "            path = f'../VRG/input/{gname}.g'\n",
    "            g = nx.read_edgelist(path, nodetype=int, create_using=nx.Graph())\n",
    "\n",
    "        g.remove_edges_from(nx.selfloop_edges(g))\n",
    "        if not nx.is_connected(g):\n",
    "            nodes_lcc = max(nx.connected_components(g), key=len)\n",
    "            g = g.subgraph(nodes_lcc).copy()\n",
    "        name = g.name\n",
    "        g = nx.convert_node_labels_to_integers(g, label_attribute='orig_label')\n",
    "        g.name = name\n",
    "\n",
    "    end_time = round(time() - start_time, 2)\n",
    "    logging.error(f'Graph: {gname}, n = {g.order():_d}, m = {g.size():_d}, read in {round(end_time, 3):_g}s.')\n",
    "\n",
    "    return g, attr_name"
   ]
  },
  {
   "cell_type": "code",
   "execution_count": 7,
   "metadata": {},
   "outputs": [],
   "source": [
    "def get_clustering(g: nx.Graph, outdir: str, clustering: str, use_pickle: bool, max_size=None):\n",
    "    \"\"\"\n",
    "    wrapper method for getting dendrogram. uses an existing pickle if it can.\n",
    "    :param g: graph\n",
    "    :param outdir: output directory where picles are stored\n",
    "    :param clustering: name of clustering method\n",
    "    :param use_pickle: flag to whether or not to use the pickle\n",
    "    :return: root node of the dendrogram\n",
    "    \"\"\"\n",
    "    if g.name == 'sample':\n",
    "        list_of_list_clusters = [\n",
    "            [\n",
    "                [[0], [1]],\n",
    "                [[2], [[3], [4]]]\n",
    "            ],\n",
    "            [\n",
    "                [[5], [6]],\n",
    "                [[7], [8]]\n",
    "            ]\n",
    "        ]\n",
    "        return list_of_list_clusters\n",
    "\n",
    "    list_of_list_filename = os.path.join(outdir, f'{clustering}_list.pkl')\n",
    "\n",
    "    if not os.path.exists(f'./{outdir}'):\n",
    "        os.makedirs(f'./{outdir}')\n",
    "\n",
    "    if check_file_exists(list_of_list_filename) and use_pickle:\n",
    "        logging.error(f'Using existing pickle for {clustering!r} clustering\\n')\n",
    "        list_of_list_clusters = load_pickle(list_of_list_filename)\n",
    "\n",
    "    else:\n",
    "        tqdm.write(f'Running {clustering!r} clustering...')\n",
    "        if clustering == 'random':\n",
    "            list_of_list_clusters = partitions.get_random_partition(g)\n",
    "        elif clustering == 'consensus':\n",
    "            # delete the matlab tree and sc files\n",
    "            matlab_files_path = './src/matlab_clustering/HierarchicalConsensus/data'\n",
    "            tree_path = os.path.join(matlab_files_path, f'{g.name}_tree.mat')\n",
    "            sc_path = os.path.join(matlab_files_path, f'{g.name}_sc.vec')\n",
    "            if check_file_exists(tree_path):\n",
    "                os.remove(tree_path)\n",
    "            if check_file_exists(sc_path):\n",
    "                os.remove(sc_path)\n",
    "            list_of_list_clusters = get_consensus_root(g=g, gname=g.name)\n",
    "        elif clustering in ('leiden', 'louvain', 'infomap', 'labelprop'):\n",
    "            if max_size is None: max_size = g.order()\n",
    "            list_of_list_clusters = partitions.louvain_leiden_infomap_label_prop(g, method=clustering, max_size=max_size)\n",
    "        elif clustering == 'cond':\n",
    "            list_of_list_clusters = partitions.approx_min_conductance_partitioning(g)\n",
    "        elif clustering == 'spectral':\n",
    "            list_of_list_clusters = partitions.spectral_kmeans(g, K=int(math.sqrt(g.order() // 2)))\n",
    "        else:\n",
    "            raise NotImplementedError(f'Invalid clustering algorithm {clustering!r}')\n",
    "        dump_pickle(list_of_list_clusters, list_of_list_filename)\n",
    "\n",
    "    return list_of_list_clusters"
   ]
  },
  {
   "cell_type": "code",
   "execution_count": 8,
   "metadata": {},
   "outputs": [],
   "source": [
    "def plot_graph(g, ax=None, title='', attr_name='', mixing_dict={}):\n",
    "    if attr_name != '' and len(mixing_dict) == 0:\n",
    "        mixing_dict = nx.attribute_mixing_dict(g, attr_name)\n",
    "        \n",
    "    unique_values = set(mixing_dict.keys())\n",
    "    colors = sns.color_palette('pastel', n_colors=len(unique_values))\n",
    "    color_map = {val: col for val, col in zip(unique_values, colors)}\n",
    "\n",
    "    try:\n",
    "        colors = [color_map[d[attr_name]] for _, d in g.nodes(data=True)]\n",
    "    except KeyError:\n",
    "        colors = '#77dd77'\n",
    "    pos = nx.spring_layout(g)\n",
    "\n",
    "    if ax is not None:\n",
    "        ax.set_title(title, fontsize=20)\n",
    "    nx.draw_networkx_nodes(g, pos=pos, node_size=100, node_color=colors, alpha=0.95, ax=ax)\n",
    "    nx.draw_networkx_edges(g, pos=pos, edge_color='gray', alpha=0.7, ax=ax)\n",
    "    return"
   ]
  },
  {
   "cell_type": "code",
   "execution_count": 9,
   "metadata": {},
   "outputs": [],
   "source": [
    "def grid_plot(graphs, graph_name='', attr_name='', mixing_dict={}):\n",
    "    # todo keep the positions of the constant nodes fixed\n",
    "    rows, cols = 2, 4\n",
    "    plt.rcParams['figure.figsize'] = [30, 15]\n",
    "\n",
    "    grid = gridspec.GridSpec(rows, cols)\n",
    "    fig = plt.figure()\n",
    "    for i, box in enumerate(grid):\n",
    "        ax = fig.add_subplot(box)\n",
    "        g = graphs[i]\n",
    "        deg_as = round(nx.degree_assortativity_coefficient(g), 3)\n",
    "        attr_as = round(nx.attribute_assortativity_coefficient(g, attribute=attr_name), 3)\n",
    "        title = f'g{i + 1} {g.order(), g.size()} degree as: {deg_as} {attr_name} as: {attr_as}'\n",
    "        plot_graph(g, ax=ax, title=title, mixing_dict=mixing_dict, attr_name=attr_name)\n",
    "\n",
    "    plt.tight_layout()\n",
    "    plt.suptitle(f'{graph_name}', y=1, fontsize=25)"
   ]
  },
  {
   "cell_type": "code",
   "execution_count": 10,
   "metadata": {},
   "outputs": [],
   "source": [
    "def read_cabam_graphs():\n",
    "    cabam_input_graphs = load_pickle('/data/ssikdar/attributed-vrg/cabam.graphs')\n",
    "    cleaned_graphs = []\n",
    "\n",
    "    for g in cabam_input_graphs:\n",
    "        g.remove_edges_from(nx.selfloop_edges(g))\n",
    "        if not nx.is_connected(g):\n",
    "            nodes_lcc = max(nx.connected_components(g), key=len)\n",
    "            g = g.subgraph(nodes_lcc).copy()\n",
    "        g = nx.convert_node_labels_to_integers(g, label_attribute='orig_label')\n",
    "        g.name = 'CABAM'\n",
    "        cleaned_graphs.append(g)\n",
    "\n",
    "    return cleaned_graphs"
   ]
  },
  {
   "cell_type": "code",
   "execution_count": 11,
   "metadata": {},
   "outputs": [],
   "source": [
    "def get_tree_stats(g, root):\n",
    "    \"\"\"\n",
    "    Compute height of the tree, avg branching factor, dasgupta cost\n",
    "    \"\"\"\n",
    "    ht = root.height\n",
    "    avg_branch_factor = mean(len(node.children) for node in LevelOrderIter(root) if len(node.children) > 1)\n",
    "    dc = dasgupta_cost(g, root)\n",
    "    return ht, avg_branch_factor, dc"
   ]
  },
  {
   "cell_type": "code",
   "execution_count": 12,
   "metadata": {},
   "outputs": [],
   "source": [
    "def get_compatibility_matrix(g: nx.Graph, attr_name: str):\n",
    "    \"\"\"\n",
    "    From Danai's heterophily paper\n",
    "    :param g:\n",
    "    :param attr_name:\n",
    "    :return:\n",
    "    \"\"\"\n",
    "    values = set(nx.get_node_attributes(g, attr_name).values())\n",
    "    mapping = {val: i for i, val in enumerate(values)}\n",
    "#     print(mapping)\n",
    "    C = nx.attribute_mixing_matrix(g, attribute=attr_name, mapping=mapping, normalized=False)\n",
    "    np.fill_diagonal(C, C.diagonal() / 2)\n",
    "\n",
    "    D = np.diag(np.diag(C))\n",
    "    e = np.ones(shape=(len(mapping), 1))\n",
    "\n",
    "    h = float((e.T @ D @ e) / (e.T @ C @ e))\n",
    "    H = np.nan\n",
    "\n",
    "#     Y = np.zeros(shape=(g.order(), len(mapping)))\n",
    "#     for n, d in g.nodes(data=True):\n",
    "#         attr = d[attr_name]\n",
    "#         Y[n, mapping[attr]] = 1\n",
    "#     A = nx.adjacency_matrix(g)\n",
    "#     E = np.ones(shape=(A.shape[0], len(mapping)))\n",
    "\n",
    "#     H = (Y.T @ A @ Y) / (Y.T @ A @ E)\n",
    "\n",
    "    return_d = dict(homophily_ratio=h, compatibility_mat=H, attr_name=attr_name, mapping=mapping)\n",
    "    return return_d"
   ]
  },
  {
   "cell_type": "code",
   "execution_count": 67,
   "metadata": {},
   "outputs": [],
   "source": [
    "def make_graph_df(name, fname, orig_graph, mu, clustering, attr_name, grammar_type):\n",
    "    deg_ast_fn = nx.degree_assortativity_coefficient\n",
    "    attr_ast_fn = nx.attribute_assortativity_coefficient\n",
    "    \n",
    "    gen_graphs = load_pickle(fname)\n",
    "    \n",
    "    cols = ['name', 'orig_n', 'orig_m', 'orig_degree_ast', 'attr_name', 'orig_attr_ast', \n",
    "            'model', 'mu', 'clustering', 'gen_n', 'gen_m', 'gen_degree_ast', 'gen_attr_ast', \n",
    "            'total_rewired_edges', 'fancy_rewired_edges',\n",
    "            'degree_js', 'pagerank_js', 'lambda_dist', 'deg_ast_diff', 'attr_ast_diff']\n",
    "    \n",
    "    row = {col: np.nan for col in cols}\n",
    "    \n",
    "    orig_deg_ast = deg_ast_fn(orig_graph)\n",
    "    orig_attr_ast = attr_ast_fn(orig_graph, attr_name) if attr_name != '' else np.nan\n",
    "    orig_gstats = GraphStats(orig_graph)\n",
    "    orig_homophily_ratio = get_compatibility_matrix(orig_graph, attr_name)['homophily_ratio']\n",
    "    rows = []\n",
    "    \n",
    "    for g in gen_graphs[: 20]:\n",
    "        g = un_nest_attr_dict(g)\n",
    "        gen_gstats = GraphStats(g)\n",
    "        gpc = GraphPairCompare(orig_gstats, gen_gstats)\n",
    "        gen_deg_ast = deg_ast_fn(g)\n",
    "        gen_attr_ast = attr_ast_fn(g, attr_name) if attr_name != '' else np.nan\n",
    "        total_rewired_edges = g.graph.get('total_rewirings', 0)\n",
    "        fancy_rewired_edges = g.graph.get('fancy_rewirings', 0)\n",
    "        h = get_compatibility_matrix(g, attr_name)['homophily_ratio']\n",
    "        \n",
    "        row = {'name': name, 'orig_n': orig_graph.order(), 'orig_m': orig_graph.size(), \n",
    "               'orig_degree_ast': deg_ast_fn(orig_graph), 'attr_name': attr_name, \n",
    "               'orig_attr_ast': orig_attr_ast, 'model': grammar_type, \n",
    "               'clustering': clustering, 'mu': mu, 'orig_homophily_ratio': orig_homophily_ratio,\n",
    "               'gen_n': g.order(), 'gen_m': g.size(), 'gen_degree_ast': gen_deg_ast, 'gen_attr_ast': gen_attr_ast, \n",
    "               'total_rewired_edges': total_rewired_edges, 'fancy_rewired_edges': fancy_rewired_edges,\n",
    "               'degree_js': gpc.degree_js(), 'pagerank_js': gpc.pagerank_js(), 'lambda_dist': gpc.lambda_dist(), \n",
    "               'deg_ast_diff': np.abs(orig_deg_ast - gen_deg_ast), 'attr_ast_diff': np.abs(orig_attr_ast - gen_attr_ast),\n",
    "               'gen_homophily_ratio': h\n",
    "              }\n",
    "        \n",
    "        rows.append(row)\n",
    "    \n",
    "    return pd.DataFrame(rows)"
   ]
  },
  {
   "cell_type": "code",
   "execution_count": null,
   "metadata": {
    "scrolled": true
   },
   "outputs": [],
   "source": [
    "def make_grammar_df(names=None, graphs=None):\n",
    "    if names is None:\n",
    "        names = ['karate', 'football', 'polbooks', 'polblogs', 'cora', 'citeseer', 'pubmed'][: -1]\n",
    "\n",
    "#     frac = np.linspace(0, 1, 21, endpoint=True) * 100\n",
    "#     names = [f'3-comm-{int(f)}' for f in frac]\n",
    "#     shuffle = 'edges'\n",
    "    rows = []\n",
    "\n",
    "#     root_dict = {f'{name}-{shuffle}': {} for name in names}\n",
    "    root_dict = {f'{name}': {} for name in names}\n",
    "    dl_dict = {}\n",
    "    \n",
    "    for name in names:\n",
    "#         orig_graph, attr_name = nx.read_gexf(f'../VRG/input/shuffled/{shuffle}/{name}.gexf'), 'block'\n",
    "#         name = f'{name}-{shuffle}'\n",
    "        orig_graph, attr_name = get_graph(name)\n",
    "        dl_dict[name] = graph_mdl(orig_graph)\n",
    "        if attr_name != '':\n",
    "            dl_dict[name] = graph_mdl(orig_graph, attributed=True)\n",
    "    print(dl_dict)\n",
    "    \n",
    "    for name in names:\n",
    "        orig_graph, attr_name = get_graph(name)        \n",
    "#         orig_graph, attr_name = nx.read_gexf(f'../VRG/input/shuffled/{shuffle}/{name}.gexf'), 'block'\n",
    "#         name = f'{name}-{shuffle}'\n",
    "        print('\\n\\n', name, attr_name)\n",
    "        for fname in glob.glob(f'/data/ssikdar/attributed-vrg/dumps/grammars/{name}/*.pkl'):\n",
    "            path = Path(fname)\n",
    "            pattern = r'(.*)\\_(\\w+)\\_(\\d+)\\_(\\d+)'\n",
    "            m = re.match(pattern, path.stem)\n",
    "            grammar_type, clustering, mu, _ = m.groups()\n",
    "            \n",
    "            print(grammar_type, clustering, mu, end='\\t', flush=True)\n",
    "            \n",
    "            if clustering in root_dict[name]:\n",
    "                ht, avg_branch_factor, dc = root_dict[name][clustering]\n",
    "            else:\n",
    "                root = load_pickle(f'/data/ssikdar/attributed-vrg/dumps/trees/{name}/{clustering}_list.pkl')\n",
    "                if isinstance(root, list): root = create_tree(root)\n",
    "                ht, avg_branch_factor, dc = get_tree_stats(g=orig_graph, root=root)\n",
    "                root_dict[name][clustering] = ht, avg_branch_factor, dc\n",
    "\n",
    "            vrg = load_pickle(fname)\n",
    "#             if grammar_type.startswith('AVRG'): name = f'{name}-attr'\n",
    "            graph_dl = dl_dict[name]\n",
    "            \n",
    "            row = dict(name=name, orig_n=orig_graph.order(), orig_m=orig_graph.size(), attr_name=attr_name, \n",
    "                      model=grammar_type, mu=int(mu), clustering=clustering, cost=dc, branch_factor=avg_branch_factor,\n",
    "                      height=ht, graph_dl=graph_dl, num_rules=vrg.num_rules, unique_rules=len(vrg.unique_rule_list),\n",
    "                      grammar_dl=vrg.cost)\n",
    "            name = name.replace('-attr', '')\n",
    "            rows.append(row)\n",
    "\n",
    "    return pd.DataFrame(rows)"
   ]
  },
  {
   "cell_type": "code",
   "execution_count": null,
   "metadata": {},
   "outputs": [],
   "source": [
    "def make_cabam_grammar_df(names=None, graphs=None):\n",
    "    cabam_graphs = read_cabam_graphs()\n",
    "    rows = []\n",
    "\n",
    "    root_dict = {f'{name}': {} for name in names}\n",
    "    dl_dict = {}\n",
    "    \n",
    "    for name in names:\n",
    "#         orig_graph, attr_name = nx.read_gexf(f'../VRG/input/shuffled/{shuffle}/{name}.gexf'), 'block'\n",
    "#         name = f'{name}-{shuffle}'\n",
    "        orig_graph, attr_name = get_graph(name)\n",
    "        dl_dict[name] = graph_mdl(orig_graph)\n",
    "        if attr_name != '':\n",
    "            dl_dict[name] = graph_mdl(orig_graph, attributed=True)\n",
    "    print(dl_dict)\n",
    "    \n",
    "    for name in names:\n",
    "        orig_graph, attr_name = get_graph(name)        \n",
    "#         orig_graph, attr_name = nx.read_gexf(f'../VRG/input/shuffled/{shuffle}/{name}.gexf'), 'block'\n",
    "#         name = f'{name}-{shuffle}'\n",
    "        print('\\n\\n', name, attr_name)\n",
    "        for fname in glob.glob(f'/data/ssikdar/attributed-vrg/dumps/grammars/{name}/*.pkl'):\n",
    "            path = Path(fname)\n",
    "            pattern = r'(.*)\\_(\\w+)\\_(\\d+)\\_(\\d+)'\n",
    "            m = re.match(pattern, path.stem)\n",
    "            grammar_type, clustering, mu, _ = m.groups()\n",
    "            \n",
    "            print(grammar_type, clustering, mu, end='\\t', flush=True)\n",
    "            \n",
    "            if clustering in root_dict[name]:\n",
    "                ht, avg_branch_factor, dc = root_dict[name][clustering]\n",
    "            else:\n",
    "                root = load_pickle(f'/data/ssikdar/attributed-vrg/dumps/trees/{name}/{clustering}_list.pkl')\n",
    "                if isinstance(root, list): root = create_tree(root)\n",
    "                ht, avg_branch_factor, dc = get_tree_stats(g=orig_graph, root=root)\n",
    "                root_dict[name][clustering] = ht, avg_branch_factor, dc\n",
    "\n",
    "            vrg = load_pickle(fname)\n",
    "#             if grammar_type.startswith('AVRG'): name = f'{name}-attr'\n",
    "            graph_dl = dl_dict[name]\n",
    "            \n",
    "            row = dict(name=name, orig_n=orig_graph.order(), orig_m=orig_graph.size(), attr_name=attr_name, \n",
    "                      model=grammar_type, mu=int(mu), clustering=clustering, cost=dc, branch_factor=avg_branch_factor,\n",
    "                      height=ht, graph_dl=graph_dl, num_rules=vrg.num_rules, unique_rules=len(vrg.unique_rule_list),\n",
    "                      grammar_dl=vrg.cost)\n",
    "            name = name.replace('-attr', '')\n",
    "            rows.append(row)\n",
    "\n",
    "    return pd.DataFrame(rows)"
   ]
  },
  {
   "cell_type": "code",
   "execution_count": null,
   "metadata": {
    "scrolled": true
   },
   "outputs": [],
   "source": [
    "%%time\n",
    "grammar_df = make_grammar_df()"
   ]
  },
  {
   "cell_type": "code",
   "execution_count": null,
   "metadata": {},
   "outputs": [],
   "source": [
    "grammar_df.to_csv('./grammar_df.csv')"
   ]
  },
  {
   "cell_type": "code",
   "execution_count": null,
   "metadata": {},
   "outputs": [],
   "source": [
    "grammar_df = pd.read_csv('/data/ssikdar/attributed-vrg/data/grammar_df.csv')"
   ]
  },
  {
   "cell_type": "code",
   "execution_count": null,
   "metadata": {},
   "outputs": [],
   "source": [
    "display(grammar_df.head(), grammar_df.shape)"
   ]
  },
  {
   "cell_type": "code",
   "execution_count": null,
   "metadata": {},
   "outputs": [],
   "source": [
    "grammar_df.describe()"
   ]
  },
  {
   "cell_type": "code",
   "execution_count": null,
   "metadata": {},
   "outputs": [],
   "source": [
    "ax = plt.gca()\n",
    "ax.set_yscale('log')\n",
    "sns.barplot(x='name', y='grammar_dl', hue='model', data=grammar_df, ax=ax);"
   ]
  },
  {
   "cell_type": "code",
   "execution_count": null,
   "metadata": {},
   "outputs": [],
   "source": [
    "grammar_df['compression'] = grammar_df['graph_dl'] / grammar_df['grammar_dl']"
   ]
  },
  {
   "cell_type": "code",
   "execution_count": null,
   "metadata": {},
   "outputs": [],
   "source": [
    "grammar_df.model.unique()"
   ]
  },
  {
   "cell_type": "code",
   "execution_count": null,
   "metadata": {},
   "outputs": [],
   "source": [
    "plt.rcParams['figure.figsize'] = (15, 10)\n",
    "plt.rcParams['font.size'] = 50\n",
    "plt.rcParams['axes.labelsize'] = 20\n",
    "plt.rcParams['axes.titlesize'] = 20"
   ]
  },
  {
   "cell_type": "code",
   "execution_count": null,
   "metadata": {},
   "outputs": [],
   "source": [
    "ax = plt.gca()\n",
    "ax.set_yscale('log')\n",
    "ax.axhline(1, c='r')\n",
    "sns.barplot(x='model', y='compression', hue='clustering', data=grammar_df);\n",
    "ax.set_ylabel('Compression Ratio');"
   ]
  },
  {
   "cell_type": "code",
   "execution_count": null,
   "metadata": {},
   "outputs": [],
   "source": [
    "sns.barplot(x='name', y='compression', hue='clustering', data=grammar_df);"
   ]
  },
  {
   "cell_type": "code",
   "execution_count": null,
   "metadata": {},
   "outputs": [],
   "source": [
    "ax = plt.gca()\n",
    "ax.set_yscale('log')\n",
    "# ax.axhline(1, c='r')\n",
    "sns.barplot(x='name', y='grammar_dl', hue='model', data=grammar_df);\n",
    "# ax.set_ylabel('Compression Ratio');"
   ]
  },
  {
   "cell_type": "code",
   "execution_count": null,
   "metadata": {},
   "outputs": [],
   "source": [
    "ax = plt.gca()\n",
    "ax.set_yscale('log')\n",
    "# ax.axhline(1, c='r')\n",
    "sns.barplot(x='name', y='compression', hue='clustering', data=grammar_df);\n",
    "# ax.set_ylabel('Compression Ratio');"
   ]
  },
  {
   "cell_type": "code",
   "execution_count": null,
   "metadata": {},
   "outputs": [],
   "source": [
    "ax = plt.gca()\n",
    "ax.set_yscale('log')\n",
    "# ax.axhline(1, c='r')\n",
    "sns.barplot(x='name', y='unique_rules', hue='mu', data=grammar_df[~grammar_df.model.str.contains('all-tnodes')]);\n",
    "# ax.set_ylabel('Compression Ratio');"
   ]
  },
  {
   "cell_type": "code",
   "execution_count": null,
   "metadata": {},
   "outputs": [],
   "source": [
    "ax = plt.gca()\n",
    "ax.set_yscale('log')\n",
    "sns.barplot(x='name', y='grammar_dl', hue='model', data=grammar_df);"
   ]
  },
  {
   "cell_type": "code",
   "execution_count": null,
   "metadata": {},
   "outputs": [],
   "source": []
  },
  {
   "cell_type": "code",
   "execution_count": null,
   "metadata": {},
   "outputs": [],
   "source": [
    "ax = plt.gca()\n",
    "ax.set_yscale('log')\n",
    "ax.set_xscale('log')\n",
    "sns.scatterplot(x='cost', y='compression', hue='clustering', data=grammar_df,\n",
    "                s=100, alpha=0.6);\n",
    "ax.set_xlabel('Log (Dasgupta Cost)');\n",
    "ax.set_ylabel('Log (Compression Ratio)');"
   ]
  },
  {
   "cell_type": "code",
   "execution_count": null,
   "metadata": {},
   "outputs": [],
   "source": [
    "ax = plt.gca()\n",
    "ax.set_yscale('log')\n",
    "ax.set_xscale('log')\n",
    "sns.scatterplot(x='cost', y='compression', hue='mu', style='name', data=grammar_df,\n",
    "               s=100, alpha=0.6);\n",
    "ax.set_xlabel('Log (Dasgupta Cost)');\n",
    "ax.set_ylabel('Log (Compression Ratio)');"
   ]
  },
  {
   "cell_type": "code",
   "execution_count": null,
   "metadata": {},
   "outputs": [],
   "source": [
    "grammar_df['log_compression'] = grammar_df['compression'].apply(np.log10)"
   ]
  },
  {
   "cell_type": "code",
   "execution_count": null,
   "metadata": {},
   "outputs": [],
   "source": [
    "sns.catplot(x='mu', y='num_rules', hue='clustering', col='name', kind='bar', data=grammar_df, col_wrap=3);"
   ]
  },
  {
   "cell_type": "code",
   "execution_count": null,
   "metadata": {},
   "outputs": [],
   "source": []
  },
  {
   "cell_type": "code",
   "execution_count": null,
   "metadata": {},
   "outputs": [],
   "source": []
  },
  {
   "cell_type": "code",
   "execution_count": null,
   "metadata": {},
   "outputs": [],
   "source": []
  },
  {
   "cell_type": "code",
   "execution_count": null,
   "metadata": {},
   "outputs": [],
   "source": []
  },
  {
   "cell_type": "code",
   "execution_count": null,
   "metadata": {},
   "outputs": [],
   "source": []
  },
  {
   "cell_type": "markdown",
   "metadata": {},
   "source": [
    "## Do stuff with the final graphs"
   ]
  },
  {
   "cell_type": "code",
   "execution_count": 68,
   "metadata": {
    "scrolled": true
   },
   "outputs": [
    {
     "name": "stderr",
     "output_type": "stream",
     "text": [
      "Graph: karate, n = 34, m = 78, read in 0s.\n"
     ]
    },
    {
     "name": "stdout",
     "output_type": "stream",
     "text": [
      "karate\n",
      "VRG-50_cond_6_20\tAVRG-fancy-50_cond_6_20\tVRG-50_cond_5_20\tVRG-50_spectral_5_20\tAVRG-fancy-50_cond_5_20\tAVRG-greedy-50_cond_6_20\tAVRG-greedy-100_cond_6_20\tAVRG-greedy-50_cond_5_20\tAVRG-greedy-100_cond_5_20\tVRG-50_spectral_6_20\tAVRG-greedy-0_cond_5_20\tAVRG-greedy-0_cond_6_20\tVRG-50_leiden_6_20\tAVRG-fancy-50_spectral_6_20\tAVRG-fancy-50_spectral_5_20\tAVRG-greedy-50_spectral_6_20\tVRG-50_leiden_5_20\tAVRG-fancy-50_leiden_6_20\tAVRG-greedy-0_spectral_6_20\tAVRG-greedy-100_spectral_6_20\tAVRG-greedy-50_spectral_5_20\tAVRG-greedy-100_spectral_5_20\tAVRG-greedy-0_spectral_5_20\tAVRG-fancy-50_leiden_5_20\tAVRG-greedy-50_leiden_6_20\tAVRG-greedy-0_leiden_6_20\tAVRG-greedy-100_leiden_6_20\tAVRG-greedy-50_leiden_5_20\tVRG-50_consensus_6_20\tAVRG-fancy-50_consensus_6_20\tAVRG-greedy-0_leiden_5_20\tAVRG-greedy-100_leiden_5_20\tVRG-50_consensus_5_20\tAVRG-greedy-50_consensus_6_20\tAVRG-greedy-0_consensus_6_20\tAVRG-greedy-100_consensus_6_20\tAVRG-fancy-50_consensus_5_20\tAVRG-greedy-50_consensus_5_20\tAVRG-greedy-0_consensus_5_20\tAVRG-greedy-100_consensus_5_20\tSBM_10\tChung-Lu_10\tVRG_cond_6_10\tAVRG-fancy_cond_6_10\tAVRG_cond_6_10\tAVRG-greedy-0_cond_6_10\tAVRG-greedy-50_cond_6_10\tVRG_cond_5_10\tAVRG-greedy-100_cond_6_10\tVRG_spectral_5_10\tAVRG-fancy_cond_5_10\tAVRG_cond_5_10\tAVRG-greedy-0_cond_5_10\tAVRG-greedy-50_cond_5_10\tAVRG-greedy-100_cond_5_10\tVRG_spectral_6_10\tVRG_leiden_6_10\tAVRG-fancy_spectral_6_10\tAVRG_spectral_6_10\tAVRG-fancy_spectral_5_10\tAVRG_spectral_5_10\tAVRG-greedy-0_spectral_6_10\tAVRG-greedy-100_spectral_6_10\tAVRG-greedy-50_spectral_6_10\tVRG_leiden_5_10\tAVRG-greedy-0_spectral_5_10\tAVRG-greedy-50_spectral_5_10\tAVRG-greedy-100_spectral_5_10\tAVRG-fancy_leiden_6_10\tAVRG_leiden_6_10\tAVRG-greedy-0_leiden_6_10\tAVRG-greedy-50_leiden_6_10\tAVRG_leiden_5_10\tAVRG-fancy_leiden_5_10\tAVRG-greedy-100_leiden_6_10\tAVRG-greedy-0_leiden_5_10\tAVRG-greedy-50_leiden_5_10\tVRG_consensus_6_10\tAVRG-greedy-100_leiden_5_10\tAVRG_consensus_6_10\tAVRG-fancy_consensus_6_10\tAVRG-greedy-0_consensus_6_10\tVRG_consensus_5_10\tAVRG-greedy-50_consensus_6_10\tAVRG-greedy-100_consensus_6_10\tAVRG-fancy_consensus_5_10\tAVRG_consensus_5_10\tAVRG-greedy-0_consensus_5_10\tAVRG-greedy-50_consensus_5_10\tAVRG-greedy-100_consensus_5_10\t"
     ]
    },
    {
     "name": "stderr",
     "output_type": "stream",
     "text": [
      "Graph: football, n = 115, m = 613, read in 0.05s.\n"
     ]
    },
    {
     "name": "stdout",
     "output_type": "stream",
     "text": [
      "football\n",
      "VRG-50_spectral_5_20\tVRG-50_cond_6_20\tVRG-50_cond_5_20\tAVRG-fancy-50_cond_5_20\tAVRG-fancy-50_cond_6_20\tVRG-50_spectral_6_20\tAVRG-greedy-0_cond_5_20\tAVRG-fancy-50_spectral_5_20\tAVRG-greedy-50_cond_5_20\tVRG-50_leiden_5_20\tAVRG-fancy-50_spectral_6_20\tAVRG-greedy-0_cond_6_20\tAVRG-greedy-100_cond_5_20\tAVRG-greedy-50_cond_6_20\tAVRG-greedy-100_cond_6_20\tAVRG-fancy-50_leiden_5_20\tAVRG-greedy-0_spectral_5_20\tAVRG-greedy-50_spectral_5_20\tAVRG-greedy-100_spectral_5_20\tVRG-50_leiden_6_20\tAVRG-fancy-50_leiden_6_20\tAVRG-greedy-0_spectral_6_20\tAVRG-greedy-50_spectral_6_20\tAVRG-greedy-100_spectral_6_20\tVRG-50_consensus_6_20\tVRG-50_consensus_5_20\tAVRG-greedy-0_leiden_5_20\tAVRG-fancy-50_consensus_5_20\tAVRG-greedy-100_leiden_5_20\tAVRG-greedy-50_leiden_5_20\tAVRG-fancy-50_consensus_6_20\tAVRG-greedy-0_consensus_5_20\tAVRG-greedy-100_consensus_5_20\tAVRG-greedy-50_consensus_5_20\tAVRG-greedy-50_consensus_6_20\tAVRG-greedy-0_consensus_6_20\tAVRG-greedy-100_consensus_6_20\tAVRG-greedy-0_leiden_6_20\tAVRG-greedy-50_leiden_6_20\tAVRG-greedy-100_leiden_6_20\tVRG_spectral_5_10\tVRG_cond_6_10\tVRG_cond_5_10\tAVRG_cond_5_10\tAVRG-fancy_cond_5_10\tAVRG_cond_6_10\tAVRG-fancy_cond_6_10\tAVRG-greedy-0_cond_5_10\tAVRG-greedy-50_cond_5_10\tVRG_spectral_6_10\tAVRG-greedy-100_cond_5_10\tAVRG-greedy-50_cond_6_10\tAVRG-fancy_spectral_5_10\tAVRG_spectral_5_10\tAVRG-greedy-0_cond_6_10\tAVRG-greedy-100_cond_6_10\tVRG_leiden_5_10\tAVRG-fancy_spectral_6_10\tAVRG_spectral_6_10\tAVRG-greedy-0_spectral_5_10\tAVRG-greedy-50_spectral_5_10\tAVRG-fancy_leiden_5_10\tAVRG_leiden_5_10\tAVRG-greedy-100_spectral_5_10\tAVRG-greedy-0_spectral_6_10\tAVRG-greedy-50_spectral_6_10\tAVRG-greedy-100_spectral_6_10\tAVRG-greedy-0_leiden_5_10\tVRG_leiden_6_10\tAVRG-fancy_leiden_6_10\tAVRG_leiden_6_10\tAVRG-greedy-50_leiden_5_10\tAVRG-greedy-100_leiden_5_10\tAVRG-greedy-0_leiden_6_10\tVRG_consensus_6_10\tVRG_consensus_5_10\tAVRG-greedy-50_leiden_6_10\tAVRG-fancy_consensus_5_10\tAVRG_consensus_5_10\tAVRG-greedy-0_consensus_5_10\tAVRG-greedy-50_consensus_5_10\tAVRG-fancy_consensus_6_10\tAVRG_consensus_6_10\tSBM_10\tAVRG-greedy-100_leiden_6_10\tAVRG-greedy-100_consensus_5_10\tAVRG-greedy-0_consensus_6_10\tAVRG-greedy-50_consensus_6_10\tAVRG-greedy-100_consensus_6_10\tChung-Lu_10\t"
     ]
    },
    {
     "name": "stderr",
     "output_type": "stream",
     "text": [
      "Graph: polbooks, n = 105, m = 441, read in 0.04s.\n"
     ]
    },
    {
     "name": "stdout",
     "output_type": "stream",
     "text": [
      "polbooks\n",
      "VRG-50_cond_6_20\tVRG-50_spectral_5_20\tVRG-50_spectral_6_20\tVRG-50_cond_5_20\tAVRG-fancy-50_cond_6_20\tAVRG-fancy-50_cond_5_20\tAVRG-greedy-0_cond_5_20\tAVRG-fancy-50_spectral_5_20\tAVRG-greedy-50_cond_5_20\tAVRG-greedy-100_cond_5_20\tAVRG-fancy-50_spectral_6_20\tAVRG-greedy-50_cond_6_20\tAVRG-greedy-0_cond_6_20\tVRG-50_leiden_5_20\tAVRG-greedy-100_cond_6_20\tVRG-50_leiden_6_20\tAVRG-greedy-50_spectral_5_20\tAVRG-greedy-0_spectral_5_20\tAVRG-fancy-50_leiden_5_20\tAVRG-greedy-100_spectral_5_20\tAVRG-greedy-50_spectral_6_20\tAVRG-greedy-0_spectral_6_20\tAVRG-fancy-50_leiden_6_20\tAVRG-greedy-100_spectral_6_20\tVRG-50_consensus_5_20\tVRG-50_consensus_6_20\tAVRG-greedy-0_leiden_5_20\tAVRG-fancy-50_consensus_5_20\tAVRG-greedy-100_leiden_5_20\tAVRG-greedy-50_leiden_5_20\tAVRG-fancy-50_consensus_6_20\tAVRG-greedy-0_leiden_6_20\tAVRG-greedy-100_leiden_6_20\tAVRG-greedy-50_leiden_6_20\tAVRG-greedy-50_consensus_5_20\tAVRG-greedy-100_consensus_5_20\tAVRG-greedy-0_consensus_5_20\tAVRG-greedy-0_consensus_6_20\tAVRG-greedy-50_consensus_6_20\tAVRG-greedy-100_consensus_6_20\tSBM_10\tVRG_cond_6_10\tVRG_spectral_5_10\tVRG_spectral_6_10\tVRG_cond_5_10\tAVRG_cond_6_10\tAVRG-fancy_cond_6_10\tAVRG-fancy_cond_5_10\tAVRG_cond_5_10\tAVRG-greedy-50_cond_6_10\tAVRG-greedy-100_cond_6_10\tAVRG-greedy-0_cond_5_10\tAVRG-greedy-0_cond_6_10\tAVRG-greedy-50_cond_5_10\tAVRG-fancy_spectral_5_10\tAVRG_spectral_5_10\tAVRG-greedy-100_cond_5_10\tAVRG-fancy_spectral_6_10\tAVRG_spectral_6_10\tAVRG-greedy-0_spectral_5_10\tAVRG-greedy-50_spectral_5_10\tAVRG-greedy-100_spectral_5_10\tAVRG-greedy-0_spectral_6_10\tAVRG-greedy-50_spectral_6_10\tVRG_leiden_5_10\tVRG_leiden_6_10\tAVRG-greedy-100_spectral_6_10\tAVRG-fancy_leiden_5_10\tAVRG_leiden_5_10\tAVRG-fancy_leiden_6_10\tAVRG_leiden_6_10\tAVRG-greedy-0_leiden_5_10\tAVRG-greedy-50_leiden_5_10\tAVRG-greedy-100_leiden_5_10\tAVRG-greedy-0_leiden_6_10\tVRG_consensus_5_10\tVRG_consensus_6_10\tAVRG-greedy-50_leiden_6_10\tAVRG-fancy_consensus_5_10\tAVRG-greedy-100_leiden_6_10\tAVRG_consensus_5_10\tAVRG-fancy_consensus_6_10\tAVRG_consensus_6_10\tAVRG-greedy-0_consensus_5_10\tAVRG-greedy-50_consensus_5_10\tAVRG-greedy-100_consensus_5_10\tAVRG-greedy-0_consensus_6_10\tAVRG-greedy-50_consensus_6_10\tAVRG-greedy-100_consensus_6_10\tChung-Lu_10\t"
     ]
    },
    {
     "name": "stderr",
     "output_type": "stream",
     "text": [
      "Graph: us-flights, n = 535, m = 2_772, read in 0.27s.\n"
     ]
    },
    {
     "name": "stdout",
     "output_type": "stream",
     "text": [
      "us-flights\n",
      "VRG_cond_6_10\tAVRG-fancy_cond_6_10\tVRG_cond_5_10\tAVRG-fancy_cond_5_10\tVRG_spectral_5_10\tVRG_spectral_6_10\tAVRG-greedy-0_cond_5_10\tAVRG-greedy-50_cond_5_10\tAVRG-fancy_spectral_5_10\tAVRG-greedy-100_cond_5_10\tAVRG-greedy-50_cond_6_10\tAVRG-greedy-0_cond_6_10\tAVRG-fancy_spectral_6_10\tAVRG-greedy-100_cond_6_10\tVRG_leiden_5_10\tVRG_leiden_6_10\tAVRG-fancy_leiden_5_10\tAVRG-greedy-0_spectral_5_10\tAVRG-greedy-50_spectral_5_10\tAVRG-fancy_leiden_6_10\tAVRG-greedy-50_leiden_5_10\tAVRG-greedy-0_leiden_5_10\tAVRG-greedy-100_spectral_5_10\tAVRG-greedy-0_spectral_6_10\tAVRG-greedy-50_spectral_6_10\tAVRG-greedy-100_spectral_6_10\tAVRG-greedy-100_leiden_5_10\tAVRG-greedy-0_leiden_6_10\tAVRG-greedy-50_leiden_6_10\tAVRG-greedy-100_leiden_6_10\tChung-Lu_10\tSBM_10\t"
     ]
    },
    {
     "name": "stderr",
     "output_type": "stream",
     "text": [
      "Graph: cora, n = 2_485, m = 5_069, read in 0.6s.\n"
     ]
    },
    {
     "name": "stdout",
     "output_type": "stream",
     "text": [
      "cora\n",
      "VRG-50_spectral_5_20\tVRG-50_spectral_6_20\tVRG-50_cond_6_20\tAVRG-fancy-50_cond_6_20\tVRG-50_cond_5_20\tAVRG-fancy-50_cond_5_20\tVRG-50_leiden_5_20\tAVRG-fancy-50_spectral_5_20\tVRG-50_leiden_6_20\tAVRG-fancy-50_spectral_6_20\tAVRG-fancy-50_leiden_5_20\tAVRG-greedy-50_spectral_5_20\tAVRG-fancy-50_leiden_6_20\tAVRG-greedy-50_spectral_6_20\tAVRG-greedy-50_cond_5_20\tAVRG-greedy-50_cond_6_20\tAVRG-fancy-50_consensus_5_20\tAVRG-greedy-50_leiden_5_20\tAVRG-greedy-50_leiden_6_20\tAVRG-greedy-50_consensus_5_20\tVRG_spectral_5_10\tVRG_spectral_6_10\tVRG_cond_6_10\tAVRG-fancy_cond_6_10\tVRG_cond_5_10\tAVRG-fancy_cond_5_10\tAVRG-greedy-50_cond_6_10\tAVRG-greedy-0_cond_6_10\tAVRG-greedy-100_cond_6_10\tAVRG-greedy-0_cond_5_10\tVRG_leiden_5_10\tAVRG-fancy_spectral_5_10\tAVRG-greedy-50_cond_5_10\tVRG_leiden_6_10\tAVRG-fancy_spectral_6_10\tAVRG-greedy-100_cond_5_10\tAVRG-greedy-0_spectral_5_10\tAVRG-greedy-50_spectral_5_10\tAVRG-greedy-100_spectral_5_10\tAVRG-greedy-0_spectral_6_10\tAVRG-greedy-50_spectral_6_10\tAVRG-greedy-100_spectral_6_10\tAVRG-fancy_leiden_5_10\tAVRG-fancy_leiden_6_10\tAVRG-greedy-0_leiden_5_10\tAVRG-greedy-50_leiden_5_10\tAVRG-greedy-100_leiden_5_10\tAVRG-greedy-0_leiden_6_10\tAVRG-greedy-50_leiden_6_10\tAVRG-greedy-100_leiden_6_10\tAVRG-fancy_consensus_5_10\tAVRG-greedy-0_consensus_5_10\tAVRG-greedy-50_consensus_5_10\tAVRG-greedy-100_consensus_5_10\tVRG_consensus_5_10\tVRG_consensus_6_10\tAVRG-fancy_consensus_6_10\tAVRG-greedy-0_consensus_6_10\tAVRG-greedy-50_consensus_6_10\tAVRG-greedy-100_consensus_6_10\tChung-Lu_10\tSBM_10\t"
     ]
    },
    {
     "name": "stderr",
     "output_type": "stream",
     "text": [
      "Graph: citeseer, n = 2_110, m = 3_668, read in 0.39s.\n"
     ]
    },
    {
     "name": "stdout",
     "output_type": "stream",
     "text": [
      "citeseer\n",
      "VRG-50_spectral_5_20\tVRG-50_spectral_6_20\tVRG-50_cond_6_20\tAVRG-fancy-50_cond_6_20\tVRG-50_cond_5_20\tAVRG-fancy-50_cond_5_20\tVRG-50_leiden_5_20\tAVRG-fancy-50_spectral_5_20\tAVRG-fancy-50_spectral_6_20\tVRG-50_leiden_6_20\tAVRG-greedy-50_cond_6_20\tAVRG-fancy-50_leiden_5_20\tAVRG-fancy-50_leiden_6_20\tAVRG-greedy-50_spectral_5_20\tAVRG-greedy-50_cond_5_20\tAVRG-greedy-50_spectral_6_20\tAVRG-greedy-50_leiden_5_20\tAVRG-greedy-50_leiden_6_20\tVRG_spectral_5_10\tVRG_spectral_6_10\tVRG_cond_6_10\tAVRG-fancy_cond_6_10\tVRG_cond_5_10\tAVRG-fancy_cond_5_10\tAVRG-greedy-0_cond_6_10\tAVRG-greedy-50_cond_6_10\tAVRG-greedy-100_cond_6_10\tVRG_leiden_5_10\tAVRG-fancy_spectral_5_10\tAVRG-greedy-0_spectral_5_10\tAVRG-fancy_spectral_6_10\tAVRG-greedy-50_spectral_5_10\tAVRG-greedy-100_spectral_5_10\tAVRG-greedy-0_cond_5_10\tAVRG-greedy-50_cond_5_10\tAVRG-greedy-0_spectral_6_10\tAVRG-greedy-50_spectral_6_10\tVRG_leiden_6_10\tAVRG-greedy-100_spectral_6_10\tAVRG-fancy_leiden_5_10\tAVRG-greedy-100_cond_5_10\tAVRG-fancy_leiden_6_10\tAVRG-greedy-0_leiden_5_10\tAVRG-greedy-50_leiden_5_10\tAVRG-greedy-100_leiden_5_10\tAVRG-greedy-0_leiden_6_10\tAVRG-greedy-50_leiden_6_10\tAVRG-greedy-100_leiden_6_10\tChung-Lu_10\tSBM_10\t"
     ]
    },
    {
     "name": "stderr",
     "output_type": "stream",
     "text": [
      "Graph: polblogs, n = 1_222, m = 16_714, read in 1.32s.\n"
     ]
    },
    {
     "name": "stdout",
     "output_type": "stream",
     "text": [
      "polblogs\n",
      "VRG-50_spectral_5_20\tVRG-50_cond_6_20\tAVRG-fancy-50_cond_6_20\tVRG-50_cond_5_20\tAVRG-fancy-50_cond_5_20\tVRG-50_leiden_5_20\tVRG-50_leiden_6_20\tAVRG-fancy-50_leiden_5_20\tVRG-50_spectral_6_20\tAVRG-fancy-50_spectral_5_20\tAVRG-fancy-50_spectral_6_20\tAVRG-fancy-50_leiden_6_20\tAVRG-greedy-50_cond_5_20\tAVRG-greedy-50_cond_6_20\tVRG-50_consensus_5_20\tAVRG-fancy-50_consensus_5_20\tAVRG-greedy-50_consensus_5_20\tAVRG-fancy-50_consensus_6_20\tAVRG-greedy-50_consensus_6_20\tVRG-50_consensus_6_20\tAVRG-greedy-50_leiden_5_20\tAVRG-greedy-50_spectral_5_20\tAVRG-greedy-50_spectral_6_20\tAVRG-greedy-50_leiden_6_20\tVRG_spectral_5_10\tVRG_cond_6_10\tAVRG-fancy_cond_6_10\tAVRG-greedy-0_cond_6_10\tVRG_cond_5_10\tAVRG-fancy_cond_5_10\tAVRG-greedy-50_cond_6_10\tAVRG-greedy-100_cond_6_10\tAVRG-greedy-0_cond_5_10\tAVRG-greedy-50_cond_5_10\tVRG_leiden_5_10\tVRG_leiden_6_10\tAVRG-greedy-100_cond_5_10\tAVRG-fancy_leiden_5_10\tVRG_spectral_6_10\tAVRG-fancy_spectral_5_10\tAVRG-greedy-0_leiden_5_10\tAVRG-fancy_spectral_6_10\tAVRG-greedy-50_leiden_5_10\tAVRG-greedy-100_leiden_5_10\tAVRG-greedy-0_spectral_5_10\tAVRG-fancy_leiden_6_10\tAVRG-greedy-50_spectral_5_10\tAVRG-greedy-100_spectral_5_10\tAVRG-greedy-0_spectral_6_10\tAVRG-greedy-50_spectral_6_10\tAVRG-greedy-100_spectral_6_10\tAVRG-greedy-0_leiden_6_10\tAVRG-greedy-50_leiden_6_10\tAVRG-greedy-100_leiden_6_10\tVRG_consensus_5_10\tAVRG-fancy_consensus_5_10\tAVRG-greedy-0_consensus_5_10\tAVRG-greedy-50_consensus_5_10\tAVRG-greedy-100_consensus_5_10\tAVRG-fancy_consensus_6_10\tAVRG-greedy-0_consensus_6_10\tAVRG-greedy-50_consensus_6_10\tAVRG-greedy-100_consensus_6_10\tVRG_consensus_6_10\tChung-Lu_10\tSBM_10\t"
     ]
    }
   ],
   "source": [
    "names = ['karate', 'football', 'polbooks', 'us-flights', 'cora', 'citeseer', 'polblogs', \n",
    "         'pubmed'][: -1]\n",
    "mus = [5, 6]\n",
    "clusterings = ['cond', 'leiden', 'spectral', 'consensus']\n",
    "dfs = []\n",
    "\n",
    "for name in names:\n",
    "    orig_graph, attr_name = get_graph(name)\n",
    "#     orig_graph, attr_name = nx.read_gexf(f'../VRG/input/shuffled/{shuffle}/{name}.gexf', node_type=int), 'block'\n",
    "#     name = f'{name}-{shuffle}'\n",
    "    print(name)\n",
    "    for fname in glob.glob(f'/data/ssikdar/attributed-vrg/dumps/graphs/{name}/*'):\n",
    "        path = Path(fname)\n",
    "        stem = path.stem\n",
    "        if stem.startswith('Chung'):\n",
    "            grammar_type, clustering, mu = 'Chung-Lu', np.nan, np.nan\n",
    "        elif stem.startswith('SBM'):\n",
    "            grammar_type, clustering, mu = 'SBM', np.nan, np.nan\n",
    "        else:\n",
    "            pattern = r'(.*)\\_(\\w+)\\_(\\d+)\\_(\\d+)'\n",
    "            m = re.match(pattern, stem)\n",
    "            grammar_type, clustering, mu, _ = m.groups()\n",
    "            mu = int(mu)\n",
    "            if clustering not in clusterings or mu not in mus:\n",
    "                continue\n",
    "        print(path.stem, end='\\t', flush=True)\n",
    "\n",
    "        df = make_graph_df(name, fname, orig_graph, mu, clustering, attr_name, grammar_type)\n",
    "        dfs.append(df)\n",
    "graph_df = pd.concat(dfs, ignore_index=True)"
   ]
  },
  {
   "cell_type": "code",
   "execution_count": 52,
   "metadata": {},
   "outputs": [],
   "source": [
    "graph_df = pd.concat(dfs, ignore_index=True)"
   ]
  },
  {
   "cell_type": "code",
   "execution_count": 56,
   "metadata": {},
   "outputs": [],
   "source": [
    "graph_df = graph_df[graph_df.model != 'AVRG']"
   ]
  },
  {
   "cell_type": "code",
   "execution_count": 57,
   "metadata": {},
   "outputs": [
    {
     "data": {
      "text/plain": [
       "AVRG-greedy-50     1180\n",
       "AVRG-fancy         1180\n",
       "VRG                1160\n",
       "AVRG-greedy-0       920\n",
       "AVRG-greedy-100     920\n",
       "SBM                  60\n",
       "Chung-Lu             60\n",
       "Name: model, dtype: int64"
      ]
     },
     "execution_count": 57,
     "metadata": {},
     "output_type": "execute_result"
    }
   ],
   "source": [
    "graph_df.model.value_counts()"
   ]
  },
  {
   "cell_type": "code",
   "execution_count": 54,
   "metadata": {},
   "outputs": [],
   "source": [
    "graph_df['model'].replace(['AVRG-fancy-50', 'VRG-50'], ['AVRG-fancy', 'VRG'], inplace=True)"
   ]
  },
  {
   "cell_type": "code",
   "execution_count": 58,
   "metadata": {},
   "outputs": [
    {
     "data": {
      "text/plain": [
       "AVRG-greedy-50     1180\n",
       "AVRG-fancy         1180\n",
       "VRG                1160\n",
       "AVRG-greedy-0       920\n",
       "AVRG-greedy-100     920\n",
       "SBM                  60\n",
       "Chung-Lu             60\n",
       "Name: model, dtype: int64"
      ]
     },
     "execution_count": 58,
     "metadata": {},
     "output_type": "execute_result"
    }
   ],
   "source": [
    "graph_df.model.value_counts()"
   ]
  },
  {
   "cell_type": "code",
   "execution_count": 59,
   "metadata": {},
   "outputs": [
    {
     "data": {
      "text/html": [
       "<div>\n",
       "<style scoped>\n",
       "    .dataframe tbody tr th:only-of-type {\n",
       "        vertical-align: middle;\n",
       "    }\n",
       "\n",
       "    .dataframe tbody tr th {\n",
       "        vertical-align: top;\n",
       "    }\n",
       "\n",
       "    .dataframe thead th {\n",
       "        text-align: right;\n",
       "    }\n",
       "</style>\n",
       "<table border=\"1\" class=\"dataframe\">\n",
       "  <thead>\n",
       "    <tr style=\"text-align: right;\">\n",
       "      <th></th>\n",
       "      <th>name</th>\n",
       "      <th>orig_n</th>\n",
       "      <th>orig_m</th>\n",
       "      <th>orig_degree_ast</th>\n",
       "      <th>attr_name</th>\n",
       "      <th>orig_attr_ast</th>\n",
       "      <th>model</th>\n",
       "      <th>clustering</th>\n",
       "      <th>mu</th>\n",
       "      <th>orig_homophily_ratio</th>\n",
       "      <th>...</th>\n",
       "      <th>gen_degree_ast</th>\n",
       "      <th>gen_attr_ast</th>\n",
       "      <th>total_rewired_edges</th>\n",
       "      <th>fancy_rewired_edges</th>\n",
       "      <th>degree_js</th>\n",
       "      <th>pagerank_js</th>\n",
       "      <th>lambda_dist</th>\n",
       "      <th>deg_ast_diff</th>\n",
       "      <th>attr_ast_diff</th>\n",
       "      <th>gen_homophily_ratio</th>\n",
       "    </tr>\n",
       "  </thead>\n",
       "  <tbody>\n",
       "    <tr>\n",
       "      <th>0</th>\n",
       "      <td>karate</td>\n",
       "      <td>34</td>\n",
       "      <td>78</td>\n",
       "      <td>-0.475613</td>\n",
       "      <td>club</td>\n",
       "      <td>0.717531</td>\n",
       "      <td>VRG</td>\n",
       "      <td>cond</td>\n",
       "      <td>6.0</td>\n",
       "      <td>0.752809</td>\n",
       "      <td>...</td>\n",
       "      <td>-0.416691</td>\n",
       "      <td>0.384397</td>\n",
       "      <td>0</td>\n",
       "      <td>0</td>\n",
       "      <td>0.245504</td>\n",
       "      <td>0.909704</td>\n",
       "      <td>0.22167</td>\n",
       "      <td>0.058922</td>\n",
       "      <td>0.333134</td>\n",
       "      <td>0.631579</td>\n",
       "    </tr>\n",
       "    <tr>\n",
       "      <th>1</th>\n",
       "      <td>karate</td>\n",
       "      <td>34</td>\n",
       "      <td>78</td>\n",
       "      <td>-0.475613</td>\n",
       "      <td>club</td>\n",
       "      <td>0.717531</td>\n",
       "      <td>VRG</td>\n",
       "      <td>cond</td>\n",
       "      <td>6.0</td>\n",
       "      <td>0.752809</td>\n",
       "      <td>...</td>\n",
       "      <td>-0.242907</td>\n",
       "      <td>0.311565</td>\n",
       "      <td>0</td>\n",
       "      <td>0</td>\n",
       "      <td>0.372049</td>\n",
       "      <td>0.562966</td>\n",
       "      <td>0.24672</td>\n",
       "      <td>0.232706</td>\n",
       "      <td>0.405966</td>\n",
       "      <td>0.540000</td>\n",
       "    </tr>\n",
       "    <tr>\n",
       "      <th>2</th>\n",
       "      <td>karate</td>\n",
       "      <td>34</td>\n",
       "      <td>78</td>\n",
       "      <td>-0.475613</td>\n",
       "      <td>club</td>\n",
       "      <td>0.717531</td>\n",
       "      <td>VRG</td>\n",
       "      <td>cond</td>\n",
       "      <td>6.0</td>\n",
       "      <td>0.752809</td>\n",
       "      <td>...</td>\n",
       "      <td>-0.289792</td>\n",
       "      <td>0.293585</td>\n",
       "      <td>0</td>\n",
       "      <td>0</td>\n",
       "      <td>0.357388</td>\n",
       "      <td>0.608235</td>\n",
       "      <td>0.22456</td>\n",
       "      <td>0.185821</td>\n",
       "      <td>0.423946</td>\n",
       "      <td>0.529412</td>\n",
       "    </tr>\n",
       "    <tr>\n",
       "      <th>3</th>\n",
       "      <td>karate</td>\n",
       "      <td>34</td>\n",
       "      <td>78</td>\n",
       "      <td>-0.475613</td>\n",
       "      <td>club</td>\n",
       "      <td>0.717531</td>\n",
       "      <td>VRG</td>\n",
       "      <td>cond</td>\n",
       "      <td>6.0</td>\n",
       "      <td>0.752809</td>\n",
       "      <td>...</td>\n",
       "      <td>-0.474728</td>\n",
       "      <td>0.387500</td>\n",
       "      <td>0</td>\n",
       "      <td>0</td>\n",
       "      <td>0.230574</td>\n",
       "      <td>0.881795</td>\n",
       "      <td>0.22643</td>\n",
       "      <td>0.000885</td>\n",
       "      <td>0.330031</td>\n",
       "      <td>0.636364</td>\n",
       "    </tr>\n",
       "    <tr>\n",
       "      <th>4</th>\n",
       "      <td>karate</td>\n",
       "      <td>34</td>\n",
       "      <td>78</td>\n",
       "      <td>-0.475613</td>\n",
       "      <td>club</td>\n",
       "      <td>0.717531</td>\n",
       "      <td>VRG</td>\n",
       "      <td>cond</td>\n",
       "      <td>6.0</td>\n",
       "      <td>0.752809</td>\n",
       "      <td>...</td>\n",
       "      <td>-0.411475</td>\n",
       "      <td>0.358234</td>\n",
       "      <td>0</td>\n",
       "      <td>0</td>\n",
       "      <td>0.204629</td>\n",
       "      <td>0.872102</td>\n",
       "      <td>0.21632</td>\n",
       "      <td>0.064138</td>\n",
       "      <td>0.359297</td>\n",
       "      <td>0.615385</td>\n",
       "    </tr>\n",
       "  </tbody>\n",
       "</table>\n",
       "<p>5 rows × 22 columns</p>\n",
       "</div>"
      ],
      "text/plain": [
       "     name  orig_n  orig_m  orig_degree_ast attr_name  orig_attr_ast model  \\\n",
       "0  karate      34      78        -0.475613      club       0.717531   VRG   \n",
       "1  karate      34      78        -0.475613      club       0.717531   VRG   \n",
       "2  karate      34      78        -0.475613      club       0.717531   VRG   \n",
       "3  karate      34      78        -0.475613      club       0.717531   VRG   \n",
       "4  karate      34      78        -0.475613      club       0.717531   VRG   \n",
       "\n",
       "  clustering   mu  orig_homophily_ratio  ...  gen_degree_ast  gen_attr_ast  \\\n",
       "0       cond  6.0              0.752809  ...       -0.416691      0.384397   \n",
       "1       cond  6.0              0.752809  ...       -0.242907      0.311565   \n",
       "2       cond  6.0              0.752809  ...       -0.289792      0.293585   \n",
       "3       cond  6.0              0.752809  ...       -0.474728      0.387500   \n",
       "4       cond  6.0              0.752809  ...       -0.411475      0.358234   \n",
       "\n",
       "   total_rewired_edges  fancy_rewired_edges  degree_js  pagerank_js  \\\n",
       "0                    0                    0   0.245504     0.909704   \n",
       "1                    0                    0   0.372049     0.562966   \n",
       "2                    0                    0   0.357388     0.608235   \n",
       "3                    0                    0   0.230574     0.881795   \n",
       "4                    0                    0   0.204629     0.872102   \n",
       "\n",
       "   lambda_dist  deg_ast_diff  attr_ast_diff  gen_homophily_ratio  \n",
       "0      0.22167      0.058922       0.333134             0.631579  \n",
       "1      0.24672      0.232706       0.405966             0.540000  \n",
       "2      0.22456      0.185821       0.423946             0.529412  \n",
       "3      0.22643      0.000885       0.330031             0.636364  \n",
       "4      0.21632      0.064138       0.359297             0.615385  \n",
       "\n",
       "[5 rows x 22 columns]"
      ]
     },
     "execution_count": 59,
     "metadata": {},
     "output_type": "execute_result"
    }
   ],
   "source": [
    "graph_df.head()"
   ]
  },
  {
   "cell_type": "code",
   "execution_count": 40,
   "metadata": {},
   "outputs": [],
   "source": []
  },
  {
   "cell_type": "code",
   "execution_count": 60,
   "metadata": {},
   "outputs": [],
   "source": [
    "graph_df.to_csv('./graph_df.csv')"
   ]
  },
  {
   "cell_type": "code",
   "execution_count": null,
   "metadata": {},
   "outputs": [],
   "source": [
    "graph_df = pd.read_csv('/data/ssikdar/attributed-vrg/data/temp_graph_df.csv')"
   ]
  },
  {
   "cell_type": "code",
   "execution_count": null,
   "metadata": {},
   "outputs": [],
   "source": [
    "display(graph_df.head(), graph_df.shape)"
   ]
  },
  {
   "cell_type": "code",
   "execution_count": null,
   "metadata": {},
   "outputs": [],
   "source": [
    "graph_df.rename(columns={'lamda_dist': 'lambda_dist'}, inplace=True)"
   ]
  },
  {
   "cell_type": "code",
   "execution_count": 61,
   "metadata": {},
   "outputs": [],
   "source": [
    "graph_df['degree_ast_diff'] = graph_df['orig_degree_ast'] - graph_df['gen_degree_ast']\n",
    "graph_df['attr_ast_diff'] = graph_df['orig_attr_ast'] - graph_df['gen_attr_ast']"
   ]
  },
  {
   "cell_type": "code",
   "execution_count": 63,
   "metadata": {},
   "outputs": [
    {
     "data": {
      "image/png": "[encoded data removed]",
      "text/plain": [
       "<Figure size 1080x504 with 3 Axes>"
      ]
     },
     "metadata": {},
     "output_type": "display_data"
    }
   ],
   "source": [
    "plt.rcParams['figure.figsize'] = (15, 7)\n",
    "fig, (ax1, ax2, ax3) = plt.subplots(nrows=1, ncols=3, sharey=True)\n",
    "sns.barplot(x='name', y='degree_js', hue='model', data=graph_df, ax=ax1);\n",
    "sns.barplot(x='name', y='pagerank_js', hue='model', data=graph_df, ax=ax2);\n",
    "sns.barplot(x='name', y='lambda_dist', hue='model', data=graph_df, ax=ax3);\n",
    "ax1.set_ylim((0, 1));\n",
    "ax2.set_ylim((0, 1));\n",
    "ax2.legend().set_visible(False);\n",
    "ax3.legend().set_visible(False);\n",
    "ax1.legend(ncol=2);\n",
    "# plt.tight_layout()"
   ]
  },
  {
   "cell_type": "code",
   "execution_count": 65,
   "metadata": {},
   "outputs": [
    {
     "data": {
      "image/png": "[encoded data removed]",
      "text/plain": [
       "<Figure size 1080x504 with 2 Axes>"
      ]
     },
     "metadata": {},
     "output_type": "display_data"
    }
   ],
   "source": [
    "fig, (ax1, ax2) = plt.subplots(nrows=1, ncols=2, sharey=True)\n",
    "sns.barplot(x='name', y='deg_ast_diff', hue='model', data=graph_df, ax=ax1);\n",
    "sns.barplot(x='name', y='attr_ast_diff', hue='model', data=graph_df, ax=ax2);\n",
    "ax1.set_ylim((-0.01, 0.8));\n",
    "# ax2.set_ylim((0, 0.5));\n",
    "ax2.legend().set_visible(False);"
   ]
  },
  {
   "cell_type": "code",
   "execution_count": 66,
   "metadata": {},
   "outputs": [
    {
     "data": {
      "text/html": [
       "<div>\n",
       "<style scoped>\n",
       "    .dataframe tbody tr th:only-of-type {\n",
       "        vertical-align: middle;\n",
       "    }\n",
       "\n",
       "    .dataframe tbody tr th {\n",
       "        vertical-align: top;\n",
       "    }\n",
       "\n",
       "    .dataframe thead th {\n",
       "        text-align: right;\n",
       "    }\n",
       "</style>\n",
       "<table border=\"1\" class=\"dataframe\">\n",
       "  <thead>\n",
       "    <tr style=\"text-align: right;\">\n",
       "      <th></th>\n",
       "      <th>name</th>\n",
       "      <th>orig_n</th>\n",
       "      <th>orig_m</th>\n",
       "      <th>orig_degree_ast</th>\n",
       "      <th>attr_name</th>\n",
       "      <th>orig_attr_ast</th>\n",
       "      <th>model</th>\n",
       "      <th>clustering</th>\n",
       "      <th>mu</th>\n",
       "      <th>orig_homophily_ratio</th>\n",
       "      <th>...</th>\n",
       "      <th>gen_attr_ast</th>\n",
       "      <th>total_rewired_edges</th>\n",
       "      <th>fancy_rewired_edges</th>\n",
       "      <th>degree_js</th>\n",
       "      <th>pagerank_js</th>\n",
       "      <th>lambda_dist</th>\n",
       "      <th>deg_ast_diff</th>\n",
       "      <th>attr_ast_diff</th>\n",
       "      <th>gen_homophily_ratio</th>\n",
       "      <th>degree_ast_diff</th>\n",
       "    </tr>\n",
       "  </thead>\n",
       "  <tbody>\n",
       "    <tr>\n",
       "      <th>5030</th>\n",
       "      <td>cora</td>\n",
       "      <td>2485</td>\n",
       "      <td>5069</td>\n",
       "      <td>-0.071365</td>\n",
       "      <td>value</td>\n",
       "      <td>0.763701</td>\n",
       "      <td>SBM</td>\n",
       "      <td>NaN</td>\n",
       "      <td>NaN</td>\n",
       "      <td>0.672385</td>\n",
       "      <td>...</td>\n",
       "      <td>NaN</td>\n",
       "      <td>0</td>\n",
       "      <td>0</td>\n",
       "      <td>0.162809</td>\n",
       "      <td>0.244568</td>\n",
       "      <td>0.01870</td>\n",
       "      <td>0.028197</td>\n",
       "      <td>NaN</td>\n",
       "      <td>NaN</td>\n",
       "      <td>-0.028197</td>\n",
       "    </tr>\n",
       "    <tr>\n",
       "      <th>5031</th>\n",
       "      <td>cora</td>\n",
       "      <td>2485</td>\n",
       "      <td>5069</td>\n",
       "      <td>-0.071365</td>\n",
       "      <td>value</td>\n",
       "      <td>0.763701</td>\n",
       "      <td>SBM</td>\n",
       "      <td>NaN</td>\n",
       "      <td>NaN</td>\n",
       "      <td>0.672385</td>\n",
       "      <td>...</td>\n",
       "      <td>NaN</td>\n",
       "      <td>0</td>\n",
       "      <td>0</td>\n",
       "      <td>0.156538</td>\n",
       "      <td>0.221392</td>\n",
       "      <td>0.02091</td>\n",
       "      <td>0.036826</td>\n",
       "      <td>NaN</td>\n",
       "      <td>NaN</td>\n",
       "      <td>-0.036826</td>\n",
       "    </tr>\n",
       "    <tr>\n",
       "      <th>5032</th>\n",
       "      <td>cora</td>\n",
       "      <td>2485</td>\n",
       "      <td>5069</td>\n",
       "      <td>-0.071365</td>\n",
       "      <td>value</td>\n",
       "      <td>0.763701</td>\n",
       "      <td>SBM</td>\n",
       "      <td>NaN</td>\n",
       "      <td>NaN</td>\n",
       "      <td>0.672385</td>\n",
       "      <td>...</td>\n",
       "      <td>NaN</td>\n",
       "      <td>0</td>\n",
       "      <td>0</td>\n",
       "      <td>0.166176</td>\n",
       "      <td>0.232816</td>\n",
       "      <td>0.01853</td>\n",
       "      <td>0.028197</td>\n",
       "      <td>NaN</td>\n",
       "      <td>NaN</td>\n",
       "      <td>-0.028197</td>\n",
       "    </tr>\n",
       "    <tr>\n",
       "      <th>5033</th>\n",
       "      <td>cora</td>\n",
       "      <td>2485</td>\n",
       "      <td>5069</td>\n",
       "      <td>-0.071365</td>\n",
       "      <td>value</td>\n",
       "      <td>0.763701</td>\n",
       "      <td>SBM</td>\n",
       "      <td>NaN</td>\n",
       "      <td>NaN</td>\n",
       "      <td>0.672385</td>\n",
       "      <td>...</td>\n",
       "      <td>NaN</td>\n",
       "      <td>0</td>\n",
       "      <td>0</td>\n",
       "      <td>0.159884</td>\n",
       "      <td>0.226711</td>\n",
       "      <td>0.02086</td>\n",
       "      <td>0.033067</td>\n",
       "      <td>NaN</td>\n",
       "      <td>NaN</td>\n",
       "      <td>-0.033067</td>\n",
       "    </tr>\n",
       "    <tr>\n",
       "      <th>5034</th>\n",
       "      <td>cora</td>\n",
       "      <td>2485</td>\n",
       "      <td>5069</td>\n",
       "      <td>-0.071365</td>\n",
       "      <td>value</td>\n",
       "      <td>0.763701</td>\n",
       "      <td>SBM</td>\n",
       "      <td>NaN</td>\n",
       "      <td>NaN</td>\n",
       "      <td>0.672385</td>\n",
       "      <td>...</td>\n",
       "      <td>NaN</td>\n",
       "      <td>0</td>\n",
       "      <td>0</td>\n",
       "      <td>0.184036</td>\n",
       "      <td>0.202134</td>\n",
       "      <td>0.02529</td>\n",
       "      <td>0.038307</td>\n",
       "      <td>NaN</td>\n",
       "      <td>NaN</td>\n",
       "      <td>-0.038307</td>\n",
       "    </tr>\n",
       "    <tr>\n",
       "      <th>5035</th>\n",
       "      <td>cora</td>\n",
       "      <td>2485</td>\n",
       "      <td>5069</td>\n",
       "      <td>-0.071365</td>\n",
       "      <td>value</td>\n",
       "      <td>0.763701</td>\n",
       "      <td>SBM</td>\n",
       "      <td>NaN</td>\n",
       "      <td>NaN</td>\n",
       "      <td>0.672385</td>\n",
       "      <td>...</td>\n",
       "      <td>NaN</td>\n",
       "      <td>0</td>\n",
       "      <td>0</td>\n",
       "      <td>0.151750</td>\n",
       "      <td>0.222189</td>\n",
       "      <td>0.02625</td>\n",
       "      <td>0.020424</td>\n",
       "      <td>NaN</td>\n",
       "      <td>NaN</td>\n",
       "      <td>-0.020424</td>\n",
       "    </tr>\n",
       "    <tr>\n",
       "      <th>5036</th>\n",
       "      <td>cora</td>\n",
       "      <td>2485</td>\n",
       "      <td>5069</td>\n",
       "      <td>-0.071365</td>\n",
       "      <td>value</td>\n",
       "      <td>0.763701</td>\n",
       "      <td>SBM</td>\n",
       "      <td>NaN</td>\n",
       "      <td>NaN</td>\n",
       "      <td>0.672385</td>\n",
       "      <td>...</td>\n",
       "      <td>NaN</td>\n",
       "      <td>0</td>\n",
       "      <td>0</td>\n",
       "      <td>0.154470</td>\n",
       "      <td>0.217153</td>\n",
       "      <td>0.02637</td>\n",
       "      <td>0.031421</td>\n",
       "      <td>NaN</td>\n",
       "      <td>NaN</td>\n",
       "      <td>-0.031421</td>\n",
       "    </tr>\n",
       "    <tr>\n",
       "      <th>5037</th>\n",
       "      <td>cora</td>\n",
       "      <td>2485</td>\n",
       "      <td>5069</td>\n",
       "      <td>-0.071365</td>\n",
       "      <td>value</td>\n",
       "      <td>0.763701</td>\n",
       "      <td>SBM</td>\n",
       "      <td>NaN</td>\n",
       "      <td>NaN</td>\n",
       "      <td>0.672385</td>\n",
       "      <td>...</td>\n",
       "      <td>NaN</td>\n",
       "      <td>0</td>\n",
       "      <td>0</td>\n",
       "      <td>0.148019</td>\n",
       "      <td>0.223213</td>\n",
       "      <td>0.01970</td>\n",
       "      <td>0.018254</td>\n",
       "      <td>NaN</td>\n",
       "      <td>NaN</td>\n",
       "      <td>-0.018254</td>\n",
       "    </tr>\n",
       "    <tr>\n",
       "      <th>5038</th>\n",
       "      <td>cora</td>\n",
       "      <td>2485</td>\n",
       "      <td>5069</td>\n",
       "      <td>-0.071365</td>\n",
       "      <td>value</td>\n",
       "      <td>0.763701</td>\n",
       "      <td>SBM</td>\n",
       "      <td>NaN</td>\n",
       "      <td>NaN</td>\n",
       "      <td>0.672385</td>\n",
       "      <td>...</td>\n",
       "      <td>NaN</td>\n",
       "      <td>0</td>\n",
       "      <td>0</td>\n",
       "      <td>0.178600</td>\n",
       "      <td>0.231012</td>\n",
       "      <td>0.02793</td>\n",
       "      <td>0.032005</td>\n",
       "      <td>NaN</td>\n",
       "      <td>NaN</td>\n",
       "      <td>-0.032005</td>\n",
       "    </tr>\n",
       "    <tr>\n",
       "      <th>5039</th>\n",
       "      <td>cora</td>\n",
       "      <td>2485</td>\n",
       "      <td>5069</td>\n",
       "      <td>-0.071365</td>\n",
       "      <td>value</td>\n",
       "      <td>0.763701</td>\n",
       "      <td>SBM</td>\n",
       "      <td>NaN</td>\n",
       "      <td>NaN</td>\n",
       "      <td>0.672385</td>\n",
       "      <td>...</td>\n",
       "      <td>NaN</td>\n",
       "      <td>0</td>\n",
       "      <td>0</td>\n",
       "      <td>0.163922</td>\n",
       "      <td>0.220770</td>\n",
       "      <td>0.02076</td>\n",
       "      <td>0.018302</td>\n",
       "      <td>NaN</td>\n",
       "      <td>NaN</td>\n",
       "      <td>-0.018302</td>\n",
       "    </tr>\n",
       "  </tbody>\n",
       "</table>\n",
       "<p>10 rows × 23 columns</p>\n",
       "</div>"
      ],
      "text/plain": [
       "      name  orig_n  orig_m  orig_degree_ast attr_name  orig_attr_ast model  \\\n",
       "5030  cora    2485    5069        -0.071365     value       0.763701   SBM   \n",
       "5031  cora    2485    5069        -0.071365     value       0.763701   SBM   \n",
       "5032  cora    2485    5069        -0.071365     value       0.763701   SBM   \n",
       "5033  cora    2485    5069        -0.071365     value       0.763701   SBM   \n",
       "5034  cora    2485    5069        -0.071365     value       0.763701   SBM   \n",
       "5035  cora    2485    5069        -0.071365     value       0.763701   SBM   \n",
       "5036  cora    2485    5069        -0.071365     value       0.763701   SBM   \n",
       "5037  cora    2485    5069        -0.071365     value       0.763701   SBM   \n",
       "5038  cora    2485    5069        -0.071365     value       0.763701   SBM   \n",
       "5039  cora    2485    5069        -0.071365     value       0.763701   SBM   \n",
       "\n",
       "     clustering  mu  orig_homophily_ratio  ...  gen_attr_ast  \\\n",
       "5030        NaN NaN              0.672385  ...           NaN   \n",
       "5031        NaN NaN              0.672385  ...           NaN   \n",
       "5032        NaN NaN              0.672385  ...           NaN   \n",
       "5033        NaN NaN              0.672385  ...           NaN   \n",
       "5034        NaN NaN              0.672385  ...           NaN   \n",
       "5035        NaN NaN              0.672385  ...           NaN   \n",
       "5036        NaN NaN              0.672385  ...           NaN   \n",
       "5037        NaN NaN              0.672385  ...           NaN   \n",
       "5038        NaN NaN              0.672385  ...           NaN   \n",
       "5039        NaN NaN              0.672385  ...           NaN   \n",
       "\n",
       "      total_rewired_edges  fancy_rewired_edges  degree_js  pagerank_js  \\\n",
       "5030                    0                    0   0.162809     0.244568   \n",
       "5031                    0                    0   0.156538     0.221392   \n",
       "5032                    0                    0   0.166176     0.232816   \n",
       "5033                    0                    0   0.159884     0.226711   \n",
       "5034                    0                    0   0.184036     0.202134   \n",
       "5035                    0                    0   0.151750     0.222189   \n",
       "5036                    0                    0   0.154470     0.217153   \n",
       "5037                    0                    0   0.148019     0.223213   \n",
       "5038                    0                    0   0.178600     0.231012   \n",
       "5039                    0                    0   0.163922     0.220770   \n",
       "\n",
       "      lambda_dist  deg_ast_diff  attr_ast_diff  gen_homophily_ratio  \\\n",
       "5030      0.01870      0.028197            NaN                  NaN   \n",
       "5031      0.02091      0.036826            NaN                  NaN   \n",
       "5032      0.01853      0.028197            NaN                  NaN   \n",
       "5033      0.02086      0.033067            NaN                  NaN   \n",
       "5034      0.02529      0.038307            NaN                  NaN   \n",
       "5035      0.02625      0.020424            NaN                  NaN   \n",
       "5036      0.02637      0.031421            NaN                  NaN   \n",
       "5037      0.01970      0.018254            NaN                  NaN   \n",
       "5038      0.02793      0.032005            NaN                  NaN   \n",
       "5039      0.02076      0.018302            NaN                  NaN   \n",
       "\n",
       "      degree_ast_diff  \n",
       "5030        -0.028197  \n",
       "5031        -0.036826  \n",
       "5032        -0.028197  \n",
       "5033        -0.033067  \n",
       "5034        -0.038307  \n",
       "5035        -0.020424  \n",
       "5036        -0.031421  \n",
       "5037        -0.018254  \n",
       "5038        -0.032005  \n",
       "5039        -0.018302  \n",
       "\n",
       "[10 rows x 23 columns]"
      ]
     },
     "execution_count": 66,
     "metadata": {},
     "output_type": "execute_result"
    }
   ],
   "source": [
    "graph_df[(graph_df.model=='SBM') & (graph_df.name=='cora')]"
   ]
  },
  {
   "cell_type": "code",
   "execution_count": null,
   "metadata": {},
   "outputs": [],
   "source": []
  },
  {
   "cell_type": "code",
   "execution_count": null,
   "metadata": {},
   "outputs": [],
   "source": []
  },
  {
   "cell_type": "code",
   "execution_count": null,
   "metadata": {},
   "outputs": [],
   "source": []
  },
  {
   "cell_type": "code",
   "execution_count": null,
   "metadata": {},
   "outputs": [],
   "source": []
  },
  {
   "cell_type": "code",
   "execution_count": null,
   "metadata": {},
   "outputs": [],
   "source": [
    "graph_df.to_csv('./graph_df.csv')"
   ]
  },
  {
   "cell_type": "code",
   "execution_count": null,
   "metadata": {},
   "outputs": [],
   "source": [
    "graph_df = pd.read_csv('./graph_df.csv')"
   ]
  },
  {
   "cell_type": "code",
   "execution_count": null,
   "metadata": {},
   "outputs": [],
   "source": [
    "graph_df['mu'] = graph_df['mu'].astype(int)"
   ]
  },
  {
   "cell_type": "code",
   "execution_count": null,
   "metadata": {},
   "outputs": [],
   "source": [
    "grammar_gen_df = pd.merge(grammar_df, graph_df, on=['name', 'mu', 'clustering'])"
   ]
  },
  {
   "cell_type": "code",
   "execution_count": null,
   "metadata": {},
   "outputs": [],
   "source": [
    "display(grammar_gen_df.head(), grammar_df.shape)"
   ]
  },
  {
   "cell_type": "code",
   "execution_count": null,
   "metadata": {},
   "outputs": [],
   "source": [
    "sns.scatterplot(x='lambda_dist', y='compression', hue='clustering', size='mu', data=grammar_gen_df);"
   ]
  },
  {
   "cell_type": "markdown",
   "metadata": {},
   "source": [
    "## Spectral and conductance works best"
   ]
  },
  {
   "cell_type": "code",
   "execution_count": null,
   "metadata": {},
   "outputs": [],
   "source": [
    "filtered_df = grammar_gen_df[grammar_gen_df.clustering.isin(('cond', 'spectral', 'leiden'))]"
   ]
  },
  {
   "cell_type": "code",
   "execution_count": null,
   "metadata": {},
   "outputs": [],
   "source": [
    "fig, (ax1, ax2, ax3) = plt.subplots(ncols=1, nrows=3, sharex=True);\n",
    "\n",
    "sns.barplot(x='mu', y='lambda_dist', hue='clustering', data=filtered_df, ax=ax1);\n",
    "sns.barplot(x='mu', y='pagerank_js', hue='clustering', data=filtered_df, ax=ax2);\n",
    "sns.barplot(x='mu', y='compression', hue='clustering', data=filtered_df, ax=ax3);\n",
    "\n",
    "ax2.set_ylim((0, 1));\n",
    "ax2.legend().set_visible(False);\n",
    "ax3.legend().set_visible(False);"
   ]
  },
  {
   "cell_type": "markdown",
   "metadata": {},
   "source": [
    "## pick mu = 5"
   ]
  },
  {
   "cell_type": "markdown",
   "metadata": {},
   "source": [
    "### Read different rewired edges"
   ]
  },
  {
   "cell_type": "code",
   "execution_count": null,
   "metadata": {},
   "outputs": [],
   "source": [
    "def make_shuffled_grammar_df():\n",
    "    frac = np.linspace(0, 100, 11, endpoint=True, dtype=int)    \n",
    "    shuffle = 'edges'\n",
    "    names = [f'toy-comm-{f}' for f in frac]\n",
    "    rows = []\n",
    "    root_dict = {f'{name}': {} for name in names}\n",
    "    dl_dict = {}\n",
    "    \n",
    "    for name in names:\n",
    "        orig_graph, attr_name = nx.read_gexf(f'../VRG/input/shuffled/{shuffle}/{name}.gexf', node_type=int), 'block'\n",
    "        dl_dict[name] = graph_mdl(orig_graph)\n",
    "        if attr_name != '':\n",
    "            dl_dict[name] = graph_mdl(orig_graph, attributed=True)\n",
    "    print(dl_dict)\n",
    "    \n",
    "    for name in names:\n",
    "        orig_graph, attr_name = nx.read_gexf(f'../VRG/input/shuffled/{shuffle}/{name}.gexf', node_type=int), 'block'\n",
    "        print('\\n\\n', name, attr_name)\n",
    "        for fname in glob.glob(f'/data/ssikdar/attributed-vrg/dumps/grammars/{name}-{shuffle}/*.pkl'):\n",
    "            path = Path(fname)\n",
    "            pattern = r'(.*)\\_(\\w+)\\_(\\d+)\\_(\\d+)'\n",
    "            m = re.match(pattern, path.stem)\n",
    "            grammar_type, clustering, mu, _ = m.groups()\n",
    "            \n",
    "            print(grammar_type, clustering, mu, end='\\t', flush=True)\n",
    "            \n",
    "            if clustering in root_dict[name]:\n",
    "                ht, avg_branch_factor, dc = root_dict[name][clustering]\n",
    "            else:\n",
    "                root = load_pickle(f'/data/ssikdar/attributed-vrg/dumps/trees/{name}-{shuffle}/{clustering}_list.pkl')\n",
    "                if isinstance(root, list): root = create_tree(root)\n",
    "                ht, avg_branch_factor, dc = get_tree_stats(g=orig_graph, root=root)\n",
    "                root_dict[name][clustering] = ht, avg_branch_factor, dc\n",
    "\n",
    "            vrg = load_pickle(fname)\n",
    "#             if grammar_type.startswith('AVRG'): name = f'{name}-attr'\n",
    "            graph_dl = dl_dict[name]\n",
    "            \n",
    "            row = dict(name=name, orig_n=orig_graph.order(), orig_m=orig_graph.size(), attr_name=attr_name, \n",
    "                      model=grammar_type, mu=int(mu), clustering=clustering, cost=dc, branch_factor=avg_branch_factor,\n",
    "                      height=ht, graph_dl=graph_dl, num_rules=vrg.num_rules, unique_rules=len(vrg.unique_rule_list),\n",
    "                      grammar_dl=vrg.cost)\n",
    "            name = name.replace('-attr', '')\n",
    "            rows.append(row)\n",
    "\n",
    "    return pd.DataFrame(rows)"
   ]
  },
  {
   "cell_type": "code",
   "execution_count": null,
   "metadata": {
    "scrolled": true
   },
   "outputs": [],
   "source": [
    "shuffled_grammar_df = make_shuffled_grammar_df()"
   ]
  },
  {
   "cell_type": "code",
   "execution_count": null,
   "metadata": {},
   "outputs": [],
   "source": [
    "shuffled_grammar_df['frac'] = shuffled_grammar_df['name'].apply(lambda x: int(x.split('-')[-1]))"
   ]
  },
  {
   "cell_type": "code",
   "execution_count": null,
   "metadata": {},
   "outputs": [],
   "source": [
    "shuffled_grammar_df.head()"
   ]
  },
  {
   "cell_type": "code",
   "execution_count": null,
   "metadata": {},
   "outputs": [],
   "source": []
  },
  {
   "cell_type": "code",
   "execution_count": null,
   "metadata": {},
   "outputs": [],
   "source": []
  },
  {
   "cell_type": "code",
   "execution_count": null,
   "metadata": {},
   "outputs": [],
   "source": [
    "def make_shuffled_graph_df():\n",
    "    frac = np.linspace(0, 100, 11, endpoint=True, dtype=int)    \n",
    "    shuffle = 'attrs'\n",
    "    names = [f'toy-comm-{f}' for f in frac]\n",
    "    dfs = []\n",
    "    \n",
    "#     for name in sorted(names):\n",
    "    for f, name in zip(frac, names):\n",
    "#         orig_graph, attr_name = get_graph(name)\n",
    "        orig_graph, attr_name = nx.read_gexf(f'../VRG/input/shuffled/{shuffle}/{name}.gexf', node_type=int), 'block'\n",
    "        name = f'toy-comm-attrs-{f}'\n",
    "        print(name)\n",
    "        for fname in glob.glob(f'/data/ssikdar/attributed-vrg/dumps/graphs/{name}/*'):\n",
    "            path = Path(fname)\n",
    "            print(path.stem, end='\\t', flush=True)\n",
    "            pattern = r'(.*)\\_(\\w+)\\_(\\d+)\\_(\\d+)'\n",
    "            m = re.match(pattern, path.stem)\n",
    "            grammar_type, clustering, mu, _ = m.groups()\n",
    "            df = make_graph_df(name, fname, orig_graph, mu, clustering, attr_name, grammar_type)\n",
    "            dfs.append(df)\n",
    "    return pd.concat(dfs, ignore_index=True)"
   ]
  },
  {
   "cell_type": "code",
   "execution_count": null,
   "metadata": {
    "scrolled": true
   },
   "outputs": [],
   "source": [
    "shuffled_graph_df = make_shuffled_graph_df()"
   ]
  },
  {
   "cell_type": "code",
   "execution_count": null,
   "metadata": {},
   "outputs": [],
   "source": [
    "shuffled_graph_df['frac'] = shuffled_graph_df['name'].apply(lambda x: int(x.split('-')[-1]))"
   ]
  },
  {
   "cell_type": "code",
   "execution_count": null,
   "metadata": {},
   "outputs": [],
   "source": [
    "shuffled_graph_df.head()"
   ]
  },
  {
   "cell_type": "code",
   "execution_count": null,
   "metadata": {},
   "outputs": [],
   "source": [
    "shuffled_graph_df = shuffled_graph_df[shuffled_graph_df.model != 'AVRG']"
   ]
  },
  {
   "cell_type": "code",
   "execution_count": null,
   "metadata": {},
   "outputs": [],
   "source": [
    "plt.rcParams['figure.figsize'] = (15, 8)"
   ]
  },
  {
   "cell_type": "code",
   "execution_count": null,
   "metadata": {},
   "outputs": [],
   "source": [
    "fig, (ax1, ax2) = plt.subplots(nrows=1, ncols=2)\n",
    "\n",
    "sns.lineplot(x='frac', y='orig_degree_ast', marker='o', alpha=0.7, data=shuffled_graph_df, ax=ax1, color='k', label='original');\n",
    "sns.lineplot(x='frac', y='gen_degree_ast', marker='o', alpha=0.7, ci=90, hue='model', data=shuffled_graph_df, ax=ax1);\n",
    "ax1.set_ylabel('Degree Assortativity');\n",
    "ax1.set_xlabel('Fraction');\n",
    "ax1.set_ylim((-0.05, 0.375));\n",
    "\n",
    "sns.lineplot(x='frac', y='lambda_dist', marker='o', alpha=0.7, ci=90, hue='model', data=shuffled_graph_df, ax=ax2);\n",
    "ax2.axhline(0, c='black');\n",
    "ax2.set_ylabel('Lambda Distance');\n",
    "ax2.set_xlabel('Fraction');\n",
    "ax2.set_ylim((-0.05, 0.375));"
   ]
  },
  {
   "cell_type": "code",
   "execution_count": null,
   "metadata": {},
   "outputs": [],
   "source": [
    "plt.rcParams['figure.figsize'] = (20, 8)"
   ]
  },
  {
   "cell_type": "code",
   "execution_count": null,
   "metadata": {},
   "outputs": [],
   "source": [
    "fig, (ax1, ax2, ax3) = plt.subplots(nrows=1, ncols=3)\n",
    "\n",
    "sns.lineplot(x='frac', y='orig_degree_ast', marker='o', alpha=0.7, data=shuffled_graph_df, ax=ax1, color='k', label='original');\n",
    "sns.lineplot(x='frac', y='gen_degree_ast', marker='o', alpha=0.7, ci=90, hue='model', data=shuffled_graph_df, ax=ax1);\n",
    "ax1.set_ylabel('Degree Assortativity');\n",
    "ax1.set_xlabel('Fraction');\n",
    "ax1.set_ylim((-0.05, 0.375));\n",
    "\n",
    "sns.lineplot(x='frac', y='orig_attr_ast', marker='o', alpha=0.7, data=shuffled_graph_df, ax=ax2, color='k', label='original');\n",
    "sns.lineplot(x='frac', y='gen_attr_ast', marker='o', alpha=0.7, ci=90, hue='model', data=shuffled_graph_df, ax=ax2);\n",
    "ax2.set_ylabel('Attribute Assortativity');\n",
    "ax2.set_xlabel('Fraction');\n",
    "ax2.set_ylim((-0.05, 0.95));\n",
    "\n",
    "sns.lineplot(x='frac', y='lambda_dist', marker='o', alpha=0.7, ci=90, hue='model', data=shuffled_graph_df, ax=ax3);\n",
    "ax3.axhline(0, c='black');\n",
    "ax3.set_ylabel('Lambda Distance');\n",
    "ax3.set_xlabel('Fraction');\n",
    "ax3.set_ylim((-0.05, 0.95));"
   ]
  },
  {
   "cell_type": "code",
   "execution_count": null,
   "metadata": {},
   "outputs": [],
   "source": [
    "fig, (ax1, ax2) = plt.subplots(nrows=1, ncols=2, sharex=True)\n",
    "\n",
    "sns.lineplot(x='frac', y='orig_degree_ast', marker='o', alpha=0.7, data=shuffled_graph_df, ax=ax1, color='k', label='original');\n",
    "sns.lineplot(x='frac', y='gen_degree_ast', marker='o', alpha=0.7, ci=90, hue='model', data=shuffled_graph_df, ax=ax1);\n",
    "ax1.set_ylabel('Degree Assortativity');\n",
    "ax1.set_xlabel('Fraction');\n",
    "ax1.set_ylim((-0.05, 0.95));\n",
    "\n",
    "sns.lineplot(x='frac', y='orig_attr_ast', marker='o', alpha=0.7, data=shuffled_graph_df, ax=ax2, color='k', label='original');\n",
    "sns.lineplot(x='frac', y='gen_attr_ast', marker='o', alpha=0.7, ci=90, hue='model', data=shuffled_graph_df, ax=ax2);\n",
    "ax2.set_ylabel('Attribute Assortativity');\n",
    "ax2.set_xlabel('Fraction');\n",
    "ax2.set_ylim((-0.05, 0.95));"
   ]
  },
  {
   "cell_type": "code",
   "execution_count": null,
   "metadata": {},
   "outputs": [],
   "source": [
    "fig, (ax1, ax2) = plt.subplots(nrows=1, ncols=2)\n",
    "\n",
    "sns.lineplot(x='frac', y='orig_attr_ast', marker='o', alpha=0.7, data=shuffled_graph_df, ax=ax1, color='k', label='original');\n",
    "sns.lineplot(x='frac', y='gen_attr_ast', marker='o', alpha=0.7, ci=90, hue='model', data=shuffled_graph_df, ax=ax1);\n",
    "ax1.set_ylabel('Attribute Assortativity');\n",
    "ax1.set_xlabel('Fraction');\n",
    "\n",
    "sns.lineplot(x='frac', y='gen_homophily_ratio', marker='o', alpha=0.7, ci=90, hue='model', data=shuffled_graph_df, ax=ax2);\n",
    "sns.lineplot(x='frac', y='orig_homophily_ratio', marker='o', alpha=0.7, data=shuffled_graph_df, ax=ax2, color='k', label='original');\n",
    "\n",
    "ax1.set_ylim((0, 1));\n",
    "ax2.set_ylim((0, 1));\n",
    "ax2.set_ylabel('Homophily Ratio');\n",
    "ax2.set_xlabel('Fraction');"
   ]
  },
  {
   "cell_type": "code",
   "execution_count": null,
   "metadata": {},
   "outputs": [],
   "source": [
    "shuffled_graph_df.orig_homophily_ratio"
   ]
  },
  {
   "cell_type": "markdown",
   "metadata": {},
   "source": [
    "Cora"
   ]
  },
  {
   "cell_type": "code",
   "execution_count": null,
   "metadata": {},
   "outputs": [],
   "source": [
    "! head ../VRG/input/cora/cora/cora.cites"
   ]
  },
  {
   "cell_type": "code",
   "execution_count": null,
   "metadata": {},
   "outputs": [],
   "source": [
    "! head ../VRG/input/cora/cora/cora.content"
   ]
  },
  {
   "cell_type": "code",
   "execution_count": null,
   "metadata": {},
   "outputs": [],
   "source": [
    "! head ../VRG/input/cora/cora/README"
   ]
  },
  {
   "cell_type": "code",
   "execution_count": null,
   "metadata": {},
   "outputs": [],
   "source": [
    "nx_g = nx.Graph()\n",
    "\n",
    "with open('../VRG/input/cora/cora/cora.cites') as fp:\n",
    "    for line in fp.readlines():\n",
    "        u, v = map(int, line.split())\n",
    "        nx_g.add_edge(u, v)"
   ]
  },
  {
   "cell_type": "code",
   "execution_count": null,
   "metadata": {},
   "outputs": [],
   "source": [
    "print(nx.info(nx_g))"
   ]
  },
  {
   "cell_type": "code",
   "execution_count": null,
   "metadata": {},
   "outputs": [],
   "source": [
    "values = {}\n",
    "\n",
    "with open('../VRG/input/cora/cora/cora.content') as fp:\n",
    "    for line in fp.readlines():\n",
    "        u, *_, cat = line.split()\n",
    "        values[int(u)] = cat"
   ]
  },
  {
   "cell_type": "code",
   "execution_count": null,
   "metadata": {},
   "outputs": [],
   "source": [
    "len(values)"
   ]
  },
  {
   "cell_type": "code",
   "execution_count": null,
   "metadata": {},
   "outputs": [],
   "source": [
    "nx.set_node_attributes(nx_g, name='value', values=values)"
   ]
  },
  {
   "cell_type": "code",
   "execution_count": null,
   "metadata": {},
   "outputs": [],
   "source": [
    "nx.write_gml(nx_g, '../VRG/input/cora.gml')"
   ]
  },
  {
   "cell_type": "code",
   "execution_count": null,
   "metadata": {},
   "outputs": [],
   "source": []
  },
  {
   "cell_type": "markdown",
   "metadata": {},
   "source": [
    "## Do the same for attribute shuffled case"
   ]
  },
  {
   "cell_type": "code",
   "execution_count": null,
   "metadata": {},
   "outputs": [],
   "source": [
    "def make_attr_shuffled_graph_df():\n",
    "    frac = np.linspace(0, 100, 11, endpoint=True, dtype=int)    \n",
    "    names = [f'toy-comm-{f}-attrs' for f in frac]\n",
    "    dfs = []\n",
    "\n",
    "    for f in frac:\n",
    "        orig_graph, attr_name = nx.read_gexf(f'../VRG/input/shuffled/attrs/toy-comm-{f}.gexf', node_type=int), 'block'\n",
    "        name = f'toy-comm-{f}-attrs'\n",
    "        print('\\n', name, '\\n')\n",
    "        for fname in glob.glob(f'/data/ssikdar/attributed-vrg/dumps/graphs/{name}/*'):\n",
    "            path = Path(fname)\n",
    "            print(path.stem, end='\\t', flush=True)\n",
    "            pattern = r'(.*)\\_(\\w+)\\_(\\d+)\\_(\\d+)'\n",
    "            m = re.match(pattern, path.stem)\n",
    "            grammar_type, clustering, mu, _ = m.groups()\n",
    "            df = make_graph_df(name, fname, orig_graph, mu, clustering, attr_name, grammar_type)\n",
    "            dfs.append(df)\n",
    "    return pd.concat(dfs, ignore_index=True)"
   ]
  },
  {
   "cell_type": "code",
   "execution_count": null,
   "metadata": {
    "scrolled": true
   },
   "outputs": [],
   "source": [
    "attr_shuffled_graph_df = make_attr_shuffled_graph_df()"
   ]
  },
  {
   "cell_type": "code",
   "execution_count": null,
   "metadata": {},
   "outputs": [],
   "source": [
    "attr_shuffled_graph_df = attr_shuffled_graph_df[attr_shuffled_graph_df.model != 'AVRG']\n",
    "attr_shuffled_graph_df['frac'] = attr_shuffled_graph_df['name'].apply(lambda x: int(x.split('-')[-2]))"
   ]
  },
  {
   "cell_type": "code",
   "execution_count": null,
   "metadata": {},
   "outputs": [],
   "source": [
    "attr_shuffled_graph_df.head()"
   ]
  },
  {
   "cell_type": "code",
   "execution_count": null,
   "metadata": {},
   "outputs": [],
   "source": [
    "plt.rcParams['figure.figsize'] = (15, 8)\n",
    "fig, (ax1, ax2) = plt.subplots(nrows=1, ncols=2)\n",
    "\n",
    "sns.lineplot(x='frac', y='orig_degree_ast', marker='o', alpha=0.7, data=attr_shuffled_graph_df, ax=ax1, color='k', label='original');\n",
    "sns.lineplot(x='frac', y='gen_degree_ast', marker='o', alpha=0.7, ci=None, hue='model', data=attr_shuffled_graph_df, ax=ax1);\n",
    "ax1.set_ylabel('Degree Assortativity');\n",
    "ax1.set_xlabel('Fraction');\n",
    "ax1.set_ylim((-0.05, 1.1));\n",
    "\n",
    "sns.lineplot(x='frac', y='lambda_dist', marker='o', alpha=0.7, ci=None, hue='model', data=attr_shuffled_graph_df, ax=ax2);\n",
    "ax2.axhline(0, c='black');\n",
    "ax2.set_ylabel('Lambda Distance');\n",
    "ax2.set_xlabel('Fraction');\n",
    "ax2.set_ylim((-0.05, 1.1));\n",
    "ax2.legend().set_visible(False);"
   ]
  },
  {
   "cell_type": "code",
   "execution_count": null,
   "metadata": {},
   "outputs": [],
   "source": [
    "fig, (ax1, ax2) = plt.subplots(nrows=1, ncols=2)\n",
    "\n",
    "sns.lineplot(x='frac', y='orig_attr_ast', marker='o', alpha=0.7, data=attr_shuffled_graph_df, ax=ax1, color='k', label='original');\n",
    "sns.lineplot(x='frac', y='gen_attr_ast', marker='o', alpha=0.7, ci=None, hue='model', data=attr_shuffled_graph_df, ax=ax1);\n",
    "ax1.set_ylabel('Attribute Assortativity');\n",
    "ax1.set_xlabel('Fraction');\n",
    "ax1.set_ylim((-0.05, 0.95));\n",
    "\n",
    "sns.lineplot(x='frac', y='lambda_dist', marker='o', alpha=0.7, ci=None, hue='model', data=attr_shuffled_graph_df, ax=ax2);\n",
    "ax2.axhline(0, c='black');\n",
    "ax2.set_ylabel('Lambda Distance');\n",
    "ax2.set_xlabel('Fraction');\n",
    "ax2.set_ylim((-0.05, 0.95));\n",
    "ax2.legend().set_visible(False);"
   ]
  },
  {
   "cell_type": "code",
   "execution_count": null,
   "metadata": {},
   "outputs": [],
   "source": [
    "fig, (ax1, ax2) = plt.subplots(nrows=1, ncols=2, sharex=True)\n",
    "\n",
    "sns.lineplot(x='frac', y='orig_degree_ast', marker='o', alpha=0.7, data=attr_shuffled_graph_df, ax=ax1, color='k', label='original');\n",
    "sns.lineplot(x='frac', y='gen_degree_ast', marker='o', alpha=0.7, ci=None, hue='model', data=attr_shuffled_graph_df, ax=ax1);\n",
    "ax1.set_ylabel('Degree Assortativity');\n",
    "ax1.set_xlabel('Fraction');\n",
    "ax1.set_ylim((-0.05, 1));\n",
    "\n",
    "sns.lineplot(x='frac', y='orig_attr_ast', marker='o', alpha=0.7, data=attr_shuffled_graph_df, ax=ax2, color='k', label='original');\n",
    "sns.lineplot(x='frac', y='gen_attr_ast', marker='o', alpha=0.7, ci=None, hue='model', data=attr_shuffled_graph_df, ax=ax2);\n",
    "ax2.set_ylabel('Attribute Assortativity');\n",
    "ax2.set_xlabel('Fraction');\n",
    "ax2.set_ylim((-0.05, 1));"
   ]
  },
  {
   "cell_type": "markdown",
   "metadata": {},
   "source": [
    "## Test for bigger datasets"
   ]
  },
  {
   "cell_type": "code",
   "execution_count": null,
   "metadata": {},
   "outputs": [],
   "source": [
    "name = 'pubmed'\n",
    "g, attr_name = get_graph(name)\n",
    "ret = get_compatibility_matrix(g, attr_name)"
   ]
  },
  {
   "cell_type": "code",
   "execution_count": null,
   "metadata": {},
   "outputs": [],
   "source": [
    "ret"
   ]
  },
  {
   "cell_type": "code",
   "execution_count": null,
   "metadata": {},
   "outputs": [],
   "source": [
    "plt.rcParams['figure.figsize'] = (12, 8)\n",
    "plt.rcParams['font.size'] = 20\n",
    "plt.rcParams['axes.labelsize'] = 30\n",
    "plt.rcParams['axes.titlesize'] = 20\n",
    "plt.rcParams['xtick.labelsize'] = 15\n",
    "plt.rcParams['ytick.labelsize'] = 15"
   ]
  },
  {
   "cell_type": "code",
   "execution_count": null,
   "metadata": {},
   "outputs": [],
   "source": [
    "labels = ret['mapping'].keys()\n",
    "sns.heatmap(ret['compatibility_mat'], xticklabels=labels, yticklabels=labels, annot=True, fmt='.2g'); "
   ]
  },
  {
   "cell_type": "code",
   "execution_count": null,
   "metadata": {},
   "outputs": [],
   "source": [
    "nx.degree_assortativity_coefficient(g)"
   ]
  },
  {
   "cell_type": "code",
   "execution_count": null,
   "metadata": {},
   "outputs": [],
   "source": [
    "deg_mixing_mat = nx.degree_mixing_matrix(g, normalized=False)"
   ]
  },
  {
   "cell_type": "code",
   "execution_count": null,
   "metadata": {},
   "outputs": [],
   "source": [
    "deg_mixing_mat.shape"
   ]
  },
  {
   "cell_type": "code",
   "execution_count": null,
   "metadata": {},
   "outputs": [],
   "source": [
    "binned_deg_mix_mat, bound = np.histogram2d(deg_mixing_mat, bins=10)"
   ]
  },
  {
   "cell_type": "code",
   "execution_count": null,
   "metadata": {},
   "outputs": [],
   "source": [
    "binned_deg_mix_mat"
   ]
  },
  {
   "cell_type": "code",
   "execution_count": null,
   "metadata": {},
   "outputs": [],
   "source": [
    "sns.heatmap(binned_deg_mix_mat); "
   ]
  },
  {
   "cell_type": "code",
   "execution_count": null,
   "metadata": {},
   "outputs": [],
   "source": [
    "sns.scatterplot(x='pagerank_js', y='compression', hue='clustering', size='mu', data=grammar_gen_df);"
   ]
  },
  {
   "cell_type": "code",
   "execution_count": null,
   "metadata": {},
   "outputs": [],
   "source": [
    "sns.scatterplot(x='lambda_dist', y='cost', hue='clustering', size='mu', data=grammar_gen_df);"
   ]
  },
  {
   "cell_type": "code",
   "execution_count": null,
   "metadata": {},
   "outputs": [],
   "source": [
    "sns.scatterplot(x='num_rules', y='compression', hue='clustering', size='mu', data=grammar_gen_df);"
   ]
  },
  {
   "cell_type": "code",
   "execution_count": null,
   "metadata": {},
   "outputs": [],
   "source": []
  },
  {
   "cell_type": "code",
   "execution_count": null,
   "metadata": {},
   "outputs": [],
   "source": []
  },
  {
   "cell_type": "code",
   "execution_count": null,
   "metadata": {},
   "outputs": [],
   "source": [
    "display(graph_df.head(), graph_df.shape)"
   ]
  },
  {
   "cell_type": "code",
   "execution_count": null,
   "metadata": {},
   "outputs": [],
   "source": [
    "import re"
   ]
  },
  {
   "cell_type": "code",
   "execution_count": null,
   "metadata": {},
   "outputs": [],
   "source": [
    "def get_frac(x):\n",
    "    return int(x.split('-')[-2])"
   ]
  },
  {
   "cell_type": "code",
   "execution_count": null,
   "metadata": {},
   "outputs": [],
   "source": [
    "graph_df['frac'] = graph_df['name'].apply(lambda x: get_frac(x))"
   ]
  },
  {
   "cell_type": "code",
   "execution_count": null,
   "metadata": {},
   "outputs": [],
   "source": [
    "graph_df['frac'].unique()"
   ]
  },
  {
   "cell_type": "code",
   "execution_count": null,
   "metadata": {},
   "outputs": [],
   "source": [
    "plt.rcParams['figure.figsize'] = [20, 6]\n",
    "fig, (ax1, ax2, ax3) = plt.subplots(nrows=1, ncols=3)\n",
    "\n",
    "ax1.set_ylim((-0.1, 1.1))\n",
    "ax2.set_ylim((-0.1, 1.1))\n",
    "ax3.set_ylim((-0.1, 4.5))\n",
    "\n",
    "sns.lineplot(x='frac', y='degree_js', hue='model', data=graph_df, ax=ax1);\n",
    "sns.lineplot(x='frac', y='pagerank_js', hue='model', data=graph_df, ax=ax2);\n",
    "sns.lineplot(x='frac', y='lambda_dist', hue='model', data=graph_df, ax=ax3);\n",
    "ax2.legend().set_visible(False);\n",
    "ax3.legend().set_visible(False);"
   ]
  },
  {
   "cell_type": "code",
   "execution_count": null,
   "metadata": {},
   "outputs": [],
   "source": []
  },
  {
   "cell_type": "code",
   "execution_count": null,
   "metadata": {},
   "outputs": [],
   "source": [
    "plt.rcParams['figure.figsize'] = [20, 6]\n",
    "fig, (ax1, ax2, ax3) = plt.subplots(nrows=1, ncols=3)\n",
    "\n",
    "ax1.set_ylim((-0.1, 1.1))\n",
    "ax2.set_ylim((-0.1, 1.1))\n",
    "ax3.set_ylim((-0.1, 4.5))\n",
    "\n",
    "sns.boxplot(x='name', y='degree_js', hue='model', data=graph_df, ax=ax1);\n",
    "sns.boxplot(x='name', y='pagerank_js', hue='model', data=graph_df, ax=ax2);\n",
    "sns.boxplot(x='name', y='lambda_dist', hue='model', data=graph_df, ax=ax3);\n",
    "ax2.legend().set_visible(False);\n",
    "ax3.legend().set_visible(False);"
   ]
  },
  {
   "cell_type": "code",
   "execution_count": null,
   "metadata": {},
   "outputs": [],
   "source": [
    "plt.rcParams['figure.figsize'] = [15, 6]\n",
    "fig, (ax1, ax2) = plt.subplots(nrows=1, ncols=2)\n",
    "\n",
    "ax1.set_ylim((-0.1, 1))\n",
    "ax2.set_ylim((-0.1, 1))\n",
    "\n",
    "sns.lineplot(x='frac', y='deg_ast_diff', hue='model', data=graph_df, ax=ax1);\n",
    "sns.lineplot(x='frac', y='attr_ast_diff', hue='model', data=graph_df, ax=ax2);\n",
    "ax2.legend().set_visible(False);"
   ]
  },
  {
   "cell_type": "code",
   "execution_count": null,
   "metadata": {},
   "outputs": [],
   "source": [
    "plt.rcParams['figure.figsize'] = [20, 6]\n",
    "fig, (ax1, ax2, ax3) = plt.subplots(nrows=1, ncols=3)\n",
    "\n",
    "ax1.set_ylim((-0.1, 1))\n",
    "ax2.set_ylim((-0.1, 1))\n",
    "\n",
    "sns.boxplot(x='model', y='degree_js', hue='clustering', data=graph_df, ax=ax1);\n",
    "sns.boxplot(x='model', y='pagerank_js', hue='clustering', data=graph_df, ax=ax2);\n",
    "sns.boxplot(x='model', y='lambda_dist', hue='clustering', data=graph_df, ax=ax3);\n",
    "ax2.legend().set_visible(False);\n",
    "ax3.legend().set_visible(False);"
   ]
  },
  {
   "cell_type": "code",
   "execution_count": null,
   "metadata": {},
   "outputs": [],
   "source": [
    "plt.rcParams['figure.figsize'] = [15, 6]\n",
    "fig, (ax1, ax2) = plt.subplots(nrows=1, ncols=2)\n",
    "\n",
    "ax1.set_ylim((-0.1, 1))\n",
    "ax2.set_ylim((-0.1, 1))\n",
    "\n",
    "sns.boxplot(x='name', y='deg_ast_diff', hue='model', data=graph_df, ax=ax1);\n",
    "sns.boxplot(x='name', y='attr_ast_diff', hue='model', data=graph_df, ax=ax2);\n",
    "ax2.legend().set_visible(False);"
   ]
  },
  {
   "cell_type": "code",
   "execution_count": null,
   "metadata": {},
   "outputs": [],
   "source": [
    "plt.rcParams['figure.figsize'] = [15, 6]\n",
    "fig, (ax1, ax2) = plt.subplots(nrows=1, ncols=2)\n",
    "\n",
    "ax1.set_ylim((-0.1, 1))\n",
    "ax2.set_ylim((-0.1, 1))\n",
    "\n",
    "sns.boxplot(x='model', y='deg_ast_diff', hue='clustering', data=graph_df, ax=ax1);\n",
    "sns.boxplot(x='model', y='attr_ast_diff', hue='clustering', data=graph_df, ax=ax2);\n",
    "ax2.legend().set_visible(False);"
   ]
  },
  {
   "cell_type": "markdown",
   "metadata": {},
   "source": [
    "----"
   ]
  },
  {
   "cell_type": "code",
   "execution_count": null,
   "metadata": {},
   "outputs": [],
   "source": [
    "# plot out the evolution of the generated graph\n",
    "gen = load_pickle('/data/ssikdar/attributed-vrg/dumps/generators/karate/AVRG-fancy_cond_5_10.pkl')"
   ]
  },
  {
   "cell_type": "code",
   "execution_count": null,
   "metadata": {},
   "outputs": [],
   "source": []
  },
  {
   "cell_type": "code",
   "execution_count": null,
   "metadata": {},
   "outputs": [],
   "source": [
    "def filter_terminal_graph(graph):\n",
    "    terminal_nodes = [n for n, d in graph.nodes(data=True) if 'nt' not in d]\n",
    "    return graph.subgraph(terminal_nodes).copy()"
   ]
  },
  {
   "cell_type": "code",
   "execution_count": null,
   "metadata": {},
   "outputs": [],
   "source": [
    "rows = []\n",
    "cols = ['snap_id', 'name', 'model', 'clustering', 'attr_name',\n",
    "        'orig_n', 'orig_m', 'orig_deg_ast', 'orig_att_ast',\n",
    "        'mu', 'n', 'm', 't', 'term_graph',\n",
    "        'term_n', 'term_m', 'term_degree_js', 'term_pagerank_js', 'term_lambda_dist',\n",
    "        'term_deg_ast', 'term_attr_ast']\n",
    "\n",
    "names = ['karate', 'football', 'polbooks', 'polblogs', 'cora', 'citeseer']\n",
    "# frac = np.linspace(0, 1, 21, endpoint=True) * 100\n",
    "# names = [f'3-comm-{int(f)}' for f in frac]\n",
    "# shuffle = 'edges'\n",
    "\n",
    "for name in names[3: ]:\n",
    "    orig_graph, attr_name = get_graph(name)\n",
    "#     orig_graph, attr_name = nx.read_gexf(f'../VRG/input/shuffled/{shuffle}/{name}.gexf'), 'block'\n",
    "#     name = f'{name}-{shuffle}'\n",
    "    orig_deg_ast = nx.degree_assortativity_coefficient(orig_graph)\n",
    "    if attr_name != '': orig_att_ast = nx.attribute_assortativity_coefficient(orig_graph, attr_name)\n",
    "\n",
    "    orig_gstats = GraphStats(orig_graph)\n",
    "    \n",
    "    for gen_filename in glob.glob(f'/data/ssikdar/attributed-vrg/dumps/generators/{name}/*'):\n",
    "        path = Path(gen_filename)\n",
    "        gen = load_pickle(path)\n",
    "\n",
    "        print(path.stem, end='\\t', flush=True)\n",
    "        pattern = r'(.*)\\_(\\w+)\\_(\\d+)\\_(\\d+)'\n",
    "        m = re.match(pattern, path.stem)\n",
    "        grammar_type, clustering, mu, _ = m.groups()\n",
    "        \n",
    "        for snap_id, snapshot in enumerate(gen.all_gen_snapshots[::5]):  # do every 5 snapshots\n",
    "            for t, graph in enumerate(snapshot):\n",
    "                terminal_graph = filter_terminal_graph(graph)\n",
    "                terminal_graph = un_nest_attr_dict(terminal_graph)\n",
    "                row = {col: np.nan for col in cols}\n",
    "\n",
    "                row.update(dict(snap_id=snap_id, name=gen.grammar.name, \n",
    "                           model=grammar_type, clustering=clustering, attr_name=attr_name,\n",
    "                           orig_n=orig_graph.order(), orig_m=orig_graph.size(),\n",
    "                           orig_deg_ast=orig_deg_ast, orig_att_ast=orig_att_ast,\n",
    "                           mu=gen.grammar.mu, t=t, n=graph.order(), m=graph.size(), term_graph=terminal_graph,\n",
    "                           term_n=terminal_graph.order(), term_m=terminal_graph.size()))\n",
    "                \n",
    "                if terminal_graph.size() > 0:\n",
    "                    gen_gstats = GraphStats(terminal_graph)\n",
    "\n",
    "                    gpc = GraphPairCompare(orig_gstats, gen_gstats)\n",
    "                    row.update(term_degree_js=gpc.degree_js(), term_pagerank_js=gpc.pagerank_js(), \n",
    "                               term_lambda_dist=gpc.lambda_dist(), \n",
    "                               term_deg_ast=nx.degree_assortativity_coefficient(terminal_graph),\n",
    "                               term_att_ast=nx.attribute_assortativity_coefficient(terminal_graph, attr_name))\n",
    "                rows.append(row)\n",
    "    temp_df = pd.DataFrame(rows)\n",
    "    temp_df.to_csv('/data/ssikdar/attributed-vrg/data/temp_gen_df.csv', index=False)\n",
    "gen_df2 = pd.DataFrame(rows)"
   ]
  },
  {
   "cell_type": "code",
   "execution_count": null,
   "metadata": {},
   "outputs": [],
   "source": [
    "gen_df.to_csv('/data/ssikdar/attributed-vrg/data/gen_df_big.csv', index=False)"
   ]
  },
  {
   "cell_type": "code",
   "execution_count": null,
   "metadata": {},
   "outputs": [],
   "source": [
    "gen_df = pd.concat([gen_df, gen_df2], ignore_index=True)"
   ]
  },
  {
   "cell_type": "code",
   "execution_count": null,
   "metadata": {},
   "outputs": [],
   "source": [
    "gen_df.head()"
   ]
  },
  {
   "cell_type": "code",
   "execution_count": null,
   "metadata": {},
   "outputs": [],
   "source": [
    "gen_df['term_attr_ast'] = gen_df['term_graph'].apply(lambda g: nx.attribute_assortativity_coefficient(g, 'value'))"
   ]
  },
  {
   "cell_type": "code",
   "execution_count": null,
   "metadata": {},
   "outputs": [],
   "source": [
    "gen_df['term_frac_m'] = gen_df['term_m'] / gen_df['orig_m']"
   ]
  },
  {
   "cell_type": "code",
   "execution_count": null,
   "metadata": {},
   "outputs": [],
   "source": [
    "gen_df.to_csv('/data/ssikdar/attributed-vrg/data/gen_df.csv', index=False)"
   ]
  },
  {
   "cell_type": "code",
   "execution_count": null,
   "metadata": {},
   "outputs": [],
   "source": [
    "gen_df = pd.read_csv('/data/ssikdar/attributed-vrg/data/gen_df.csv')"
   ]
  },
  {
   "cell_type": "code",
   "execution_count": null,
   "metadata": {},
   "outputs": [],
   "source": [
    "display(gen_df.head(), gen_df.shape)"
   ]
  },
  {
   "cell_type": "code",
   "execution_count": null,
   "metadata": {},
   "outputs": [],
   "source": [
    "plt.rcParams['figure.figsize'] = [15, 20]\n",
    "fig, (ax1, ax2, ax3, ax4) = plt.subplots(nrows=4, ncols=1)\n",
    "\n",
    "# ax1.set_ylim((-0.1, 1))\n",
    "# ax2.set_ylim((-0.1, 1))\n",
    "# ax1.set_ylim((-0.1, 1.05))\n",
    "ax1.axhline(1, c='k')\n",
    "\n",
    "sns.lineplot(x='t', y='term_frac_m', hue='model', marker='o', data=gen_df, ax=ax1);\n",
    "sns.lineplot(x='t', y='term_lambda_dist', hue='model', marker='o', data=gen_df, ax=ax2);\n",
    "sns.lineplot(x='t', y='term_deg_ast', hue='model', marker='o', data=gen_df, ax=ax3);\n",
    "sns.lineplot(x='t', y='term_attr_ast', hue='model', marker='o', data=gen_df, ax=ax4);"
   ]
  },
  {
   "cell_type": "code",
   "execution_count": null,
   "metadata": {},
   "outputs": [],
   "source": [
    "def group_plot(df):\n",
    "    metrics = ['term_n', 'term_degree_js', 'term_pagerank_js', 'term_lambda_dist', 'term_deg_ast', 'term_att_ast'][-2: ]\n",
    "    rows = len(metrics)\n",
    "    \n",
    "    names = df.name.unique() # ['karate', 'football']\n",
    "    cols = len(names)\n",
    "\n",
    "    l_d_min = min(df[df.name==name].term_lambda_dist.min() for name in names) - 0.1\n",
    "    l_d_max = max(df[df.name==name].term_lambda_dist.max() for name in names) + 2\n",
    "    \n",
    "    plt.rcParams['figure.figsize'] = [20, 12]\n",
    "#     plt.rcParams['figure.figsize'] = [20, 12]\n",
    "    fig, axes = plt.subplots(nrows=rows, ncols=cols,)\n",
    "\n",
    "    for i in range(rows):\n",
    "        for j in range(cols):\n",
    "            ax = axes[i, j]\n",
    "            metric = metrics[i]\n",
    "            name = names[j]\n",
    "            filtered_df = df[df.name==name]\n",
    "            \n",
    "            if i == 0 and j == 0:\n",
    "                legend_style = 'brief'\n",
    "            else:\n",
    "                legend_style = ''\n",
    "            \n",
    "#             ax.set_xscale('log')\n",
    "            sns.lineplot(x='t', y=metric, ax=ax, data=filtered_df, alpha=0.85,\n",
    "                         hue='model', marker='o', ci=99, err_style='band', legend=legend_style);\n",
    "            \n",
    "            if 'js' in metric:\n",
    "                ax.set_ylim((-0.05, 1.1))\n",
    "            elif 'lambda_dist' in metric:\n",
    "                ax.set_ylim((-1, 5))\n",
    "            elif 'ast' in metric:\n",
    "                ax.set_ylim((-1.05, 1.05))\n",
    "                \n",
    "            if 'deg_ast' in metric:\n",
    "                ax.axhline(filtered_df.orig_deg_ast.mean())\n",
    "            if 'att_ast' in metric:\n",
    "                ax.axhline(filtered_df.orig_att_ast.mean())\n",
    "            if 'term_n' in metric:\n",
    "                ax.axhline(filtered_df.orig_n.mean())\n",
    "            \n",
    "            if j == 0:\n",
    "                ax.set_ylabel(metric)\n",
    "            else:\n",
    "                ax.set_ylabel('')\n",
    "                \n",
    "            if i == 0:\n",
    "                ax.set_title(name)\n",
    "            else:\n",
    "                ax.set_title('')\n",
    "                \n",
    "            if i == rows - 1:\n",
    "                ax.set_xlabel('t')\n",
    "            else:\n",
    "                ax.set_xlabel('')\n",
    "            \n",
    "#     plt.suptitle(f'{name}', y=1.01);\n",
    "    plt.tight_layout()"
   ]
  },
  {
   "cell_type": "code",
   "execution_count": null,
   "metadata": {},
   "outputs": [],
   "source": [
    "gen_df.name.unique()"
   ]
  },
  {
   "cell_type": "code",
   "execution_count": null,
   "metadata": {},
   "outputs": [],
   "source": [
    "group_plot(gen_df)"
   ]
  },
  {
   "cell_type": "code",
   "execution_count": null,
   "metadata": {},
   "outputs": [],
   "source": [
    "# plot dasgupta cost v. graph quality\n",
    "# diversity of output graphs - APL v CC / PGD PCA "
   ]
  },
  {
   "cell_type": "code",
   "execution_count": null,
   "metadata": {},
   "outputs": [],
   "source": []
  },
  {
   "cell_type": "markdown",
   "metadata": {},
   "source": [
    "## CABAM stuff"
   ]
  },
  {
   "cell_type": "code",
   "execution_count": null,
   "metadata": {},
   "outputs": [],
   "source": [
    "def make_cabam_graph_df():\n",
    "    input_graphs = read_cabam_graphs()\n",
    "    \n",
    "    dfs = []\n",
    "    attr_name = 'value'\n",
    "    for i, orig_graph in enumerate(input_graphs):\n",
    "        name = f'CABAM-{i}'\n",
    "        print('\\n', name, '\\n')\n",
    "        for fname in glob.glob(f'/data/ssikdar/attributed-vrg/dumps/graphs/CABAM/*_{i}.pkl'):\n",
    "            path = Path(fname)\n",
    "            grammar_type, clustering, mu, _, idx = path.stem.split('_')\n",
    "            mu, idx = int(mu), int(idx)\n",
    "            assert idx == i\n",
    "            print(path.stem, end='\\t', flush=True)\n",
    "\n",
    "            df = make_graph_df(name, fname, orig_graph, mu, clustering, attr_name, grammar_type)\n",
    "            dfs.append(df)\n",
    "    return pd.concat(dfs, ignore_index=True)"
   ]
  },
  {
   "cell_type": "code",
   "execution_count": null,
   "metadata": {},
   "outputs": [],
   "source": [
    "cabam_df = make_cabam_graph_df()"
   ]
  },
  {
   "cell_type": "code",
   "execution_count": null,
   "metadata": {},
   "outputs": [],
   "source": [
    "cabam_df['i'] = cabam_df['name'].apply(lambda x: int(x.split('-')[-1]))"
   ]
  },
  {
   "cell_type": "code",
   "execution_count": null,
   "metadata": {},
   "outputs": [],
   "source": [
    "cabam_df.model.unique()"
   ]
  },
  {
   "cell_type": "code",
   "execution_count": null,
   "metadata": {},
   "outputs": [],
   "source": [
    "cabam_df['model'].replace(['AVRG-greedy-0-50', 'AVRG-greedy-0-50-100'], ['AVRG-greedy-50', 'AVRG-greedy-100'], inplace=True)"
   ]
  },
  {
   "cell_type": "code",
   "execution_count": null,
   "metadata": {},
   "outputs": [],
   "source": [
    "cabam_df.to_csv('/data/ssikdar/attributed-vrg/data/cabam.csv', index=False)"
   ]
  },
  {
   "cell_type": "code",
   "execution_count": null,
   "metadata": {},
   "outputs": [],
   "source": [
    "plt.rcParams['figure.figsize'] = [20, 6]\n",
    "fig, (ax1, ax2, ax3) = plt.subplots(nrows=1, ncols=3)\n",
    "\n",
    "ax1.set_ylim((-0.1, 0.5))\n",
    "ax2.set_ylim((-0.1, 0.5))\n",
    "ax3.set_ylim((-0.1, 0.5))\n",
    "\n",
    "sns.lineplot(x='i', y='degree_js', hue='model', marker='o', data=cabam_df, ax=ax1);\n",
    "sns.lineplot(x='i', y='pagerank_js', hue='model', marker='o', data=cabam_df, ax=ax2);\n",
    "sns.lineplot(x='i', y='lambda_dist', hue='model', marker='o', data=cabam_df, ax=ax3);\n",
    "ax2.legend().set_visible(False);\n",
    "ax3.legend().set_visible(False);"
   ]
  },
  {
   "cell_type": "code",
   "execution_count": null,
   "metadata": {},
   "outputs": [],
   "source": [
    "plt.rcParams['figure.figsize'] = [15, 6]\n",
    "fig, (ax1, ax2) = plt.subplots(nrows=1, ncols=2)\n",
    "\n",
    "ax1.set_ylim((-1, 1.1))\n",
    "ax2.set_ylim((-1, 1.1))\n",
    "\n",
    "sns.lineplot(x='i', y='orig_degree_ast', marker='o', color='k', data=cabam_df, ax=ax1, label='original');\n",
    "sns.lineplot(x='i', y='gen_degree_ast', marker='o', hue='model', data=cabam_df, ax=ax1);\n",
    "\n",
    "sns.lineplot(x='i', y='orig_attr_ast', marker='o', color='k', data=cabam_df, ax=ax2, label='original');\n",
    "sns.lineplot(x='i', y='gen_attr_ast', marker='o', hue='model', data=cabam_df, ax=ax2);\n",
    "\n",
    "ax2.legend().set_visible(False);"
   ]
  },
  {
   "cell_type": "code",
   "execution_count": null,
   "metadata": {},
   "outputs": [],
   "source": [
    "plt.rcParams['figure.figsize'] = [10, 8]\n",
    "ax = plt.gca()\n",
    "\n",
    "ax.set_ylim((-1, 1.1));\n",
    "df = cabam_df[cabam_df.model.isin((['AVRG-greedy-0', ]))] # , 'AVRG-greedy-50', 'AVRG-greedy-100'))]\n",
    "sns.lineplot(x='i', y='orig_attr_ast', marker='o', color='k', data=df, ax=ax, label='original');\n",
    "sns.lineplot(x='i', y='gen_attr_ast', marker='o', hue='clustering', data=df, ax=ax);"
   ]
  },
  {
   "cell_type": "code",
   "execution_count": null,
   "metadata": {},
   "outputs": [],
   "source": []
  }
 ],
 "metadata": {
  "kernelspec": {
   "display_name": "VRG",
   "language": "python",
   "name": "vrg"
  },
  "language_info": {
   "codemirror_mode": {
    "name": "ipython",
    "version": 3
   },
   "file_extension": ".py",
   "mimetype": "text/x-python",
   "name": "python",
   "nbconvert_exporter": "python",
   "pygments_lexer": "ipython3",
   "version": "3.7.7"
  }
 },
 "nbformat": 4,
 "nbformat_minor": 4
}
