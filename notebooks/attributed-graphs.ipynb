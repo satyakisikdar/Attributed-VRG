{
 "cells": [
  {
   "cell_type": "code",
   "execution_count": null,
   "metadata": {},
   "outputs": [],
   "source": [
    "%load_ext autoreload"
   ]
  },
  {
   "cell_type": "code",
   "execution_count": null,
   "metadata": {},
   "outputs": [],
   "source": [
    "%autoreload 2"
   ]
  },
  {
   "cell_type": "code",
   "execution_count": null,
   "metadata": {},
   "outputs": [],
   "source": [
    "%matplotlib inline"
   ]
  },
  {
   "cell_type": "markdown",
   "metadata": {},
   "source": [
    "# Attributed graphs in NetworkX"
   ]
  },
  {
   "cell_type": "code",
   "execution_count": 1,
   "metadata": {},
   "outputs": [],
   "source": [
    "import networkx as nx\n",
    "import igraph as ig\n",
    "import numpy as np\n",
    "import glob\n",
    "import re\n",
    "from pathlib import Path\n",
    "import pandas as pd\n",
    "import matplotlib.pyplot as plt\n",
    "from matplotlib import gridspec\n",
    "import seaborn as sns; sns.set_style('white')\n",
    "import sys; sys.path.append('../')\n",
    "from time import time\n",
    "import logging\n",
    "from anytree import LevelOrderIter\n",
    "from statistics import mean\n",
    "import os\n",
    "import pickle"
   ]
  },
  {
   "cell_type": "code",
   "execution_count": 2,
   "metadata": {},
   "outputs": [
    {
     "name": "stdout",
     "output_type": "stream",
     "text": [
      "sys path:  ['/home/jupyter-ssikdar/Attributed-VRG/notebooks', '/home/jupyter-ssikdar/miniconda3/envs/VRG/lib/python37.zip', '/home/jupyter-ssikdar/miniconda3/envs/VRG/lib/python3.7', '/home/jupyter-ssikdar/miniconda3/envs/VRG/lib/python3.7/lib-dynload', '', '/home/jupyter-ssikdar/miniconda3/envs/VRG/lib/python3.7/site-packages', '/home/jupyter-ssikdar/miniconda3/envs/VRG/lib/python3.7/site-packages/IPython/extensions', '/home/jupyter-ssikdar/.ipython', '../', './../', './../../']\n"
     ]
    }
   ],
   "source": [
    "from VRG.src.utils import nx_to_igraph, check_file_exists\n",
    "from VRG.src.graph_stats import GraphStats\n",
    "from VRG.src.graph_comparison import GraphPairCompare\n",
    "from VRG.runner import get_clustering\n",
    "from VRG.src.Tree import create_tree, dasgupta_cost\n",
    "from VRG.src.MDL import graph_dl as graph_mdl"
   ]
  },
  {
   "cell_type": "code",
   "execution_count": 3,
   "metadata": {},
   "outputs": [],
   "source": [
    "plt.rcParams['figure.figsize'] = (15, 10)\n",
    "plt.rcParams['font.size'] = 50\n",
    "plt.rcParams['axes.labelsize'] = 20\n",
    "plt.rcParams['axes.titlesize'] = 20"
   ]
  },
  {
   "cell_type": "code",
   "execution_count": 4,
   "metadata": {},
   "outputs": [],
   "source": [
    "def load_pickle(fname):\n",
    "#     logging.error(f'Reading {fname!r}')\n",
    "    return pickle.load(open(fname, 'rb'))"
   ]
  },
  {
   "cell_type": "code",
   "execution_count": 5,
   "metadata": {},
   "outputs": [],
   "source": [
    "def un_nest_attr_dict(g):\n",
    "    new_g = nx.Graph()\n",
    "    for n, d in g.nodes(data=True):\n",
    "        while 'attr_dict' in d:\n",
    "            d = d['attr_dict']\n",
    "        new_g.add_node(n, **d)\n",
    "    new_g.add_edges_from(g.edges())\n",
    "    return new_g"
   ]
  },
  {
   "cell_type": "code",
   "execution_count": 6,
   "metadata": {},
   "outputs": [],
   "source": [
    "def get_graph(gname: str = 'sample'):\n",
    "    start_time = time()\n",
    "    attr_name = ''\n",
    "    if gname == 'sample':\n",
    "        g = nx.Graph()\n",
    "        g.add_nodes_from(range(5), color='blue')\n",
    "        g.add_nodes_from(range(5, 9), color='red')\n",
    "\n",
    "        g.add_edges_from([(0, 1), (0, 3), (0, 4),\n",
    "                          (1, 2), (1, 4), (1, 5),\n",
    "                          (2, 3), (2, 4), (2, 8),\n",
    "                          (3, 4),\n",
    "                          (5, 6), (5, 7), (5, 8),\n",
    "                          (6, 7), (6, 8),\n",
    "                          (7, 8)])  # properly labeled\n",
    "        g.name = 'sample'\n",
    "        attr_name = 'color'\n",
    "    elif gname == 'karate':\n",
    "        g = nx.karate_club_graph()\n",
    "        attr_name = 'club'\n",
    "        g.name = 'karate'\n",
    "    elif gname == 'BA':\n",
    "        g = nx.barabasi_albert_graph(10, 2, seed=42)\n",
    "        # g = nx.MultiGraph(g)\n",
    "        g = nx.Graph()\n",
    "    elif gname.endswith('.gpickle'):\n",
    "        g = nx.read_gpickle(gname)\n",
    "        g.name = Path(gname).stem\n",
    "    else:\n",
    "        if gname in ('waterloo', 'grenoble', 'uppsala'):\n",
    "            g = nx.read_gpickle(f'../snap_data/cleaned/{gname}_lcc_attr.gpickle')\n",
    "        elif gname in ('polblogs', 'polbooks', 'football', 'bipartite-10-10', 'cora', 'citeseer', 'pubmed'):\n",
    "            g = nx.read_gml(f'../VRG/input/{gname}.gml')\n",
    "            attr_name = 'value'\n",
    "        else:\n",
    "            path = f'../VRG/input/{gname}.g'\n",
    "            g = nx.read_edgelist(path, nodetype=int, create_using=nx.Graph())\n",
    "\n",
    "        g.remove_edges_from(nx.selfloop_edges(g))\n",
    "        if not nx.is_connected(g):\n",
    "            nodes_lcc = max(nx.connected_components(g), key=len)\n",
    "            g = g.subgraph(nodes_lcc).copy()\n",
    "        name = g.name\n",
    "        g = nx.convert_node_labels_to_integers(g, label_attribute='orig_label')\n",
    "        g.name = name\n",
    "\n",
    "    end_time = round(time() - start_time, 2)\n",
    "    logging.error(f'Graph: {gname}, n = {g.order():_d}, m = {g.size():_d}, read in {round(end_time, 3):_g}s.')\n",
    "\n",
    "    return g, attr_name"
   ]
  },
  {
   "cell_type": "code",
   "execution_count": 7,
   "metadata": {},
   "outputs": [],
   "source": [
    "def get_clustering(g: nx.Graph, outdir: str, clustering: str, use_pickle: bool, max_size=None):\n",
    "    \"\"\"\n",
    "    wrapper method for getting dendrogram. uses an existing pickle if it can.\n",
    "    :param g: graph\n",
    "    :param outdir: output directory where picles are stored\n",
    "    :param clustering: name of clustering method\n",
    "    :param use_pickle: flag to whether or not to use the pickle\n",
    "    :return: root node of the dendrogram\n",
    "    \"\"\"\n",
    "    if g.name == 'sample':\n",
    "        list_of_list_clusters = [\n",
    "            [\n",
    "                [[0], [1]],\n",
    "                [[2], [[3], [4]]]\n",
    "            ],\n",
    "            [\n",
    "                [[5], [6]],\n",
    "                [[7], [8]]\n",
    "            ]\n",
    "        ]\n",
    "        return list_of_list_clusters\n",
    "\n",
    "    list_of_list_filename = os.path.join(outdir, f'{clustering}_list.pkl')\n",
    "\n",
    "    if not os.path.exists(f'./{outdir}'):\n",
    "        os.makedirs(f'./{outdir}')\n",
    "\n",
    "    if check_file_exists(list_of_list_filename) and use_pickle:\n",
    "        logging.error(f'Using existing pickle for {clustering!r} clustering\\n')\n",
    "        list_of_list_clusters = load_pickle(list_of_list_filename)\n",
    "\n",
    "    else:\n",
    "        tqdm.write(f'Running {clustering!r} clustering...')\n",
    "        if clustering == 'random':\n",
    "            list_of_list_clusters = partitions.get_random_partition(g)\n",
    "        elif clustering == 'consensus':\n",
    "            # delete the matlab tree and sc files\n",
    "            matlab_files_path = './src/matlab_clustering/HierarchicalConsensus/data'\n",
    "            tree_path = os.path.join(matlab_files_path, f'{g.name}_tree.mat')\n",
    "            sc_path = os.path.join(matlab_files_path, f'{g.name}_sc.vec')\n",
    "            if check_file_exists(tree_path):\n",
    "                os.remove(tree_path)\n",
    "            if check_file_exists(sc_path):\n",
    "                os.remove(sc_path)\n",
    "            list_of_list_clusters = get_consensus_root(g=g, gname=g.name)\n",
    "        elif clustering in ('leiden', 'louvain', 'infomap', 'labelprop'):\n",
    "            if max_size is None: max_size = g.order()\n",
    "            list_of_list_clusters = partitions.louvain_leiden_infomap_label_prop(g, method=clustering, max_size=max_size)\n",
    "        elif clustering == 'cond':\n",
    "            list_of_list_clusters = partitions.approx_min_conductance_partitioning(g)\n",
    "        elif clustering == 'spectral':\n",
    "            list_of_list_clusters = partitions.spectral_kmeans(g, K=int(math.sqrt(g.order() // 2)))\n",
    "        else:\n",
    "            raise NotImplementedError(f'Invalid clustering algorithm {clustering!r}')\n",
    "        dump_pickle(list_of_list_clusters, list_of_list_filename)\n",
    "\n",
    "    return list_of_list_clusters"
   ]
  },
  {
   "cell_type": "code",
   "execution_count": 8,
   "metadata": {},
   "outputs": [],
   "source": [
    "def plot_graph(g, ax=None, title='', attr_name='', mixing_dict={}):\n",
    "    if attr_name != '' and len(mixing_dict) == 0:\n",
    "        mixing_dict = nx.attribute_mixing_dict(g, attr_name)\n",
    "        \n",
    "    unique_values = set(mixing_dict.keys())\n",
    "    colors = sns.color_palette('pastel', n_colors=len(unique_values))\n",
    "    color_map = {val: col for val, col in zip(unique_values, colors)}\n",
    "\n",
    "    try:\n",
    "        colors = [color_map[d[attr_name]] for _, d in g.nodes(data=True)]\n",
    "    except KeyError:\n",
    "        colors = '#77dd77'\n",
    "    pos = nx.spring_layout(g)\n",
    "\n",
    "    if ax is not None:\n",
    "        ax.set_title(title, fontsize=20)\n",
    "    nx.draw_networkx_nodes(g, pos=pos, node_size=100, node_color=colors, alpha=0.95, ax=ax)\n",
    "    nx.draw_networkx_edges(g, pos=pos, edge_color='gray', alpha=0.7, ax=ax)\n",
    "    return"
   ]
  },
  {
   "cell_type": "code",
   "execution_count": 9,
   "metadata": {},
   "outputs": [],
   "source": [
    "def grid_plot(graphs, graph_name='', attr_name='', mixing_dict={}):\n",
    "    # todo keep the positions of the constant nodes fixed\n",
    "    rows, cols = 2, 4\n",
    "    plt.rcParams['figure.figsize'] = [30, 15]\n",
    "\n",
    "    grid = gridspec.GridSpec(rows, cols)\n",
    "    fig = plt.figure()\n",
    "    for i, box in enumerate(grid):\n",
    "        ax = fig.add_subplot(box)\n",
    "        g = graphs[i]\n",
    "        deg_as = round(nx.degree_assortativity_coefficient(g), 3)\n",
    "        attr_as = round(nx.attribute_assortativity_coefficient(g, attribute=attr_name), 3)\n",
    "        title = f'g{i + 1} {g.order(), g.size()} degree as: {deg_as} {attr_name} as: {attr_as}'\n",
    "        plot_graph(g, ax=ax, title=title, mixing_dict=mixing_dict, attr_name=attr_name)\n",
    "\n",
    "    plt.tight_layout()\n",
    "    plt.suptitle(f'{graph_name}', y=1, fontsize=25)"
   ]
  },
  {
   "cell_type": "code",
   "execution_count": 10,
   "metadata": {},
   "outputs": [],
   "source": [
    "def get_tree_stats(g, root):\n",
    "    \"\"\"\n",
    "    Compute height of the tree, avg branching factor, dasgupta cost\n",
    "    \"\"\"\n",
    "    ht = root.height\n",
    "    avg_branch_factor = mean(len(node.children) for node in LevelOrderIter(root) if len(node.children) > 1)\n",
    "    dc = dasgupta_cost(g, root)\n",
    "    return ht, avg_branch_factor, dc"
   ]
  },
  {
   "cell_type": "code",
   "execution_count": 11,
   "metadata": {},
   "outputs": [],
   "source": [
    "def get_compatibility_matrix(g: nx.Graph, attr_name: str):\n",
    "    \"\"\"\n",
    "    From Danai's heterophily paper\n",
    "    :param g:\n",
    "    :param attr_name:\n",
    "    :return:\n",
    "    \"\"\"\n",
    "    values = set(nx.get_node_attributes(g, attr_name).values())\n",
    "    mapping = {val: i for i, val in enumerate(values)}\n",
    "#     print(mapping)\n",
    "    C = nx.attribute_mixing_matrix(g, attribute=attr_name, mapping=mapping, normalized=False)\n",
    "    np.fill_diagonal(C, C.diagonal() / 2)\n",
    "\n",
    "    D = np.diag(np.diag(C))\n",
    "    e = np.ones(shape=(len(mapping), 1))\n",
    "\n",
    "    h = float((e.T @ D @ e) / (e.T @ C @ e))\n",
    "    H = np.nan\n",
    "\n",
    "#     Y = np.zeros(shape=(g.order(), len(mapping)))\n",
    "#     for n, d in g.nodes(data=True):\n",
    "#         attr = d[attr_name]\n",
    "#         Y[n, mapping[attr]] = 1\n",
    "#     A = nx.adjacency_matrix(g)\n",
    "#     E = np.ones(shape=(A.shape[0], len(mapping)))\n",
    "\n",
    "#     H = (Y.T @ A @ Y) / (Y.T @ A @ E)\n",
    "\n",
    "    return_d = dict(homophily_ratio=h, compatibility_mat=H, attr_name=attr_name, mapping=mapping)\n",
    "    return return_d"
   ]
  },
  {
   "cell_type": "code",
   "execution_count": 12,
   "metadata": {},
   "outputs": [],
   "source": [
    "def make_graph_df(name, fname, orig_graph, mu, clustering, attr_name, grammar_type):\n",
    "    deg_ast_fn = nx.degree_assortativity_coefficient\n",
    "    attr_ast_fn = nx.attribute_assortativity_coefficient\n",
    "    \n",
    "    gen_graphs = load_pickle(fname)\n",
    "    \n",
    "    cols = ['name', 'orig_n', 'orig_m', 'orig_degree_ast', 'attr_name', 'orig_attr_ast', \n",
    "            'model', 'mu', 'clustering', 'gen_n', 'gen_m', 'gen_degree_ast', 'gen_attr_ast', \n",
    "            'total_rewired_edges', 'fancy_rewired_edges',\n",
    "            'degree_js', 'pagerank_js', 'lambda_dist', 'deg_ast_diff', 'attr_ast_diff']\n",
    "    \n",
    "    row = {col: np.nan for col in cols}\n",
    "    \n",
    "    orig_deg_ast = deg_ast_fn(orig_graph)\n",
    "    orig_attr_ast = attr_ast_fn(orig_graph, attr_name) if attr_name != '' else np.nan\n",
    "    orig_gstats = GraphStats(orig_graph)\n",
    "    orig_homophily_ratio = get_compatibility_matrix(orig_graph, attr_name)['homophily_ratio']\n",
    "    rows = []\n",
    "    \n",
    "    for g in gen_graphs[: 20]:\n",
    "        gen_gstats = GraphStats(g)\n",
    "        gpc = GraphPairCompare(orig_gstats, gen_gstats)\n",
    "        gen_deg_ast = deg_ast_fn(g)\n",
    "        gen_attr_ast = attr_ast_fn(g, attr_name) if attr_name != '' else np.nan\n",
    "        total_rewired_edges = g.graph.get('total_rewirings', 0)\n",
    "        fancy_rewired_edges = g.graph.get('fancy_rewirings', 0)\n",
    "        h = get_compatibility_matrix(g, attr_name)['homophily_ratio']\n",
    "        \n",
    "        row = {'name': name, 'orig_n': orig_graph.order(), 'orig_m': orig_graph.size(), \n",
    "               'orig_degree_ast': deg_ast_fn(orig_graph), 'attr_name': attr_name, \n",
    "               'orig_attr_ast': orig_attr_ast, 'model': grammar_type, \n",
    "               'clustering': clustering, 'mu': mu, 'orig_homophily_ratio': orig_homophily_ratio,\n",
    "               'gen_n': g.order(), 'gen_m': g.size(), 'gen_degree_ast': gen_deg_ast, 'gen_attr_ast': gen_attr_ast, \n",
    "               'total_rewired_edges': total_rewired_edges, 'fancy_rewired_edges': fancy_rewired_edges,\n",
    "               'degree_js': gpc.degree_js(), 'pagerank_js': gpc.pagerank_js(), 'lambda_dist': gpc.lambda_dist(), \n",
    "               'deg_ast_diff': np.abs(orig_deg_ast - gen_deg_ast), 'attr_ast_diff': np.abs(orig_attr_ast - gen_attr_ast),\n",
    "               'gen_homophily_ratio': h\n",
    "              }\n",
    "        \n",
    "        rows.append(row)\n",
    "    \n",
    "    return pd.DataFrame(rows)"
   ]
  },
  {
   "cell_type": "code",
   "execution_count": 15,
   "metadata": {
    "scrolled": true
   },
   "outputs": [],
   "source": [
    "def make_grammar_df(names=None, graphs=None):\n",
    "    if names is None:\n",
    "        names = ['karate', 'football', 'polbooks', 'polblogs', 'cora', 'citeseer', 'pubmed'][: -1]\n",
    "\n",
    "#     frac = np.linspace(0, 1, 21, endpoint=True) * 100\n",
    "#     names = [f'3-comm-{int(f)}' for f in frac]\n",
    "#     shuffle = 'edges'\n",
    "    rows = []\n",
    "\n",
    "#     root_dict = {f'{name}-{shuffle}': {} for name in names}\n",
    "    root_dict = {f'{name}': {} for name in names}\n",
    "    dl_dict = {}\n",
    "    \n",
    "    for name in names:\n",
    "#         orig_graph, attr_name = nx.read_gexf(f'../VRG/input/shuffled/{shuffle}/{name}.gexf'), 'block'\n",
    "#         name = f'{name}-{shuffle}'\n",
    "        orig_graph, attr_name = get_graph(name)\n",
    "        dl_dict[name] = graph_mdl(orig_graph)\n",
    "        if attr_name != '':\n",
    "            dl_dict[name] = graph_mdl(orig_graph, attributed=True)\n",
    "    print(dl_dict)\n",
    "    \n",
    "    for name in names:\n",
    "        orig_graph, attr_name = get_graph(name)        \n",
    "#         orig_graph, attr_name = nx.read_gexf(f'../VRG/input/shuffled/{shuffle}/{name}.gexf'), 'block'\n",
    "#         name = f'{name}-{shuffle}'\n",
    "        print('\\n\\n', name, attr_name)\n",
    "        for fname in glob.glob(f'/data/ssikdar/attributed-vrg/dumps/grammars/{name}/*.pkl'):\n",
    "            path = Path(fname)\n",
    "            pattern = r'(.*)\\_(\\w+)\\_(\\d+)\\_(\\d+)'\n",
    "            m = re.match(pattern, path.stem)\n",
    "            grammar_type, clustering, mu, _ = m.groups()\n",
    "            \n",
    "            print(grammar_type, clustering, mu, end='\\t', flush=True)\n",
    "            \n",
    "            if clustering in root_dict[name]:\n",
    "                ht, avg_branch_factor, dc = root_dict[name][clustering]\n",
    "            else:\n",
    "                root = load_pickle(f'/data/ssikdar/attributed-vrg/dumps/trees/{name}/{clustering}_list.pkl')\n",
    "                if isinstance(root, list): root = create_tree(root)\n",
    "                ht, avg_branch_factor, dc = get_tree_stats(g=orig_graph, root=root)\n",
    "                root_dict[name][clustering] = ht, avg_branch_factor, dc\n",
    "\n",
    "            vrg = load_pickle(fname)\n",
    "#             if grammar_type.startswith('AVRG'): name = f'{name}-attr'\n",
    "            graph_dl = dl_dict[name]\n",
    "            \n",
    "            row = dict(name=name, orig_n=orig_graph.order(), orig_m=orig_graph.size(), attr_name=attr_name, \n",
    "                      model=grammar_type, mu=int(mu), clustering=clustering, cost=dc, branch_factor=avg_branch_factor,\n",
    "                      height=ht, graph_dl=graph_dl, num_rules=vrg.num_rules, unique_rules=len(vrg.unique_rule_list),\n",
    "                      grammar_dl=vrg.cost)\n",
    "            name = name.replace('-attr', '')\n",
    "            rows.append(row)\n",
    "\n",
    "    return pd.DataFrame(rows)"
   ]
  },
  {
   "cell_type": "code",
   "execution_count": null,
   "metadata": {},
   "outputs": [],
   "source": []
  },
  {
   "cell_type": "code",
   "execution_count": 16,
   "metadata": {
    "scrolled": true
   },
   "outputs": [
    {
     "name": "stderr",
     "output_type": "stream",
     "text": [
      "Graph: karate, n = 34, m = 78, read in 0s.\n",
      "Graph: football, n = 115, m = 613, read in 0.05s.\n",
      "Graph: polbooks, n = 105, m = 441, read in 0.04s.\n",
      "Graph: polblogs, n = 1_222, m = 16_714, read in 1.34s.\n",
      "Graph: cora, n = 2_485, m = 5_069, read in 0.62s.\n",
      "Graph: citeseer, n = 2_110, m = 3_668, read in 0.4s.\n",
      "Graph: karate, n = 34, m = 78, read in 0s.\n"
     ]
    },
    {
     "name": "stdout",
     "output_type": "stream",
     "text": [
      "{'karate': 3015.3728650601124, 'football': 60141.85416244832, 'polbooks': 29954.439735840868, 'polblogs': 8856733.660589287, 'cora': 19647174.366505016, 'citeseer': 13406668.883805208}\n",
      "\n",
      "\n",
      " karate club\n",
      "AVRG-mu-random cond 8\tAVRG-mu-random cond 3\tVRG-mu-random leiden 3\tVRG-mu-random leiden 8\tVRG-mu-random cond 3\tAVRG-mu-random leiden 3\tAVRG-mu-random leiden 8\tVRG-all-tnodes leiden 3\tVRG-mu-random cond 8\tAVRG-mu-random spectral 8\tVRG-mu-random spectral 3\tVRG-mu-random spectral 8\tAVRG-mu-random spectral 3\tVRG-all-tnodes spectral 3\tAVRG-all-tnodes leiden 3\tAVRG-all-tnodes cond 3\tAVRG-all-tnodes spectral 3\tVRG-all-tnodes cond 3\tAVRG-mu-random consensus 8\tAVRG-mu-random consensus 3\tVRG-mu-random consensus 8\tVRG-all-tnodes consensus 3\tVRG-mu-random consensus 3\tAVRG-all-tnodes consensus 3\tVRG-mu-random cond 6\tVRG-mu-random cond 7\tAVRG-mu-random cond 6\tVRG-mu-random cond 5\tVRG-mu-random spectral 5\tVRG-mu-random cond 4\tAVRG-mu-random cond 5\tAVRG-mu-random cond 7\tAVRG-mu-random cond 4\tVRG-mu-random spectral 4\tVRG-mu-random spectral 6\tVRG-mu-random spectral 7\tAVRG-mu-random spectral 7\tVRG-mu-random leiden 6\tAVRG-mu-random spectral 6\tAVRG-mu-random spectral 5\tVRG-mu-random leiden 4\tVRG-mu-random leiden 5\tAVRG-mu-random spectral 4\tVRG-mu-random leiden 7\tAVRG-mu-random leiden 6\tAVRG-mu-random leiden 7\tAVRG-mu-random leiden 5\tAVRG-mu-random leiden 4\tVRG-mu-random infomap 3\tVRG-mu-random consensus 6\tAVRG-mu-random consensus 6\tVRG-mu-random consensus 7\tVRG-mu-random consensus 4\tVRG-mu-random consensus 5\tAVRG-mu-random consensus 4\tAVRG-mu-random consensus 7\tAVRG-mu-random consensus 5\tVRG-mu-random infomap 4\tVRG-mu-random infomap 7\tVRG-mu-random infomap 5\tAVRG-mu-random infomap 3\tAVRG-mu-random infomap 4\tVRG-mu-random infomap 6\tAVRG-mu-random infomap 5\tAVRG-mu-random infomap 6\tAVRG-all-tnodes infomap 3\tVRG-all-tnodes infomap 3\tAVRG-mu-random infomap 7\t"
     ]
    },
    {
     "name": "stderr",
     "output_type": "stream",
     "text": [
      "Graph: football, n = 115, m = 613, read in 0.05s.\n"
     ]
    },
    {
     "name": "stdout",
     "output_type": "stream",
     "text": [
      "\n",
      "\n",
      " football value\n",
      "VRG-mu-random cond 8\tAVRG-mu-random cond 8\tVRG-mu-random cond 3\tAVRG-mu-random cond 3\tVRG-mu-random spectral 3\tVRG-mu-random spectral 8\tAVRG-mu-random spectral 3\tVRG-all-tnodes spectral 3\tAVRG-mu-random spectral 8\tVRG-mu-random leiden 3\tVRG-all-tnodes cond 3\tVRG-mu-random leiden 8\tAVRG-mu-random leiden 3\tVRG-all-tnodes leiden 3\tAVRG-all-tnodes spectral 3\tAVRG-all-tnodes cond 3\tAVRG-mu-random leiden 8\tAVRG-all-tnodes leiden 3\tVRG-mu-random consensus 3\tVRG-mu-random consensus 8\tVRG-all-tnodes consensus 3\tAVRG-mu-random consensus 3\tAVRG-mu-random consensus 8\tAVRG-all-tnodes consensus 3\tVRG-mu-random spectral 4\tVRG-mu-random spectral 5\tVRG-mu-random cond 7\tAVRG-mu-random cond 7\tVRG-mu-random cond 6\tVRG-mu-random cond 5\tAVRG-mu-random cond 5\tAVRG-mu-random cond 6\tVRG-mu-random cond 4\tVRG-mu-random spectral 6\tAVRG-mu-random cond 4\tAVRG-mu-random spectral 4\tVRG-mu-random leiden 4\tAVRG-mu-random spectral 5\tVRG-mu-random spectral 7\tVRG-mu-random leiden 5\tAVRG-mu-random spectral 6\tAVRG-mu-random leiden 4\tAVRG-mu-random leiden 5\tAVRG-mu-random spectral 7\tVRG-mu-random leiden 6\tVRG-mu-random leiden 7\tAVRG-mu-random leiden 6\tAVRG-mu-random leiden 7\tVRG-mu-random consensus 6\tVRG-mu-random consensus 5\tVRG-mu-random infomap 3\tAVRG-mu-random consensus 4\tVRG-mu-random consensus 4\tVRG-mu-random infomap 4\tAVRG-mu-random consensus 5\tAVRG-mu-random consensus 6\tVRG-mu-random infomap 5\tAVRG-mu-random infomap 4\tVRG-mu-random consensus 7\tAVRG-mu-random infomap 3\tVRG-mu-random infomap 7\tAVRG-mu-random consensus 7\tAVRG-mu-random infomap 5\tVRG-mu-random infomap 6\tAVRG-mu-random infomap 6\tAVRG-mu-random infomap 7\tVRG-all-tnodes infomap 3\tAVRG-all-tnodes infomap 3\t"
     ]
    },
    {
     "name": "stderr",
     "output_type": "stream",
     "text": [
      "Graph: polbooks, n = 105, m = 441, read in 0.04s.\n"
     ]
    },
    {
     "name": "stdout",
     "output_type": "stream",
     "text": [
      "\n",
      "\n",
      " polbooks value\n",
      "VRG-mu-random cond 8\tVRG-mu-random cond 3\tAVRG-mu-random cond 8\tAVRG-mu-random cond 3\tVRG-mu-random spectral 3\tVRG-mu-random spectral 8\tVRG-all-tnodes cond 3\tVRG-all-tnodes spectral 3\tAVRG-mu-random spectral 3\tAVRG-mu-random spectral 8\tAVRG-all-tnodes cond 3\tVRG-mu-random leiden 3\tAVRG-all-tnodes spectral 3\tVRG-mu-random leiden 8\tAVRG-mu-random leiden 3\tAVRG-mu-random leiden 8\tVRG-all-tnodes leiden 3\tAVRG-all-tnodes leiden 3\tVRG-all-tnodes consensus 3\tAVRG-mu-random consensus 3\tVRG-mu-random consensus 8\tVRG-mu-random consensus 3\tAVRG-mu-random consensus 8\tAVRG-all-tnodes consensus 3\tVRG-mu-random cond 4\tVRG-mu-random spectral 4\tVRG-mu-random cond 6\tVRG-mu-random cond 7\tVRG-mu-random spectral 5\tVRG-mu-random spectral 6\tVRG-mu-random cond 5\tAVRG-mu-random cond 7\tAVRG-mu-random cond 6\tAVRG-mu-random cond 4\tAVRG-mu-random cond 5\tAVRG-mu-random spectral 4\tAVRG-mu-random spectral 5\tVRG-mu-random spectral 7\tVRG-mu-random leiden 4\tAVRG-mu-random spectral 6\tAVRG-mu-random spectral 7\tVRG-mu-random leiden 5\tVRG-mu-random leiden 6\tAVRG-mu-random leiden 4\tVRG-mu-random leiden 7\tAVRG-mu-random leiden 5\tAVRG-mu-random leiden 6\tAVRG-mu-random leiden 7\tVRG-mu-random infomap 3\tVRG-mu-random consensus 4\tVRG-mu-random infomap 4\tVRG-mu-random consensus 5\tVRG-mu-random consensus 6\tAVRG-mu-random consensus 4\tVRG-mu-random consensus 7\tAVRG-mu-random consensus 5\tAVRG-mu-random consensus 6\tVRG-mu-random infomap 5\tAVRG-mu-random consensus 7\tVRG-mu-random infomap 7\tVRG-mu-random infomap 6\tAVRG-mu-random infomap 3\tAVRG-mu-random infomap 4\tVRG-all-tnodes infomap 3\tAVRG-mu-random infomap 5\tAVRG-mu-random infomap 7\tAVRG-mu-random infomap 6\tAVRG-all-tnodes infomap 3\t"
     ]
    },
    {
     "name": "stderr",
     "output_type": "stream",
     "text": [
      "Graph: polblogs, n = 1_222, m = 16_714, read in 1.45s.\n"
     ]
    },
    {
     "name": "stdout",
     "output_type": "stream",
     "text": [
      "\n",
      "\n",
      " polblogs value\n",
      "VRG-mu-random cond 8\tVRG-mu-random cond 3\tAVRG-mu-random cond 3\tAVRG-mu-random cond 8\tVRG-mu-random spectral 3\tVRG-mu-random spectral 8\tVRG-mu-random leiden 3\tAVRG-mu-random spectral 3\tAVRG-mu-random leiden 3\tVRG-mu-random leiden 8\tAVRG-mu-random leiden 8\tAVRG-mu-random spectral 8\tVRG-all-tnodes spectral 3\tAVRG-all-tnodes spectral 3\tVRG-all-tnodes leiden 3\tAVRG-all-tnodes leiden 3\tVRG-all-tnodes cond 3\tAVRG-all-tnodes cond 3\tAVRG-all-tnodes consensus 3\tAVRG-mu-random consensus 8\tVRG-mu-random consensus 3\tVRG-all-tnodes consensus 3\tAVRG-mu-random consensus 3\tVRG-mu-random consensus 8\tVRG-mu-random spectral 4\tVRG-mu-random cond 7\tAVRG-mu-random cond 7\tVRG-mu-random spectral 5\tVRG-mu-random cond 6\tAVRG-mu-random cond 6\tVRG-mu-random cond 5\tAVRG-mu-random cond 5\tVRG-mu-random cond 4\tAVRG-mu-random cond 4\tVRG-mu-random leiden 4\tVRG-mu-random leiden 5\tVRG-mu-random leiden 6\tVRG-mu-random leiden 7\tAVRG-mu-random leiden 4\tAVRG-mu-random spectral 4\tAVRG-mu-random leiden 5\tVRG-mu-random spectral 6\tAVRG-mu-random spectral 5\tAVRG-mu-random spectral 6\tVRG-mu-random spectral 7\tAVRG-mu-random leiden 6\tAVRG-mu-random leiden 7\tAVRG-mu-random spectral 7\tVRG-mu-random consensus 4\tVRG-mu-random consensus 5\tVRG-mu-random consensus 7\tAVRG-mu-random consensus 4\tAVRG-mu-random consensus 5\tAVRG-mu-random consensus 6\tVRG-mu-random consensus 6\tAVRG-mu-random consensus 7\tVRG-mu-random infomap 3\tVRG-mu-random infomap 4\tVRG-all-tnodes infomap 3\tVRG-mu-random infomap 5\tAVRG-mu-random infomap 3\tVRG-mu-random infomap 6\tAVRG-mu-random infomap 4\tAVRG-mu-random infomap 5\tAVRG-mu-random infomap 6\tAVRG-all-tnodes infomap 3\tVRG-mu-random infomap 7\tAVRG-mu-random infomap 7\t"
     ]
    },
    {
     "name": "stderr",
     "output_type": "stream",
     "text": [
      "Graph: cora, n = 2_485, m = 5_069, read in 0.62s.\n"
     ]
    },
    {
     "name": "stdout",
     "output_type": "stream",
     "text": [
      "\n",
      "\n",
      " cora value\n",
      "VRG-mu-random cond 8\tVRG-mu-random cond 3\tAVRG-mu-random cond 8\tAVRG-mu-random cond 3\tVRG-mu-random spectral 3\tVRG-mu-random spectral 8\tAVRG-mu-random spectral 3\tAVRG-mu-random spectral 8\tVRG-all-tnodes spectral 3\tVRG-mu-random leiden 3\tVRG-mu-random leiden 8\tAVRG-all-tnodes spectral 3\tAVRG-mu-random leiden 3\tAVRG-mu-random leiden 8\tVRG-all-tnodes leiden 3\tAVRG-all-tnodes leiden 3\tVRG-all-tnodes cond 3\tAVRG-all-tnodes cond 3\tVRG-mu-random spectral 4\tVRG-mu-random spectral 5\tVRG-mu-random cond 7\tVRG-mu-random spectral 6\tAVRG-mu-random cond 7\tVRG-mu-random cond 6\tVRG-mu-random spectral 7\tAVRG-mu-random cond 6\tVRG-mu-random cond 5\tAVRG-mu-random cond 5\tVRG-mu-random leiden 4\tAVRG-mu-random spectral 4\tVRG-mu-random leiden 5\tAVRG-mu-random spectral 5\tVRG-mu-random cond 4\tVRG-mu-random leiden 6\tAVRG-mu-random spectral 6\tAVRG-mu-random spectral 7\tVRG-mu-random leiden 7\tAVRG-mu-random cond 4\tAVRG-mu-random leiden 4\tAVRG-mu-random leiden 5\tAVRG-mu-random leiden 6\tAVRG-mu-random leiden 7\tVRG-mu-random infomap 3\tVRG-mu-random infomap 4\tAVRG-mu-random infomap 3\tAVRG-mu-random infomap 4\tVRG-mu-random infomap 5\tVRG-mu-random infomap 6\tAVRG-mu-random infomap 5\tAVRG-mu-random infomap 6\tVRG-mu-random infomap 7\tAVRG-mu-random infomap 7\tVRG-all-tnodes infomap 3\tAVRG-all-tnodes infomap 3\tAVRG-all-tnodes consensus 5\t"
     ]
    },
    {
     "name": "stderr",
     "output_type": "stream",
     "text": [
      "Graph: citeseer, n = 2_110, m = 3_668, read in 0.41s.\n"
     ]
    },
    {
     "name": "stdout",
     "output_type": "stream",
     "text": [
      "\n",
      "\n",
      " citeseer value\n",
      "VRG-mu-random cond 8\tVRG-mu-random cond 3\tAVRG-mu-random cond 3\tAVRG-mu-random cond 8\tVRG-mu-random spectral 3\tVRG-mu-random spectral 8\tAVRG-mu-random spectral 3\tAVRG-mu-random spectral 8\tVRG-all-tnodes spectral 3\tVRG-mu-random leiden 3\tVRG-mu-random leiden 8\tAVRG-all-tnodes spectral 3\tAVRG-mu-random leiden 3\tAVRG-mu-random leiden 8\tVRG-all-tnodes cond 3\tVRG-all-tnodes leiden 3\tAVRG-all-tnodes leiden 3\tAVRG-all-tnodes cond 3\tVRG-mu-random spectral 4\tVRG-mu-random spectral 5\tVRG-mu-random cond 7\tVRG-mu-random spectral 6\tAVRG-mu-random cond 7\tVRG-mu-random cond 6\tVRG-mu-random spectral 7\tAVRG-mu-random cond 6\tVRG-mu-random cond 5\tAVRG-mu-random cond 5\tVRG-mu-random leiden 4\tAVRG-mu-random spectral 4\tVRG-mu-random cond 4\tVRG-mu-random leiden 5\tAVRG-mu-random spectral 5\tAVRG-mu-random spectral 6\tAVRG-mu-random spectral 7\tVRG-mu-random leiden 6\tVRG-mu-random leiden 7\tAVRG-mu-random leiden 4\tAVRG-mu-random cond 4\tAVRG-mu-random leiden 5\tAVRG-mu-random leiden 6\tAVRG-mu-random leiden 7\tVRG-mu-random infomap 3\tAVRG-mu-random infomap 3\tVRG-mu-random infomap 4\tAVRG-mu-random infomap 4\tVRG-mu-random infomap 5\tAVRG-mu-random infomap 5\tAVRG-mu-random infomap 6\tVRG-mu-random infomap 6\tVRG-mu-random infomap 7\tAVRG-mu-random infomap 7\tVRG-all-tnodes infomap 3\tAVRG-all-tnodes infomap 3\tCPU times: user 2min 29s, sys: 6.82 s, total: 2min 36s\n",
      "Wall time: 14min 22s\n"
     ]
    }
   ],
   "source": [
    "%%time\n",
    "grammar_df = make_grammar_df()"
   ]
  },
  {
   "cell_type": "code",
   "execution_count": 17,
   "metadata": {},
   "outputs": [],
   "source": [
    "grammar_df.to_csv('./grammar_df.csv')"
   ]
  },
  {
   "cell_type": "code",
   "execution_count": null,
   "metadata": {},
   "outputs": [],
   "source": [
    "grammar_df = pd.read_csv('./grammar_df.csv')"
   ]
  },
  {
   "cell_type": "code",
   "execution_count": 18,
   "metadata": {},
   "outputs": [
    {
     "data": {
      "text/html": [
       "<div>\n",
       "<style scoped>\n",
       "    .dataframe tbody tr th:only-of-type {\n",
       "        vertical-align: middle;\n",
       "    }\n",
       "\n",
       "    .dataframe tbody tr th {\n",
       "        vertical-align: top;\n",
       "    }\n",
       "\n",
       "    .dataframe thead th {\n",
       "        text-align: right;\n",
       "    }\n",
       "</style>\n",
       "<table border=\"1\" class=\"dataframe\">\n",
       "  <thead>\n",
       "    <tr style=\"text-align: right;\">\n",
       "      <th></th>\n",
       "      <th>name</th>\n",
       "      <th>orig_n</th>\n",
       "      <th>orig_m</th>\n",
       "      <th>attr_name</th>\n",
       "      <th>model</th>\n",
       "      <th>mu</th>\n",
       "      <th>clustering</th>\n",
       "      <th>cost</th>\n",
       "      <th>branch_factor</th>\n",
       "      <th>height</th>\n",
       "      <th>graph_dl</th>\n",
       "      <th>num_rules</th>\n",
       "      <th>unique_rules</th>\n",
       "      <th>grammar_dl</th>\n",
       "    </tr>\n",
       "  </thead>\n",
       "  <tbody>\n",
       "    <tr>\n",
       "      <th>0</th>\n",
       "      <td>karate</td>\n",
       "      <td>34</td>\n",
       "      <td>78</td>\n",
       "      <td>club</td>\n",
       "      <td>AVRG-mu-random</td>\n",
       "      <td>8</td>\n",
       "      <td>cond</td>\n",
       "      <td>1007</td>\n",
       "      <td>2.000000</td>\n",
       "      <td>10</td>\n",
       "      <td>3015.372865</td>\n",
       "      <td>6</td>\n",
       "      <td>6</td>\n",
       "      <td>1336.719268</td>\n",
       "    </tr>\n",
       "    <tr>\n",
       "      <th>1</th>\n",
       "      <td>karate</td>\n",
       "      <td>34</td>\n",
       "      <td>78</td>\n",
       "      <td>club</td>\n",
       "      <td>AVRG-mu-random</td>\n",
       "      <td>3</td>\n",
       "      <td>cond</td>\n",
       "      <td>1007</td>\n",
       "      <td>2.000000</td>\n",
       "      <td>10</td>\n",
       "      <td>3015.372865</td>\n",
       "      <td>20</td>\n",
       "      <td>17</td>\n",
       "      <td>1155.583028</td>\n",
       "    </tr>\n",
       "    <tr>\n",
       "      <th>2</th>\n",
       "      <td>karate</td>\n",
       "      <td>34</td>\n",
       "      <td>78</td>\n",
       "      <td>club</td>\n",
       "      <td>VRG-mu-random</td>\n",
       "      <td>3</td>\n",
       "      <td>leiden</td>\n",
       "      <td>1724</td>\n",
       "      <td>2.833333</td>\n",
       "      <td>4</td>\n",
       "      <td>3015.372865</td>\n",
       "      <td>11</td>\n",
       "      <td>11</td>\n",
       "      <td>1737.705564</td>\n",
       "    </tr>\n",
       "    <tr>\n",
       "      <th>3</th>\n",
       "      <td>karate</td>\n",
       "      <td>34</td>\n",
       "      <td>78</td>\n",
       "      <td>club</td>\n",
       "      <td>VRG-mu-random</td>\n",
       "      <td>8</td>\n",
       "      <td>leiden</td>\n",
       "      <td>1724</td>\n",
       "      <td>2.833333</td>\n",
       "      <td>4</td>\n",
       "      <td>3015.372865</td>\n",
       "      <td>6</td>\n",
       "      <td>6</td>\n",
       "      <td>1228.307619</td>\n",
       "    </tr>\n",
       "    <tr>\n",
       "      <th>4</th>\n",
       "      <td>karate</td>\n",
       "      <td>34</td>\n",
       "      <td>78</td>\n",
       "      <td>club</td>\n",
       "      <td>VRG-mu-random</td>\n",
       "      <td>3</td>\n",
       "      <td>cond</td>\n",
       "      <td>1007</td>\n",
       "      <td>2.000000</td>\n",
       "      <td>10</td>\n",
       "      <td>3015.372865</td>\n",
       "      <td>20</td>\n",
       "      <td>18</td>\n",
       "      <td>1100.319628</td>\n",
       "    </tr>\n",
       "  </tbody>\n",
       "</table>\n",
       "</div>"
      ],
      "text/plain": [
       "     name  orig_n  orig_m attr_name           model  mu clustering  cost  \\\n",
       "0  karate      34      78      club  AVRG-mu-random   8       cond  1007   \n",
       "1  karate      34      78      club  AVRG-mu-random   3       cond  1007   \n",
       "2  karate      34      78      club   VRG-mu-random   3     leiden  1724   \n",
       "3  karate      34      78      club   VRG-mu-random   8     leiden  1724   \n",
       "4  karate      34      78      club   VRG-mu-random   3       cond  1007   \n",
       "\n",
       "   branch_factor  height     graph_dl  num_rules  unique_rules   grammar_dl  \n",
       "0       2.000000      10  3015.372865          6             6  1336.719268  \n",
       "1       2.000000      10  3015.372865         20            17  1155.583028  \n",
       "2       2.833333       4  3015.372865         11            11  1737.705564  \n",
       "3       2.833333       4  3015.372865          6             6  1228.307619  \n",
       "4       2.000000      10  3015.372865         20            18  1100.319628  "
      ]
     },
     "execution_count": 18,
     "metadata": {},
     "output_type": "execute_result"
    }
   ],
   "source": [
    "grammar_df.head()"
   ]
  },
  {
   "cell_type": "code",
   "execution_count": 20,
   "metadata": {},
   "outputs": [
    {
     "data": {
      "text/html": [
       "<div>\n",
       "<style scoped>\n",
       "    .dataframe tbody tr th:only-of-type {\n",
       "        vertical-align: middle;\n",
       "    }\n",
       "\n",
       "    .dataframe tbody tr th {\n",
       "        vertical-align: top;\n",
       "    }\n",
       "\n",
       "    .dataframe thead th {\n",
       "        text-align: right;\n",
       "    }\n",
       "</style>\n",
       "<table border=\"1\" class=\"dataframe\">\n",
       "  <thead>\n",
       "    <tr style=\"text-align: right;\">\n",
       "      <th></th>\n",
       "      <th>orig_n</th>\n",
       "      <th>orig_m</th>\n",
       "      <th>mu</th>\n",
       "      <th>cost</th>\n",
       "      <th>branch_factor</th>\n",
       "      <th>height</th>\n",
       "      <th>graph_dl</th>\n",
       "      <th>num_rules</th>\n",
       "      <th>unique_rules</th>\n",
       "      <th>grammar_dl</th>\n",
       "    </tr>\n",
       "  </thead>\n",
       "  <tbody>\n",
       "    <tr>\n",
       "      <th>count</th>\n",
       "      <td>381.000000</td>\n",
       "      <td>381.000000</td>\n",
       "      <td>381.000000</td>\n",
       "      <td>3.810000e+02</td>\n",
       "      <td>381.000000</td>\n",
       "      <td>381.000000</td>\n",
       "      <td>3.810000e+02</td>\n",
       "      <td>381.000000</td>\n",
       "      <td>381.000000</td>\n",
       "      <td>3.810000e+02</td>\n",
       "    </tr>\n",
       "    <tr>\n",
       "      <th>mean</th>\n",
       "      <td>921.215223</td>\n",
       "      <td>4436.732283</td>\n",
       "      <td>5.052493</td>\n",
       "      <td>3.290481e+06</td>\n",
       "      <td>11.582986</td>\n",
       "      <td>10.191601</td>\n",
       "      <td>6.333712e+06</td>\n",
       "      <td>162.724409</td>\n",
       "      <td>119.367454</td>\n",
       "      <td>5.144317e+06</td>\n",
       "    </tr>\n",
       "    <tr>\n",
       "      <th>std</th>\n",
       "      <td>973.316106</td>\n",
       "      <td>5998.997882</td>\n",
       "      <td>1.761392</td>\n",
       "      <td>4.659283e+06</td>\n",
       "      <td>32.469321</td>\n",
       "      <td>15.813470</td>\n",
       "      <td>7.431567e+06</td>\n",
       "      <td>337.715701</td>\n",
       "      <td>198.399176</td>\n",
       "      <td>9.527787e+06</td>\n",
       "    </tr>\n",
       "    <tr>\n",
       "      <th>min</th>\n",
       "      <td>34.000000</td>\n",
       "      <td>78.000000</td>\n",
       "      <td>3.000000</td>\n",
       "      <td>9.080000e+02</td>\n",
       "      <td>2.000000</td>\n",
       "      <td>2.000000</td>\n",
       "      <td>3.015373e+03</td>\n",
       "      <td>1.000000</td>\n",
       "      <td>1.000000</td>\n",
       "      <td>1.002581e+03</td>\n",
       "    </tr>\n",
       "    <tr>\n",
       "      <th>25%</th>\n",
       "      <td>105.000000</td>\n",
       "      <td>441.000000</td>\n",
       "      <td>3.000000</td>\n",
       "      <td>1.201500e+04</td>\n",
       "      <td>2.375000</td>\n",
       "      <td>4.000000</td>\n",
       "      <td>2.995444e+04</td>\n",
       "      <td>9.000000</td>\n",
       "      <td>8.000000</td>\n",
       "      <td>5.334092e+03</td>\n",
       "    </tr>\n",
       "    <tr>\n",
       "      <th>50%</th>\n",
       "      <td>115.000000</td>\n",
       "      <td>613.000000</td>\n",
       "      <td>5.000000</td>\n",
       "      <td>6.281200e+04</td>\n",
       "      <td>3.533333</td>\n",
       "      <td>5.000000</td>\n",
       "      <td>6.014185e+04</td>\n",
       "      <td>27.000000</td>\n",
       "      <td>25.000000</td>\n",
       "      <td>3.518059e+04</td>\n",
       "    </tr>\n",
       "    <tr>\n",
       "      <th>75%</th>\n",
       "      <td>2110.000000</td>\n",
       "      <td>5069.000000</td>\n",
       "      <td>7.000000</td>\n",
       "      <td>6.793286e+06</td>\n",
       "      <td>6.194581</td>\n",
       "      <td>7.000000</td>\n",
       "      <td>1.340667e+07</td>\n",
       "      <td>165.000000</td>\n",
       "      <td>151.000000</td>\n",
       "      <td>6.546004e+06</td>\n",
       "    </tr>\n",
       "    <tr>\n",
       "      <th>max</th>\n",
       "      <td>2485.000000</td>\n",
       "      <td>16714.000000</td>\n",
       "      <td>8.000000</td>\n",
       "      <td>1.486169e+07</td>\n",
       "      <td>175.428571</td>\n",
       "      <td>76.000000</td>\n",
       "      <td>1.964717e+07</td>\n",
       "      <td>2484.000000</td>\n",
       "      <td>1113.000000</td>\n",
       "      <td>3.656879e+07</td>\n",
       "    </tr>\n",
       "  </tbody>\n",
       "</table>\n",
       "</div>"
      ],
      "text/plain": [
       "            orig_n        orig_m          mu          cost  branch_factor  \\\n",
       "count   381.000000    381.000000  381.000000  3.810000e+02     381.000000   \n",
       "mean    921.215223   4436.732283    5.052493  3.290481e+06      11.582986   \n",
       "std     973.316106   5998.997882    1.761392  4.659283e+06      32.469321   \n",
       "min      34.000000     78.000000    3.000000  9.080000e+02       2.000000   \n",
       "25%     105.000000    441.000000    3.000000  1.201500e+04       2.375000   \n",
       "50%     115.000000    613.000000    5.000000  6.281200e+04       3.533333   \n",
       "75%    2110.000000   5069.000000    7.000000  6.793286e+06       6.194581   \n",
       "max    2485.000000  16714.000000    8.000000  1.486169e+07     175.428571   \n",
       "\n",
       "           height      graph_dl    num_rules  unique_rules    grammar_dl  \n",
       "count  381.000000  3.810000e+02   381.000000    381.000000  3.810000e+02  \n",
       "mean    10.191601  6.333712e+06   162.724409    119.367454  5.144317e+06  \n",
       "std     15.813470  7.431567e+06   337.715701    198.399176  9.527787e+06  \n",
       "min      2.000000  3.015373e+03     1.000000      1.000000  1.002581e+03  \n",
       "25%      4.000000  2.995444e+04     9.000000      8.000000  5.334092e+03  \n",
       "50%      5.000000  6.014185e+04    27.000000     25.000000  3.518059e+04  \n",
       "75%      7.000000  1.340667e+07   165.000000    151.000000  6.546004e+06  \n",
       "max     76.000000  1.964717e+07  2484.000000   1113.000000  3.656879e+07  "
      ]
     },
     "execution_count": 20,
     "metadata": {},
     "output_type": "execute_result"
    }
   ],
   "source": [
    "grammar_df.describe()"
   ]
  },
  {
   "cell_type": "code",
   "execution_count": 23,
   "metadata": {},
   "outputs": [
    {
     "data": {
      "image/png": "[encoded data removed]",
      "text/plain": [
       "<Figure size 1080x720 with 1 Axes>"
      ]
     },
     "metadata": {},
     "output_type": "display_data"
    }
   ],
   "source": [
    "ax = plt.gca()\n",
    "ax.set_yscale('log')\n",
    "sns.barplot(x='name', y='grammar_dl', hue='model', data=grammar_df, ax=ax);"
   ]
  },
  {
   "cell_type": "code",
   "execution_count": 26,
   "metadata": {},
   "outputs": [],
   "source": [
    "grammar_df['compression'] = grammar_df['graph_dl'] / grammar_df['grammar_dl']"
   ]
  },
  {
   "cell_type": "code",
   "execution_count": null,
   "metadata": {},
   "outputs": [],
   "source": [
    "grammar_df.model.unique()"
   ]
  },
  {
   "cell_type": "code",
   "execution_count": 24,
   "metadata": {},
   "outputs": [],
   "source": [
    "plt.rcParams['figure.figsize'] = (15, 10)\n",
    "plt.rcParams['font.size'] = 50\n",
    "plt.rcParams['axes.labelsize'] = 20\n",
    "plt.rcParams['axes.titlesize'] = 20"
   ]
  },
  {
   "cell_type": "code",
   "execution_count": 27,
   "metadata": {},
   "outputs": [
    {
     "data": {
      "image/png": "[encoded data removed]",
      "text/plain": [
       "<Figure size 1080x720 with 1 Axes>"
      ]
     },
     "metadata": {},
     "output_type": "display_data"
    }
   ],
   "source": [
    "ax = plt.gca()\n",
    "ax.set_yscale('log')\n",
    "ax.axhline(1, c='r')\n",
    "sns.barplot(x='model', y='compression', hue='clustering', data=grammar_df);\n",
    "ax.set_ylabel('Compression Ratio');"
   ]
  },
  {
   "cell_type": "code",
   "execution_count": 28,
   "metadata": {},
   "outputs": [
    {
     "data": {
      "image/png": "[encoded data removed]",
      "text/plain": [
       "<Figure size 1080x720 with 1 Axes>"
      ]
     },
     "metadata": {},
     "output_type": "display_data"
    }
   ],
   "source": [
    "sns.barplot(x='name', y='compression', hue='clustering', data=grammar_df);"
   ]
  },
  {
   "cell_type": "code",
   "execution_count": null,
   "metadata": {},
   "outputs": [],
   "source": [
    "ax = plt.gca()\n",
    "ax.set_yscale('log')\n",
    "# ax.axhline(1, c='r')\n",
    "sns.barplot(x='name', y='grammar_dl', hue='model', data=grammar_df);\n",
    "# ax.set_ylabel('Compression Ratio');"
   ]
  },
  {
   "cell_type": "code",
   "execution_count": null,
   "metadata": {},
   "outputs": [],
   "source": [
    "ax = plt.gca()\n",
    "ax.set_yscale('log')\n",
    "# ax.axhline(1, c='r')\n",
    "sns.barplot(x='name', y='compression', hue='clustering', data=grammar_df);\n",
    "# ax.set_ylabel('Compression Ratio');"
   ]
  },
  {
   "cell_type": "code",
   "execution_count": null,
   "metadata": {},
   "outputs": [],
   "source": [
    "ax = plt.gca()\n",
    "ax.set_yscale('log')\n",
    "# ax.axhline(1, c='r')\n",
    "sns.barplot(x='name', y='unique_rules', hue='mu', data=grammar_df[~grammar_df.model.str.contains('all-tnodes')]);\n",
    "# ax.set_ylabel('Compression Ratio');"
   ]
  },
  {
   "cell_type": "code",
   "execution_count": null,
   "metadata": {},
   "outputs": [],
   "source": [
    "ax = plt.gca()\n",
    "ax.set_yscale('log')\n",
    "sns.barplot(x='name', y='grammar_dl', hue='model', data=grammar_df);"
   ]
  },
  {
   "cell_type": "code",
   "execution_count": null,
   "metadata": {},
   "outputs": [],
   "source": []
  },
  {
   "cell_type": "code",
   "execution_count": 30,
   "metadata": {},
   "outputs": [
    {
     "data": {
      "image/png": "[encoded data removed]",
      "text/plain": [
       "<Figure size 1080x720 with 1 Axes>"
      ]
     },
     "metadata": {},
     "output_type": "display_data"
    }
   ],
   "source": [
    "ax = plt.gca()\n",
    "ax.set_yscale('log')\n",
    "ax.set_xscale('log')\n",
    "sns.scatterplot(x='cost', y='compression', hue='clustering', data=grammar_df,\n",
    "                s=100, alpha=0.6);\n",
    "ax.set_xlabel('Log (Dasgupta Cost)');\n",
    "ax.set_ylabel('Log (Compression Ratio)');"
   ]
  },
  {
   "cell_type": "code",
   "execution_count": 31,
   "metadata": {},
   "outputs": [
    {
     "data": {
      "image/png": "[encoded data removed]",
      "text/plain": [
       "<Figure size 1080x720 with 1 Axes>"
      ]
     },
     "metadata": {},
     "output_type": "display_data"
    }
   ],
   "source": [
    "ax = plt.gca()\n",
    "ax.set_yscale('log')\n",
    "ax.set_xscale('log')\n",
    "sns.scatterplot(x='cost', y='compression', hue='mu', style='name', data=grammar_df,\n",
    "               s=100, alpha=0.6);\n",
    "ax.set_xlabel('Log (Dasgupta Cost)');\n",
    "ax.set_ylabel('Log (Compression Ratio)');"
   ]
  },
  {
   "cell_type": "code",
   "execution_count": null,
   "metadata": {},
   "outputs": [],
   "source": [
    "grammar_df['log_compression'] = grammar_df['compression'].apply(np.log10)"
   ]
  },
  {
   "cell_type": "code",
   "execution_count": null,
   "metadata": {},
   "outputs": [],
   "source": [
    "sns.catplot(x='mu', y='num_rules', hue='clustering', col='name', kind='bar', data=grammar_df, col_wrap=3);"
   ]
  },
  {
   "cell_type": "code",
   "execution_count": null,
   "metadata": {},
   "outputs": [],
   "source": []
  },
  {
   "cell_type": "code",
   "execution_count": null,
   "metadata": {},
   "outputs": [],
   "source": []
  },
  {
   "cell_type": "code",
   "execution_count": null,
   "metadata": {},
   "outputs": [],
   "source": []
  },
  {
   "cell_type": "code",
   "execution_count": null,
   "metadata": {},
   "outputs": [],
   "source": []
  },
  {
   "cell_type": "code",
   "execution_count": null,
   "metadata": {},
   "outputs": [],
   "source": []
  },
  {
   "cell_type": "markdown",
   "metadata": {},
   "source": [
    "## Do stuff with the final graphs"
   ]
  },
  {
   "cell_type": "code",
   "execution_count": null,
   "metadata": {
    "scrolled": false
   },
   "outputs": [
    {
     "name": "stderr",
     "output_type": "stream",
     "text": [
      "Graph: citeseer, n = 2_110, m = 3_668, read in 0.41s.\n"
     ]
    },
    {
     "name": "stdout",
     "output_type": "stream",
     "text": [
      "citeseer\n",
      "VRG-50_spectral_3_20\tVRG-50_spectral_8_20\tVRG-50_cond_8_20\tAVRG-fancy-50_cond_8_20\tAVRG-fancy-50_spectral_3_20\tVRG-50_cond_3_20\tAVRG-fancy-50_cond_3_20\tAVRG-fancy-50_spectral_8_20\tVRG-50_leiden_3_20\tAVRG-fancy-50_leiden_3_20\tVRG-50_leiden_8_20\tAVRG-fancy-50_leiden_8_20\tAVRG-greedy-50_cond_3_20\tVRG-50_cond_7_20\tVRG-50_spectral_5_20\tVRG-50_spectral_6_20\tAVRG-fancy-50_cond_7_20\tVRG-50_spectral_7_20\tVRG-50_cond_6_20\tAVRG-fancy-50_cond_6_20\tVRG-50_cond_5_20\tAVRG-fancy-50_cond_5_20\tVRG-50_leiden_4_20\tAVRG-fancy-50_spectral_4_20\tAVRG-greedy-50_leiden_3_20\tVRG-50_cond_4_20\tVRG-50_leiden_5_20\tAVRG-fancy-50_spectral_5_20\tAVRG-fancy-50_spectral_6_20\tAVRG-greedy-50_spectral_3_20\tAVRG-fancy-50_spectral_7_20\tAVRG-greedy-50_spectral_4_20\tVRG-50_leiden_6_20\tVRG-50_leiden_7_20\tAVRG-fancy-50_leiden_4_20\tAVRG-greedy-50_cond_6_20\tAVRG-fancy-50_cond_4_20\tAVRG-greedy-50_cond_7_20\tAVRG-fancy-50_leiden_5_20\tAVRG-greedy-50_spectral_8_20\tAVRG-fancy-50_leiden_6_20\tAVRG-fancy-50_leiden_7_20\tAVRG-greedy-50_cond_8_20\tVRG-50_infomap_3_20\tAVRG-fancy-50_infomap_3_20\tAVRG-greedy-50_infomap_3_20\tVRG-50_infomap_4_20\tAVRG-fancy-50_infomap_4_20\tAVRG-greedy-50_spectral_5_20\tVRG-50_infomap_5_20\tAVRG-fancy-50_infomap_5_20\tAVRG-greedy-50_cond_5_20\tAVRG-fancy-50_infomap_6_20\tAVRG-greedy-50_spectral_6_20\tVRG-50_infomap_6_20\tVRG-50_infomap_7_20\tAVRG-fancy-50_infomap_7_20\tAVRG-greedy-50_spectral_7_20\tAVRG-greedy-50_infomap_4_20\tAVRG-greedy-50_leiden_4_20\tAVRG-greedy-50_cond_4_20\t"
     ]
    },
    {
     "name": "stderr",
     "output_type": "stream",
     "text": [
      "Graph: cora, n = 2_485, m = 5_069, read in 0.63s.\n"
     ]
    },
    {
     "name": "stdout",
     "output_type": "stream",
     "text": [
      "cora\n",
      "VRG-50_cond_8_20\tVRG-50_cond_3_20\tAVRG-fancy-50_cond_8_20\tAVRG-fancy-50_cond_3_20\tVRG-50_spectral_3_20\tVRG-50_spectral_8_20\tAVRG-fancy-50_spectral_3_20\t"
     ]
    }
   ],
   "source": [
    "names = ['karate', 'football', 'polbooks', 'polblogs', 'cora', 'citeseer', 'pubmed'][: -1]\n",
    "\n",
    "dfs = []\n",
    "# frac = np.linspace(0, 1, 21, endpoint=True) * 100\n",
    "# names = [f'3-comm-{int(f)}' for f in frac]\n",
    "# shuffle = 'edges'\n",
    "\n",
    "\n",
    "for name in sorted(names):\n",
    "    orig_graph, attr_name = get_graph(name)\n",
    "#     orig_graph, attr_name = nx.read_gexf(f'../VRG/input/shuffled/{shuffle}/{name}.gexf', node_type=int), 'block'\n",
    "#     name = f'{name}-{shuffle}'\n",
    "    print(name)\n",
    "    for fname in glob.glob(f'/data/ssikdar/attributed-vrg/dumps/graphs/{name}/*'):\n",
    "        path = Path(fname)\n",
    "        print(path.stem, end='\\t', flush=True)\n",
    "        pattern = r'(.*)\\_(\\w+)\\_(\\d+)\\_(\\d+)'\n",
    "        m = re.match(pattern, path.stem)\n",
    "        grammar_type, clustering, mu, _ = m.groups()\n",
    "        df = make_graph_df(name, fname, orig_graph, mu, clustering, attr_name, grammar_type)\n",
    "        dfs.append(df)\n",
    "graph_df = pd.concat(dfs, ignore_index=True)"
   ]
  },
  {
   "cell_type": "code",
   "execution_count": null,
   "metadata": {},
   "outputs": [],
   "source": [
    "graph_df.to_csv('./graph_df.csv')"
   ]
  },
  {
   "cell_type": "code",
   "execution_count": null,
   "metadata": {},
   "outputs": [],
   "source": [
    "plt.rcParams['figure.figsize'] = (15, 5)\n",
    "fig, (ax1, ax2, ax3) = plt.subplots(nrows=1, ncols=3, sharey=True)\n",
    "sns.barplot(x='name', y='degree_js', hue='model', data=graph_df, ax=ax1);\n",
    "sns.barplot(x='name', y='pagerank_js', hue='model', data=graph_df, ax=ax2);\n",
    "sns.barplot(x='name', y='lambda_dist', hue='model', data=graph_df, ax=ax3);\n",
    "ax1.set_ylim((0, 0.75));\n",
    "ax2.set_ylim((0, 0.75));"
   ]
  },
  {
   "cell_type": "code",
   "execution_count": null,
   "metadata": {},
   "outputs": [],
   "source": [
    "graph_df.columns"
   ]
  },
  {
   "cell_type": "code",
   "execution_count": null,
   "metadata": {},
   "outputs": [],
   "source": [
    "fig, (ax1, ax2) = plt.subplots(nrows=1, ncols=2, sharey=True)\n",
    "sns.barplot(x='name', y='deg_ast_diff', hue='model', data=graph_df, ax=ax1);\n",
    "sns.barplot(x='name', y='attr_ast_diff', hue='model', data=graph_df, ax=ax2);\n",
    "ax1.set_ylim((0, 0.5));\n",
    "ax2.set_ylim((0, 0.5));"
   ]
  },
  {
   "cell_type": "code",
   "execution_count": null,
   "metadata": {},
   "outputs": [],
   "source": []
  },
  {
   "cell_type": "code",
   "execution_count": null,
   "metadata": {},
   "outputs": [],
   "source": []
  },
  {
   "cell_type": "code",
   "execution_count": null,
   "metadata": {},
   "outputs": [],
   "source": []
  },
  {
   "cell_type": "code",
   "execution_count": null,
   "metadata": {},
   "outputs": [],
   "source": []
  },
  {
   "cell_type": "code",
   "execution_count": null,
   "metadata": {},
   "outputs": [],
   "source": []
  },
  {
   "cell_type": "code",
   "execution_count": null,
   "metadata": {},
   "outputs": [],
   "source": [
    "graph_df.to_csv('./graph_df.csv')"
   ]
  },
  {
   "cell_type": "code",
   "execution_count": null,
   "metadata": {},
   "outputs": [],
   "source": [
    "graph_df = pd.read_csv('./graph_df.csv')"
   ]
  },
  {
   "cell_type": "code",
   "execution_count": null,
   "metadata": {},
   "outputs": [],
   "source": [
    "graph_df['mu'] = graph_df['mu'].astype(int)"
   ]
  },
  {
   "cell_type": "code",
   "execution_count": null,
   "metadata": {},
   "outputs": [],
   "source": [
    "grammar_gen_df = pd.merge(grammar_df, graph_df, on=['name', 'mu', 'clustering'])"
   ]
  },
  {
   "cell_type": "code",
   "execution_count": null,
   "metadata": {},
   "outputs": [],
   "source": [
    "display(grammar_gen_df.head(), grammar_df.shape)"
   ]
  },
  {
   "cell_type": "code",
   "execution_count": null,
   "metadata": {},
   "outputs": [],
   "source": [
    "sns.scatterplot(x='lambda_dist', y='compression', hue='clustering', size='mu', data=grammar_gen_df);"
   ]
  },
  {
   "cell_type": "markdown",
   "metadata": {},
   "source": [
    "## Spectral and conductance works best"
   ]
  },
  {
   "cell_type": "code",
   "execution_count": null,
   "metadata": {},
   "outputs": [],
   "source": [
    "filtered_df = grammar_gen_df[grammar_gen_df.clustering.isin(('cond', 'spectral', 'leiden'))]"
   ]
  },
  {
   "cell_type": "code",
   "execution_count": null,
   "metadata": {},
   "outputs": [],
   "source": [
    "fig, (ax1, ax2, ax3) = plt.subplots(ncols=1, nrows=3, sharex=True);\n",
    "\n",
    "sns.barplot(x='mu', y='lambda_dist', hue='clustering', data=filtered_df, ax=ax1);\n",
    "sns.barplot(x='mu', y='pagerank_js', hue='clustering', data=filtered_df, ax=ax2);\n",
    "sns.barplot(x='mu', y='compression', hue='clustering', data=filtered_df, ax=ax3);\n",
    "\n",
    "ax2.set_ylim((0, 1));\n",
    "ax2.legend().set_visible(False);\n",
    "ax3.legend().set_visible(False);"
   ]
  },
  {
   "cell_type": "markdown",
   "metadata": {},
   "source": [
    "## pick mu = 5"
   ]
  },
  {
   "cell_type": "markdown",
   "metadata": {},
   "source": [
    "### Read different rewired edges"
   ]
  },
  {
   "cell_type": "code",
   "execution_count": null,
   "metadata": {},
   "outputs": [],
   "source": [
    "def make_shuffled_grammar_df():\n",
    "    frac = np.linspace(0, 100, 11, endpoint=True, dtype=int)    \n",
    "    shuffle = 'edges'\n",
    "    names = [f'toy-comm-{f}' for f in frac]\n",
    "    rows = []\n",
    "    root_dict = {f'{name}': {} for name in names}\n",
    "    dl_dict = {}\n",
    "    \n",
    "    for name in names:\n",
    "        orig_graph, attr_name = nx.read_gexf(f'../VRG/input/shuffled/{shuffle}/{name}.gexf', node_type=int), 'block'\n",
    "        dl_dict[name] = graph_mdl(orig_graph)\n",
    "        if attr_name != '':\n",
    "            dl_dict[name] = graph_mdl(orig_graph, attributed=True)\n",
    "    print(dl_dict)\n",
    "    \n",
    "    for name in names:\n",
    "        orig_graph, attr_name = nx.read_gexf(f'../VRG/input/shuffled/{shuffle}/{name}.gexf', node_type=int), 'block'\n",
    "        print('\\n\\n', name, attr_name)\n",
    "        for fname in glob.glob(f'/data/ssikdar/attributed-vrg/dumps/grammars/{name}-{shuffle}/*.pkl'):\n",
    "            path = Path(fname)\n",
    "            pattern = r'(.*)\\_(\\w+)\\_(\\d+)\\_(\\d+)'\n",
    "            m = re.match(pattern, path.stem)\n",
    "            grammar_type, clustering, mu, _ = m.groups()\n",
    "            \n",
    "            print(grammar_type, clustering, mu, end='\\t', flush=True)\n",
    "            \n",
    "            if clustering in root_dict[name]:\n",
    "                ht, avg_branch_factor, dc = root_dict[name][clustering]\n",
    "            else:\n",
    "                root = load_pickle(f'/data/ssikdar/attributed-vrg/dumps/trees/{name}-{shuffle}/{clustering}_list.pkl')\n",
    "                if isinstance(root, list): root = create_tree(root)\n",
    "                ht, avg_branch_factor, dc = get_tree_stats(g=orig_graph, root=root)\n",
    "                root_dict[name][clustering] = ht, avg_branch_factor, dc\n",
    "\n",
    "            vrg = load_pickle(fname)\n",
    "#             if grammar_type.startswith('AVRG'): name = f'{name}-attr'\n",
    "            graph_dl = dl_dict[name]\n",
    "            \n",
    "            row = dict(name=name, orig_n=orig_graph.order(), orig_m=orig_graph.size(), attr_name=attr_name, \n",
    "                      model=grammar_type, mu=int(mu), clustering=clustering, cost=dc, branch_factor=avg_branch_factor,\n",
    "                      height=ht, graph_dl=graph_dl, num_rules=vrg.num_rules, unique_rules=len(vrg.unique_rule_list),\n",
    "                      grammar_dl=vrg.cost)\n",
    "            name = name.replace('-attr', '')\n",
    "            rows.append(row)\n",
    "\n",
    "    return pd.DataFrame(rows)"
   ]
  },
  {
   "cell_type": "code",
   "execution_count": null,
   "metadata": {
    "scrolled": true
   },
   "outputs": [],
   "source": [
    "shuffled_grammar_df = make_shuffled_grammar_df()"
   ]
  },
  {
   "cell_type": "code",
   "execution_count": null,
   "metadata": {},
   "outputs": [],
   "source": [
    "shuffled_grammar_df['frac'] = shuffled_grammar_df['name'].apply(lambda x: int(x.split('-')[-1]))"
   ]
  },
  {
   "cell_type": "code",
   "execution_count": null,
   "metadata": {},
   "outputs": [],
   "source": [
    "shuffled_grammar_df.head()"
   ]
  },
  {
   "cell_type": "code",
   "execution_count": null,
   "metadata": {},
   "outputs": [],
   "source": []
  },
  {
   "cell_type": "code",
   "execution_count": null,
   "metadata": {},
   "outputs": [],
   "source": []
  },
  {
   "cell_type": "code",
   "execution_count": null,
   "metadata": {},
   "outputs": [],
   "source": [
    "def make_shuffled_graph_df():\n",
    "    frac = np.linspace(0, 100, 11, endpoint=True, dtype=int)    \n",
    "    shuffle = 'attrs'\n",
    "    names = [f'toy-comm-{f}' for f in frac]\n",
    "    dfs = []\n",
    "    \n",
    "#     for name in sorted(names):\n",
    "    for f, name in zip(frac, names):\n",
    "#         orig_graph, attr_name = get_graph(name)\n",
    "        orig_graph, attr_name = nx.read_gexf(f'../VRG/input/shuffled/{shuffle}/{name}.gexf', node_type=int), 'block'\n",
    "        name = f'toy-comm-attrs-{f}'\n",
    "        print(name)\n",
    "        for fname in glob.glob(f'/data/ssikdar/attributed-vrg/dumps/graphs/{name}/*'):\n",
    "            path = Path(fname)\n",
    "            print(path.stem, end='\\t', flush=True)\n",
    "            pattern = r'(.*)\\_(\\w+)\\_(\\d+)\\_(\\d+)'\n",
    "            m = re.match(pattern, path.stem)\n",
    "            grammar_type, clustering, mu, _ = m.groups()\n",
    "            df = make_graph_df(name, fname, orig_graph, mu, clustering, attr_name, grammar_type)\n",
    "            dfs.append(df)\n",
    "    return pd.concat(dfs, ignore_index=True)"
   ]
  },
  {
   "cell_type": "code",
   "execution_count": null,
   "metadata": {
    "scrolled": true
   },
   "outputs": [],
   "source": [
    "shuffled_graph_df = make_shuffled_graph_df()"
   ]
  },
  {
   "cell_type": "code",
   "execution_count": null,
   "metadata": {},
   "outputs": [],
   "source": [
    "shuffled_graph_df['frac'] = shuffled_graph_df['name'].apply(lambda x: int(x.split('-')[-1]))"
   ]
  },
  {
   "cell_type": "code",
   "execution_count": null,
   "metadata": {},
   "outputs": [],
   "source": [
    "shuffled_graph_df.head()"
   ]
  },
  {
   "cell_type": "code",
   "execution_count": null,
   "metadata": {},
   "outputs": [],
   "source": [
    "shuffled_graph_df = shuffled_graph_df[shuffled_graph_df.model != 'AVRG']"
   ]
  },
  {
   "cell_type": "code",
   "execution_count": null,
   "metadata": {},
   "outputs": [],
   "source": [
    "plt.rcParams['figure.figsize'] = (15, 8)"
   ]
  },
  {
   "cell_type": "code",
   "execution_count": null,
   "metadata": {},
   "outputs": [],
   "source": [
    "fig, (ax1, ax2) = plt.subplots(nrows=1, ncols=2)\n",
    "\n",
    "sns.lineplot(x='frac', y='orig_degree_ast', marker='o', alpha=0.7, data=shuffled_graph_df, ax=ax1, color='k', label='original');\n",
    "sns.lineplot(x='frac', y='gen_degree_ast', marker='o', alpha=0.7, ci=90, hue='model', data=shuffled_graph_df, ax=ax1);\n",
    "ax1.set_ylabel('Degree Assortativity');\n",
    "ax1.set_xlabel('Fraction');\n",
    "ax1.set_ylim((-0.05, 0.375));\n",
    "\n",
    "sns.lineplot(x='frac', y='lambda_dist', marker='o', alpha=0.7, ci=90, hue='model', data=shuffled_graph_df, ax=ax2);\n",
    "ax2.axhline(0, c='black');\n",
    "ax2.set_ylabel('Lambda Distance');\n",
    "ax2.set_xlabel('Fraction');\n",
    "ax2.set_ylim((-0.05, 0.375));"
   ]
  },
  {
   "cell_type": "code",
   "execution_count": null,
   "metadata": {},
   "outputs": [],
   "source": [
    "plt.rcParams['figure.figsize'] = (20, 8)"
   ]
  },
  {
   "cell_type": "code",
   "execution_count": null,
   "metadata": {},
   "outputs": [],
   "source": [
    "fig, (ax1, ax2, ax3) = plt.subplots(nrows=1, ncols=3)\n",
    "\n",
    "sns.lineplot(x='frac', y='orig_degree_ast', marker='o', alpha=0.7, data=shuffled_graph_df, ax=ax1, color='k', label='original');\n",
    "sns.lineplot(x='frac', y='gen_degree_ast', marker='o', alpha=0.7, ci=90, hue='model', data=shuffled_graph_df, ax=ax1);\n",
    "ax1.set_ylabel('Degree Assortativity');\n",
    "ax1.set_xlabel('Fraction');\n",
    "ax1.set_ylim((-0.05, 0.375));\n",
    "\n",
    "sns.lineplot(x='frac', y='orig_attr_ast', marker='o', alpha=0.7, data=shuffled_graph_df, ax=ax2, color='k', label='original');\n",
    "sns.lineplot(x='frac', y='gen_attr_ast', marker='o', alpha=0.7, ci=90, hue='model', data=shuffled_graph_df, ax=ax2);\n",
    "ax2.set_ylabel('Attribute Assortativity');\n",
    "ax2.set_xlabel('Fraction');\n",
    "ax2.set_ylim((-0.05, 0.95));\n",
    "\n",
    "sns.lineplot(x='frac', y='lambda_dist', marker='o', alpha=0.7, ci=90, hue='model', data=shuffled_graph_df, ax=ax3);\n",
    "ax3.axhline(0, c='black');\n",
    "ax3.set_ylabel('Lambda Distance');\n",
    "ax3.set_xlabel('Fraction');\n",
    "ax3.set_ylim((-0.05, 0.95));"
   ]
  },
  {
   "cell_type": "code",
   "execution_count": null,
   "metadata": {},
   "outputs": [],
   "source": [
    "fig, (ax1, ax2) = plt.subplots(nrows=1, ncols=2, sharex=True)\n",
    "\n",
    "sns.lineplot(x='frac', y='orig_degree_ast', marker='o', alpha=0.7, data=shuffled_graph_df, ax=ax1, color='k', label='original');\n",
    "sns.lineplot(x='frac', y='gen_degree_ast', marker='o', alpha=0.7, ci=90, hue='model', data=shuffled_graph_df, ax=ax1);\n",
    "ax1.set_ylabel('Degree Assortativity');\n",
    "ax1.set_xlabel('Fraction');\n",
    "ax1.set_ylim((-0.05, 0.95));\n",
    "\n",
    "sns.lineplot(x='frac', y='orig_attr_ast', marker='o', alpha=0.7, data=shuffled_graph_df, ax=ax2, color='k', label='original');\n",
    "sns.lineplot(x='frac', y='gen_attr_ast', marker='o', alpha=0.7, ci=90, hue='model', data=shuffled_graph_df, ax=ax2);\n",
    "ax2.set_ylabel('Attribute Assortativity');\n",
    "ax2.set_xlabel('Fraction');\n",
    "ax2.set_ylim((-0.05, 0.95));"
   ]
  },
  {
   "cell_type": "code",
   "execution_count": null,
   "metadata": {},
   "outputs": [],
   "source": [
    "fig, (ax1, ax2) = plt.subplots(nrows=1, ncols=2)\n",
    "\n",
    "sns.lineplot(x='frac', y='orig_attr_ast', marker='o', alpha=0.7, data=shuffled_graph_df, ax=ax1, color='k', label='original');\n",
    "sns.lineplot(x='frac', y='gen_attr_ast', marker='o', alpha=0.7, ci=90, hue='model', data=shuffled_graph_df, ax=ax1);\n",
    "ax1.set_ylabel('Attribute Assortativity');\n",
    "ax1.set_xlabel('Fraction');\n",
    "\n",
    "sns.lineplot(x='frac', y='gen_homophily_ratio', marker='o', alpha=0.7, ci=90, hue='model', data=shuffled_graph_df, ax=ax2);\n",
    "sns.lineplot(x='frac', y='orig_homophily_ratio', marker='o', alpha=0.7, data=shuffled_graph_df, ax=ax2, color='k', label='original');\n",
    "\n",
    "ax1.set_ylim((0, 1));\n",
    "ax2.set_ylim((0, 1));\n",
    "ax2.set_ylabel('Homophily Ratio');\n",
    "ax2.set_xlabel('Fraction');"
   ]
  },
  {
   "cell_type": "code",
   "execution_count": null,
   "metadata": {},
   "outputs": [],
   "source": [
    "shuffled_graph_df.orig_homophily_ratio"
   ]
  },
  {
   "cell_type": "markdown",
   "metadata": {},
   "source": [
    "Cora"
   ]
  },
  {
   "cell_type": "code",
   "execution_count": null,
   "metadata": {},
   "outputs": [],
   "source": [
    "! head ../VRG/input/cora/cora/cora.cites"
   ]
  },
  {
   "cell_type": "code",
   "execution_count": null,
   "metadata": {},
   "outputs": [],
   "source": [
    "! head ../VRG/input/cora/cora/cora.content"
   ]
  },
  {
   "cell_type": "code",
   "execution_count": null,
   "metadata": {},
   "outputs": [],
   "source": [
    "! head ../VRG/input/cora/cora/README"
   ]
  },
  {
   "cell_type": "code",
   "execution_count": null,
   "metadata": {},
   "outputs": [],
   "source": [
    "nx_g = nx.Graph()\n",
    "\n",
    "with open('../VRG/input/cora/cora/cora.cites') as fp:\n",
    "    for line in fp.readlines():\n",
    "        u, v = map(int, line.split())\n",
    "        nx_g.add_edge(u, v)"
   ]
  },
  {
   "cell_type": "code",
   "execution_count": null,
   "metadata": {},
   "outputs": [],
   "source": [
    "print(nx.info(nx_g))"
   ]
  },
  {
   "cell_type": "code",
   "execution_count": null,
   "metadata": {},
   "outputs": [],
   "source": [
    "values = {}\n",
    "\n",
    "with open('../VRG/input/cora/cora/cora.content') as fp:\n",
    "    for line in fp.readlines():\n",
    "        u, *_, cat = line.split()\n",
    "        values[int(u)] = cat"
   ]
  },
  {
   "cell_type": "code",
   "execution_count": null,
   "metadata": {},
   "outputs": [],
   "source": [
    "len(values)"
   ]
  },
  {
   "cell_type": "code",
   "execution_count": null,
   "metadata": {},
   "outputs": [],
   "source": [
    "nx.set_node_attributes(nx_g, name='value', values=values)"
   ]
  },
  {
   "cell_type": "code",
   "execution_count": null,
   "metadata": {},
   "outputs": [],
   "source": [
    "nx.write_gml(nx_g, '../VRG/input/cora.gml')"
   ]
  },
  {
   "cell_type": "code",
   "execution_count": null,
   "metadata": {},
   "outputs": [],
   "source": []
  },
  {
   "cell_type": "markdown",
   "metadata": {},
   "source": [
    "## Do the same for attribute shuffled case"
   ]
  },
  {
   "cell_type": "code",
   "execution_count": null,
   "metadata": {},
   "outputs": [],
   "source": [
    "def make_attr_shuffled_graph_df():\n",
    "    frac = np.linspace(0, 100, 11, endpoint=True, dtype=int)    \n",
    "    names = [f'toy-comm-{f}-attrs' for f in frac]\n",
    "    dfs = []\n",
    "\n",
    "    for f in frac:\n",
    "        orig_graph, attr_name = nx.read_gexf(f'../VRG/input/shuffled/attrs/toy-comm-{f}.gexf', node_type=int), 'block'\n",
    "        name = f'toy-comm-{f}-attrs'\n",
    "        print('\\n', name, '\\n')\n",
    "        for fname in glob.glob(f'/data/ssikdar/attributed-vrg/dumps/graphs/{name}/*'):\n",
    "            path = Path(fname)\n",
    "            print(path.stem, end='\\t', flush=True)\n",
    "            pattern = r'(.*)\\_(\\w+)\\_(\\d+)\\_(\\d+)'\n",
    "            m = re.match(pattern, path.stem)\n",
    "            grammar_type, clustering, mu, _ = m.groups()\n",
    "            df = make_graph_df(name, fname, orig_graph, mu, clustering, attr_name, grammar_type)\n",
    "            dfs.append(df)\n",
    "    return pd.concat(dfs, ignore_index=True)"
   ]
  },
  {
   "cell_type": "code",
   "execution_count": null,
   "metadata": {
    "scrolled": true
   },
   "outputs": [],
   "source": [
    "attr_shuffled_graph_df = make_attr_shuffled_graph_df()"
   ]
  },
  {
   "cell_type": "code",
   "execution_count": null,
   "metadata": {},
   "outputs": [],
   "source": [
    "attr_shuffled_graph_df = attr_shuffled_graph_df[attr_shuffled_graph_df.model != 'AVRG']\n",
    "attr_shuffled_graph_df['frac'] = attr_shuffled_graph_df['name'].apply(lambda x: int(x.split('-')[-2]))"
   ]
  },
  {
   "cell_type": "code",
   "execution_count": null,
   "metadata": {},
   "outputs": [],
   "source": [
    "attr_shuffled_graph_df.head()"
   ]
  },
  {
   "cell_type": "code",
   "execution_count": null,
   "metadata": {},
   "outputs": [],
   "source": [
    "plt.rcParams['figure.figsize'] = (15, 8)\n",
    "fig, (ax1, ax2) = plt.subplots(nrows=1, ncols=2)\n",
    "\n",
    "sns.lineplot(x='frac', y='orig_degree_ast', marker='o', alpha=0.7, data=attr_shuffled_graph_df, ax=ax1, color='k', label='original');\n",
    "sns.lineplot(x='frac', y='gen_degree_ast', marker='o', alpha=0.7, ci=None, hue='model', data=attr_shuffled_graph_df, ax=ax1);\n",
    "ax1.set_ylabel('Degree Assortativity');\n",
    "ax1.set_xlabel('Fraction');\n",
    "ax1.set_ylim((-0.05, 1.1));\n",
    "\n",
    "sns.lineplot(x='frac', y='lambda_dist', marker='o', alpha=0.7, ci=None, hue='model', data=attr_shuffled_graph_df, ax=ax2);\n",
    "ax2.axhline(0, c='black');\n",
    "ax2.set_ylabel('Lambda Distance');\n",
    "ax2.set_xlabel('Fraction');\n",
    "ax2.set_ylim((-0.05, 1.1));\n",
    "ax2.legend().set_visible(False);"
   ]
  },
  {
   "cell_type": "code",
   "execution_count": null,
   "metadata": {},
   "outputs": [],
   "source": [
    "fig, (ax1, ax2) = plt.subplots(nrows=1, ncols=2)\n",
    "\n",
    "sns.lineplot(x='frac', y='orig_attr_ast', marker='o', alpha=0.7, data=attr_shuffled_graph_df, ax=ax1, color='k', label='original');\n",
    "sns.lineplot(x='frac', y='gen_attr_ast', marker='o', alpha=0.7, ci=None, hue='model', data=attr_shuffled_graph_df, ax=ax1);\n",
    "ax1.set_ylabel('Attribute Assortativity');\n",
    "ax1.set_xlabel('Fraction');\n",
    "ax1.set_ylim((-0.05, 0.95));\n",
    "\n",
    "sns.lineplot(x='frac', y='lambda_dist', marker='o', alpha=0.7, ci=None, hue='model', data=attr_shuffled_graph_df, ax=ax2);\n",
    "ax2.axhline(0, c='black');\n",
    "ax2.set_ylabel('Lambda Distance');\n",
    "ax2.set_xlabel('Fraction');\n",
    "ax2.set_ylim((-0.05, 0.95));\n",
    "ax2.legend().set_visible(False);"
   ]
  },
  {
   "cell_type": "code",
   "execution_count": null,
   "metadata": {},
   "outputs": [],
   "source": [
    "fig, (ax1, ax2) = plt.subplots(nrows=1, ncols=2, sharex=True)\n",
    "\n",
    "sns.lineplot(x='frac', y='orig_degree_ast', marker='o', alpha=0.7, data=attr_shuffled_graph_df, ax=ax1, color='k', label='original');\n",
    "sns.lineplot(x='frac', y='gen_degree_ast', marker='o', alpha=0.7, ci=None, hue='model', data=attr_shuffled_graph_df, ax=ax1);\n",
    "ax1.set_ylabel('Degree Assortativity');\n",
    "ax1.set_xlabel('Fraction');\n",
    "ax1.set_ylim((-0.05, 1));\n",
    "\n",
    "sns.lineplot(x='frac', y='orig_attr_ast', marker='o', alpha=0.7, data=attr_shuffled_graph_df, ax=ax2, color='k', label='original');\n",
    "sns.lineplot(x='frac', y='gen_attr_ast', marker='o', alpha=0.7, ci=None, hue='model', data=attr_shuffled_graph_df, ax=ax2);\n",
    "ax2.set_ylabel('Attribute Assortativity');\n",
    "ax2.set_xlabel('Fraction');\n",
    "ax2.set_ylim((-0.05, 1));"
   ]
  },
  {
   "cell_type": "markdown",
   "metadata": {},
   "source": [
    "## Test for bigger datasets"
   ]
  },
  {
   "cell_type": "code",
   "execution_count": null,
   "metadata": {},
   "outputs": [],
   "source": [
    "name = 'pubmed'\n",
    "g, attr_name = get_graph(name)\n",
    "ret = get_compatibility_matrix(g, attr_name)"
   ]
  },
  {
   "cell_type": "code",
   "execution_count": null,
   "metadata": {},
   "outputs": [],
   "source": [
    "ret"
   ]
  },
  {
   "cell_type": "code",
   "execution_count": null,
   "metadata": {},
   "outputs": [],
   "source": [
    "plt.rcParams['figure.figsize'] = (12, 8)\n",
    "plt.rcParams['font.size'] = 20\n",
    "plt.rcParams['axes.labelsize'] = 30\n",
    "plt.rcParams['axes.titlesize'] = 20\n",
    "plt.rcParams['xtick.labelsize'] = 15\n",
    "plt.rcParams['ytick.labelsize'] = 15"
   ]
  },
  {
   "cell_type": "code",
   "execution_count": null,
   "metadata": {},
   "outputs": [],
   "source": [
    "labels = ret['mapping'].keys()\n",
    "sns.heatmap(ret['compatibility_mat'], xticklabels=labels, yticklabels=labels, annot=True, fmt='.2g'); "
   ]
  },
  {
   "cell_type": "code",
   "execution_count": null,
   "metadata": {},
   "outputs": [],
   "source": [
    "nx.degree_assortativity_coefficient(g)"
   ]
  },
  {
   "cell_type": "code",
   "execution_count": null,
   "metadata": {},
   "outputs": [],
   "source": [
    "deg_mixing_mat = nx.degree_mixing_matrix(g, normalized=False)"
   ]
  },
  {
   "cell_type": "code",
   "execution_count": null,
   "metadata": {},
   "outputs": [],
   "source": [
    "deg_mixing_mat.shape"
   ]
  },
  {
   "cell_type": "code",
   "execution_count": null,
   "metadata": {},
   "outputs": [],
   "source": [
    "binned_deg_mix_mat, bound = np.histogram2d(deg_mixing_mat, bins=10)"
   ]
  },
  {
   "cell_type": "code",
   "execution_count": null,
   "metadata": {},
   "outputs": [],
   "source": [
    "binned_deg_mix_mat"
   ]
  },
  {
   "cell_type": "code",
   "execution_count": null,
   "metadata": {},
   "outputs": [],
   "source": [
    "sns.heatmap(binned_deg_mix_mat); "
   ]
  },
  {
   "cell_type": "code",
   "execution_count": null,
   "metadata": {},
   "outputs": [],
   "source": [
    "sns.scatterplot(x='pagerank_js', y='compression', hue='clustering', size='mu', data=grammar_gen_df);"
   ]
  },
  {
   "cell_type": "code",
   "execution_count": null,
   "metadata": {},
   "outputs": [],
   "source": [
    "sns.scatterplot(x='lambda_dist', y='cost', hue='clustering', size='mu', data=grammar_gen_df);"
   ]
  },
  {
   "cell_type": "code",
   "execution_count": null,
   "metadata": {},
   "outputs": [],
   "source": [
    "sns.scatterplot(x='num_rules', y='compression', hue='clustering', size='mu', data=grammar_gen_df);"
   ]
  },
  {
   "cell_type": "code",
   "execution_count": null,
   "metadata": {},
   "outputs": [],
   "source": []
  },
  {
   "cell_type": "code",
   "execution_count": null,
   "metadata": {},
   "outputs": [],
   "source": []
  },
  {
   "cell_type": "code",
   "execution_count": null,
   "metadata": {},
   "outputs": [],
   "source": [
    "display(graph_df.head(), graph_df.shape)"
   ]
  },
  {
   "cell_type": "code",
   "execution_count": null,
   "metadata": {},
   "outputs": [],
   "source": [
    "import re"
   ]
  },
  {
   "cell_type": "code",
   "execution_count": null,
   "metadata": {},
   "outputs": [],
   "source": [
    "def get_frac(x):\n",
    "    return int(x.split('-')[-2])"
   ]
  },
  {
   "cell_type": "code",
   "execution_count": null,
   "metadata": {},
   "outputs": [],
   "source": [
    "graph_df['frac'] = graph_df['name'].apply(lambda x: get_frac(x))"
   ]
  },
  {
   "cell_type": "code",
   "execution_count": null,
   "metadata": {},
   "outputs": [],
   "source": [
    "graph_df['frac'].unique()"
   ]
  },
  {
   "cell_type": "code",
   "execution_count": null,
   "metadata": {},
   "outputs": [],
   "source": [
    "plt.rcParams['figure.figsize'] = [20, 6]\n",
    "fig, (ax1, ax2, ax3) = plt.subplots(nrows=1, ncols=3)\n",
    "\n",
    "ax1.set_ylim((-0.1, 1.1))\n",
    "ax2.set_ylim((-0.1, 1.1))\n",
    "ax3.set_ylim((-0.1, 4.5))\n",
    "\n",
    "sns.lineplot(x='frac', y='degree_js', hue='model', data=graph_df, ax=ax1);\n",
    "sns.lineplot(x='frac', y='pagerank_js', hue='model', data=graph_df, ax=ax2);\n",
    "sns.lineplot(x='frac', y='lambda_dist', hue='model', data=graph_df, ax=ax3);\n",
    "ax2.legend().set_visible(False);\n",
    "ax3.legend().set_visible(False);"
   ]
  },
  {
   "cell_type": "code",
   "execution_count": null,
   "metadata": {},
   "outputs": [],
   "source": []
  },
  {
   "cell_type": "code",
   "execution_count": null,
   "metadata": {},
   "outputs": [],
   "source": [
    "plt.rcParams['figure.figsize'] = [20, 6]\n",
    "fig, (ax1, ax2, ax3) = plt.subplots(nrows=1, ncols=3)\n",
    "\n",
    "ax1.set_ylim((-0.1, 1.1))\n",
    "ax2.set_ylim((-0.1, 1.1))\n",
    "ax3.set_ylim((-0.1, 4.5))\n",
    "\n",
    "sns.boxplot(x='name', y='degree_js', hue='model', data=graph_df, ax=ax1);\n",
    "sns.boxplot(x='name', y='pagerank_js', hue='model', data=graph_df, ax=ax2);\n",
    "sns.boxplot(x='name', y='lambda_dist', hue='model', data=graph_df, ax=ax3);\n",
    "ax2.legend().set_visible(False);\n",
    "ax3.legend().set_visible(False);"
   ]
  },
  {
   "cell_type": "code",
   "execution_count": null,
   "metadata": {},
   "outputs": [],
   "source": [
    "plt.rcParams['figure.figsize'] = [15, 6]\n",
    "fig, (ax1, ax2) = plt.subplots(nrows=1, ncols=2)\n",
    "\n",
    "ax1.set_ylim((-0.1, 1))\n",
    "ax2.set_ylim((-0.1, 1))\n",
    "\n",
    "sns.lineplot(x='frac', y='deg_ast_diff', hue='model', data=graph_df, ax=ax1);\n",
    "sns.lineplot(x='frac', y='attr_ast_diff', hue='model', data=graph_df, ax=ax2);\n",
    "ax2.legend().set_visible(False);"
   ]
  },
  {
   "cell_type": "code",
   "execution_count": null,
   "metadata": {},
   "outputs": [],
   "source": [
    "plt.rcParams['figure.figsize'] = [20, 6]\n",
    "fig, (ax1, ax2, ax3) = plt.subplots(nrows=1, ncols=3)\n",
    "\n",
    "ax1.set_ylim((-0.1, 1))\n",
    "ax2.set_ylim((-0.1, 1))\n",
    "\n",
    "sns.boxplot(x='model', y='degree_js', hue='clustering', data=graph_df, ax=ax1);\n",
    "sns.boxplot(x='model', y='pagerank_js', hue='clustering', data=graph_df, ax=ax2);\n",
    "sns.boxplot(x='model', y='lambda_dist', hue='clustering', data=graph_df, ax=ax3);\n",
    "ax2.legend().set_visible(False);\n",
    "ax3.legend().set_visible(False);"
   ]
  },
  {
   "cell_type": "code",
   "execution_count": null,
   "metadata": {},
   "outputs": [],
   "source": [
    "plt.rcParams['figure.figsize'] = [15, 6]\n",
    "fig, (ax1, ax2) = plt.subplots(nrows=1, ncols=2)\n",
    "\n",
    "ax1.set_ylim((-0.1, 1))\n",
    "ax2.set_ylim((-0.1, 1))\n",
    "\n",
    "sns.boxplot(x='name', y='deg_ast_diff', hue='model', data=graph_df, ax=ax1);\n",
    "sns.boxplot(x='name', y='attr_ast_diff', hue='model', data=graph_df, ax=ax2);\n",
    "ax2.legend().set_visible(False);"
   ]
  },
  {
   "cell_type": "code",
   "execution_count": null,
   "metadata": {},
   "outputs": [],
   "source": [
    "plt.rcParams['figure.figsize'] = [15, 6]\n",
    "fig, (ax1, ax2) = plt.subplots(nrows=1, ncols=2)\n",
    "\n",
    "ax1.set_ylim((-0.1, 1))\n",
    "ax2.set_ylim((-0.1, 1))\n",
    "\n",
    "sns.boxplot(x='model', y='deg_ast_diff', hue='clustering', data=graph_df, ax=ax1);\n",
    "sns.boxplot(x='model', y='attr_ast_diff', hue='clustering', data=graph_df, ax=ax2);\n",
    "ax2.legend().set_visible(False);"
   ]
  },
  {
   "cell_type": "markdown",
   "metadata": {},
   "source": [
    "----"
   ]
  },
  {
   "cell_type": "code",
   "execution_count": null,
   "metadata": {},
   "outputs": [],
   "source": [
    "# plot out the evolution of the generated graph\n",
    "gen = load_pickle('/data/ssikdar/attributed-vrg/dumps/generators/karate/AVRG-fancy_cond_5_10.pkl')"
   ]
  },
  {
   "cell_type": "code",
   "execution_count": null,
   "metadata": {},
   "outputs": [],
   "source": []
  },
  {
   "cell_type": "code",
   "execution_count": null,
   "metadata": {},
   "outputs": [],
   "source": [
    "def filter_terminal_graph(graph):\n",
    "    terminal_nodes = [n for n, d in graph.nodes(data=True) if 'nt' not in d]\n",
    "    return graph.subgraph(terminal_nodes).copy()"
   ]
  },
  {
   "cell_type": "code",
   "execution_count": null,
   "metadata": {},
   "outputs": [],
   "source": [
    "rows = []\n",
    "cols = ['snap_id', 'name', 'model', 'clustering', 'attr_name',\n",
    "        'orig_n', 'orig_m', 'orig_deg_ast', 'orig_att_ast',\n",
    "        'mu', 'n', 'm', 't', 'term_graph',\n",
    "        'term_n', 'term_m', 'term_degree_js', 'term_pagerank_js', 'term_lambda_dist',\n",
    "        'term_deg_ast', 'term_attr_ast']\n",
    "\n",
    "names = ['karate', 'football', 'polbooks', 'polblogs', 'eucore', 'flights', 'chess']\n",
    "# frac = np.linspace(0, 1, 21, endpoint=True) * 100\n",
    "# names = [f'3-comm-{int(f)}' for f in frac]\n",
    "# shuffle = 'edges'\n",
    "\n",
    "for name in names[: 3]:\n",
    "    orig_graph, attr_name = get_graph(name)\n",
    "#     orig_graph, attr_name = nx.read_gexf(f'../VRG/input/shuffled/{shuffle}/{name}.gexf'), 'block'\n",
    "#     name = f'{name}-{shuffle}'\n",
    "    orig_deg_ast = nx.degree_assortativity_coefficient(orig_graph)\n",
    "    if attr_name != '': orig_att_ast = nx.attribute_assortativity_coefficient(orig_graph, attr_name)\n",
    "\n",
    "    orig_gstats = GraphStats(orig_graph)\n",
    "    \n",
    "    for gen_filename in glob.glob(f'/data/ssikdar/attributed-vrg/dumps/generators/{name}/*'):\n",
    "        path = Path(gen_filename)\n",
    "        gen = load_pickle(path)\n",
    "\n",
    "        print(path.stem, end='\\t', flush=True)\n",
    "        pattern = r'(.*)\\_(\\w+)\\_(\\d+)\\_(\\d+)'\n",
    "        m = re.match(pattern, path.stem)\n",
    "        grammar_type, clustering, mu, _ = m.groups()\n",
    "        \n",
    "        for snap_id, snapshot in enumerate(gen.all_gen_snapshots):\n",
    "            for t, graph in enumerate(snapshot):\n",
    "                terminal_graph = filter_terminal_graph(graph)\n",
    "                terminal_graph = un_nest_attr_dict(terminal_graph)\n",
    "                row = {col: np.nan for col in cols}\n",
    "\n",
    "                row.update(dict(snap_id=snap_id, name=gen.grammar.name, \n",
    "                           model=grammar_type, clustering=clustering, attr_name=attr_name,\n",
    "                           orig_n=orig_graph.order(), orig_m=orig_graph.size(),\n",
    "                           orig_deg_ast=orig_deg_ast, orig_att_ast=orig_att_ast,\n",
    "                           mu=gen.grammar.mu, t=t, n=graph.order(), m=graph.size(), term_graph=terminal_graph,\n",
    "                           term_n=terminal_graph.order(), term_m=terminal_graph.size()))\n",
    "                \n",
    "                if terminal_graph.size() > 0:\n",
    "                    gen_gstats = GraphStats(terminal_graph)\n",
    "\n",
    "                    gpc = GraphPairCompare(orig_gstats, gen_gstats)\n",
    "                    row.update(term_degree_js=gpc.degree_js(), term_pagerank_js=gpc.pagerank_js(), \n",
    "                               term_lambda_dist=gpc.lambda_dist(), \n",
    "                               term_deg_ast=nx.degree_assortativity_coefficient(terminal_graph),\n",
    "                               term_att_ast=nx.attribute_assortativity_coefficient(terminal_graph, attr_name))\n",
    "                rows.append(row)\n",
    "\n",
    "gen_df = pd.DataFrame(rows)"
   ]
  },
  {
   "cell_type": "code",
   "execution_count": null,
   "metadata": {},
   "outputs": [],
   "source": [
    "gen_df.to_csv('./gen_df.csv', index=False)"
   ]
  },
  {
   "cell_type": "code",
   "execution_count": null,
   "metadata": {},
   "outputs": [],
   "source": [
    "gen_df = pd.read_csv('gen_df.csv')"
   ]
  },
  {
   "cell_type": "code",
   "execution_count": null,
   "metadata": {},
   "outputs": [],
   "source": [
    "plt.rcParams['figure.figsize'] = [15, 10]\n",
    "fig, (ax1, ax2, ax3, ax4) = plt.subplots(nrows=4, ncols=1)\n",
    "\n",
    "# ax1.set_ylim((-0.1, 1))\n",
    "# ax2.set_ylim((-0.1, 1))\n",
    "# ax1.set_ylim((-0.1, 1.05))\n",
    "ax1.axhline(1, c='k')\n",
    "\n",
    "sns.lineplot(x='t', y='term_frac_m', hue='model', marker='o', data=gen_df, ax=ax1);\n",
    "sns.lineplot(x='t', y='term_lambda_dist', hue='model', marker='o', data=gen_df, ax=ax2);\n",
    "sns.lineplot(x='t', y='term_deg_ast', hue='model', marker='o', data=gen_df, ax=ax3);\n",
    "sns.lineplot(x='t', y='term_attr_ast', hue='model', marker='o', data=gen_df, ax=ax4);"
   ]
  },
  {
   "cell_type": "code",
   "execution_count": null,
   "metadata": {},
   "outputs": [],
   "source": [
    "def group_plot(df):\n",
    "    metrics = ['term_n', 'term_degree_js', 'term_pagerank_js', 'term_lambda_dist', 'term_deg_ast', 'term_att_ast'][-2: ]\n",
    "    rows = len(metrics)\n",
    "    \n",
    "    names = df.name.unique() # ['karate', 'football']\n",
    "    cols = len(names)\n",
    "\n",
    "    l_d_min = min(df[df.name==name].term_lambda_dist.min() for name in names) - 0.1\n",
    "    l_d_max = max(df[df.name==name].term_lambda_dist.max() for name in names) + 2\n",
    "    \n",
    "    plt.rcParams['figure.figsize'] = [20, 12]\n",
    "#     plt.rcParams['figure.figsize'] = [20, 12]\n",
    "    fig, axes = plt.subplots(nrows=rows, ncols=cols,)\n",
    "\n",
    "    for i in range(rows):\n",
    "        for j in range(cols):\n",
    "            ax = axes[i, j]\n",
    "            metric = metrics[i]\n",
    "            name = names[j]\n",
    "            filtered_df = df[df.name==name]\n",
    "            \n",
    "            if i == 0 and j == 0:\n",
    "                legend_style = 'brief'\n",
    "            else:\n",
    "                legend_style = ''\n",
    "            \n",
    "#             ax.set_xscale('log')\n",
    "            sns.lineplot(x='t', y=metric, ax=ax, data=filtered_df, alpha=0.85,\n",
    "                         hue='model', marker='o', ci=99, err_style='band', legend=legend_style);\n",
    "            \n",
    "            if 'js' in metric:\n",
    "                ax.set_ylim((-0.05, 1.1))\n",
    "            elif 'lambda_dist' in metric:\n",
    "                ax.set_ylim((-1, 5))\n",
    "            elif 'ast' in metric:\n",
    "                ax.set_ylim((-1.05, 1.05))\n",
    "                \n",
    "            if 'deg_ast' in metric:\n",
    "                ax.axhline(filtered_df.orig_deg_ast.mean())\n",
    "            if 'att_ast' in metric:\n",
    "                ax.axhline(filtered_df.orig_att_ast.mean())\n",
    "            if 'term_n' in metric:\n",
    "                ax.axhline(filtered_df.orig_n.mean())\n",
    "            \n",
    "            if j == 0:\n",
    "                ax.set_ylabel(metric)\n",
    "            else:\n",
    "                ax.set_ylabel('')\n",
    "                \n",
    "            if i == 0:\n",
    "                ax.set_title(name)\n",
    "            else:\n",
    "                ax.set_title('')\n",
    "                \n",
    "            if i == rows - 1:\n",
    "                ax.set_xlabel('t')\n",
    "            else:\n",
    "                ax.set_xlabel('')\n",
    "            \n",
    "#     plt.suptitle(f'{name}', y=1.01);\n",
    "    plt.tight_layout()"
   ]
  },
  {
   "cell_type": "code",
   "execution_count": null,
   "metadata": {},
   "outputs": [],
   "source": [
    "group_plot(gen_df)"
   ]
  },
  {
   "cell_type": "code",
   "execution_count": null,
   "metadata": {},
   "outputs": [],
   "source": [
    "# plot dasgupta cost v. graph quality\n",
    "# diversity of output graphs - APL v CC / PGD PCA "
   ]
  }
 ],
 "metadata": {
  "kernelspec": {
   "display_name": "VRG",
   "language": "python",
   "name": "vrg"
  },
  "language_info": {
   "codemirror_mode": {
    "name": "ipython",
    "version": 3
   },
   "file_extension": ".py",
   "mimetype": "text/x-python",
   "name": "python",
   "nbconvert_exporter": "python",
   "pygments_lexer": "ipython3",
   "version": "3.7.7"
  }
 },
 "nbformat": 4,
 "nbformat_minor": 4
}
